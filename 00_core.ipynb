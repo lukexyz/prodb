{
 "cells": [
  {
   "cell_type": "code",
   "execution_count": null,
   "metadata": {},
   "outputs": [],
   "source": [
    "# default_exp core"
   ]
  },
  {
   "cell_type": "markdown",
   "metadata": {},
   "source": [
    "# 00 Prodb API details\n",
    "\n",
    "> `nbdev` Example function."
   ]
  },
  {
   "cell_type": "markdown",
   "metadata": {},
   "source": [
    "## Example (temp)"
   ]
  },
  {
   "cell_type": "code",
   "execution_count": null,
   "metadata": {},
   "outputs": [],
   "source": [
    "#hide\n",
    "from nbdev.showdoc import *"
   ]
  },
  {
   "cell_type": "code",
   "execution_count": null,
   "metadata": {},
   "outputs": [],
   "source": [
    "#export\n",
    "def say_hello(to):\n",
    "    \"Say hello to somebody\"\n",
    "    return f'Hello {to}!'"
   ]
  },
  {
   "cell_type": "code",
   "execution_count": null,
   "metadata": {},
   "outputs": [
    {
     "data": {
      "text/plain": [
       "'Hello Luke!'"
      ]
     },
     "execution_count": null,
     "metadata": {},
     "output_type": "execute_result"
    }
   ],
   "source": [
    "say_hello('Luke')"
   ]
  },
  {
   "cell_type": "code",
   "execution_count": null,
   "metadata": {},
   "outputs": [],
   "source": [
    "assert say_hello('Luke')=='Hello Luke!'"
   ]
  },
  {
   "cell_type": "markdown",
   "metadata": {},
   "source": [
    "## Prodb API\n",
    "Create pandas dataframe for manipulation"
   ]
  },
  {
   "cell_type": "code",
   "execution_count": null,
   "metadata": {},
   "outputs": [],
   "source": [
    "#export\n",
    "#hide\n",
    "import pandas as pd\n",
    "import arrow\n",
    "from time import gmtime, strftime"
   ]
  },
  {
   "cell_type": "code",
   "execution_count": null,
   "metadata": {},
   "outputs": [],
   "source": [
    "# export\n",
    "\n",
    "def generate_db(prefill=False):\n",
    "    if prefill:\n",
    "        df = pd.DataFrame({'name': ['Sam', 'Grant'],\n",
    "                           'location': ['UK', 'NZ'],\n",
    "                           'score': [0, 30],\n",
    "                           'time_utc' : [arrow.utcnow().format('YYYY-MM-DD HH:mm:ss'),\n",
    "                                         arrow.utcnow().format('YYYY-MM-DD HH:mm:ss')]})\n",
    "    else:\n",
    "        df = pd.DataFrame(columns=['name', 'location', 'score', 'time_utc'])\n",
    "    df.to_csv('db.csv', index=None)\n"
   ]
  },
  {
   "cell_type": "code",
   "execution_count": null,
   "metadata": {},
   "outputs": [
    {
     "data": {
      "text/html": [
       "<div>\n",
       "<style scoped>\n",
       "    .dataframe tbody tr th:only-of-type {\n",
       "        vertical-align: middle;\n",
       "    }\n",
       "\n",
       "    .dataframe tbody tr th {\n",
       "        vertical-align: top;\n",
       "    }\n",
       "\n",
       "    .dataframe thead th {\n",
       "        text-align: right;\n",
       "    }\n",
       "</style>\n",
       "<table border=\"1\" class=\"dataframe\">\n",
       "  <thead>\n",
       "    <tr style=\"text-align: right;\">\n",
       "      <th></th>\n",
       "      <th>name</th>\n",
       "      <th>location</th>\n",
       "      <th>score</th>\n",
       "      <th>time_utc</th>\n",
       "    </tr>\n",
       "  </thead>\n",
       "  <tbody>\n",
       "    <tr>\n",
       "      <th>0</th>\n",
       "      <td>Sam</td>\n",
       "      <td>UK</td>\n",
       "      <td>0</td>\n",
       "      <td>2021-09-30 20:31:40</td>\n",
       "    </tr>\n",
       "    <tr>\n",
       "      <th>1</th>\n",
       "      <td>Grant</td>\n",
       "      <td>NZ</td>\n",
       "      <td>30</td>\n",
       "      <td>2021-09-30 20:31:40</td>\n",
       "    </tr>\n",
       "  </tbody>\n",
       "</table>\n",
       "</div>"
      ],
      "text/plain": [
       "    name location  score             time_utc\n",
       "0    Sam       UK      0  2021-09-30 20:31:40\n",
       "1  Grant       NZ     30  2021-09-30 20:31:40"
      ]
     },
     "execution_count": null,
     "metadata": {},
     "output_type": "execute_result"
    }
   ],
   "source": [
    "generate_db(prefill=True)\n",
    "df = pd.read_csv('db.csv')\n",
    "df.head()"
   ]
  },
  {
   "cell_type": "code",
   "execution_count": null,
   "metadata": {},
   "outputs": [],
   "source": [
    "#export\n",
    "\n",
    "def insert_row(df, data, db_path='db.csv'):\n",
    "    new_row = pd.Series({'time_utc' : arrow.utcnow().format('YYYY-MM-DD HH:mm:ss'),\n",
    "                         'name':data['name'], \n",
    "                         'location': data['location'], \n",
    "                         'score': data['score']})\n",
    "    df = df.append(new_row, ignore_index=True)\n",
    "    df.to_csv(db_path, index=None)\n",
    "    return df\n"
   ]
  },
  {
   "cell_type": "code",
   "execution_count": null,
   "metadata": {},
   "outputs": [
    {
     "data": {
      "text/html": [
       "<div>\n",
       "<style scoped>\n",
       "    .dataframe tbody tr th:only-of-type {\n",
       "        vertical-align: middle;\n",
       "    }\n",
       "\n",
       "    .dataframe tbody tr th {\n",
       "        vertical-align: top;\n",
       "    }\n",
       "\n",
       "    .dataframe thead th {\n",
       "        text-align: right;\n",
       "    }\n",
       "</style>\n",
       "<table border=\"1\" class=\"dataframe\">\n",
       "  <thead>\n",
       "    <tr style=\"text-align: right;\">\n",
       "      <th></th>\n",
       "      <th>name</th>\n",
       "      <th>location</th>\n",
       "      <th>score</th>\n",
       "      <th>time_utc</th>\n",
       "    </tr>\n",
       "  </thead>\n",
       "  <tbody>\n",
       "    <tr>\n",
       "      <th>0</th>\n",
       "      <td>Sam</td>\n",
       "      <td>UK</td>\n",
       "      <td>0</td>\n",
       "      <td>2021-09-30 20:31:40</td>\n",
       "    </tr>\n",
       "    <tr>\n",
       "      <th>1</th>\n",
       "      <td>Grant</td>\n",
       "      <td>NZ</td>\n",
       "      <td>30</td>\n",
       "      <td>2021-09-30 20:31:40</td>\n",
       "    </tr>\n",
       "  </tbody>\n",
       "</table>\n",
       "</div>"
      ],
      "text/plain": [
       "    name location  score             time_utc\n",
       "0    Sam       UK      0  2021-09-30 20:31:40\n",
       "1  Grant       NZ     30  2021-09-30 20:31:40"
      ]
     },
     "metadata": {},
     "output_type": "display_data"
    },
    {
     "data": {
      "text/html": [
       "<div>\n",
       "<style scoped>\n",
       "    .dataframe tbody tr th:only-of-type {\n",
       "        vertical-align: middle;\n",
       "    }\n",
       "\n",
       "    .dataframe tbody tr th {\n",
       "        vertical-align: top;\n",
       "    }\n",
       "\n",
       "    .dataframe thead th {\n",
       "        text-align: right;\n",
       "    }\n",
       "</style>\n",
       "<table border=\"1\" class=\"dataframe\">\n",
       "  <thead>\n",
       "    <tr style=\"text-align: right;\">\n",
       "      <th></th>\n",
       "      <th>name</th>\n",
       "      <th>location</th>\n",
       "      <th>score</th>\n",
       "      <th>time_utc</th>\n",
       "    </tr>\n",
       "  </thead>\n",
       "  <tbody>\n",
       "    <tr>\n",
       "      <th>0</th>\n",
       "      <td>Sam</td>\n",
       "      <td>UK</td>\n",
       "      <td>0</td>\n",
       "      <td>2021-09-30 20:31:40</td>\n",
       "    </tr>\n",
       "    <tr>\n",
       "      <th>1</th>\n",
       "      <td>Grant</td>\n",
       "      <td>NZ</td>\n",
       "      <td>30</td>\n",
       "      <td>2021-09-30 20:31:40</td>\n",
       "    </tr>\n",
       "    <tr>\n",
       "      <th>2</th>\n",
       "      <td>Geo</td>\n",
       "      <td>JP</td>\n",
       "      <td>5</td>\n",
       "      <td>2021-09-30 20:31:41</td>\n",
       "    </tr>\n",
       "  </tbody>\n",
       "</table>\n",
       "</div>"
      ],
      "text/plain": [
       "    name location  score             time_utc\n",
       "0    Sam       UK      0  2021-09-30 20:31:40\n",
       "1  Grant       NZ     30  2021-09-30 20:31:40\n",
       "2    Geo       JP      5  2021-09-30 20:31:41"
      ]
     },
     "metadata": {},
     "output_type": "display_data"
    }
   ],
   "source": [
    "df = pd.read_csv('db.csv')\n",
    "display(df.head())\n",
    "\n",
    "data = {'name':'Geo', 'location': 'JP', 'score':5}\n",
    "df = insert_row(df, data)\n",
    "display(df)\n"
   ]
  },
  {
   "cell_type": "code",
   "execution_count": null,
   "metadata": {},
   "outputs": [
    {
     "data": {
      "text/html": [
       "<div>\n",
       "<style scoped>\n",
       "    .dataframe tbody tr th:only-of-type {\n",
       "        vertical-align: middle;\n",
       "    }\n",
       "\n",
       "    .dataframe tbody tr th {\n",
       "        vertical-align: top;\n",
       "    }\n",
       "\n",
       "    .dataframe thead th {\n",
       "        text-align: right;\n",
       "    }\n",
       "</style>\n",
       "<table border=\"1\" class=\"dataframe\">\n",
       "  <thead>\n",
       "    <tr style=\"text-align: right;\">\n",
       "      <th></th>\n",
       "      <th>name</th>\n",
       "      <th>location</th>\n",
       "      <th>score</th>\n",
       "      <th>time_utc</th>\n",
       "    </tr>\n",
       "  </thead>\n",
       "  <tbody>\n",
       "    <tr>\n",
       "      <th>0</th>\n",
       "      <td>Sam</td>\n",
       "      <td>UK</td>\n",
       "      <td>0</td>\n",
       "      <td>2021-09-30 20:31:40</td>\n",
       "    </tr>\n",
       "    <tr>\n",
       "      <th>1</th>\n",
       "      <td>Grant</td>\n",
       "      <td>NZ</td>\n",
       "      <td>30</td>\n",
       "      <td>2021-09-30 20:31:40</td>\n",
       "    </tr>\n",
       "    <tr>\n",
       "      <th>2</th>\n",
       "      <td>Geo</td>\n",
       "      <td>JP</td>\n",
       "      <td>5</td>\n",
       "      <td>2021-09-30 20:31:41</td>\n",
       "    </tr>\n",
       "    <tr>\n",
       "      <th>3</th>\n",
       "      <td>Bill</td>\n",
       "      <td>JP</td>\n",
       "      <td>None</td>\n",
       "      <td>2021-09-30 20:31:46</td>\n",
       "    </tr>\n",
       "  </tbody>\n",
       "</table>\n",
       "</div>"
      ],
      "text/plain": [
       "    name location score             time_utc\n",
       "0    Sam       UK     0  2021-09-30 20:31:40\n",
       "1  Grant       NZ    30  2021-09-30 20:31:40\n",
       "2    Geo       JP     5  2021-09-30 20:31:41\n",
       "3   Bill       JP  None  2021-09-30 20:31:46"
      ]
     },
     "metadata": {},
     "output_type": "display_data"
    }
   ],
   "source": [
    "data = {'name':'Bill', 'location': 'JP', 'score':None}\n",
    "df = insert_row(df, data)\n",
    "display(df)"
   ]
  },
  {
   "cell_type": "code",
   "execution_count": null,
   "metadata": {},
   "outputs": [],
   "source": []
  }
 ],
 "metadata": {
  "kernelspec": {
   "display_name": "Python 3 (ipykernel)",
   "language": "python",
   "name": "python3"
  }
 },
 "nbformat": 4,
 "nbformat_minor": 2
}
