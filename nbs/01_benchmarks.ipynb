{
 "cells": [
  {
   "cell_type": "code",
   "execution_count": null,
   "metadata": {},
   "outputs": [],
   "source": [
    "# default_exp core"
   ]
  },
  {
   "cell_type": "markdown",
   "metadata": {},
   "source": [
    "# 01 Prodb Benchmarks\n",
    "\n",
    "> Which database is faster? The highly optimised SQLAlchemy library, or the library that literally saves and loads the entire csv every time you modify it?"
   ]
  },
  {
   "cell_type": "code",
   "execution_count": null,
   "metadata": {},
   "outputs": [],
   "source": [
    "#hide\n",
    "from nbdev.showdoc import *"
   ]
  },
  {
   "cell_type": "code",
   "execution_count": null,
   "metadata": {},
   "outputs": [],
   "source": [
    "#hide\n",
    "import pandas as pd\n",
    "import arrow\n",
    "import os\n",
    "from time import gmtime, strftime\n",
    "import sys; sys.path.append('../')\n",
    "from prodb.core import generate_db, insert_row, insert_rows, utc_now, readable_df"
   ]
  },
  {
   "cell_type": "markdown",
   "metadata": {},
   "source": [
    "# 1. Prodb API Benchmarks"
   ]
  },
  {
   "cell_type": "code",
   "execution_count": null,
   "metadata": {},
   "outputs": [],
   "source": [
    "# ================================================================ #\n",
    "data = {'name': ['Sam', 'Grant'],\n",
    "        'mood': ['😊', '😵'],\n",
    "        'message': ['hello from London, UK', 'hello from Christchurch, NZ'],\n",
    "        'time_utc' : [utc_now(), utc_now()]}\n",
    "# ================================================================ #"
   ]
  },
  {
   "cell_type": "markdown",
   "metadata": {},
   "source": [
    "Duration to insert, append, save, and reload the dataframe 100 times."
   ]
  },
  {
   "cell_type": "code",
   "execution_count": null,
   "metadata": {},
   "outputs": [
    {
     "name": "stdout",
     "output_type": "stream",
     "text": [
      "✓💾 benchmark_db.csv (19 kb)\n",
      "(200, 4)\n"
     ]
    },
    {
     "data": {
      "text/html": [
       "<div>\n",
       "<style scoped>\n",
       "    .dataframe tbody tr th:only-of-type {\n",
       "        vertical-align: middle;\n",
       "    }\n",
       "\n",
       "    .dataframe tbody tr th {\n",
       "        vertical-align: top;\n",
       "    }\n",
       "\n",
       "    .dataframe thead th {\n",
       "        text-align: right;\n",
       "    }\n",
       "</style>\n",
       "<table border=\"1\" class=\"dataframe\">\n",
       "  <thead>\n",
       "    <tr style=\"text-align: right;\">\n",
       "      <th></th>\n",
       "      <th>name</th>\n",
       "      <th>mood</th>\n",
       "      <th>message</th>\n",
       "      <th>time_utc</th>\n",
       "    </tr>\n",
       "  </thead>\n",
       "  <tbody>\n",
       "    <tr>\n",
       "      <th>195</th>\n",
       "      <td>Grant</td>\n",
       "      <td>😵</td>\n",
       "      <td>hello from Christchurch, NZ</td>\n",
       "      <td>2021-11-06 20:53:58</td>\n",
       "    </tr>\n",
       "    <tr>\n",
       "      <th>196</th>\n",
       "      <td>Sam</td>\n",
       "      <td>😊</td>\n",
       "      <td>hello from London, UK</td>\n",
       "      <td>2021-11-06 20:53:58</td>\n",
       "    </tr>\n",
       "    <tr>\n",
       "      <th>197</th>\n",
       "      <td>Grant</td>\n",
       "      <td>😵</td>\n",
       "      <td>hello from Christchurch, NZ</td>\n",
       "      <td>2021-11-06 20:53:58</td>\n",
       "    </tr>\n",
       "    <tr>\n",
       "      <th>198</th>\n",
       "      <td>Sam</td>\n",
       "      <td>😊</td>\n",
       "      <td>hello from London, UK</td>\n",
       "      <td>2021-11-06 20:53:58</td>\n",
       "    </tr>\n",
       "    <tr>\n",
       "      <th>199</th>\n",
       "      <td>Grant</td>\n",
       "      <td>😵</td>\n",
       "      <td>hello from Christchurch, NZ</td>\n",
       "      <td>2021-11-06 20:53:58</td>\n",
       "    </tr>\n",
       "  </tbody>\n",
       "</table>\n",
       "</div>"
      ],
      "text/plain": [
       "      name mood                      message             time_utc\n",
       "195  Grant    😵  hello from Christchurch, NZ  2021-11-06 20:53:58\n",
       "196    Sam    😊        hello from London, UK  2021-11-06 20:53:58\n",
       "197  Grant    😵  hello from Christchurch, NZ  2021-11-06 20:53:58\n",
       "198    Sam    😊        hello from London, UK  2021-11-06 20:53:58\n",
       "199  Grant    😵  hello from Christchurch, NZ  2021-11-06 20:53:58"
      ]
     },
     "metadata": {},
     "output_type": "display_data"
    },
    {
     "name": "stdout",
     "output_type": "stream",
     "text": [
      "Wall time: 168 ms\n"
     ]
    }
   ],
   "source": [
    "%%time\n",
    "df = generate_db(dbpath='benchmark_db.csv', cols='name mood message'.split())\n",
    "for i in range(100):\n",
    "    df = insert_rows(df, data)\n",
    "print(df.shape)\n",
    "display(df.tail())"
   ]
  },
  {
   "cell_type": "code",
   "execution_count": null,
   "metadata": {},
   "outputs": [
    {
     "name": "stdout",
     "output_type": "stream",
     "text": [
      "(200, 4)\n"
     ]
    }
   ],
   "source": [
    "df.to_csv('tmp.csv')\n",
    "print(df.shape)"
   ]
  },
  {
   "cell_type": "code",
   "execution_count": null,
   "metadata": {},
   "outputs": [
    {
     "name": "stdout",
     "output_type": "stream",
     "text": [
      "1.24 ms ± 24.6 µs per loop (mean ± std. dev. of 7 runs, 1000 loops each)\n"
     ]
    }
   ],
   "source": [
    "%%timeit\n",
    "df = pd.read_csv('tmp.csv')"
   ]
  },
  {
   "cell_type": "code",
   "execution_count": null,
   "metadata": {},
   "outputs": [
    {
     "name": "stdout",
     "output_type": "stream",
     "text": [
      "78.2 µs ± 778 ns per loop (mean ± std. dev. of 7 runs, 10000 loops each)\n"
     ]
    }
   ],
   "source": [
    "%%timeit\n",
    "df.iloc[50, :]"
   ]
  },
  {
   "cell_type": "code",
   "execution_count": null,
   "metadata": {},
   "outputs": [
    {
     "data": {
      "text/html": [
       "<div>\n",
       "<style scoped>\n",
       "    .dataframe tbody tr th:only-of-type {\n",
       "        vertical-align: middle;\n",
       "    }\n",
       "\n",
       "    .dataframe tbody tr th {\n",
       "        vertical-align: top;\n",
       "    }\n",
       "\n",
       "    .dataframe thead th {\n",
       "        text-align: right;\n",
       "    }\n",
       "</style>\n",
       "<table border=\"1\" class=\"dataframe\">\n",
       "  <thead>\n",
       "    <tr style=\"text-align: right;\">\n",
       "      <th></th>\n",
       "      <th>name</th>\n",
       "      <th>mood</th>\n",
       "      <th>message</th>\n",
       "      <th>time_utc</th>\n",
       "    </tr>\n",
       "  </thead>\n",
       "  <tbody>\n",
       "    <tr>\n",
       "      <th>0</th>\n",
       "      <td>Sam</td>\n",
       "      <td>😊</td>\n",
       "      <td>hello from London, UK</td>\n",
       "      <td>2021-11-06 20:53:58</td>\n",
       "    </tr>\n",
       "    <tr>\n",
       "      <th>1</th>\n",
       "      <td>Grant</td>\n",
       "      <td>😵</td>\n",
       "      <td>hello from Christchurch, NZ</td>\n",
       "      <td>2021-11-06 20:53:58</td>\n",
       "    </tr>\n",
       "    <tr>\n",
       "      <th>2</th>\n",
       "      <td>Sam</td>\n",
       "      <td>😊</td>\n",
       "      <td>hello from London, UK</td>\n",
       "      <td>2021-11-06 20:53:58</td>\n",
       "    </tr>\n",
       "    <tr>\n",
       "      <th>3</th>\n",
       "      <td>Grant</td>\n",
       "      <td>😵</td>\n",
       "      <td>hello from Christchurch, NZ</td>\n",
       "      <td>2021-11-06 20:53:58</td>\n",
       "    </tr>\n",
       "    <tr>\n",
       "      <th>4</th>\n",
       "      <td>Sam</td>\n",
       "      <td>😊</td>\n",
       "      <td>hello from London, UK</td>\n",
       "      <td>2021-11-06 20:53:58</td>\n",
       "    </tr>\n",
       "  </tbody>\n",
       "</table>\n",
       "</div>"
      ],
      "text/plain": [
       "    name mood                      message             time_utc\n",
       "0    Sam    😊        hello from London, UK  2021-11-06 20:53:58\n",
       "1  Grant    😵  hello from Christchurch, NZ  2021-11-06 20:53:58\n",
       "2    Sam    😊        hello from London, UK  2021-11-06 20:53:58\n",
       "3  Grant    😵  hello from Christchurch, NZ  2021-11-06 20:53:58\n",
       "4    Sam    😊        hello from London, UK  2021-11-06 20:53:58"
      ]
     },
     "execution_count": null,
     "metadata": {},
     "output_type": "execute_result"
    }
   ],
   "source": [
    "df.head()"
   ]
  },
  {
   "cell_type": "code",
   "execution_count": null,
   "metadata": {},
   "outputs": [],
   "source": []
  },
  {
   "cell_type": "markdown",
   "metadata": {},
   "source": [
    "# 2. SQAlchemy / SQLModel Benchmarks\n",
    "`SQLModel` code and functions from [lukexyz/sqlmodel-streamlit/app.py](https://github.com/lukexyz/sqlmodel-streamlit/blob/main/app.py)"
   ]
  },
  {
   "cell_type": "code",
   "execution_count": null,
   "metadata": {},
   "outputs": [
    {
     "name": "stderr",
     "output_type": "stream",
     "text": [
      "D:\\ProgramData\\Anaconda3\\envs\\prodb\\lib\\site-packages\\sqlmodel\\main.py:367: SAWarning: This declarative base already contains a class with the same class name and module name as __main__.Hero, and will be replaced in the string-lookup table.\n",
      "  DeclarativeMeta.__init__(cls, classname, bases, dict_used, **kw)\n"
     ]
    }
   ],
   "source": [
    "from sqlmodel import Field, Session, SQLModel, create_engine, select\n",
    "from typing import Optional\n",
    "\n",
    "\n",
    "class Hero(SQLModel, table=True):\n",
    "    __table_args__ = {'extend_existing': True}  # required for streamlit refreshing\n",
    "    id: Optional[int] = Field(default=None, primary_key=True)\n",
    "    name: str\n",
    "    secret_name: str\n",
    "    age: Optional[int] = None\n",
    "\n",
    "\n",
    "import logging\n",
    "logging.basicConfig()\n",
    "logging.getLogger('sqlalchemy').setLevel(logging.ERROR)\n",
    "\n",
    "\n",
    "def create_db_and_tables():\n",
    "    SQLModel.metadata.create_all(engine)\n",
    "\n",
    "\n",
    "def commit_heroes():\n",
    "    hero_1 = Hero(name=\"Rusty-Man\", secret_name=\"Tommy Sharp\", age=36)\n",
    "    hero_2 = Hero(name=\"Dr. Weird\", secret_name=\"Steve Weird\", age=33)\n",
    "    with Session(engine) as session:\n",
    "        session.add(hero_1)\n",
    "        session.add(hero_2)\n",
    "        session.commit()\n",
    "\n",
    "\n",
    "def get_db_size():\n",
    "    with Session(engine) as session:\n",
    "        heroes = session.exec(select(Hero)).all()\n",
    "    return len(heroes)\n",
    "\n",
    "\n",
    "def select_heros():\n",
    "    with Session(engine) as session:\n",
    "        statement = select(Hero).where(Hero.age <= 35)\n",
    "        results = session.exec(statement)\n",
    "        for hero in results:\n",
    "            print(hero)\n",
    "\n",
    "\n",
    "def show_table():\n",
    "    with Session(engine) as session:\n",
    "        heroes = session.exec(select(Hero)).all()\n",
    "        display(pd.DataFrame([s.dict() for s in heroes[-5:]]))\n",
    "\n",
    "def get_table():\n",
    "    with Session(engine) as session:\n",
    "        heroes = session.exec(select(Hero)).all()\n",
    "        return pd.DataFrame([s.dict() for s in heroes])\n",
    "\n",
    "def delete_db():\n",
    "    with Session(engine) as session:\n",
    "        heroes = session.exec(select(Hero)).all()\n",
    "        for hero in heroes:\n",
    "            session.delete(hero)  \n",
    "        session.commit()  \n",
    "\n",
    "def commit_new_row():\n",
    "    hero = Hero(name='Luke', secret_name='Luke Woods', age=23)\n",
    "    hero_1 = Hero(name=\"Rusty-Man\", secret_name=\"Tommy Sharp\", age=36)\n",
    "    with Session(engine) as session:\n",
    "        session.add(hero)\n",
    "        session.add(hero_1)\n",
    "        session.commit()"
   ]
  },
  {
   "cell_type": "code",
   "execution_count": null,
   "metadata": {},
   "outputs": [
    {
     "name": "stdout",
     "output_type": "stream",
     "text": [
      "2021-11-06 20:54:40,005 INFO sqlalchemy.engine.Engine BEGIN (implicit)\n",
      "2021-11-06 20:54:40,005 INFO sqlalchemy.engine.Engine PRAGMA main.table_info(\"hero\")\n",
      "2021-11-06 20:54:40,006 INFO sqlalchemy.engine.Engine [raw sql] ()\n",
      "2021-11-06 20:54:40,007 INFO sqlalchemy.engine.Engine COMMIT\n",
      "2021-11-06 20:54:40,010 INFO sqlalchemy.engine.Engine BEGIN (implicit)\n",
      "2021-11-06 20:54:40,011 INFO sqlalchemy.engine.Engine INSERT INTO hero (name, secret_name, age) VALUES (?, ?, ?)\n",
      "2021-11-06 20:54:40,011 INFO sqlalchemy.engine.Engine [generated in 0.00044s] ('Rusty-Man', 'Tommy Sharp', 36)\n",
      "2021-11-06 20:54:40,013 INFO sqlalchemy.engine.Engine INSERT INTO hero (name, secret_name, age) VALUES (?, ?, ?)\n",
      "2021-11-06 20:54:40,014 INFO sqlalchemy.engine.Engine [cached since 0.002923s ago] ('Dr. Weird', 'Steve Weird', 33)\n",
      "2021-11-06 20:54:40,015 INFO sqlalchemy.engine.Engine COMMIT\n",
      "2021-11-06 20:54:40,152 INFO sqlalchemy.engine.Engine BEGIN (implicit)\n",
      "2021-11-06 20:54:40,153 INFO sqlalchemy.engine.Engine SELECT hero.id, hero.name, hero.secret_name, hero.age \n",
      "FROM hero\n",
      "2021-11-06 20:54:40,153 INFO sqlalchemy.engine.Engine [no key 0.00039s] ()\n"
     ]
    },
    {
     "data": {
      "text/html": [
       "<div>\n",
       "<style scoped>\n",
       "    .dataframe tbody tr th:only-of-type {\n",
       "        vertical-align: middle;\n",
       "    }\n",
       "\n",
       "    .dataframe tbody tr th {\n",
       "        vertical-align: top;\n",
       "    }\n",
       "\n",
       "    .dataframe thead th {\n",
       "        text-align: right;\n",
       "    }\n",
       "</style>\n",
       "<table border=\"1\" class=\"dataframe\">\n",
       "  <thead>\n",
       "    <tr style=\"text-align: right;\">\n",
       "      <th></th>\n",
       "      <th>age</th>\n",
       "      <th>id</th>\n",
       "      <th>name</th>\n",
       "      <th>secret_name</th>\n",
       "    </tr>\n",
       "  </thead>\n",
       "  <tbody>\n",
       "    <tr>\n",
       "      <th>0</th>\n",
       "      <td>33</td>\n",
       "      <td>18</td>\n",
       "      <td>Dr. Weird</td>\n",
       "      <td>Steve Weird</td>\n",
       "    </tr>\n",
       "    <tr>\n",
       "      <th>1</th>\n",
       "      <td>36</td>\n",
       "      <td>19</td>\n",
       "      <td>Rusty-Man</td>\n",
       "      <td>Tommy Sharp</td>\n",
       "    </tr>\n",
       "    <tr>\n",
       "      <th>2</th>\n",
       "      <td>33</td>\n",
       "      <td>20</td>\n",
       "      <td>Dr. Weird</td>\n",
       "      <td>Steve Weird</td>\n",
       "    </tr>\n",
       "    <tr>\n",
       "      <th>3</th>\n",
       "      <td>36</td>\n",
       "      <td>21</td>\n",
       "      <td>Rusty-Man</td>\n",
       "      <td>Tommy Sharp</td>\n",
       "    </tr>\n",
       "    <tr>\n",
       "      <th>4</th>\n",
       "      <td>33</td>\n",
       "      <td>22</td>\n",
       "      <td>Dr. Weird</td>\n",
       "      <td>Steve Weird</td>\n",
       "    </tr>\n",
       "  </tbody>\n",
       "</table>\n",
       "</div>"
      ],
      "text/plain": [
       "   age  id       name  secret_name\n",
       "0   33  18  Dr. Weird  Steve Weird\n",
       "1   36  19  Rusty-Man  Tommy Sharp\n",
       "2   33  20  Dr. Weird  Steve Weird\n",
       "3   36  21  Rusty-Man  Tommy Sharp\n",
       "4   33  22  Dr. Weird  Steve Weird"
      ]
     },
     "metadata": {},
     "output_type": "display_data"
    },
    {
     "name": "stdout",
     "output_type": "stream",
     "text": [
      "2021-11-06 20:54:40,159 INFO sqlalchemy.engine.Engine ROLLBACK\n",
      "2021-11-06 20:54:40,160 INFO sqlalchemy.engine.Engine BEGIN (implicit)\n",
      "2021-11-06 20:54:40,161 INFO sqlalchemy.engine.Engine SELECT hero.id, hero.name, hero.secret_name, hero.age \n",
      "FROM hero\n",
      "2021-11-06 20:54:40,162 INFO sqlalchemy.engine.Engine [no key 0.00067s] ()\n",
      "2021-11-06 20:54:40,164 INFO sqlalchemy.engine.Engine ROLLBACK\n",
      "db length 22\n"
     ]
    }
   ],
   "source": [
    "create_db_and_tables()\n",
    "commit_heroes()\n",
    "show_table()\n",
    "print(f'db length {get_db_size()}')"
   ]
  },
  {
   "cell_type": "markdown",
   "metadata": {},
   "source": [
    "### Run 100 iteration benchmark"
   ]
  },
  {
   "cell_type": "code",
   "execution_count": null,
   "metadata": {},
   "outputs": [
    {
     "name": "stdout",
     "output_type": "stream",
     "text": [
      "2021-11-06 20:54:51,549 INFO sqlalchemy.engine.Engine BEGIN (implicit)\n",
      "2021-11-06 20:54:51,550 INFO sqlalchemy.engine.Engine SELECT hero.id, hero.name, hero.secret_name, hero.age \n",
      "FROM hero\n",
      "2021-11-06 20:54:51,551 INFO sqlalchemy.engine.Engine [no key 0.00044s] ()\n",
      "2021-11-06 20:54:51,553 INFO sqlalchemy.engine.Engine DELETE FROM hero WHERE hero.id = ?\n",
      "2021-11-06 20:54:51,554 INFO sqlalchemy.engine.Engine [generated in 0.00063s] ((1,), (2,), (3,), (4,), (5,), (6,), (7,), (8,)  ... displaying 10 of 22 total bound parameter sets ...  (21,), (22,))\n",
      "2021-11-06 20:54:51,555 INFO sqlalchemy.engine.Engine COMMIT\n",
      "2021-11-06 20:54:51,684 INFO sqlalchemy.engine.Engine BEGIN (implicit)\n",
      "2021-11-06 20:54:51,685 INFO sqlalchemy.engine.Engine PRAGMA main.table_info(\"hero\")\n",
      "2021-11-06 20:54:51,685 INFO sqlalchemy.engine.Engine [raw sql] ()\n",
      "2021-11-06 20:54:51,686 INFO sqlalchemy.engine.Engine COMMIT\n",
      "2021-11-06 20:54:51,687 INFO sqlalchemy.engine.Engine BEGIN (implicit)\n",
      "2021-11-06 20:54:51,688 INFO sqlalchemy.engine.Engine INSERT INTO hero (name, secret_name, age) VALUES (?, ?, ?)\n",
      "2021-11-06 20:54:51,688 INFO sqlalchemy.engine.Engine [cached since 11.68s ago] ('Rusty-Man', 'Tommy Sharp', 36)\n",
      "2021-11-06 20:54:51,690 INFO sqlalchemy.engine.Engine INSERT INTO hero (name, secret_name, age) VALUES (?, ?, ?)\n",
      "2021-11-06 20:54:51,690 INFO sqlalchemy.engine.Engine [cached since 11.68s ago] ('Dr. Weird', 'Steve Weird', 33)\n",
      "2021-11-06 20:54:51,691 INFO sqlalchemy.engine.Engine COMMIT\n",
      "2021-11-06 20:54:51,850 INFO sqlalchemy.engine.Engine BEGIN (implicit)\n",
      "2021-11-06 20:54:51,851 INFO sqlalchemy.engine.Engine INSERT INTO hero (name, secret_name, age) VALUES (?, ?, ?)\n",
      "2021-11-06 20:54:51,851 INFO sqlalchemy.engine.Engine [cached since 11.84s ago] ('Rusty-Man', 'Tommy Sharp', 36)\n",
      "2021-11-06 20:54:51,853 INFO sqlalchemy.engine.Engine INSERT INTO hero (name, secret_name, age) VALUES (?, ?, ?)\n",
      "2021-11-06 20:54:51,853 INFO sqlalchemy.engine.Engine [cached since 11.84s ago] ('Dr. Weird', 'Steve Weird', 33)\n",
      "2021-11-06 20:54:51,854 INFO sqlalchemy.engine.Engine COMMIT\n",
      "2021-11-06 20:54:51,985 INFO sqlalchemy.engine.Engine BEGIN (implicit)\n",
      "2021-11-06 20:54:51,986 INFO sqlalchemy.engine.Engine INSERT INTO hero (name, secret_name, age) VALUES (?, ?, ?)\n",
      "2021-11-06 20:54:51,986 INFO sqlalchemy.engine.Engine [cached since 11.97s ago] ('Rusty-Man', 'Tommy Sharp', 36)\n",
      "2021-11-06 20:54:51,988 INFO sqlalchemy.engine.Engine INSERT INTO hero (name, secret_name, age) VALUES (?, ?, ?)\n",
      "2021-11-06 20:54:51,988 INFO sqlalchemy.engine.Engine [cached since 11.98s ago] ('Dr. Weird', 'Steve Weird', 33)\n",
      "2021-11-06 20:54:51,988 INFO sqlalchemy.engine.Engine COMMIT\n",
      "2021-11-06 20:54:52,135 INFO sqlalchemy.engine.Engine BEGIN (implicit)\n",
      "2021-11-06 20:54:52,135 INFO sqlalchemy.engine.Engine INSERT INTO hero (name, secret_name, age) VALUES (?, ?, ?)\n",
      "2021-11-06 20:54:52,136 INFO sqlalchemy.engine.Engine [cached since 12.12s ago] ('Rusty-Man', 'Tommy Sharp', 36)\n",
      "2021-11-06 20:54:52,137 INFO sqlalchemy.engine.Engine INSERT INTO hero (name, secret_name, age) VALUES (?, ?, ?)\n",
      "2021-11-06 20:54:52,138 INFO sqlalchemy.engine.Engine [cached since 12.13s ago] ('Dr. Weird', 'Steve Weird', 33)\n",
      "2021-11-06 20:54:52,138 INFO sqlalchemy.engine.Engine COMMIT\n",
      "2021-11-06 20:54:52,259 INFO sqlalchemy.engine.Engine BEGIN (implicit)\n",
      "2021-11-06 20:54:52,260 INFO sqlalchemy.engine.Engine INSERT INTO hero (name, secret_name, age) VALUES (?, ?, ?)\n",
      "2021-11-06 20:54:52,260 INFO sqlalchemy.engine.Engine [cached since 12.25s ago] ('Rusty-Man', 'Tommy Sharp', 36)\n",
      "2021-11-06 20:54:52,263 INFO sqlalchemy.engine.Engine INSERT INTO hero (name, secret_name, age) VALUES (?, ?, ?)\n",
      "2021-11-06 20:54:52,264 INFO sqlalchemy.engine.Engine [cached since 12.25s ago] ('Dr. Weird', 'Steve Weird', 33)\n",
      "2021-11-06 20:54:52,265 INFO sqlalchemy.engine.Engine COMMIT\n",
      "2021-11-06 20:54:52,385 INFO sqlalchemy.engine.Engine BEGIN (implicit)\n",
      "2021-11-06 20:54:52,386 INFO sqlalchemy.engine.Engine INSERT INTO hero (name, secret_name, age) VALUES (?, ?, ?)\n",
      "2021-11-06 20:54:52,386 INFO sqlalchemy.engine.Engine [cached since 12.37s ago] ('Rusty-Man', 'Tommy Sharp', 36)\n",
      "2021-11-06 20:54:52,388 INFO sqlalchemy.engine.Engine INSERT INTO hero (name, secret_name, age) VALUES (?, ?, ?)\n",
      "2021-11-06 20:54:52,389 INFO sqlalchemy.engine.Engine [cached since 12.38s ago] ('Dr. Weird', 'Steve Weird', 33)\n",
      "2021-11-06 20:54:52,389 INFO sqlalchemy.engine.Engine COMMIT\n",
      "2021-11-06 20:54:52,511 INFO sqlalchemy.engine.Engine BEGIN (implicit)\n",
      "2021-11-06 20:54:52,511 INFO sqlalchemy.engine.Engine INSERT INTO hero (name, secret_name, age) VALUES (?, ?, ?)\n",
      "2021-11-06 20:54:52,512 INFO sqlalchemy.engine.Engine [cached since 12.5s ago] ('Rusty-Man', 'Tommy Sharp', 36)\n",
      "2021-11-06 20:54:52,514 INFO sqlalchemy.engine.Engine INSERT INTO hero (name, secret_name, age) VALUES (?, ?, ?)\n",
      "2021-11-06 20:54:52,514 INFO sqlalchemy.engine.Engine [cached since 12.5s ago] ('Dr. Weird', 'Steve Weird', 33)\n",
      "2021-11-06 20:54:52,515 INFO sqlalchemy.engine.Engine COMMIT\n",
      "2021-11-06 20:54:52,668 INFO sqlalchemy.engine.Engine BEGIN (implicit)\n",
      "2021-11-06 20:54:52,669 INFO sqlalchemy.engine.Engine INSERT INTO hero (name, secret_name, age) VALUES (?, ?, ?)\n",
      "2021-11-06 20:54:52,670 INFO sqlalchemy.engine.Engine [cached since 12.66s ago] ('Rusty-Man', 'Tommy Sharp', 36)\n",
      "2021-11-06 20:54:52,671 INFO sqlalchemy.engine.Engine INSERT INTO hero (name, secret_name, age) VALUES (?, ?, ?)\n",
      "2021-11-06 20:54:52,672 INFO sqlalchemy.engine.Engine [cached since 12.66s ago] ('Dr. Weird', 'Steve Weird', 33)\n",
      "2021-11-06 20:54:52,673 INFO sqlalchemy.engine.Engine COMMIT\n",
      "2021-11-06 20:54:52,793 INFO sqlalchemy.engine.Engine BEGIN (implicit)\n",
      "2021-11-06 20:54:52,794 INFO sqlalchemy.engine.Engine INSERT INTO hero (name, secret_name, age) VALUES (?, ?, ?)\n",
      "2021-11-06 20:54:52,794 INFO sqlalchemy.engine.Engine [cached since 12.78s ago] ('Rusty-Man', 'Tommy Sharp', 36)\n",
      "2021-11-06 20:54:52,796 INFO sqlalchemy.engine.Engine INSERT INTO hero (name, secret_name, age) VALUES (?, ?, ?)\n",
      "2021-11-06 20:54:52,796 INFO sqlalchemy.engine.Engine [cached since 12.78s ago] ('Dr. Weird', 'Steve Weird', 33)\n",
      "2021-11-06 20:54:52,797 INFO sqlalchemy.engine.Engine COMMIT\n",
      "2021-11-06 20:54:52,918 INFO sqlalchemy.engine.Engine BEGIN (implicit)\n",
      "2021-11-06 20:54:52,919 INFO sqlalchemy.engine.Engine INSERT INTO hero (name, secret_name, age) VALUES (?, ?, ?)\n",
      "2021-11-06 20:54:52,919 INFO sqlalchemy.engine.Engine [cached since 12.91s ago] ('Rusty-Man', 'Tommy Sharp', 36)\n",
      "2021-11-06 20:54:52,921 INFO sqlalchemy.engine.Engine INSERT INTO hero (name, secret_name, age) VALUES (?, ?, ?)\n",
      "2021-11-06 20:54:52,921 INFO sqlalchemy.engine.Engine [cached since 12.91s ago] ('Dr. Weird', 'Steve Weird', 33)\n",
      "2021-11-06 20:54:52,922 INFO sqlalchemy.engine.Engine COMMIT\n",
      "2021-11-06 20:54:53,043 INFO sqlalchemy.engine.Engine BEGIN (implicit)\n",
      "2021-11-06 20:54:53,044 INFO sqlalchemy.engine.Engine SELECT hero.id, hero.name, hero.secret_name, hero.age \n",
      "FROM hero\n",
      "2021-11-06 20:54:53,045 INFO sqlalchemy.engine.Engine [no key 0.00054s] ()\n",
      "2021-11-06 20:54:53,047 INFO sqlalchemy.engine.Engine ROLLBACK\n",
      "(20, 4)\n",
      "Wall time: 1.5 s\n"
     ]
    },
    {
     "data": {
      "text/html": [
       "<div>\n",
       "<style scoped>\n",
       "    .dataframe tbody tr th:only-of-type {\n",
       "        vertical-align: middle;\n",
       "    }\n",
       "\n",
       "    .dataframe tbody tr th {\n",
       "        vertical-align: top;\n",
       "    }\n",
       "\n",
       "    .dataframe thead th {\n",
       "        text-align: right;\n",
       "    }\n",
       "</style>\n",
       "<table border=\"1\" class=\"dataframe\">\n",
       "  <thead>\n",
       "    <tr style=\"text-align: right;\">\n",
       "      <th></th>\n",
       "      <th>age</th>\n",
       "      <th>id</th>\n",
       "      <th>name</th>\n",
       "      <th>secret_name</th>\n",
       "    </tr>\n",
       "  </thead>\n",
       "  <tbody>\n",
       "    <tr>\n",
       "      <th>15</th>\n",
       "      <td>33</td>\n",
       "      <td>16</td>\n",
       "      <td>Dr. Weird</td>\n",
       "      <td>Steve Weird</td>\n",
       "    </tr>\n",
       "    <tr>\n",
       "      <th>16</th>\n",
       "      <td>36</td>\n",
       "      <td>17</td>\n",
       "      <td>Rusty-Man</td>\n",
       "      <td>Tommy Sharp</td>\n",
       "    </tr>\n",
       "    <tr>\n",
       "      <th>17</th>\n",
       "      <td>33</td>\n",
       "      <td>18</td>\n",
       "      <td>Dr. Weird</td>\n",
       "      <td>Steve Weird</td>\n",
       "    </tr>\n",
       "    <tr>\n",
       "      <th>18</th>\n",
       "      <td>36</td>\n",
       "      <td>19</td>\n",
       "      <td>Rusty-Man</td>\n",
       "      <td>Tommy Sharp</td>\n",
       "    </tr>\n",
       "    <tr>\n",
       "      <th>19</th>\n",
       "      <td>33</td>\n",
       "      <td>20</td>\n",
       "      <td>Dr. Weird</td>\n",
       "      <td>Steve Weird</td>\n",
       "    </tr>\n",
       "  </tbody>\n",
       "</table>\n",
       "</div>"
      ],
      "text/plain": [
       "    age  id       name  secret_name\n",
       "15   33  16  Dr. Weird  Steve Weird\n",
       "16   36  17  Rusty-Man  Tommy Sharp\n",
       "17   33  18  Dr. Weird  Steve Weird\n",
       "18   36  19  Rusty-Man  Tommy Sharp\n",
       "19   33  20  Dr. Weird  Steve Weird"
      ]
     },
     "execution_count": null,
     "metadata": {},
     "output_type": "execute_result"
    }
   ],
   "source": [
    "%%time\n",
    "delete_db()\n",
    "create_db_and_tables()\n",
    "for k in range(10):\n",
    "    commit_heroes()\n",
    "    #write_new_row()  # add two rows to db\n",
    "df = get_table()\n",
    "print(df.shape)\n",
    "df.tail()"
   ]
  },
  {
   "cell_type": "markdown",
   "metadata": {},
   "source": [
    "# SQLAlchemy\n",
    "* Code from the good man Jcharis on [github](https://github.com/Jcharis/streamlit_todo_crud_app/blob/main/db_fxns.py)"
   ]
  },
  {
   "cell_type": "code",
   "execution_count": null,
   "metadata": {},
   "outputs": [],
   "source": [
    "#!pip install sqlalchemy"
   ]
  },
  {
   "cell_type": "code",
   "execution_count": null,
   "metadata": {},
   "outputs": [],
   "source": [
    "import pandas as pd\n",
    "import json\n",
    "import sqlite3"
   ]
  },
  {
   "cell_type": "code",
   "execution_count": null,
   "metadata": {},
   "outputs": [],
   "source": [
    "conn = sqlite3.connect('sqlite.db',check_same_thread=False)\n",
    "c = conn.cursor()\n",
    "\n",
    "def create_table():\n",
    "    c.execute('CREATE TABLE IF NOT EXISTS taskstable(name TEXT,mood TEXT,message TEXT)')\n",
    "\n",
    "def add_data(name,mood,message):\n",
    "    c.execute('INSERT INTO taskstable(name,mood,message) VALUES (?,?,?)',(name,mood,message))\n",
    "    conn.commit()\n",
    "    \n",
    "def view_all_data():\n",
    "    c.execute('SELECT * FROM taskstable')\n",
    "    data = c.fetchall()\n",
    "    return data\n"
   ]
  },
  {
   "cell_type": "code",
   "execution_count": null,
   "metadata": {},
   "outputs": [],
   "source": [
    "create_table()"
   ]
  },
  {
   "cell_type": "code",
   "execution_count": null,
   "metadata": {},
   "outputs": [],
   "source": [
    "name = \"luke\"\n",
    "mood = \"wow\"\n",
    "message = \"a real database\"\n",
    "add_data(name, mood, message)"
   ]
  },
  {
   "cell_type": "code",
   "execution_count": null,
   "metadata": {},
   "outputs": [
    {
     "data": {
      "text/plain": [
       "[('luke', 'wow', 'a real database')]"
      ]
     },
     "execution_count": null,
     "metadata": {},
     "output_type": "execute_result"
    }
   ],
   "source": [
    "view_all_data()"
   ]
  },
  {
   "cell_type": "code",
   "execution_count": null,
   "metadata": {},
   "outputs": [
    {
     "name": "stdout",
     "output_type": "stream",
     "text": [
      "Wall time: 11.1 s\n"
     ]
    }
   ],
   "source": [
    "%%time\n",
    "for i in range(100):\n",
    "    add_data(name, mood, message)\n",
    "res = view_all_data()"
   ]
  },
  {
   "cell_type": "code",
   "execution_count": null,
   "metadata": {},
   "outputs": [],
   "source": []
  },
  {
   "cell_type": "code",
   "execution_count": null,
   "metadata": {},
   "outputs": [],
   "source": []
  },
  {
   "cell_type": "code",
   "execution_count": null,
   "metadata": {},
   "outputs": [],
   "source": []
  },
  {
   "cell_type": "code",
   "execution_count": null,
   "metadata": {},
   "outputs": [],
   "source": []
  }
 ],
 "metadata": {
  "kernelspec": {
   "display_name": "Python 3 (ipykernel)",
   "language": "python",
   "name": "python3"
  }
 },
 "nbformat": 4,
 "nbformat_minor": 2
}
