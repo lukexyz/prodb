{
 "cells": [
  {
   "cell_type": "code",
   "execution_count": null,
   "metadata": {},
   "outputs": [],
   "source": [
    "# default_exp core"
   ]
  },
  {
   "cell_type": "markdown",
   "metadata": {},
   "source": [
    "# 01 Prodb Benchmarks\n",
    "\n",
    "> Which database is faster? The highly optimised SQLAlchemy library, or the library that literally saves and loads the entire csv every time you modify it?"
   ]
  },
  {
   "cell_type": "code",
   "execution_count": null,
   "metadata": {},
   "outputs": [],
   "source": [
    "#hide\n",
    "from nbdev.showdoc import *"
   ]
  },
  {
   "cell_type": "code",
   "execution_count": null,
   "metadata": {},
   "outputs": [],
   "source": [
    "#hide\n",
    "import pandas as pd\n",
    "import arrow\n",
    "import os\n",
    "from time import gmtime, strftime\n",
    "import sys; sys.path.append('../')\n",
    "from prodb.core import generate_db, insert_row, insert_rows, utc_now, readable_df"
   ]
  },
  {
   "cell_type": "markdown",
   "metadata": {},
   "source": [
    "# 1. Prodb API Benchmarks"
   ]
  },
  {
   "cell_type": "code",
   "execution_count": null,
   "metadata": {},
   "outputs": [],
   "source": [
    "# ================================================================ #\n",
    "data = {'name': ['Sam', 'Grant'],\n",
    "        'mood': ['😊', '😵'],\n",
    "        'message': ['hello from London, UK', 'hello from Christchurch, NZ'],\n",
    "        'time_utc' : [utc_now(), utc_now()]}\n",
    "# ================================================================ #"
   ]
  },
  {
   "cell_type": "markdown",
   "metadata": {},
   "source": [
    "Duration to insert, append, save, and reload the dataframe 100 times."
   ]
  },
  {
   "cell_type": "code",
   "execution_count": null,
   "metadata": {},
   "outputs": [
    {
     "name": "stdout",
     "output_type": "stream",
     "text": [
      "✓💾 benchmarks/prodb.csv (19 kb)\n",
      "(200, 4)\n"
     ]
    },
    {
     "data": {
      "text/html": [
       "<div>\n",
       "<style scoped>\n",
       "    .dataframe tbody tr th:only-of-type {\n",
       "        vertical-align: middle;\n",
       "    }\n",
       "\n",
       "    .dataframe tbody tr th {\n",
       "        vertical-align: top;\n",
       "    }\n",
       "\n",
       "    .dataframe thead th {\n",
       "        text-align: right;\n",
       "    }\n",
       "</style>\n",
       "<table border=\"1\" class=\"dataframe\">\n",
       "  <thead>\n",
       "    <tr style=\"text-align: right;\">\n",
       "      <th></th>\n",
       "      <th>name</th>\n",
       "      <th>mood</th>\n",
       "      <th>message</th>\n",
       "      <th>time_utc</th>\n",
       "    </tr>\n",
       "  </thead>\n",
       "  <tbody>\n",
       "    <tr>\n",
       "      <th>195</th>\n",
       "      <td>Grant</td>\n",
       "      <td>😵</td>\n",
       "      <td>hello from Christchurch, NZ</td>\n",
       "      <td>2021-11-06 22:12:35</td>\n",
       "    </tr>\n",
       "    <tr>\n",
       "      <th>196</th>\n",
       "      <td>Sam</td>\n",
       "      <td>😊</td>\n",
       "      <td>hello from London, UK</td>\n",
       "      <td>2021-11-06 22:12:35</td>\n",
       "    </tr>\n",
       "    <tr>\n",
       "      <th>197</th>\n",
       "      <td>Grant</td>\n",
       "      <td>😵</td>\n",
       "      <td>hello from Christchurch, NZ</td>\n",
       "      <td>2021-11-06 22:12:35</td>\n",
       "    </tr>\n",
       "    <tr>\n",
       "      <th>198</th>\n",
       "      <td>Sam</td>\n",
       "      <td>😊</td>\n",
       "      <td>hello from London, UK</td>\n",
       "      <td>2021-11-06 22:12:35</td>\n",
       "    </tr>\n",
       "    <tr>\n",
       "      <th>199</th>\n",
       "      <td>Grant</td>\n",
       "      <td>😵</td>\n",
       "      <td>hello from Christchurch, NZ</td>\n",
       "      <td>2021-11-06 22:12:35</td>\n",
       "    </tr>\n",
       "  </tbody>\n",
       "</table>\n",
       "</div>"
      ],
      "text/plain": [
       "      name mood                      message             time_utc\n",
       "195  Grant    😵  hello from Christchurch, NZ  2021-11-06 22:12:35\n",
       "196    Sam    😊        hello from London, UK  2021-11-06 22:12:35\n",
       "197  Grant    😵  hello from Christchurch, NZ  2021-11-06 22:12:35\n",
       "198    Sam    😊        hello from London, UK  2021-11-06 22:12:35\n",
       "199  Grant    😵  hello from Christchurch, NZ  2021-11-06 22:12:35"
      ]
     },
     "metadata": {},
     "output_type": "display_data"
    },
    {
     "name": "stdout",
     "output_type": "stream",
     "text": [
      "Wall time: 456 ms\n"
     ]
    }
   ],
   "source": [
    "%%time\n",
    "\n",
    "def test_prodb(n=100):\n",
    "    dbpath='benchmarks/prodb.csv'\n",
    "    df = generate_db(dbpath=dbpath, cols='name mood message'.split())\n",
    "    for i in range(n):\n",
    "        df = insert_rows(df, data, dbpath=dbpath)   # save to disk\n",
    "        df = pd.read_csv(dbpath)                    # load from disk\n",
    "    return df\n",
    "\n",
    "df = test_prodb()\n",
    "print(df.shape)\n",
    "display(df.tail())"
   ]
  },
  {
   "cell_type": "markdown",
   "metadata": {},
   "source": [
    "#### Reading and writing time of small `csv`"
   ]
  },
  {
   "cell_type": "code",
   "execution_count": null,
   "metadata": {},
   "outputs": [
    {
     "data": {
      "text/plain": [
       "(200, 4)"
      ]
     },
     "execution_count": null,
     "metadata": {},
     "output_type": "execute_result"
    }
   ],
   "source": [
    "df.shape"
   ]
  },
  {
   "cell_type": "code",
   "execution_count": null,
   "metadata": {},
   "outputs": [
    {
     "name": "stdout",
     "output_type": "stream",
     "text": [
      "1.09 ms ± 22.3 µs per loop (mean ± std. dev. of 7 runs, 1000 loops each)\n"
     ]
    }
   ],
   "source": [
    "%%timeit\n",
    "df.to_csv('benchmarks/tmp.csv')"
   ]
  },
  {
   "cell_type": "code",
   "execution_count": null,
   "metadata": {},
   "outputs": [
    {
     "name": "stdout",
     "output_type": "stream",
     "text": [
      "1.21 ms ± 11.4 µs per loop (mean ± std. dev. of 7 runs, 1000 loops each)\n"
     ]
    }
   ],
   "source": [
    "%%timeit\n",
    "df = pd.read_csv('benchmarks/tmp.csv')"
   ]
  },
  {
   "cell_type": "code",
   "execution_count": null,
   "metadata": {},
   "outputs": [
    {
     "name": "stdout",
     "output_type": "stream",
     "text": [
      "67.3 µs ± 2.74 µs per loop (mean ± std. dev. of 7 runs, 10000 loops each)\n"
     ]
    }
   ],
   "source": [
    "%%timeit\n",
    "df.iloc[50, :]"
   ]
  },
  {
   "cell_type": "markdown",
   "metadata": {},
   "source": [
    "# 2.  SQLModel / SQLAlchemy Benchmarks\n",
    "`SQLModel` code and functions from [lukexyz/sqlmodel-streamlit/app.py](https://github.com/lukexyz/sqlmodel-streamlit/blob/main/app.py)"
   ]
  },
  {
   "cell_type": "code",
   "execution_count": null,
   "metadata": {},
   "outputs": [
    {
     "name": "stderr",
     "output_type": "stream",
     "text": [
      "D:\\ProgramData\\Anaconda3\\envs\\prodb\\lib\\site-packages\\sqlmodel\\main.py:367: SAWarning: This declarative base already contains a class with the same class name and module name as __main__.Hero, and will be replaced in the string-lookup table.\n",
      "  DeclarativeMeta.__init__(cls, classname, bases, dict_used, **kw)\n"
     ]
    }
   ],
   "source": [
    "from sqlmodel import Field, Session, SQLModel, create_engine, select\n",
    "from typing import Optional\n",
    "\n",
    "import logging, sys\n",
    "logging.disable(sys.maxsize)\n",
    "\n",
    "\n",
    "class Hero(SQLModel, table=True):\n",
    "    __table_args__ = {'extend_existing': True}  # required for streamlit refreshing\n",
    "    id: Optional[int] = Field(default=None, primary_key=True)\n",
    "    name: str\n",
    "    secret_name: str\n",
    "    age: Optional[int] = None\n",
    "\n",
    "def create_db_and_tables():\n",
    "    SQLModel.metadata.create_all(engine)\n",
    "\n",
    "def get_db_size():\n",
    "    with Session(engine) as session:\n",
    "        heroes = session.exec(select(Hero)).all()\n",
    "    return len(heroes)\n",
    "\n",
    "def select_heros():\n",
    "    with Session(engine) as session:\n",
    "        statement = select(Hero).where(Hero.age <= 35)\n",
    "        results = session.exec(statement)\n",
    "        for hero in results:\n",
    "            print(hero)\n",
    "\n",
    "def show_table():\n",
    "    with Session(engine) as session:\n",
    "        heroes = session.exec(select(Hero)).all()\n",
    "        display(pd.DataFrame([s.dict() for s in heroes[-5:]]))\n",
    "\n",
    "def get_table():\n",
    "    with Session(engine) as session:\n",
    "        heroes = session.exec(select(Hero)).all()\n",
    "        return pd.DataFrame([s.dict() for s in heroes])\n",
    "\n",
    "def delete_db():\n",
    "    with Session(engine) as session:\n",
    "        heroes = session.exec(select(Hero)).all()\n",
    "        for hero in heroes:\n",
    "            session.delete(hero)  \n",
    "        session.commit()  \n",
    "\n",
    "def commit_new_row():\n",
    "    hero = Hero(name='Luke', secret_name='Luke Woods', age=23)\n",
    "    hero_1 = Hero(name=\"Rusty-Man\", secret_name=\"Tommy Sharp\", age=36)\n",
    "    with Session(engine) as session:\n",
    "        session.add(hero)\n",
    "        session.add(hero_1)\n",
    "        session.commit()"
   ]
  },
  {
   "cell_type": "markdown",
   "metadata": {},
   "source": [
    "> Create engine"
   ]
  },
  {
   "cell_type": "code",
   "execution_count": null,
   "metadata": {},
   "outputs": [],
   "source": [
    "sqlite_file_name = 'sqlmodel.db'\n",
    "sqlite_url = f\"sqlite:///{sqlite_file_name}\"\n",
    "engine = create_engine(sqlite_url, echo=True)"
   ]
  },
  {
   "cell_type": "code",
   "execution_count": null,
   "metadata": {},
   "outputs": [
    {
     "data": {
      "text/html": [
       "<div>\n",
       "<style scoped>\n",
       "    .dataframe tbody tr th:only-of-type {\n",
       "        vertical-align: middle;\n",
       "    }\n",
       "\n",
       "    .dataframe tbody tr th {\n",
       "        vertical-align: top;\n",
       "    }\n",
       "\n",
       "    .dataframe thead th {\n",
       "        text-align: right;\n",
       "    }\n",
       "</style>\n",
       "<table border=\"1\" class=\"dataframe\">\n",
       "  <thead>\n",
       "    <tr style=\"text-align: right;\">\n",
       "      <th></th>\n",
       "      <th>age</th>\n",
       "      <th>id</th>\n",
       "      <th>name</th>\n",
       "      <th>secret_name</th>\n",
       "    </tr>\n",
       "  </thead>\n",
       "  <tbody>\n",
       "    <tr>\n",
       "      <th>0</th>\n",
       "      <td>36</td>\n",
       "      <td>1</td>\n",
       "      <td>Rusty-Man</td>\n",
       "      <td>Tommy Sharp</td>\n",
       "    </tr>\n",
       "    <tr>\n",
       "      <th>1</th>\n",
       "      <td>33</td>\n",
       "      <td>2</td>\n",
       "      <td>Dr. Weird</td>\n",
       "      <td>Steve Weird</td>\n",
       "    </tr>\n",
       "  </tbody>\n",
       "</table>\n",
       "</div>"
      ],
      "text/plain": [
       "   age  id       name  secret_name\n",
       "0   36   1  Rusty-Man  Tommy Sharp\n",
       "1   33   2  Dr. Weird  Steve Weird"
      ]
     },
     "metadata": {},
     "output_type": "display_data"
    },
    {
     "name": "stdout",
     "output_type": "stream",
     "text": [
      "length 2\n"
     ]
    }
   ],
   "source": [
    "delete_db()\n",
    "create_db_and_tables()\n",
    "commit_heroes()\n",
    "show_table()\n",
    "print(f'length {get_db_size()}')"
   ]
  },
  {
   "cell_type": "markdown",
   "metadata": {},
   "source": [
    "### Run 100 iteration benchmark"
   ]
  },
  {
   "cell_type": "code",
   "execution_count": null,
   "metadata": {},
   "outputs": [
    {
     "name": "stdout",
     "output_type": "stream",
     "text": [
      "(200, 4)\n",
      "Wall time: 13.6 s\n"
     ]
    },
    {
     "data": {
      "text/html": [
       "<div>\n",
       "<style scoped>\n",
       "    .dataframe tbody tr th:only-of-type {\n",
       "        vertical-align: middle;\n",
       "    }\n",
       "\n",
       "    .dataframe tbody tr th {\n",
       "        vertical-align: top;\n",
       "    }\n",
       "\n",
       "    .dataframe thead th {\n",
       "        text-align: right;\n",
       "    }\n",
       "</style>\n",
       "<table border=\"1\" class=\"dataframe\">\n",
       "  <thead>\n",
       "    <tr style=\"text-align: right;\">\n",
       "      <th></th>\n",
       "      <th>age</th>\n",
       "      <th>id</th>\n",
       "      <th>name</th>\n",
       "      <th>secret_name</th>\n",
       "    </tr>\n",
       "  </thead>\n",
       "  <tbody>\n",
       "    <tr>\n",
       "      <th>195</th>\n",
       "      <td>36</td>\n",
       "      <td>196</td>\n",
       "      <td>Rusty-Man</td>\n",
       "      <td>Tommy Sharp</td>\n",
       "    </tr>\n",
       "    <tr>\n",
       "      <th>196</th>\n",
       "      <td>23</td>\n",
       "      <td>197</td>\n",
       "      <td>Luke</td>\n",
       "      <td>Luke Woods</td>\n",
       "    </tr>\n",
       "    <tr>\n",
       "      <th>197</th>\n",
       "      <td>36</td>\n",
       "      <td>198</td>\n",
       "      <td>Rusty-Man</td>\n",
       "      <td>Tommy Sharp</td>\n",
       "    </tr>\n",
       "    <tr>\n",
       "      <th>198</th>\n",
       "      <td>23</td>\n",
       "      <td>199</td>\n",
       "      <td>Luke</td>\n",
       "      <td>Luke Woods</td>\n",
       "    </tr>\n",
       "    <tr>\n",
       "      <th>199</th>\n",
       "      <td>36</td>\n",
       "      <td>200</td>\n",
       "      <td>Rusty-Man</td>\n",
       "      <td>Tommy Sharp</td>\n",
       "    </tr>\n",
       "  </tbody>\n",
       "</table>\n",
       "</div>"
      ],
      "text/plain": [
       "     age   id       name  secret_name\n",
       "195   36  196  Rusty-Man  Tommy Sharp\n",
       "196   23  197       Luke   Luke Woods\n",
       "197   36  198  Rusty-Man  Tommy Sharp\n",
       "198   23  199       Luke   Luke Woods\n",
       "199   36  200  Rusty-Man  Tommy Sharp"
      ]
     },
     "execution_count": null,
     "metadata": {},
     "output_type": "execute_result"
    }
   ],
   "source": [
    "%%time\n",
    "delete_db()\n",
    "create_db_and_tables()\n",
    "for k in range(100):\n",
    "    commit_new_row()\n",
    "    #write_new_row()  # add two rows to db\n",
    "df = get_table()\n",
    "print(df.shape)\n",
    "df.tail()"
   ]
  },
  {
   "cell_type": "markdown",
   "metadata": {},
   "source": [
    "# SQLAlchemy\n",
    "* Good code from the good man, Jcharis on [github](https://github.com/Jcharis/streamlit_todo_crud_app/blob/main/db_fxns.py)"
   ]
  },
  {
   "cell_type": "code",
   "execution_count": null,
   "metadata": {},
   "outputs": [],
   "source": [
    "#!pip install sqlalchemy"
   ]
  },
  {
   "cell_type": "code",
   "execution_count": null,
   "metadata": {},
   "outputs": [],
   "source": [
    "import pandas as pd\n",
    "import json\n",
    "import sqlite3"
   ]
  },
  {
   "cell_type": "code",
   "execution_count": null,
   "metadata": {},
   "outputs": [],
   "source": [
    "conn = sqlite3.connect('benchmarks/sqlite.db',check_same_thread=False)\n",
    "c = conn.cursor()\n",
    "\n",
    "def create_table():\n",
    "    c.execute('CREATE TABLE IF NOT EXISTS taskstable(name TEXT,mood TEXT,message TEXT)')\n",
    "\n",
    "def add_data(name,mood,message):\n",
    "    c.execute('INSERT INTO taskstable(name,mood,message) VALUES (?,?,?)',(name,mood,message))\n",
    "    conn.commit()\n",
    "    \n",
    "def view_all_data():\n",
    "    c.execute('SELECT * FROM taskstable')\n",
    "    data = c.fetchall()\n",
    "    return data\n",
    "\n",
    "def empty_table(name):\n",
    "    c.execute('DELETE FROM taskstable WHERE name=\"{}\"'.format(name))\n",
    "    conn.commit()"
   ]
  },
  {
   "cell_type": "code",
   "execution_count": null,
   "metadata": {},
   "outputs": [],
   "source": [
    "create_table()"
   ]
  },
  {
   "cell_type": "code",
   "execution_count": null,
   "metadata": {},
   "outputs": [],
   "source": [
    "name = \"Luke\"\n",
    "mood = \"👍\"\n",
    "message = \"An SQLite database entry\"\n",
    "empty_table(name)\n",
    "add_data(name, mood, message)"
   ]
  },
  {
   "cell_type": "code",
   "execution_count": null,
   "metadata": {},
   "outputs": [
    {
     "name": "stdout",
     "output_type": "stream",
     "text": [
      "(1, 3)\n"
     ]
    },
    {
     "data": {
      "text/html": [
       "<div>\n",
       "<style scoped>\n",
       "    .dataframe tbody tr th:only-of-type {\n",
       "        vertical-align: middle;\n",
       "    }\n",
       "\n",
       "    .dataframe tbody tr th {\n",
       "        vertical-align: top;\n",
       "    }\n",
       "\n",
       "    .dataframe thead th {\n",
       "        text-align: right;\n",
       "    }\n",
       "</style>\n",
       "<table border=\"1\" class=\"dataframe\">\n",
       "  <thead>\n",
       "    <tr style=\"text-align: right;\">\n",
       "      <th></th>\n",
       "      <th>name</th>\n",
       "      <th>mood</th>\n",
       "      <th>message</th>\n",
       "    </tr>\n",
       "  </thead>\n",
       "  <tbody>\n",
       "    <tr>\n",
       "      <th>0</th>\n",
       "      <td>Luke</td>\n",
       "      <td>👍</td>\n",
       "      <td>An SQLite database entry</td>\n",
       "    </tr>\n",
       "  </tbody>\n",
       "</table>\n",
       "</div>"
      ],
      "text/plain": [
       "   name mood                   message\n",
       "0  Luke    👍  An SQLite database entry"
      ]
     },
     "execution_count": null,
     "metadata": {},
     "output_type": "execute_result"
    }
   ],
   "source": [
    "ds = pd.DataFrame(view_all_data(), columns=['name', 'mood', 'message'])\n",
    "print(ds.shape)\n",
    "ds.tail()"
   ]
  },
  {
   "cell_type": "markdown",
   "metadata": {},
   "source": [
    "### `SQLAlchemy` 100 commits benchmark"
   ]
  },
  {
   "cell_type": "code",
   "execution_count": null,
   "metadata": {},
   "outputs": [
    {
     "name": "stdout",
     "output_type": "stream",
     "text": [
      "Wall time: 10.9 s\n"
     ]
    }
   ],
   "source": [
    "%%time\n",
    "for i in range(100):\n",
    "    add_data(name, mood, message)\n",
    "res = view_all_data()"
   ]
  },
  {
   "cell_type": "code",
   "execution_count": null,
   "metadata": {},
   "outputs": [],
   "source": []
  },
  {
   "cell_type": "code",
   "execution_count": null,
   "metadata": {},
   "outputs": [],
   "source": []
  },
  {
   "cell_type": "code",
   "execution_count": null,
   "metadata": {},
   "outputs": [],
   "source": []
  },
  {
   "cell_type": "code",
   "execution_count": null,
   "metadata": {},
   "outputs": [],
   "source": []
  }
 ],
 "metadata": {
  "kernelspec": {
   "display_name": "Python 3 (ipykernel)",
   "language": "python",
   "name": "python3"
  }
 },
 "nbformat": 4,
 "nbformat_minor": 2
}
