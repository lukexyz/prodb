{
 "cells": [
  {
   "cell_type": "code",
   "execution_count": null,
   "metadata": {},
   "outputs": [],
   "source": [
    "# default_exp core"
   ]
  },
  {
   "cell_type": "markdown",
   "metadata": {},
   "source": [
    "# 01 Prodb Benchmarks\n",
    "\n",
    "> Which database is faster? The highly optimised SQLAlchemy library, or the library that literally saves and loads the entire csv every time you modify it?"
   ]
  },
  {
   "cell_type": "code",
   "execution_count": null,
   "metadata": {},
   "outputs": [],
   "source": [
    "#hide\n",
    "from nbdev.showdoc import *\n",
    "%load_ext autoreload\n",
    "%autoreload 2"
   ]
  },
  {
   "cell_type": "code",
   "execution_count": null,
   "metadata": {},
   "outputs": [],
   "source": [
    "#hide\n",
    "import pandas as pd\n",
    "import arrow\n",
    "import os\n",
    "from time import gmtime, strftime\n",
    "import sys; sys.path.append('../')\n",
    "from prodb.core import generate_db, insert_row, insert_rows, utc_now, readable_df"
   ]
  },
  {
   "cell_type": "markdown",
   "metadata": {},
   "source": [
    "# 1. Prodb API Benchmarks"
   ]
  },
  {
   "cell_type": "code",
   "execution_count": null,
   "metadata": {},
   "outputs": [],
   "source": [
    "# ================================================================ #\n",
    "data = {'name': ['Sam', 'Grant'],\n",
    "        'mood': ['😊', '😵'],\n",
    "        'message': ['hello from London, UK', 'hello from Christchurch, NZ'],\n",
    "        'time_utc' : [utc_now(), utc_now()]}\n",
    "# ================================================================ #"
   ]
  },
  {
   "cell_type": "markdown",
   "metadata": {},
   "source": [
    "Duration to insert, append, save, and reload the dataframe 100 times."
   ]
  },
  {
   "cell_type": "code",
   "execution_count": null,
   "metadata": {},
   "outputs": [
    {
     "name": "stdout",
     "output_type": "stream",
     "text": [
      "✓💾 benchmarks/prodb.csv (19 kb)\n",
      "(200, 4)\n"
     ]
    },
    {
     "data": {
      "text/html": [
       "<div>\n",
       "<style scoped>\n",
       "    .dataframe tbody tr th:only-of-type {\n",
       "        vertical-align: middle;\n",
       "    }\n",
       "\n",
       "    .dataframe tbody tr th {\n",
       "        vertical-align: top;\n",
       "    }\n",
       "\n",
       "    .dataframe thead th {\n",
       "        text-align: right;\n",
       "    }\n",
       "</style>\n",
       "<table border=\"1\" class=\"dataframe\">\n",
       "  <thead>\n",
       "    <tr style=\"text-align: right;\">\n",
       "      <th></th>\n",
       "      <th>name</th>\n",
       "      <th>mood</th>\n",
       "      <th>message</th>\n",
       "      <th>time_utc</th>\n",
       "    </tr>\n",
       "  </thead>\n",
       "  <tbody>\n",
       "    <tr>\n",
       "      <th>195</th>\n",
       "      <td>Grant</td>\n",
       "      <td>😵</td>\n",
       "      <td>hello from Christchurch, NZ</td>\n",
       "      <td>2021-11-06 23:17:52</td>\n",
       "    </tr>\n",
       "    <tr>\n",
       "      <th>196</th>\n",
       "      <td>Sam</td>\n",
       "      <td>😊</td>\n",
       "      <td>hello from London, UK</td>\n",
       "      <td>2021-11-06 23:17:52</td>\n",
       "    </tr>\n",
       "    <tr>\n",
       "      <th>197</th>\n",
       "      <td>Grant</td>\n",
       "      <td>😵</td>\n",
       "      <td>hello from Christchurch, NZ</td>\n",
       "      <td>2021-11-06 23:17:52</td>\n",
       "    </tr>\n",
       "    <tr>\n",
       "      <th>198</th>\n",
       "      <td>Sam</td>\n",
       "      <td>😊</td>\n",
       "      <td>hello from London, UK</td>\n",
       "      <td>2021-11-06 23:17:52</td>\n",
       "    </tr>\n",
       "    <tr>\n",
       "      <th>199</th>\n",
       "      <td>Grant</td>\n",
       "      <td>😵</td>\n",
       "      <td>hello from Christchurch, NZ</td>\n",
       "      <td>2021-11-06 23:17:52</td>\n",
       "    </tr>\n",
       "  </tbody>\n",
       "</table>\n",
       "</div>"
      ],
      "text/plain": [
       "      name mood                      message             time_utc\n",
       "195  Grant    😵  hello from Christchurch, NZ  2021-11-06 23:17:52\n",
       "196    Sam    😊        hello from London, UK  2021-11-06 23:17:52\n",
       "197  Grant    😵  hello from Christchurch, NZ  2021-11-06 23:17:52\n",
       "198    Sam    😊        hello from London, UK  2021-11-06 23:17:52\n",
       "199  Grant    😵  hello from Christchurch, NZ  2021-11-06 23:17:52"
      ]
     },
     "metadata": {},
     "output_type": "display_data"
    },
    {
     "name": "stdout",
     "output_type": "stream",
     "text": [
      "Wall time: 418 ms\n"
     ]
    }
   ],
   "source": [
    "%%time\n",
    "\n",
    "def test_prodb(n=1, verbose=True):\n",
    "    dbpath='benchmarks/prodb.csv'\n",
    "    df = generate_db(dbpath=dbpath, cols='name mood message'.split(), verbose=verbose)\n",
    "    for i in range(n):\n",
    "        df = insert_rows(df, data, dbpath=dbpath)   # save to disk\n",
    "        df = pd.read_csv(dbpath)                    # load from disk\n",
    "    return df\n",
    "\n",
    "df = test_prodb(n=100)\n",
    "print(df.shape)\n",
    "display(df.tail())"
   ]
  },
  {
   "cell_type": "markdown",
   "metadata": {},
   "source": [
    "#### Reading and writing time of small `csv`"
   ]
  },
  {
   "cell_type": "code",
   "execution_count": null,
   "metadata": {},
   "outputs": [
    {
     "data": {
      "text/plain": [
       "(2, 4)"
      ]
     },
     "execution_count": null,
     "metadata": {},
     "output_type": "execute_result"
    }
   ],
   "source": [
    "df.shape"
   ]
  },
  {
   "cell_type": "code",
   "execution_count": null,
   "metadata": {},
   "outputs": [
    {
     "name": "stdout",
     "output_type": "stream",
     "text": [
      "1.09 ms ± 22.3 µs per loop (mean ± std. dev. of 7 runs, 1000 loops each)\n"
     ]
    }
   ],
   "source": [
    "%%timeit\n",
    "df.to_csv('benchmarks/tmp.csv')"
   ]
  },
  {
   "cell_type": "code",
   "execution_count": null,
   "metadata": {},
   "outputs": [
    {
     "name": "stdout",
     "output_type": "stream",
     "text": [
      "1.21 ms ± 11.4 µs per loop (mean ± std. dev. of 7 runs, 1000 loops each)\n"
     ]
    }
   ],
   "source": [
    "%%timeit\n",
    "df = pd.read_csv('benchmarks/tmp.csv')"
   ]
  },
  {
   "cell_type": "code",
   "execution_count": null,
   "metadata": {},
   "outputs": [
    {
     "name": "stdout",
     "output_type": "stream",
     "text": [
      "67.3 µs ± 2.74 µs per loop (mean ± std. dev. of 7 runs, 10000 loops each)\n"
     ]
    }
   ],
   "source": [
    "%%timeit\n",
    "df.iloc[50, :]"
   ]
  },
  {
   "cell_type": "markdown",
   "metadata": {},
   "source": [
    "# 2.  SQLModel / SQLAlchemy Benchmarks\n",
    "`SQLModel` code and functions from [lukexyz/sqlmodel-streamlit/app.py](https://github.com/lukexyz/sqlmodel-streamlit/blob/main/app.py)"
   ]
  },
  {
   "cell_type": "code",
   "execution_count": null,
   "metadata": {},
   "outputs": [],
   "source": [
    "from sqlmodel import Field, Session, SQLModel, create_engine, select\n",
    "from typing import Optional\n",
    "\n",
    "import logging, sys\n",
    "logging.disable(sys.maxsize)\n",
    "\n",
    "\n",
    "class Hero(SQLModel, table=True):\n",
    "    __table_args__ = {'extend_existing': True}  # required for streamlit refreshing\n",
    "    id: Optional[int] = Field(default=None, primary_key=True)\n",
    "    name: str\n",
    "    secret_name: str\n",
    "    age: Optional[int] = None\n",
    "\n",
    "def create_db_and_tables():\n",
    "    SQLModel.metadata.create_all(engine)\n",
    "\n",
    "def get_table():\n",
    "    with Session(engine) as session:\n",
    "        heroes = session.exec(select(Hero)).all()\n",
    "        return pd.DataFrame([s.dict() for s in heroes])\n",
    "\n",
    "def delete_db():\n",
    "    with Session(engine) as session:\n",
    "        heroes = session.exec(select(Hero)).all()\n",
    "        for hero in heroes:\n",
    "            session.delete(hero)  \n",
    "        session.commit()  \n",
    "\n",
    "def commit_new_row():\n",
    "    hero = Hero(name='Luke', secret_name='Luke Woods', age=23)\n",
    "    hero_1 = Hero(name=\"Rusty-Man\", secret_name=\"Tommy Sharp\", age=36)\n",
    "    with Session(engine) as session:\n",
    "        session.add(hero)\n",
    "        session.add(hero_1)\n",
    "        session.commit()"
   ]
  },
  {
   "cell_type": "markdown",
   "metadata": {},
   "source": [
    "#### Create engine"
   ]
  },
  {
   "cell_type": "code",
   "execution_count": null,
   "metadata": {},
   "outputs": [],
   "source": [
    "sqlite_file_name = 'sqlmodel.db'\n",
    "sqlite_url = f\"sqlite:///{sqlite_file_name}\"\n",
    "engine = create_engine(sqlite_url, echo=True)"
   ]
  },
  {
   "cell_type": "code",
   "execution_count": null,
   "metadata": {},
   "outputs": [
    {
     "data": {
      "text/html": [
       "<div>\n",
       "<style scoped>\n",
       "    .dataframe tbody tr th:only-of-type {\n",
       "        vertical-align: middle;\n",
       "    }\n",
       "\n",
       "    .dataframe tbody tr th {\n",
       "        vertical-align: top;\n",
       "    }\n",
       "\n",
       "    .dataframe thead th {\n",
       "        text-align: right;\n",
       "    }\n",
       "</style>\n",
       "<table border=\"1\" class=\"dataframe\">\n",
       "  <thead>\n",
       "    <tr style=\"text-align: right;\">\n",
       "      <th></th>\n",
       "      <th>name</th>\n",
       "      <th>secret_name</th>\n",
       "      <th>age</th>\n",
       "      <th>id</th>\n",
       "    </tr>\n",
       "  </thead>\n",
       "  <tbody>\n",
       "    <tr>\n",
       "      <th>0</th>\n",
       "      <td>Luke</td>\n",
       "      <td>Luke Woods</td>\n",
       "      <td>23</td>\n",
       "      <td>1</td>\n",
       "    </tr>\n",
       "    <tr>\n",
       "      <th>1</th>\n",
       "      <td>Rusty-Man</td>\n",
       "      <td>Tommy Sharp</td>\n",
       "      <td>36</td>\n",
       "      <td>2</td>\n",
       "    </tr>\n",
       "  </tbody>\n",
       "</table>\n",
       "</div>"
      ],
      "text/plain": [
       "        name  secret_name  age  id\n",
       "0       Luke   Luke Woods   23   1\n",
       "1  Rusty-Man  Tommy Sharp   36   2"
      ]
     },
     "execution_count": null,
     "metadata": {},
     "output_type": "execute_result"
    }
   ],
   "source": [
    "delete_db()\n",
    "create_db_and_tables()\n",
    "commit_new_row()\n",
    "get_table()"
   ]
  },
  {
   "cell_type": "markdown",
   "metadata": {},
   "source": [
    "### Run 100 iteration benchmark"
   ]
  },
  {
   "cell_type": "code",
   "execution_count": null,
   "metadata": {},
   "outputs": [
    {
     "name": "stdout",
     "output_type": "stream",
     "text": [
      "(200, 4)\n",
      "Wall time: 13.8 s\n"
     ]
    },
    {
     "data": {
      "text/html": [
       "<div>\n",
       "<style scoped>\n",
       "    .dataframe tbody tr th:only-of-type {\n",
       "        vertical-align: middle;\n",
       "    }\n",
       "\n",
       "    .dataframe tbody tr th {\n",
       "        vertical-align: top;\n",
       "    }\n",
       "\n",
       "    .dataframe thead th {\n",
       "        text-align: right;\n",
       "    }\n",
       "</style>\n",
       "<table border=\"1\" class=\"dataframe\">\n",
       "  <thead>\n",
       "    <tr style=\"text-align: right;\">\n",
       "      <th></th>\n",
       "      <th>name</th>\n",
       "      <th>secret_name</th>\n",
       "      <th>age</th>\n",
       "      <th>id</th>\n",
       "    </tr>\n",
       "  </thead>\n",
       "  <tbody>\n",
       "    <tr>\n",
       "      <th>195</th>\n",
       "      <td>Rusty-Man</td>\n",
       "      <td>Tommy Sharp</td>\n",
       "      <td>36</td>\n",
       "      <td>196</td>\n",
       "    </tr>\n",
       "    <tr>\n",
       "      <th>196</th>\n",
       "      <td>Luke</td>\n",
       "      <td>Luke Woods</td>\n",
       "      <td>23</td>\n",
       "      <td>197</td>\n",
       "    </tr>\n",
       "    <tr>\n",
       "      <th>197</th>\n",
       "      <td>Rusty-Man</td>\n",
       "      <td>Tommy Sharp</td>\n",
       "      <td>36</td>\n",
       "      <td>198</td>\n",
       "    </tr>\n",
       "    <tr>\n",
       "      <th>198</th>\n",
       "      <td>Luke</td>\n",
       "      <td>Luke Woods</td>\n",
       "      <td>23</td>\n",
       "      <td>199</td>\n",
       "    </tr>\n",
       "    <tr>\n",
       "      <th>199</th>\n",
       "      <td>Rusty-Man</td>\n",
       "      <td>Tommy Sharp</td>\n",
       "      <td>36</td>\n",
       "      <td>200</td>\n",
       "    </tr>\n",
       "  </tbody>\n",
       "</table>\n",
       "</div>"
      ],
      "text/plain": [
       "          name  secret_name  age   id\n",
       "195  Rusty-Man  Tommy Sharp   36  196\n",
       "196       Luke   Luke Woods   23  197\n",
       "197  Rusty-Man  Tommy Sharp   36  198\n",
       "198       Luke   Luke Woods   23  199\n",
       "199  Rusty-Man  Tommy Sharp   36  200"
      ]
     },
     "execution_count": null,
     "metadata": {},
     "output_type": "execute_result"
    }
   ],
   "source": [
    "%%time\n",
    "delete_db()\n",
    "create_db_and_tables()\n",
    "    \n",
    "def test_sqlmodel(n=100):\n",
    "    for k in range(n):\n",
    "        commit_new_row()  # add two rows to db\n",
    "    return get_table()\n",
    "    \n",
    "df = test_sqlmodel(n=100)\n",
    "print(df.shape)\n",
    "df.tail()"
   ]
  },
  {
   "cell_type": "markdown",
   "metadata": {},
   "source": [
    "# SQLAlchemy\n",
    "* Good code from the good man Jesse Jcharis on [github](https://github.com/Jcharis/streamlit_todo_crud_app/blob/main/db_fxns.py)"
   ]
  },
  {
   "cell_type": "code",
   "execution_count": null,
   "metadata": {},
   "outputs": [],
   "source": [
    "#!pip install sqlalchemy"
   ]
  },
  {
   "cell_type": "code",
   "execution_count": null,
   "metadata": {},
   "outputs": [],
   "source": [
    "import pandas as pd\n",
    "import json\n",
    "import sqlite3"
   ]
  },
  {
   "cell_type": "code",
   "execution_count": null,
   "metadata": {},
   "outputs": [],
   "source": [
    "conn = sqlite3.connect('benchmarks/sqlite.db',check_same_thread=False)\n",
    "c = conn.cursor()\n",
    "\n",
    "def create_table():\n",
    "    c.execute('CREATE TABLE IF NOT EXISTS taskstable(name TEXT,mood TEXT,message TEXT)')\n",
    "\n",
    "def add_data(name,mood,message):\n",
    "    c.execute('INSERT INTO taskstable(name,mood,message) VALUES (?,?,?)',(name,mood,message))\n",
    "    conn.commit()\n",
    "    \n",
    "def view_all_data():\n",
    "    c.execute('SELECT * FROM taskstable')\n",
    "    data = c.fetchall()\n",
    "    return data\n",
    "\n",
    "def empty_table(name):\n",
    "    c.execute('DELETE FROM taskstable WHERE name=\"{}\"'.format(name))\n",
    "    conn.commit()"
   ]
  },
  {
   "cell_type": "code",
   "execution_count": null,
   "metadata": {},
   "outputs": [],
   "source": [
    "create_table()\n",
    "\n",
    "name = \"Luke\"\n",
    "mood = \"👍\"\n",
    "message = \"An SQLite database entry\"\n",
    "\n",
    "empty_table(name)\n",
    "add_data(name, mood, message)"
   ]
  },
  {
   "cell_type": "code",
   "execution_count": null,
   "metadata": {},
   "outputs": [
    {
     "name": "stdout",
     "output_type": "stream",
     "text": [
      "(1, 3)\n"
     ]
    },
    {
     "data": {
      "text/html": [
       "<div>\n",
       "<style scoped>\n",
       "    .dataframe tbody tr th:only-of-type {\n",
       "        vertical-align: middle;\n",
       "    }\n",
       "\n",
       "    .dataframe tbody tr th {\n",
       "        vertical-align: top;\n",
       "    }\n",
       "\n",
       "    .dataframe thead th {\n",
       "        text-align: right;\n",
       "    }\n",
       "</style>\n",
       "<table border=\"1\" class=\"dataframe\">\n",
       "  <thead>\n",
       "    <tr style=\"text-align: right;\">\n",
       "      <th></th>\n",
       "      <th>name</th>\n",
       "      <th>mood</th>\n",
       "      <th>message</th>\n",
       "    </tr>\n",
       "  </thead>\n",
       "  <tbody>\n",
       "    <tr>\n",
       "      <th>0</th>\n",
       "      <td>Luke</td>\n",
       "      <td>👍</td>\n",
       "      <td>An SQLite database entry</td>\n",
       "    </tr>\n",
       "  </tbody>\n",
       "</table>\n",
       "</div>"
      ],
      "text/plain": [
       "   name mood                   message\n",
       "0  Luke    👍  An SQLite database entry"
      ]
     },
     "execution_count": null,
     "metadata": {},
     "output_type": "execute_result"
    }
   ],
   "source": [
    "ds = pd.DataFrame(view_all_data(), columns=['name', 'mood', 'message'])\n",
    "print(ds.shape)\n",
    "ds.tail()"
   ]
  },
  {
   "cell_type": "markdown",
   "metadata": {},
   "source": [
    "### `SQLAlchemy` 100 commits benchmark"
   ]
  },
  {
   "cell_type": "code",
   "execution_count": null,
   "metadata": {},
   "outputs": [
    {
     "name": "stdout",
     "output_type": "stream",
     "text": [
      "Wall time: 11.1 s\n"
     ]
    }
   ],
   "source": [
    "%%time\n",
    "def test_sqlalchemy(n=100):\n",
    "    for i in range(n):\n",
    "        add_data(name, mood, message)\n",
    "    res = view_all_data()\n",
    "    \n",
    "test_sqlalchemy(n=100)"
   ]
  },
  {
   "cell_type": "markdown",
   "metadata": {},
   "source": [
    "# Benchmark Comparisons"
   ]
  },
  {
   "cell_type": "code",
   "execution_count": null,
   "metadata": {},
   "outputs": [
    {
     "name": "stdout",
     "output_type": "stream",
     "text": [
      "Collecting tqdm\n",
      "  Downloading tqdm-4.62.3-py2.py3-none-any.whl (76 kB)\n",
      "Requirement already satisfied: colorama in d:\\programdata\\anaconda3\\envs\\prodb\\lib\\site-packages (from tqdm) (0.4.4)\n",
      "Installing collected packages: tqdm\n",
      "Successfully installed tqdm-4.62.3\n"
     ]
    }
   ],
   "source": [
    "#!pip install tqdm"
   ]
  },
  {
   "cell_type": "code",
   "execution_count": null,
   "metadata": {},
   "outputs": [],
   "source": [
    "from tqdm.notebook import tqdm\n",
    "from utils.timer import Timer"
   ]
  },
  {
   "cell_type": "markdown",
   "metadata": {},
   "source": [
    "### 1. Prodb"
   ]
  },
  {
   "cell_type": "code",
   "execution_count": null,
   "metadata": {},
   "outputs": [
    {
     "data": {
      "application/vnd.jupyter.widget-view+json": {
       "model_id": "1906d204acba48ea93703558fe0fb27f",
       "version_major": 2,
       "version_minor": 0
      },
      "text/plain": [
       "  0%|          | 0/11 [00:00<?, ?it/s]"
      ]
     },
     "metadata": {},
     "output_type": "display_data"
    },
    {
     "data": {
      "text/html": [
       "<div>\n",
       "<style scoped>\n",
       "    .dataframe tbody tr th:only-of-type {\n",
       "        vertical-align: middle;\n",
       "    }\n",
       "\n",
       "    .dataframe tbody tr th {\n",
       "        vertical-align: top;\n",
       "    }\n",
       "\n",
       "    .dataframe thead th {\n",
       "        text-align: right;\n",
       "    }\n",
       "</style>\n",
       "<table border=\"1\" class=\"dataframe\">\n",
       "  <thead>\n",
       "    <tr style=\"text-align: right;\">\n",
       "      <th></th>\n",
       "      <th>commits</th>\n",
       "      <th>prodb_ms</th>\n",
       "    </tr>\n",
       "  </thead>\n",
       "  <tbody>\n",
       "    <tr>\n",
       "      <th>0</th>\n",
       "      <td>2</td>\n",
       "      <td>8.0</td>\n",
       "    </tr>\n",
       "    <tr>\n",
       "      <th>1</th>\n",
       "      <td>22</td>\n",
       "      <td>24.0</td>\n",
       "    </tr>\n",
       "    <tr>\n",
       "      <th>2</th>\n",
       "      <td>42</td>\n",
       "      <td>40.4</td>\n",
       "    </tr>\n",
       "    <tr>\n",
       "      <th>3</th>\n",
       "      <td>62</td>\n",
       "      <td>53.0</td>\n",
       "    </tr>\n",
       "    <tr>\n",
       "      <th>4</th>\n",
       "      <td>82</td>\n",
       "      <td>66.6</td>\n",
       "    </tr>\n",
       "    <tr>\n",
       "      <th>5</th>\n",
       "      <td>102</td>\n",
       "      <td>81.2</td>\n",
       "    </tr>\n",
       "    <tr>\n",
       "      <th>6</th>\n",
       "      <td>122</td>\n",
       "      <td>99.2</td>\n",
       "    </tr>\n",
       "    <tr>\n",
       "      <th>7</th>\n",
       "      <td>142</td>\n",
       "      <td>114.1</td>\n",
       "    </tr>\n",
       "    <tr>\n",
       "      <th>8</th>\n",
       "      <td>162</td>\n",
       "      <td>133.9</td>\n",
       "    </tr>\n",
       "    <tr>\n",
       "      <th>9</th>\n",
       "      <td>182</td>\n",
       "      <td>155.5</td>\n",
       "    </tr>\n",
       "    <tr>\n",
       "      <th>10</th>\n",
       "      <td>202</td>\n",
       "      <td>179.6</td>\n",
       "    </tr>\n",
       "  </tbody>\n",
       "</table>\n",
       "</div>"
      ],
      "text/plain": [
       "    commits  prodb_ms\n",
       "0         2       8.0\n",
       "1        22      24.0\n",
       "2        42      40.4\n",
       "3        62      53.0\n",
       "4        82      66.6\n",
       "5       102      81.2\n",
       "6       122      99.2\n",
       "7       142     114.1\n",
       "8       162     133.9\n",
       "9       182     155.5\n",
       "10      202     179.6"
      ]
     },
     "execution_count": null,
     "metadata": {},
     "output_type": "execute_result"
    }
   ],
   "source": [
    "_t = {'prodb': Timer()}\n",
    "commits = []\n",
    "time = []\n",
    "for i in tqdm(list(range(1, 102, 10))):\n",
    "    _t['prodb'].tic()\n",
    "    dt = test_prodb(n=i, verbose=False)\n",
    "    time.append(1000*round(_t['prodb'].toc(), 4))\n",
    "    commits.append(dt.shape[0])\n",
    "\n",
    "dx = pd.DataFrame()\n",
    "dx['commits'] = commits\n",
    "dx['prodb_ms'] = time"
   ]
  },
  {
   "cell_type": "markdown",
   "metadata": {},
   "source": [
    "### 2. SQLModel"
   ]
  },
  {
   "cell_type": "code",
   "execution_count": null,
   "metadata": {},
   "outputs": [
    {
     "data": {
      "application/vnd.jupyter.widget-view+json": {
       "model_id": "9c0469f8148e4510b7d60e73b4d5e58c",
       "version_major": 2,
       "version_minor": 0
      },
      "text/plain": [
       "  0%|          | 0/11 [00:00<?, ?it/s]"
      ]
     },
     "metadata": {},
     "output_type": "display_data"
    }
   ],
   "source": [
    "commits = []\n",
    "time = []\n",
    "\n",
    "for i in tqdm(list(range(1, 102, 10))):\n",
    "    _t = {'db': Timer()}\n",
    "    _t['db'].tic()\n",
    "    test_sqlmodel(n=i)\n",
    "    time.append(1000*round(_t['db'].toc(), 4))\n",
    "    commits.append(i+1)\n",
    "\n",
    "dx['sqlmodel_ms'] = time"
   ]
  },
  {
   "cell_type": "markdown",
   "metadata": {},
   "source": [
    "### 3. SQLAlchemy"
   ]
  },
  {
   "cell_type": "code",
   "execution_count": null,
   "metadata": {},
   "outputs": [
    {
     "data": {
      "application/vnd.jupyter.widget-view+json": {
       "model_id": "b776699475424310a612570b73eaef29",
       "version_major": 2,
       "version_minor": 0
      },
      "text/plain": [
       "  0%|          | 0/11 [00:00<?, ?it/s]"
      ]
     },
     "metadata": {},
     "output_type": "display_data"
    }
   ],
   "source": [
    "commits = []\n",
    "time = []\n",
    "\n",
    "for i in tqdm(list(range(1, 102, 10))):\n",
    "    _t = {'db': Timer()}\n",
    "    _t['db'].tic()\n",
    "    test_sqlalchemy(n=i)\n",
    "    time.append(1000*round(_t['db'].toc(), 4))\n",
    "    commits.append(i+1)\n",
    "\n",
    "dx['sqlalchemy_ms'] = time"
   ]
  },
  {
   "cell_type": "code",
   "execution_count": null,
   "metadata": {},
   "outputs": [
    {
     "data": {
      "text/html": [
       "<div>\n",
       "<style scoped>\n",
       "    .dataframe tbody tr th:only-of-type {\n",
       "        vertical-align: middle;\n",
       "    }\n",
       "\n",
       "    .dataframe tbody tr th {\n",
       "        vertical-align: top;\n",
       "    }\n",
       "\n",
       "    .dataframe thead th {\n",
       "        text-align: right;\n",
       "    }\n",
       "</style>\n",
       "<table border=\"1\" class=\"dataframe\">\n",
       "  <thead>\n",
       "    <tr style=\"text-align: right;\">\n",
       "      <th></th>\n",
       "      <th>commits</th>\n",
       "      <th>prodb_ms</th>\n",
       "      <th>sqlmodel_ms</th>\n",
       "      <th>sqlalchemy_ms</th>\n",
       "    </tr>\n",
       "  </thead>\n",
       "  <tbody>\n",
       "    <tr>\n",
       "      <th>0</th>\n",
       "      <td>2</td>\n",
       "      <td>8.0</td>\n",
       "      <td>229.0</td>\n",
       "      <td>112.1</td>\n",
       "    </tr>\n",
       "    <tr>\n",
       "      <th>1</th>\n",
       "      <td>22</td>\n",
       "      <td>24.0</td>\n",
       "      <td>1732.6</td>\n",
       "      <td>1415.9</td>\n",
       "    </tr>\n",
       "    <tr>\n",
       "      <th>2</th>\n",
       "      <td>42</td>\n",
       "      <td>40.4</td>\n",
       "      <td>3567.4</td>\n",
       "      <td>2574.1</td>\n",
       "    </tr>\n",
       "    <tr>\n",
       "      <th>3</th>\n",
       "      <td>62</td>\n",
       "      <td>53.0</td>\n",
       "      <td>6049.6</td>\n",
       "      <td>4040.2</td>\n",
       "    </tr>\n",
       "    <tr>\n",
       "      <th>4</th>\n",
       "      <td>82</td>\n",
       "      <td>66.6</td>\n",
       "      <td>8817.8</td>\n",
       "      <td>5432.7</td>\n",
       "    </tr>\n",
       "    <tr>\n",
       "      <th>5</th>\n",
       "      <td>102</td>\n",
       "      <td>81.2</td>\n",
       "      <td>10160.9</td>\n",
       "      <td>6881.5</td>\n",
       "    </tr>\n",
       "    <tr>\n",
       "      <th>6</th>\n",
       "      <td>122</td>\n",
       "      <td>99.2</td>\n",
       "      <td>11257.9</td>\n",
       "      <td>8432.2</td>\n",
       "    </tr>\n",
       "    <tr>\n",
       "      <th>7</th>\n",
       "      <td>142</td>\n",
       "      <td>114.1</td>\n",
       "      <td>14267.1</td>\n",
       "      <td>8598.8</td>\n",
       "    </tr>\n",
       "    <tr>\n",
       "      <th>8</th>\n",
       "      <td>162</td>\n",
       "      <td>133.9</td>\n",
       "      <td>17462.1</td>\n",
       "      <td>9570.9</td>\n",
       "    </tr>\n",
       "    <tr>\n",
       "      <th>9</th>\n",
       "      <td>182</td>\n",
       "      <td>155.5</td>\n",
       "      <td>19848.3</td>\n",
       "      <td>10584.0</td>\n",
       "    </tr>\n",
       "    <tr>\n",
       "      <th>10</th>\n",
       "      <td>202</td>\n",
       "      <td>179.6</td>\n",
       "      <td>22068.9</td>\n",
       "      <td>11671.2</td>\n",
       "    </tr>\n",
       "  </tbody>\n",
       "</table>\n",
       "</div>"
      ],
      "text/plain": [
       "    commits  prodb_ms  sqlmodel_ms  sqlalchemy_ms\n",
       "0         2       8.0        229.0          112.1\n",
       "1        22      24.0       1732.6         1415.9\n",
       "2        42      40.4       3567.4         2574.1\n",
       "3        62      53.0       6049.6         4040.2\n",
       "4        82      66.6       8817.8         5432.7\n",
       "5       102      81.2      10160.9         6881.5\n",
       "6       122      99.2      11257.9         8432.2\n",
       "7       142     114.1      14267.1         8598.8\n",
       "8       162     133.9      17462.1         9570.9\n",
       "9       182     155.5      19848.3        10584.0\n",
       "10      202     179.6      22068.9        11671.2"
      ]
     },
     "execution_count": null,
     "metadata": {},
     "output_type": "execute_result"
    }
   ],
   "source": [
    "dx"
   ]
  },
  {
   "cell_type": "code",
   "execution_count": null,
   "metadata": {},
   "outputs": [
    {
     "name": "stdout",
     "output_type": "stream",
     "text": [
      "Collecting matplotlib\n",
      "  Downloading matplotlib-3.4.3-cp39-cp39-win_amd64.whl (7.1 MB)\n",
      "Requirement already satisfied: pillow>=6.2.0 in d:\\programdata\\anaconda3\\envs\\prodb\\lib\\site-packages (from matplotlib) (8.3.2)\n",
      "Requirement already satisfied: python-dateutil>=2.7 in d:\\programdata\\anaconda3\\envs\\prodb\\lib\\site-packages (from matplotlib) (2.8.2)\n",
      "Requirement already satisfied: pyparsing>=2.2.1 in d:\\programdata\\anaconda3\\envs\\prodb\\lib\\site-packages (from matplotlib) (2.4.7)\n",
      "Collecting kiwisolver>=1.0.1\n",
      "  Downloading kiwisolver-1.3.2-cp39-cp39-win_amd64.whl (52 kB)\n",
      "Collecting cycler>=0.10\n",
      "  Downloading cycler-0.11.0-py3-none-any.whl (6.4 kB)\n",
      "Requirement already satisfied: numpy>=1.16 in d:\\programdata\\anaconda3\\envs\\prodb\\lib\\site-packages (from matplotlib) (1.21.2)\n",
      "Requirement already satisfied: six>=1.5 in d:\\programdata\\anaconda3\\envs\\prodb\\lib\\site-packages (from python-dateutil>=2.7->matplotlib) (1.16.0)\n",
      "Installing collected packages: kiwisolver, cycler, matplotlib\n",
      "Successfully installed cycler-0.11.0 kiwisolver-1.3.2 matplotlib-3.4.3\n"
     ]
    }
   ],
   "source": [
    "!pip install matplotlib"
   ]
  },
  {
   "cell_type": "code",
   "execution_count": null,
   "metadata": {},
   "outputs": [],
   "source": [
    "import matplotlib.pyplot as plt"
   ]
  },
  {
   "cell_type": "code",
   "execution_count": null,
   "metadata": {},
   "outputs": [
    {
     "data": {
      "text/plain": [
       "<AxesSubplot:xlabel='commits'>"
      ]
     },
     "execution_count": null,
     "metadata": {},
     "output_type": "execute_result"
    },
    {
     "data": {
      "image/png": "[encoded data removed]",
      "text/plain": [
       "<Figure size 432x288 with 1 Axes>"
      ]
     },
     "metadata": {
      "needs_background": "light"
     },
     "output_type": "display_data"
    }
   ],
   "source": [
    "dx.set_index('commits').plot.line()"
   ]
  }
 ],
 "metadata": {
  "kernelspec": {
   "display_name": "Python 3 (ipykernel)",
   "language": "python",
   "name": "python3"
  }
 },
 "nbformat": 4,
 "nbformat_minor": 2
}
