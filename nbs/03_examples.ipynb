{
 "cells": [
  {
   "cell_type": "markdown",
   "id": "e426f068",
   "metadata": {},
   "source": [
    "# 🌞 Example Weather App\n",
    "> Using `prodb`\n",
    "\n",
    "\n",
    "* Starting with a `.csv` of locations, we wish to call the [MetaWeather](https://www.metaweather.com/api/) API to pull in the weather forecast.  \n",
    "* The app needs the ability to input new locations by the user\n",
    "\n",
    " 🌍 Core functions will be converted into the streamlit app `weather_app.py`"
   ]
  },
  {
   "cell_type": "code",
   "execution_count": null,
   "id": "9f2b00bf",
   "metadata": {},
   "outputs": [],
   "source": [
    "# default_exp examples"
   ]
  },
  {
   "cell_type": "code",
   "execution_count": null,
   "id": "d2615238",
   "metadata": {},
   "outputs": [
    {
     "name": "stdout",
     "output_type": "stream",
     "text": [
      "The autoreload extension is already loaded. To reload it, use:\n",
      "  %reload_ext autoreload\n"
     ]
    }
   ],
   "source": [
    "#hide\n",
    "from nbdev.showdoc import *\n",
    "import pandas as pd\n",
    "%load_ext autoreload\n",
    "%autoreload 2"
   ]
  },
  {
   "cell_type": "markdown",
   "id": "a3831d68",
   "metadata": {},
   "source": [
    "## 1. Requests to `metaweather` open weather API"
   ]
  },
  {
   "cell_type": "code",
   "execution_count": null,
   "id": "4468a7ba",
   "metadata": {},
   "outputs": [],
   "source": [
    "import requests\n",
    "import json\n",
    "import arrow"
   ]
  },
  {
   "cell_type": "code",
   "execution_count": null,
   "id": "7c35901f",
   "metadata": {},
   "outputs": [],
   "source": [
    "#export\n",
    "def get_json_from_query(location):\n",
    "    \"\"\"Search for a city and return metadata from API\"\"\"\n",
    "    url = f\"https://www.metaweather.com/api/location/search/?query={location}\"\n",
    "    r = requests.get(url).json()\n",
    "    return r[0]\n"
   ]
  },
  {
   "cell_type": "code",
   "execution_count": null,
   "id": "71b585f7",
   "metadata": {},
   "outputs": [
    {
     "data": {
      "text/plain": [
       "{'title': 'London',\n",
       " 'location_type': 'City',\n",
       " 'woeid': 44418,\n",
       " 'latt_long': '51.506321,-0.12714'}"
      ]
     },
     "execution_count": null,
     "metadata": {},
     "output_type": "execute_result"
    }
   ],
   "source": [
    "l = get_json_from_query('London')\n",
    "l"
   ]
  },
  {
   "cell_type": "markdown",
   "id": "139c0d9b",
   "metadata": {},
   "source": [
    "Check `woeid`(Where On Earth ID) is correct for London"
   ]
  },
  {
   "cell_type": "code",
   "execution_count": null,
   "id": "2d530cc4",
   "metadata": {},
   "outputs": [],
   "source": [
    "assert l['woeid'] == 44418"
   ]
  },
  {
   "cell_type": "markdown",
   "id": "6d1adc34",
   "metadata": {},
   "source": [
    "Get weather data for the London `woeid`"
   ]
  },
  {
   "cell_type": "code",
   "execution_count": null,
   "id": "aa20f822",
   "metadata": {},
   "outputs": [
    {
     "data": {
      "text/plain": [
       "'2021/11/05'"
      ]
     },
     "execution_count": null,
     "metadata": {},
     "output_type": "execute_result"
    }
   ],
   "source": [
    "utc = arrow.utcnow().format('YYYY/MM/DD')\n",
    "utc"
   ]
  },
  {
   "cell_type": "code",
   "execution_count": null,
   "id": "ccda76c7",
   "metadata": {},
   "outputs": [],
   "source": [
    "#export\n",
    "def get_current_weather(location):\n",
    "    \"\"\"\n",
    "    inputs: location str \"London\"\n",
    "            to find woeid i.e. 44418\n",
    "    \"\"\"\n",
    "    res = get_json_from_query(location)\n",
    "    woeid = res['woeid']\n",
    "    url = f\"https://www.metaweather.com/api/location/{woeid}/\"\n",
    "    res = requests.get(url).json()\n",
    "    return res"
   ]
  },
  {
   "cell_type": "markdown",
   "id": "08c7bee6",
   "metadata": {},
   "source": [
    "Today's forecast 🌤️"
   ]
  },
  {
   "cell_type": "code",
   "execution_count": null,
   "id": "75376489",
   "metadata": {},
   "outputs": [
    {
     "name": "stdout",
     "output_type": "stream",
     "text": [
      "Wall time: 2.38 s\n"
     ]
    },
    {
     "data": {
      "text/plain": [
       "{'id': 6607174022201344,\n",
       " 'weather_state_name': 'Heavy Cloud',\n",
       " 'weather_state_abbr': 'hc',\n",
       " 'wind_direction_compass': 'WNW',\n",
       " 'created': '2021-11-05T18:59:01.554259Z',\n",
       " 'applicable_date': '2021-11-05',\n",
       " 'min_temp': 2.915,\n",
       " 'max_temp': 10.14,\n",
       " 'the_temp': 9.030000000000001,\n",
       " 'wind_speed': 4.357755747228187,\n",
       " 'wind_direction': 281.959650545896,\n",
       " 'air_pressure': 1027.0,\n",
       " 'humidity': 67,\n",
       " 'visibility': 7.677973136880617,\n",
       " 'predictability': 71}"
      ]
     },
     "execution_count": null,
     "metadata": {},
     "output_type": "execute_result"
    }
   ],
   "source": [
    "%%time\n",
    "res = get_current_weather('London')\n",
    "res['consolidated_weather'][0]"
   ]
  },
  {
   "cell_type": "markdown",
   "id": "2ca4139e",
   "metadata": {},
   "source": [
    "There are a number of metrological properties available to us from the API. \n",
    "\n",
    "The ones we are most interested in are:\n",
    "* `the_temp` 🌡️ current temperature\n",
    "* `weather_state_name` ⛅ current sky condition\n",
    "* `max_temp` 🥵 daily max temp\n",
    "* `min_temp` 🥶 daily min temp\n"
   ]
  },
  {
   "cell_type": "code",
   "execution_count": null,
   "id": "802cc45d",
   "metadata": {},
   "outputs": [
    {
     "data": {
      "text/html": [
       "<div>\n",
       "<style scoped>\n",
       "    .dataframe tbody tr th:only-of-type {\n",
       "        vertical-align: middle;\n",
       "    }\n",
       "\n",
       "    .dataframe tbody tr th {\n",
       "        vertical-align: top;\n",
       "    }\n",
       "\n",
       "    .dataframe thead th {\n",
       "        text-align: right;\n",
       "    }\n",
       "</style>\n",
       "<table border=\"1\" class=\"dataframe\">\n",
       "  <thead>\n",
       "    <tr style=\"text-align: right;\">\n",
       "      <th></th>\n",
       "      <th>id</th>\n",
       "      <th>weather_state_name</th>\n",
       "      <th>weather_state_abbr</th>\n",
       "      <th>wind_direction_compass</th>\n",
       "      <th>created</th>\n",
       "      <th>applicable_date</th>\n",
       "      <th>min_temp</th>\n",
       "      <th>max_temp</th>\n",
       "      <th>the_temp</th>\n",
       "      <th>wind_speed</th>\n",
       "      <th>wind_direction</th>\n",
       "      <th>air_pressure</th>\n",
       "      <th>humidity</th>\n",
       "      <th>visibility</th>\n",
       "      <th>predictability</th>\n",
       "      <th>readable_time</th>\n",
       "    </tr>\n",
       "  </thead>\n",
       "  <tbody>\n",
       "    <tr>\n",
       "      <th>0</th>\n",
       "      <td>6607174022201344</td>\n",
       "      <td>Heavy Cloud</td>\n",
       "      <td>hc</td>\n",
       "      <td>WNW</td>\n",
       "      <td>2021-11-05T18:59:01.554259Z</td>\n",
       "      <td>2021-11-05</td>\n",
       "      <td>2.915</td>\n",
       "      <td>10.14</td>\n",
       "      <td>9.03</td>\n",
       "      <td>4.357756</td>\n",
       "      <td>281.959651</td>\n",
       "      <td>1027.0</td>\n",
       "      <td>67</td>\n",
       "      <td>7.677973</td>\n",
       "      <td>71</td>\n",
       "      <td>2 hours ago</td>\n",
       "    </tr>\n",
       "  </tbody>\n",
       "</table>\n",
       "</div>"
      ],
      "text/plain": [
       "                 id weather_state_name weather_state_abbr  \\\n",
       "0  6607174022201344        Heavy Cloud                 hc   \n",
       "\n",
       "  wind_direction_compass                      created applicable_date  \\\n",
       "0                    WNW  2021-11-05T18:59:01.554259Z      2021-11-05   \n",
       "\n",
       "   min_temp  max_temp  the_temp  wind_speed  wind_direction  air_pressure  \\\n",
       "0     2.915     10.14      9.03    4.357756      281.959651        1027.0   \n",
       "\n",
       "   humidity  visibility  predictability readable_time  \n",
       "0        67    7.677973              71   2 hours ago  "
      ]
     },
     "execution_count": null,
     "metadata": {},
     "output_type": "execute_result"
    }
   ],
   "source": [
    "res = get_current_weather('London')\n",
    "df =  pd.DataFrame.from_records(res['consolidated_weather'][:1])\n",
    "df['readable_time'] = df.created.apply(lambda x: arrow.get(x).humanize())\n",
    "df"
   ]
  },
  {
   "cell_type": "code",
   "execution_count": null,
   "id": "65eb62ab",
   "metadata": {},
   "outputs": [],
   "source": [
    "#export\n",
    "def df_from_loc(location, \n",
    "                days_ahead=1,\n",
    "                keep_cols='location the_temp readable_time created applicable_date local_time latt_long weather_state_name min_temp max_temp'.split(' ')):\n",
    "    res = get_current_weather(location)\n",
    "    df =  pd.DataFrame.from_records(res['consolidated_weather'][:days_ahead])\n",
    "    df['location'] = location\n",
    "    df['local_time'] = pd.to_datetime(res['time']).strftime('%H:%M (%Y-%m-%d)')\n",
    "    df['latt_long'] = res['latt_long']\n",
    "    df['readable_time'] = df.created.apply(lambda x: arrow.get(x).humanize())\n",
    "    return df[keep_cols]\n"
   ]
  },
  {
   "cell_type": "code",
   "execution_count": null,
   "id": "a97df9ed",
   "metadata": {},
   "outputs": [
    {
     "data": {
      "text/html": [
       "<div>\n",
       "<style scoped>\n",
       "    .dataframe tbody tr th:only-of-type {\n",
       "        vertical-align: middle;\n",
       "    }\n",
       "\n",
       "    .dataframe tbody tr th {\n",
       "        vertical-align: top;\n",
       "    }\n",
       "\n",
       "    .dataframe thead th {\n",
       "        text-align: right;\n",
       "    }\n",
       "</style>\n",
       "<table border=\"1\" class=\"dataframe\">\n",
       "  <thead>\n",
       "    <tr style=\"text-align: right;\">\n",
       "      <th></th>\n",
       "      <th>location</th>\n",
       "      <th>the_temp</th>\n",
       "      <th>readable_time</th>\n",
       "      <th>created</th>\n",
       "      <th>applicable_date</th>\n",
       "      <th>local_time</th>\n",
       "      <th>latt_long</th>\n",
       "      <th>weather_state_name</th>\n",
       "      <th>min_temp</th>\n",
       "      <th>max_temp</th>\n",
       "    </tr>\n",
       "  </thead>\n",
       "  <tbody>\n",
       "    <tr>\n",
       "      <th>0</th>\n",
       "      <td>London</td>\n",
       "      <td>9.030</td>\n",
       "      <td>2 hours ago</td>\n",
       "      <td>2021-11-05T18:59:01.554259Z</td>\n",
       "      <td>2021-11-05</td>\n",
       "      <td>21:37 (2021-11-05)</td>\n",
       "      <td>51.506321,-0.12714</td>\n",
       "      <td>Heavy Cloud</td>\n",
       "      <td>2.915</td>\n",
       "      <td>10.140</td>\n",
       "    </tr>\n",
       "    <tr>\n",
       "      <th>1</th>\n",
       "      <td>London</td>\n",
       "      <td>12.045</td>\n",
       "      <td>2 hours ago</td>\n",
       "      <td>2021-11-05T18:59:01.554659Z</td>\n",
       "      <td>2021-11-06</td>\n",
       "      <td>21:37 (2021-11-05)</td>\n",
       "      <td>51.506321,-0.12714</td>\n",
       "      <td>Heavy Cloud</td>\n",
       "      <td>6.490</td>\n",
       "      <td>12.985</td>\n",
       "    </tr>\n",
       "  </tbody>\n",
       "</table>\n",
       "</div>"
      ],
      "text/plain": [
       "  location  the_temp readable_time                      created  \\\n",
       "0   London     9.030   2 hours ago  2021-11-05T18:59:01.554259Z   \n",
       "1   London    12.045   2 hours ago  2021-11-05T18:59:01.554659Z   \n",
       "\n",
       "  applicable_date          local_time           latt_long weather_state_name  \\\n",
       "0      2021-11-05  21:37 (2021-11-05)  51.506321,-0.12714        Heavy Cloud   \n",
       "1      2021-11-06  21:37 (2021-11-05)  51.506321,-0.12714        Heavy Cloud   \n",
       "\n",
       "   min_temp  max_temp  \n",
       "0     2.915    10.140  \n",
       "1     6.490    12.985  "
      ]
     },
     "execution_count": null,
     "metadata": {},
     "output_type": "execute_result"
    }
   ],
   "source": [
    "df = df_from_loc('London', days_ahead=2)\n",
    "df"
   ]
  },
  {
   "cell_type": "markdown",
   "id": "a7d7b862",
   "metadata": {},
   "source": [
    "Example output showing location and current weather situation"
   ]
  },
  {
   "cell_type": "code",
   "execution_count": null,
   "id": "ee0c4568",
   "metadata": {},
   "outputs": [
    {
     "data": {
      "text/html": [
       "<div>\n",
       "<style scoped>\n",
       "    .dataframe tbody tr th:only-of-type {\n",
       "        vertical-align: middle;\n",
       "    }\n",
       "\n",
       "    .dataframe tbody tr th {\n",
       "        vertical-align: top;\n",
       "    }\n",
       "\n",
       "    .dataframe thead th {\n",
       "        text-align: right;\n",
       "    }\n",
       "</style>\n",
       "<table border=\"1\" class=\"dataframe\">\n",
       "  <thead>\n",
       "    <tr style=\"text-align: right;\">\n",
       "      <th></th>\n",
       "      <th>location</th>\n",
       "      <th>the_temp</th>\n",
       "      <th>readable_time</th>\n",
       "      <th>created</th>\n",
       "      <th>applicable_date</th>\n",
       "      <th>local_time</th>\n",
       "      <th>latt_long</th>\n",
       "      <th>weather_state_name</th>\n",
       "      <th>min_temp</th>\n",
       "      <th>max_temp</th>\n",
       "    </tr>\n",
       "  </thead>\n",
       "  <tbody>\n",
       "    <tr>\n",
       "      <th>0</th>\n",
       "      <td>Auckland</td>\n",
       "      <td>19.67</td>\n",
       "      <td>2 hours ago</td>\n",
       "      <td>2021-11-05T19:37:04.232519Z</td>\n",
       "      <td>2021-11-06</td>\n",
       "      <td>10:37 (2021-11-06)</td>\n",
       "      <td>-36.884109,174.770416</td>\n",
       "      <td>Light Rain</td>\n",
       "      <td>13.155</td>\n",
       "      <td>20.35</td>\n",
       "    </tr>\n",
       "  </tbody>\n",
       "</table>\n",
       "</div>"
      ],
      "text/plain": [
       "   location  the_temp readable_time                      created  \\\n",
       "0  Auckland     19.67   2 hours ago  2021-11-05T19:37:04.232519Z   \n",
       "\n",
       "  applicable_date          local_time              latt_long  \\\n",
       "0      2021-11-06  10:37 (2021-11-06)  -36.884109,174.770416   \n",
       "\n",
       "  weather_state_name  min_temp  max_temp  \n",
       "0         Light Rain    13.155     20.35  "
      ]
     },
     "execution_count": null,
     "metadata": {},
     "output_type": "execute_result"
    }
   ],
   "source": [
    "df = df_from_loc('Auckland')\n",
    "df"
   ]
  },
  {
   "cell_type": "markdown",
   "id": "42b40c4c",
   "metadata": {},
   "source": [
    "# 🦄 Pro db "
   ]
  },
  {
   "cell_type": "code",
   "execution_count": null,
   "id": "7ca602a8",
   "metadata": {},
   "outputs": [],
   "source": [
    "import sys\n",
    "sys.path.append('../')\n",
    "\n",
    "from prodb.core import generate_db, insert_row"
   ]
  },
  {
   "cell_type": "markdown",
   "id": "5c970b6d",
   "metadata": {},
   "source": [
    "### Initialise empty db"
   ]
  },
  {
   "cell_type": "code",
   "execution_count": null,
   "id": "179aa15c",
   "metadata": {},
   "outputs": [
    {
     "name": "stdout",
     "output_type": "stream",
     "text": [
      "✓💾 db.csv (38 kb)\n"
     ]
    },
    {
     "data": {
      "text/html": [
       "<div>\n",
       "<style scoped>\n",
       "    .dataframe tbody tr th:only-of-type {\n",
       "        vertical-align: middle;\n",
       "    }\n",
       "\n",
       "    .dataframe tbody tr th {\n",
       "        vertical-align: top;\n",
       "    }\n",
       "\n",
       "    .dataframe thead th {\n",
       "        text-align: right;\n",
       "    }\n",
       "</style>\n",
       "<table border=\"1\" class=\"dataframe\">\n",
       "  <thead>\n",
       "    <tr style=\"text-align: right;\">\n",
       "      <th></th>\n",
       "      <th>location</th>\n",
       "      <th>temp</th>\n",
       "      <th>high</th>\n",
       "      <th>low</th>\n",
       "      <th>weather_state</th>\n",
       "    </tr>\n",
       "  </thead>\n",
       "  <tbody>\n",
       "  </tbody>\n",
       "</table>\n",
       "</div>"
      ],
      "text/plain": [
       "Empty DataFrame\n",
       "Columns: [location, temp, high, low, weather_state]\n",
       "Index: []"
      ]
     },
     "execution_count": null,
     "metadata": {},
     "output_type": "execute_result"
    }
   ],
   "source": [
    "dbpath = 'db.csv'\n",
    "cols = 'location temp high low weather_state'.split()\n",
    "\n",
    "generate_db(cols=cols, dbpath=dbpath)\n",
    "df = pd.read_csv('db.csv')\n",
    "df.head()"
   ]
  },
  {
   "cell_type": "markdown",
   "id": "b213f496",
   "metadata": {},
   "source": [
    "## Add row"
   ]
  },
  {
   "cell_type": "code",
   "execution_count": null,
   "id": "4e7af915",
   "metadata": {},
   "outputs": [
    {
     "data": {
      "text/html": [
       "<div>\n",
       "<style scoped>\n",
       "    .dataframe tbody tr th:only-of-type {\n",
       "        vertical-align: middle;\n",
       "    }\n",
       "\n",
       "    .dataframe tbody tr th {\n",
       "        vertical-align: top;\n",
       "    }\n",
       "\n",
       "    .dataframe thead th {\n",
       "        text-align: right;\n",
       "    }\n",
       "</style>\n",
       "<table border=\"1\" class=\"dataframe\">\n",
       "  <thead>\n",
       "    <tr style=\"text-align: right;\">\n",
       "      <th></th>\n",
       "      <th>location</th>\n",
       "      <th>the_temp</th>\n",
       "      <th>readable_time</th>\n",
       "      <th>created</th>\n",
       "      <th>applicable_date</th>\n",
       "      <th>local_time</th>\n",
       "      <th>latt_long</th>\n",
       "      <th>weather_state_name</th>\n",
       "      <th>min_temp</th>\n",
       "      <th>max_temp</th>\n",
       "    </tr>\n",
       "  </thead>\n",
       "  <tbody>\n",
       "    <tr>\n",
       "      <th>0</th>\n",
       "      <td>Auckland</td>\n",
       "      <td>19.67</td>\n",
       "      <td>2 hours ago</td>\n",
       "      <td>2021-11-05T19:37:04.232519Z</td>\n",
       "      <td>2021-11-06</td>\n",
       "      <td>10:42 (2021-11-06)</td>\n",
       "      <td>-36.884109,174.770416</td>\n",
       "      <td>Light Rain</td>\n",
       "      <td>13.155</td>\n",
       "      <td>20.35</td>\n",
       "    </tr>\n",
       "  </tbody>\n",
       "</table>\n",
       "</div>"
      ],
      "text/plain": [
       "   location  the_temp readable_time                      created  \\\n",
       "0  Auckland     19.67   2 hours ago  2021-11-05T19:37:04.232519Z   \n",
       "\n",
       "  applicable_date          local_time              latt_long  \\\n",
       "0      2021-11-06  10:42 (2021-11-06)  -36.884109,174.770416   \n",
       "\n",
       "  weather_state_name  min_temp  max_temp  \n",
       "0         Light Rain    13.155     20.35  "
      ]
     },
     "execution_count": null,
     "metadata": {},
     "output_type": "execute_result"
    }
   ],
   "source": [
    "dx = df_from_loc('Auckland')\n",
    "dx"
   ]
  },
  {
   "cell_type": "code",
   "execution_count": null,
   "id": "dcfe28d0",
   "metadata": {},
   "outputs": [
    {
     "data": {
      "text/html": [
       "<div>\n",
       "<style scoped>\n",
       "    .dataframe tbody tr th:only-of-type {\n",
       "        vertical-align: middle;\n",
       "    }\n",
       "\n",
       "    .dataframe tbody tr th {\n",
       "        vertical-align: top;\n",
       "    }\n",
       "\n",
       "    .dataframe thead th {\n",
       "        text-align: right;\n",
       "    }\n",
       "</style>\n",
       "<table border=\"1\" class=\"dataframe\">\n",
       "  <thead>\n",
       "    <tr style=\"text-align: right;\">\n",
       "      <th></th>\n",
       "      <th>location</th>\n",
       "      <th>temp</th>\n",
       "      <th>high</th>\n",
       "      <th>low</th>\n",
       "      <th>weather_state</th>\n",
       "      <th>local_time</th>\n",
       "      <th>time_utc</th>\n",
       "    </tr>\n",
       "  </thead>\n",
       "  <tbody>\n",
       "    <tr>\n",
       "      <th>0</th>\n",
       "      <td>Christchurch</td>\n",
       "      <td>15.95</td>\n",
       "      <td>15.385</td>\n",
       "      <td>9.54</td>\n",
       "      <td>Heavy Cloud</td>\n",
       "      <td>10:42 (2021-11-06)</td>\n",
       "      <td>2021-11-05 21:42:27</td>\n",
       "    </tr>\n",
       "  </tbody>\n",
       "</table>\n",
       "</div>"
      ],
      "text/plain": [
       "       location   temp    high   low weather_state          local_time  \\\n",
       "0  Christchurch  15.95  15.385  9.54   Heavy Cloud  10:42 (2021-11-06)   \n",
       "\n",
       "              time_utc  \n",
       "0  2021-11-05 21:42:27  "
      ]
     },
     "metadata": {},
     "output_type": "display_data"
    }
   ],
   "source": [
    "dx = df_from_loc('Christchurch')\n",
    "\n",
    "data = {'location': dx.location.item(),\n",
    "        'time_utc': arrow.utcnow().format('YYYY-MM-DD HH:mm:ss'),\n",
    "        'temp': dx.the_temp.item(),\n",
    "        'high': dx.max_temp.item(),\n",
    "        'low': dx.min_temp.item(),\n",
    "        'weather_state': dx.weather_state_name.item(),\n",
    "        'local_time': dx.local_time.item()}\n",
    "\n",
    "df = insert_row(df, data)\n",
    "display(df)"
   ]
  },
  {
   "cell_type": "code",
   "execution_count": null,
   "id": "b48dc2f5",
   "metadata": {},
   "outputs": [],
   "source": [
    "#export\n",
    "\n",
    "def visit_city(df, cities):\n",
    "    if isinstance(cities, str): cities = [cities]\n",
    "    for city in cities:\n",
    "        dx = df_from_loc(city).round(1)\n",
    "\n",
    "        data = {'location': dx.location.item(), \n",
    "                'time_utc': arrow.utcnow().format('YYYY-MM-DD HH:mm:ss'),\n",
    "                'temp': dx.the_temp.item(),\n",
    "                'high': dx.max_temp.item(),\n",
    "                'low': dx.min_temp.item(),\n",
    "                'weather_state': dx.weather_state_name.item(),\n",
    "                'local_time': dx.local_time.item()}\n",
    "\n",
    "        df = insert_row(df, data)\n",
    "    return df\n",
    "        "
   ]
  },
  {
   "cell_type": "code",
   "execution_count": null,
   "id": "df326d03",
   "metadata": {},
   "outputs": [
    {
     "data": {
      "text/html": [
       "<div>\n",
       "<style scoped>\n",
       "    .dataframe tbody tr th:only-of-type {\n",
       "        vertical-align: middle;\n",
       "    }\n",
       "\n",
       "    .dataframe tbody tr th {\n",
       "        vertical-align: top;\n",
       "    }\n",
       "\n",
       "    .dataframe thead th {\n",
       "        text-align: right;\n",
       "    }\n",
       "</style>\n",
       "<table border=\"1\" class=\"dataframe\">\n",
       "  <thead>\n",
       "    <tr style=\"text-align: right;\">\n",
       "      <th></th>\n",
       "      <th>location</th>\n",
       "      <th>temp</th>\n",
       "      <th>high</th>\n",
       "      <th>low</th>\n",
       "      <th>weather_state</th>\n",
       "      <th>local_time</th>\n",
       "      <th>time_utc</th>\n",
       "    </tr>\n",
       "  </thead>\n",
       "  <tbody>\n",
       "    <tr>\n",
       "      <th>0</th>\n",
       "      <td>Christchurch</td>\n",
       "      <td>15.95</td>\n",
       "      <td>15.385</td>\n",
       "      <td>9.54</td>\n",
       "      <td>Heavy Cloud</td>\n",
       "      <td>10:42 (2021-11-06)</td>\n",
       "      <td>2021-11-05 21:42:27</td>\n",
       "    </tr>\n",
       "    <tr>\n",
       "      <th>1</th>\n",
       "      <td>Wellington</td>\n",
       "      <td>16.90</td>\n",
       "      <td>16.200</td>\n",
       "      <td>12.50</td>\n",
       "      <td>Showers</td>\n",
       "      <td>10:42 (2021-11-06)</td>\n",
       "      <td>2021-11-05 21:42:33</td>\n",
       "    </tr>\n",
       "    <tr>\n",
       "      <th>2</th>\n",
       "      <td>Lagos</td>\n",
       "      <td>29.80</td>\n",
       "      <td>30.400</td>\n",
       "      <td>25.30</td>\n",
       "      <td>Heavy Rain</td>\n",
       "      <td>22:42 (2021-11-05)</td>\n",
       "      <td>2021-11-05 21:42:36</td>\n",
       "    </tr>\n",
       "    <tr>\n",
       "      <th>3</th>\n",
       "      <td>Zagreb</td>\n",
       "      <td>10.10</td>\n",
       "      <td>11.100</td>\n",
       "      <td>7.80</td>\n",
       "      <td>Showers</td>\n",
       "      <td>22:42 (2021-11-05)</td>\n",
       "      <td>2021-11-05 21:42:39</td>\n",
       "    </tr>\n",
       "  </tbody>\n",
       "</table>\n",
       "</div>"
      ],
      "text/plain": [
       "       location   temp    high    low weather_state          local_time  \\\n",
       "0  Christchurch  15.95  15.385   9.54   Heavy Cloud  10:42 (2021-11-06)   \n",
       "1    Wellington  16.90  16.200  12.50       Showers  10:42 (2021-11-06)   \n",
       "2         Lagos  29.80  30.400  25.30    Heavy Rain  22:42 (2021-11-05)   \n",
       "3        Zagreb  10.10  11.100   7.80       Showers  22:42 (2021-11-05)   \n",
       "\n",
       "              time_utc  \n",
       "0  2021-11-05 21:42:27  \n",
       "1  2021-11-05 21:42:33  \n",
       "2  2021-11-05 21:42:36  \n",
       "3  2021-11-05 21:42:39  "
      ]
     },
     "metadata": {},
     "output_type": "display_data"
    }
   ],
   "source": [
    "df = visit_city(df, ['Wellington', 'Lagos', 'Zagreb'])\n",
    "display(df)"
   ]
  },
  {
   "cell_type": "code",
   "execution_count": null,
   "id": "164fd713",
   "metadata": {},
   "outputs": [
    {
     "data": {
      "text/html": [
       "<div>\n",
       "<style scoped>\n",
       "    .dataframe tbody tr th:only-of-type {\n",
       "        vertical-align: middle;\n",
       "    }\n",
       "\n",
       "    .dataframe tbody tr th {\n",
       "        vertical-align: top;\n",
       "    }\n",
       "\n",
       "    .dataframe thead th {\n",
       "        text-align: right;\n",
       "    }\n",
       "</style>\n",
       "<table border=\"1\" class=\"dataframe\">\n",
       "  <thead>\n",
       "    <tr style=\"text-align: right;\">\n",
       "      <th></th>\n",
       "      <th>location</th>\n",
       "      <th>temp</th>\n",
       "      <th>high</th>\n",
       "      <th>low</th>\n",
       "      <th>weather_state</th>\n",
       "      <th>local_time</th>\n",
       "      <th>time_utc</th>\n",
       "    </tr>\n",
       "  </thead>\n",
       "  <tbody>\n",
       "    <tr>\n",
       "      <th>0</th>\n",
       "      <td>Christchurch</td>\n",
       "      <td>15.95</td>\n",
       "      <td>15.385</td>\n",
       "      <td>9.54</td>\n",
       "      <td>Heavy Cloud</td>\n",
       "      <td>10:42 (2021-11-06)</td>\n",
       "      <td>2021-11-05 21:42:27</td>\n",
       "    </tr>\n",
       "    <tr>\n",
       "      <th>1</th>\n",
       "      <td>Wellington</td>\n",
       "      <td>16.90</td>\n",
       "      <td>16.200</td>\n",
       "      <td>12.50</td>\n",
       "      <td>Showers</td>\n",
       "      <td>10:42 (2021-11-06)</td>\n",
       "      <td>2021-11-05 21:42:33</td>\n",
       "    </tr>\n",
       "    <tr>\n",
       "      <th>2</th>\n",
       "      <td>Lagos</td>\n",
       "      <td>29.80</td>\n",
       "      <td>30.400</td>\n",
       "      <td>25.30</td>\n",
       "      <td>Heavy Rain</td>\n",
       "      <td>22:42 (2021-11-05)</td>\n",
       "      <td>2021-11-05 21:42:36</td>\n",
       "    </tr>\n",
       "    <tr>\n",
       "      <th>3</th>\n",
       "      <td>Zagreb</td>\n",
       "      <td>10.10</td>\n",
       "      <td>11.100</td>\n",
       "      <td>7.80</td>\n",
       "      <td>Showers</td>\n",
       "      <td>22:42 (2021-11-05)</td>\n",
       "      <td>2021-11-05 21:42:39</td>\n",
       "    </tr>\n",
       "    <tr>\n",
       "      <th>4</th>\n",
       "      <td>Wellington</td>\n",
       "      <td>16.90</td>\n",
       "      <td>16.200</td>\n",
       "      <td>12.50</td>\n",
       "      <td>Showers</td>\n",
       "      <td>10:42 (2021-11-06)</td>\n",
       "      <td>2021-11-05 21:42:43</td>\n",
       "    </tr>\n",
       "  </tbody>\n",
       "</table>\n",
       "</div>"
      ],
      "text/plain": [
       "       location   temp    high    low weather_state          local_time  \\\n",
       "0  Christchurch  15.95  15.385   9.54   Heavy Cloud  10:42 (2021-11-06)   \n",
       "1    Wellington  16.90  16.200  12.50       Showers  10:42 (2021-11-06)   \n",
       "2         Lagos  29.80  30.400  25.30    Heavy Rain  22:42 (2021-11-05)   \n",
       "3        Zagreb  10.10  11.100   7.80       Showers  22:42 (2021-11-05)   \n",
       "4    Wellington  16.90  16.200  12.50       Showers  10:42 (2021-11-06)   \n",
       "\n",
       "              time_utc  \n",
       "0  2021-11-05 21:42:27  \n",
       "1  2021-11-05 21:42:33  \n",
       "2  2021-11-05 21:42:36  \n",
       "3  2021-11-05 21:42:39  \n",
       "4  2021-11-05 21:42:43  "
      ]
     },
     "metadata": {},
     "output_type": "display_data"
    }
   ],
   "source": [
    "df = visit_city(df, 'Wellington')\n",
    "display(df)"
   ]
  },
  {
   "cell_type": "code",
   "execution_count": null,
   "id": "4aa2f585",
   "metadata": {},
   "outputs": [
    {
     "data": {
      "text/html": [
       "<div>\n",
       "<style scoped>\n",
       "    .dataframe tbody tr th:only-of-type {\n",
       "        vertical-align: middle;\n",
       "    }\n",
       "\n",
       "    .dataframe tbody tr th {\n",
       "        vertical-align: top;\n",
       "    }\n",
       "\n",
       "    .dataframe thead th {\n",
       "        text-align: right;\n",
       "    }\n",
       "</style>\n",
       "<table border=\"1\" class=\"dataframe\">\n",
       "  <thead>\n",
       "    <tr style=\"text-align: right;\">\n",
       "      <th></th>\n",
       "      <th>location</th>\n",
       "      <th>temp</th>\n",
       "      <th>high</th>\n",
       "      <th>low</th>\n",
       "      <th>weather_state</th>\n",
       "      <th>local_time</th>\n",
       "      <th>time_utc</th>\n",
       "    </tr>\n",
       "  </thead>\n",
       "  <tbody>\n",
       "    <tr>\n",
       "      <th>0</th>\n",
       "      <td>Christchurch</td>\n",
       "      <td>15.95</td>\n",
       "      <td>15.385</td>\n",
       "      <td>9.54</td>\n",
       "      <td>Heavy Cloud</td>\n",
       "      <td>10:42 (2021-11-06)</td>\n",
       "      <td>2021-11-05 21:42:27</td>\n",
       "    </tr>\n",
       "    <tr>\n",
       "      <th>1</th>\n",
       "      <td>Wellington</td>\n",
       "      <td>16.90</td>\n",
       "      <td>16.200</td>\n",
       "      <td>12.50</td>\n",
       "      <td>Showers</td>\n",
       "      <td>10:42 (2021-11-06)</td>\n",
       "      <td>2021-11-05 21:42:33</td>\n",
       "    </tr>\n",
       "    <tr>\n",
       "      <th>2</th>\n",
       "      <td>Lagos</td>\n",
       "      <td>29.80</td>\n",
       "      <td>30.400</td>\n",
       "      <td>25.30</td>\n",
       "      <td>Heavy Rain</td>\n",
       "      <td>22:42 (2021-11-05)</td>\n",
       "      <td>2021-11-05 21:42:36</td>\n",
       "    </tr>\n",
       "    <tr>\n",
       "      <th>3</th>\n",
       "      <td>Zagreb</td>\n",
       "      <td>10.10</td>\n",
       "      <td>11.100</td>\n",
       "      <td>7.80</td>\n",
       "      <td>Showers</td>\n",
       "      <td>22:42 (2021-11-05)</td>\n",
       "      <td>2021-11-05 21:42:39</td>\n",
       "    </tr>\n",
       "    <tr>\n",
       "      <th>4</th>\n",
       "      <td>Wellington</td>\n",
       "      <td>16.90</td>\n",
       "      <td>16.200</td>\n",
       "      <td>12.50</td>\n",
       "      <td>Showers</td>\n",
       "      <td>10:42 (2021-11-06)</td>\n",
       "      <td>2021-11-05 21:42:43</td>\n",
       "    </tr>\n",
       "    <tr>\n",
       "      <th>5</th>\n",
       "      <td>Singapore</td>\n",
       "      <td>28.90</td>\n",
       "      <td>29.500</td>\n",
       "      <td>25.30</td>\n",
       "      <td>Heavy Rain</td>\n",
       "      <td>05:42 (2021-11-06)</td>\n",
       "      <td>2021-11-05 21:42:44</td>\n",
       "    </tr>\n",
       "    <tr>\n",
       "      <th>6</th>\n",
       "      <td>Alexandria</td>\n",
       "      <td>24.90</td>\n",
       "      <td>25.000</td>\n",
       "      <td>21.30</td>\n",
       "      <td>Clear</td>\n",
       "      <td>23:42 (2021-11-05)</td>\n",
       "      <td>2021-11-05 21:42:46</td>\n",
       "    </tr>\n",
       "    <tr>\n",
       "      <th>7</th>\n",
       "      <td>Bangkok</td>\n",
       "      <td>33.40</td>\n",
       "      <td>33.400</td>\n",
       "      <td>25.40</td>\n",
       "      <td>Light Rain</td>\n",
       "      <td>04:42 (2021-11-06)</td>\n",
       "      <td>2021-11-05 21:42:47</td>\n",
       "    </tr>\n",
       "  </tbody>\n",
       "</table>\n",
       "</div>"
      ],
      "text/plain": [
       "       location   temp    high    low weather_state          local_time  \\\n",
       "0  Christchurch  15.95  15.385   9.54   Heavy Cloud  10:42 (2021-11-06)   \n",
       "1    Wellington  16.90  16.200  12.50       Showers  10:42 (2021-11-06)   \n",
       "2         Lagos  29.80  30.400  25.30    Heavy Rain  22:42 (2021-11-05)   \n",
       "3        Zagreb  10.10  11.100   7.80       Showers  22:42 (2021-11-05)   \n",
       "4    Wellington  16.90  16.200  12.50       Showers  10:42 (2021-11-06)   \n",
       "5     Singapore  28.90  29.500  25.30    Heavy Rain  05:42 (2021-11-06)   \n",
       "6    Alexandria  24.90  25.000  21.30         Clear  23:42 (2021-11-05)   \n",
       "7       Bangkok  33.40  33.400  25.40    Light Rain  04:42 (2021-11-06)   \n",
       "\n",
       "              time_utc  \n",
       "0  2021-11-05 21:42:27  \n",
       "1  2021-11-05 21:42:33  \n",
       "2  2021-11-05 21:42:36  \n",
       "3  2021-11-05 21:42:39  \n",
       "4  2021-11-05 21:42:43  \n",
       "5  2021-11-05 21:42:44  \n",
       "6  2021-11-05 21:42:46  \n",
       "7  2021-11-05 21:42:47  "
      ]
     },
     "metadata": {},
     "output_type": "display_data"
    }
   ],
   "source": [
    "df = visit_city(df, ['Singapore', 'Alexandria', 'Bangkok'])\n",
    "display(df)"
   ]
  },
  {
   "cell_type": "code",
   "execution_count": null,
   "id": "5434ae56",
   "metadata": {},
   "outputs": [],
   "source": [
    "from prodb.core import "
   ]
  }
 ],
 "metadata": {
  "kernelspec": {
   "display_name": "Python 3 (ipykernel)",
   "language": "python",
   "name": "python3"
  }
 },
 "nbformat": 4,
 "nbformat_minor": 5
}
