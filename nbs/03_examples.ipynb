{
 "cells": [
  {
   "cell_type": "markdown",
   "id": "e426f068",
   "metadata": {},
   "source": [
    "# 🌞 Example Weather App\n",
    "> Using `prodb`\n",
    "\n",
    "\n",
    "* Starting with a `.csv` of locations, we wish to call the [MetaWeather](https://www.metaweather.com/api/) API to pull in the weather forecast.  \n",
    "* The app needs the ability to input new locations by the user\n",
    "\n",
    " 🌍 Core functions will be converted into the streamlit app `weather_app.py`"
   ]
  },
  {
   "cell_type": "code",
   "execution_count": null,
   "id": "09eb2dbb",
   "metadata": {},
   "outputs": [],
   "source": [
    "# default_exp examples"
   ]
  },
  {
   "cell_type": "code",
   "execution_count": null,
   "id": "d2615238",
   "metadata": {},
   "outputs": [],
   "source": [
    "#hide\n",
    "from nbdev.showdoc import *\n",
    "%load_ext autoreload\n",
    "%autoreload 2"
   ]
  },
  {
   "cell_type": "markdown",
   "id": "a3831d68",
   "metadata": {},
   "source": [
    "## 1. Requests to `metaweather` open weather API"
   ]
  },
  {
   "cell_type": "code",
   "execution_count": null,
   "id": "4468a7ba",
   "metadata": {},
   "outputs": [],
   "source": [
    "#export\n",
    "#hide\n",
    "import requests\n",
    "import json\n",
    "import arrow\n",
    "import pandas as pd\n",
    "import sys; sys.path.append('../')\n",
    "from prodb.core import generate_db, insert_row"
   ]
  },
  {
   "cell_type": "code",
   "execution_count": null,
   "id": "7c35901f",
   "metadata": {},
   "outputs": [],
   "source": [
    "#export\n",
    "def get_json_from_query(location):\n",
    "    \"\"\"Search for a city and return metadata from API\"\"\"\n",
    "    url = f\"https://www.metaweather.com/api/location/search/?query={location}\"\n",
    "    r = requests.get(url).json()\n",
    "    return r[0]"
   ]
  },
  {
   "cell_type": "code",
   "execution_count": null,
   "id": "71b585f7",
   "metadata": {},
   "outputs": [
    {
     "data": {
      "text/plain": [
       "{'title': 'London',\n",
       " 'location_type': 'City',\n",
       " 'woeid': 44418,\n",
       " 'latt_long': '51.506321,-0.12714'}"
      ]
     },
     "execution_count": null,
     "metadata": {},
     "output_type": "execute_result"
    }
   ],
   "source": [
    "l = get_json_from_query('London')\n",
    "l"
   ]
  },
  {
   "cell_type": "markdown",
   "id": "139c0d9b",
   "metadata": {},
   "source": [
    "Check `woeid`(Where On Earth ID) is correct for London"
   ]
  },
  {
   "cell_type": "code",
   "execution_count": null,
   "id": "2d530cc4",
   "metadata": {},
   "outputs": [],
   "source": [
    "assert l['woeid'] == 44418"
   ]
  },
  {
   "cell_type": "markdown",
   "id": "6d1adc34",
   "metadata": {},
   "source": [
    "Get weather data for the London `woeid`"
   ]
  },
  {
   "cell_type": "code",
   "execution_count": null,
   "id": "aa20f822",
   "metadata": {},
   "outputs": [
    {
     "data": {
      "text/plain": [
       "'2021/12/30'"
      ]
     },
     "execution_count": null,
     "metadata": {},
     "output_type": "execute_result"
    }
   ],
   "source": [
    "utc = arrow.utcnow().format('YYYY/MM/DD')\n",
    "utc"
   ]
  },
  {
   "cell_type": "code",
   "execution_count": null,
   "id": "ccda76c7",
   "metadata": {},
   "outputs": [],
   "source": [
    "#export\n",
    "def get_current_weather(location):\n",
    "    \"\"\"\n",
    "    inputs: location str \"London\"\n",
    "            to find woeid i.e. 44418\n",
    "    \"\"\"\n",
    "    res = get_json_from_query(location)\n",
    "    woeid = res['woeid']\n",
    "    url = f\"https://www.metaweather.com/api/location/{woeid}/\"\n",
    "    res = requests.get(url).json()\n",
    "    return res"
   ]
  },
  {
   "cell_type": "markdown",
   "id": "08c7bee6",
   "metadata": {},
   "source": [
    "Today's forecast 🌤️"
   ]
  },
  {
   "cell_type": "code",
   "execution_count": null,
   "id": "75376489",
   "metadata": {},
   "outputs": [
    {
     "name": "stdout",
     "output_type": "stream",
     "text": [
      "CPU times: user 31.2 ms, sys: 0 ns, total: 31.2 ms\n",
      "Wall time: 1.48 s\n"
     ]
    },
    {
     "data": {
      "text/plain": [
       "{'id': 6292426705600512,\n",
       " 'weather_state_name': 'Heavy Cloud',\n",
       " 'weather_state_abbr': 'hc',\n",
       " 'wind_direction_compass': 'SW',\n",
       " 'created': '2021-12-30T12:59:01.380456Z',\n",
       " 'applicable_date': '2021-12-30',\n",
       " 'min_temp': 12.665,\n",
       " 'max_temp': 14.465,\n",
       " 'the_temp': 14.274999999999999,\n",
       " 'wind_speed': 9.857931369964739,\n",
       " 'wind_direction': 225.0,\n",
       " 'air_pressure': 1013.0,\n",
       " 'humidity': 89,\n",
       " 'visibility': 7.299868766404199,\n",
       " 'predictability': 71}"
      ]
     },
     "execution_count": null,
     "metadata": {},
     "output_type": "execute_result"
    }
   ],
   "source": [
    "%%time\n",
    "res = get_current_weather('London')\n",
    "res['consolidated_weather'][0]"
   ]
  },
  {
   "cell_type": "markdown",
   "id": "2ca4139e",
   "metadata": {},
   "source": [
    "There are a number of metrological properties available to us from the API. \n",
    "\n",
    "The ones we are most interested in are:\n",
    "* `the_temp` 🌡️ current temperature\n",
    "* `weather_state_name` ⛅ current sky condition\n",
    "* `max_temp` 🥵 daily max temp\n",
    "* `min_temp` 🥶 daily min temp\n"
   ]
  },
  {
   "cell_type": "code",
   "execution_count": null,
   "id": "802cc45d",
   "metadata": {},
   "outputs": [
    {
     "data": {
      "text/html": [
       "<div>\n",
       "<style scoped>\n",
       "    .dataframe tbody tr th:only-of-type {\n",
       "        vertical-align: middle;\n",
       "    }\n",
       "\n",
       "    .dataframe tbody tr th {\n",
       "        vertical-align: top;\n",
       "    }\n",
       "\n",
       "    .dataframe thead th {\n",
       "        text-align: right;\n",
       "    }\n",
       "</style>\n",
       "<table border=\"1\" class=\"dataframe\">\n",
       "  <thead>\n",
       "    <tr style=\"text-align: right;\">\n",
       "      <th></th>\n",
       "      <th>id</th>\n",
       "      <th>weather_state_name</th>\n",
       "      <th>weather_state_abbr</th>\n",
       "      <th>wind_direction_compass</th>\n",
       "      <th>created</th>\n",
       "      <th>applicable_date</th>\n",
       "      <th>min_temp</th>\n",
       "      <th>max_temp</th>\n",
       "      <th>the_temp</th>\n",
       "      <th>wind_speed</th>\n",
       "      <th>wind_direction</th>\n",
       "      <th>air_pressure</th>\n",
       "      <th>humidity</th>\n",
       "      <th>visibility</th>\n",
       "      <th>predictability</th>\n",
       "      <th>readable_time</th>\n",
       "    </tr>\n",
       "  </thead>\n",
       "  <tbody>\n",
       "    <tr>\n",
       "      <th>0</th>\n",
       "      <td>6292426705600512</td>\n",
       "      <td>Heavy Cloud</td>\n",
       "      <td>hc</td>\n",
       "      <td>SW</td>\n",
       "      <td>2021-12-30T12:59:01.380456Z</td>\n",
       "      <td>2021-12-30</td>\n",
       "      <td>12.665</td>\n",
       "      <td>14.465</td>\n",
       "      <td>14.275</td>\n",
       "      <td>9.857931</td>\n",
       "      <td>225.0</td>\n",
       "      <td>1013.0</td>\n",
       "      <td>89</td>\n",
       "      <td>7.299869</td>\n",
       "      <td>71</td>\n",
       "      <td>2 hours ago</td>\n",
       "    </tr>\n",
       "  </tbody>\n",
       "</table>\n",
       "</div>"
      ],
      "text/plain": [
       "                 id weather_state_name weather_state_abbr  \\\n",
       "0  6292426705600512        Heavy Cloud                 hc   \n",
       "\n",
       "  wind_direction_compass                      created applicable_date  \\\n",
       "0                     SW  2021-12-30T12:59:01.380456Z      2021-12-30   \n",
       "\n",
       "   min_temp  max_temp  the_temp  wind_speed  wind_direction  air_pressure  \\\n",
       "0    12.665    14.465    14.275    9.857931           225.0        1013.0   \n",
       "\n",
       "   humidity  visibility  predictability readable_time  \n",
       "0        89    7.299869              71   2 hours ago  "
      ]
     },
     "execution_count": null,
     "metadata": {},
     "output_type": "execute_result"
    }
   ],
   "source": [
    "res = get_current_weather('London')\n",
    "df =  pd.DataFrame.from_records(res['consolidated_weather'][:1])\n",
    "df['readable_time'] = df.created.apply(lambda x: arrow.get(x).humanize())\n",
    "df"
   ]
  },
  {
   "cell_type": "code",
   "execution_count": null,
   "id": "65eb62ab",
   "metadata": {},
   "outputs": [],
   "source": [
    "#export\n",
    "def df_from_loc(location, \n",
    "                days_ahead=1,\n",
    "                keep_cols='location the_temp readable_time created applicable_date local_time latt_long weather_state_name min_temp max_temp'.split(' ')):\n",
    "    res = get_current_weather(location)\n",
    "    df =  pd.DataFrame.from_records(res['consolidated_weather'][:days_ahead])\n",
    "    df['location'] = location\n",
    "    df['local_time'] = pd.to_datetime(res['time']).strftime('%H:%M')\n",
    "    df['latt_long'] = res['latt_long']\n",
    "    df['readable_time'] = df.created.apply(lambda x: arrow.get(x).humanize())\n",
    "    return df[keep_cols]"
   ]
  },
  {
   "cell_type": "code",
   "execution_count": null,
   "id": "a97df9ed",
   "metadata": {},
   "outputs": [
    {
     "data": {
      "text/html": [
       "<div>\n",
       "<style scoped>\n",
       "    .dataframe tbody tr th:only-of-type {\n",
       "        vertical-align: middle;\n",
       "    }\n",
       "\n",
       "    .dataframe tbody tr th {\n",
       "        vertical-align: top;\n",
       "    }\n",
       "\n",
       "    .dataframe thead th {\n",
       "        text-align: right;\n",
       "    }\n",
       "</style>\n",
       "<table border=\"1\" class=\"dataframe\">\n",
       "  <thead>\n",
       "    <tr style=\"text-align: right;\">\n",
       "      <th></th>\n",
       "      <th>location</th>\n",
       "      <th>the_temp</th>\n",
       "      <th>readable_time</th>\n",
       "      <th>created</th>\n",
       "      <th>applicable_date</th>\n",
       "      <th>local_time</th>\n",
       "      <th>latt_long</th>\n",
       "      <th>weather_state_name</th>\n",
       "      <th>min_temp</th>\n",
       "      <th>max_temp</th>\n",
       "    </tr>\n",
       "  </thead>\n",
       "  <tbody>\n",
       "    <tr>\n",
       "      <th>0</th>\n",
       "      <td>London</td>\n",
       "      <td>14.275</td>\n",
       "      <td>2 hours ago</td>\n",
       "      <td>2021-12-30T12:59:01.380456Z</td>\n",
       "      <td>2021-12-30</td>\n",
       "      <td>15:39</td>\n",
       "      <td>51.506321,-0.12714</td>\n",
       "      <td>Heavy Cloud</td>\n",
       "      <td>12.665</td>\n",
       "      <td>14.465</td>\n",
       "    </tr>\n",
       "    <tr>\n",
       "      <th>1</th>\n",
       "      <td>London</td>\n",
       "      <td>14.210</td>\n",
       "      <td>2 hours ago</td>\n",
       "      <td>2021-12-30T12:59:01.869683Z</td>\n",
       "      <td>2021-12-31</td>\n",
       "      <td>15:39</td>\n",
       "      <td>51.506321,-0.12714</td>\n",
       "      <td>Light Rain</td>\n",
       "      <td>11.015</td>\n",
       "      <td>14.810</td>\n",
       "    </tr>\n",
       "  </tbody>\n",
       "</table>\n",
       "</div>"
      ],
      "text/plain": [
       "  location  the_temp readable_time                      created  \\\n",
       "0   London    14.275   2 hours ago  2021-12-30T12:59:01.380456Z   \n",
       "1   London    14.210   2 hours ago  2021-12-30T12:59:01.869683Z   \n",
       "\n",
       "  applicable_date local_time           latt_long weather_state_name  min_temp  \\\n",
       "0      2021-12-30      15:39  51.506321,-0.12714        Heavy Cloud    12.665   \n",
       "1      2021-12-31      15:39  51.506321,-0.12714         Light Rain    11.015   \n",
       "\n",
       "   max_temp  \n",
       "0    14.465  \n",
       "1    14.810  "
      ]
     },
     "execution_count": null,
     "metadata": {},
     "output_type": "execute_result"
    }
   ],
   "source": [
    "df = df_from_loc('London', days_ahead=2)\n",
    "df"
   ]
  },
  {
   "cell_type": "markdown",
   "id": "a7d7b862",
   "metadata": {},
   "source": [
    "Example output showing location and current weather situation"
   ]
  },
  {
   "cell_type": "code",
   "execution_count": null,
   "id": "ee0c4568",
   "metadata": {},
   "outputs": [
    {
     "data": {
      "text/html": [
       "<div>\n",
       "<style scoped>\n",
       "    .dataframe tbody tr th:only-of-type {\n",
       "        vertical-align: middle;\n",
       "    }\n",
       "\n",
       "    .dataframe tbody tr th {\n",
       "        vertical-align: top;\n",
       "    }\n",
       "\n",
       "    .dataframe thead th {\n",
       "        text-align: right;\n",
       "    }\n",
       "</style>\n",
       "<table border=\"1\" class=\"dataframe\">\n",
       "  <thead>\n",
       "    <tr style=\"text-align: right;\">\n",
       "      <th></th>\n",
       "      <th>location</th>\n",
       "      <th>the_temp</th>\n",
       "      <th>readable_time</th>\n",
       "      <th>created</th>\n",
       "      <th>applicable_date</th>\n",
       "      <th>local_time</th>\n",
       "      <th>latt_long</th>\n",
       "      <th>weather_state_name</th>\n",
       "      <th>min_temp</th>\n",
       "      <th>max_temp</th>\n",
       "    </tr>\n",
       "  </thead>\n",
       "  <tbody>\n",
       "    <tr>\n",
       "      <th>0</th>\n",
       "      <td>Auckland</td>\n",
       "      <td>21.535</td>\n",
       "      <td>2 hours ago</td>\n",
       "      <td>2021-12-30T13:37:04.460044Z</td>\n",
       "      <td>2021-12-31</td>\n",
       "      <td>04:39</td>\n",
       "      <td>-36.884109,174.770416</td>\n",
       "      <td>Heavy Cloud</td>\n",
       "      <td>16.885</td>\n",
       "      <td>22.74</td>\n",
       "    </tr>\n",
       "  </tbody>\n",
       "</table>\n",
       "</div>"
      ],
      "text/plain": [
       "   location  the_temp readable_time                      created  \\\n",
       "0  Auckland    21.535   2 hours ago  2021-12-30T13:37:04.460044Z   \n",
       "\n",
       "  applicable_date local_time              latt_long weather_state_name  \\\n",
       "0      2021-12-31      04:39  -36.884109,174.770416        Heavy Cloud   \n",
       "\n",
       "   min_temp  max_temp  \n",
       "0    16.885     22.74  "
      ]
     },
     "execution_count": null,
     "metadata": {},
     "output_type": "execute_result"
    }
   ],
   "source": [
    "df = df_from_loc('Auckland')\n",
    "df"
   ]
  },
  {
   "cell_type": "markdown",
   "id": "42b40c4c",
   "metadata": {},
   "source": [
    "# 🦄 Pro db "
   ]
  },
  {
   "cell_type": "code",
   "execution_count": null,
   "id": "7ca602a8",
   "metadata": {},
   "outputs": [],
   "source": [
    "import sys\n",
    "sys.path.append('../')\n",
    "\n",
    "from prodb.core import generate_db, insert_row"
   ]
  },
  {
   "cell_type": "markdown",
   "id": "5c970b6d",
   "metadata": {},
   "source": [
    "### Initialise empty db"
   ]
  },
  {
   "cell_type": "code",
   "execution_count": null,
   "id": "179aa15c",
   "metadata": {},
   "outputs": [
    {
     "name": "stdout",
     "output_type": "stream",
     "text": [
      "✓💾 weather_db.csv (37 kb)\n"
     ]
    },
    {
     "data": {
      "text/html": [
       "<div>\n",
       "<style scoped>\n",
       "    .dataframe tbody tr th:only-of-type {\n",
       "        vertical-align: middle;\n",
       "    }\n",
       "\n",
       "    .dataframe tbody tr th {\n",
       "        vertical-align: top;\n",
       "    }\n",
       "\n",
       "    .dataframe thead th {\n",
       "        text-align: right;\n",
       "    }\n",
       "</style>\n",
       "<table border=\"1\" class=\"dataframe\">\n",
       "  <thead>\n",
       "    <tr style=\"text-align: right;\">\n",
       "      <th></th>\n",
       "      <th>location</th>\n",
       "      <th>temp</th>\n",
       "      <th>high</th>\n",
       "      <th>low</th>\n",
       "      <th>weather_state</th>\n",
       "    </tr>\n",
       "  </thead>\n",
       "  <tbody>\n",
       "  </tbody>\n",
       "</table>\n",
       "</div>"
      ],
      "text/plain": [
       "Empty DataFrame\n",
       "Columns: [location, temp, high, low, weather_state]\n",
       "Index: []"
      ]
     },
     "execution_count": null,
     "metadata": {},
     "output_type": "execute_result"
    }
   ],
   "source": [
    "dbpath = 'weather_db.csv'\n",
    "cols = 'location temp high low weather_state'.split()\n",
    "\n",
    "generate_db(cols=cols, dbpath=dbpath)\n",
    "df = pd.read_csv(dbpath)\n",
    "df.head()"
   ]
  },
  {
   "cell_type": "markdown",
   "id": "b213f496",
   "metadata": {},
   "source": [
    "## Add row"
   ]
  },
  {
   "cell_type": "code",
   "execution_count": null,
   "id": "4e7af915",
   "metadata": {},
   "outputs": [
    {
     "data": {
      "text/html": [
       "<div>\n",
       "<style scoped>\n",
       "    .dataframe tbody tr th:only-of-type {\n",
       "        vertical-align: middle;\n",
       "    }\n",
       "\n",
       "    .dataframe tbody tr th {\n",
       "        vertical-align: top;\n",
       "    }\n",
       "\n",
       "    .dataframe thead th {\n",
       "        text-align: right;\n",
       "    }\n",
       "</style>\n",
       "<table border=\"1\" class=\"dataframe\">\n",
       "  <thead>\n",
       "    <tr style=\"text-align: right;\">\n",
       "      <th></th>\n",
       "      <th>location</th>\n",
       "      <th>the_temp</th>\n",
       "      <th>readable_time</th>\n",
       "      <th>created</th>\n",
       "      <th>applicable_date</th>\n",
       "      <th>local_time</th>\n",
       "      <th>latt_long</th>\n",
       "      <th>weather_state_name</th>\n",
       "      <th>min_temp</th>\n",
       "      <th>max_temp</th>\n",
       "    </tr>\n",
       "  </thead>\n",
       "  <tbody>\n",
       "    <tr>\n",
       "      <th>0</th>\n",
       "      <td>Auckland</td>\n",
       "      <td>21.535</td>\n",
       "      <td>2 hours ago</td>\n",
       "      <td>2021-12-30T13:37:04.460044Z</td>\n",
       "      <td>2021-12-31</td>\n",
       "      <td>04:41</td>\n",
       "      <td>-36.884109,174.770416</td>\n",
       "      <td>Heavy Cloud</td>\n",
       "      <td>16.885</td>\n",
       "      <td>22.74</td>\n",
       "    </tr>\n",
       "  </tbody>\n",
       "</table>\n",
       "</div>"
      ],
      "text/plain": [
       "   location  the_temp readable_time                      created  \\\n",
       "0  Auckland    21.535   2 hours ago  2021-12-30T13:37:04.460044Z   \n",
       "\n",
       "  applicable_date local_time              latt_long weather_state_name  \\\n",
       "0      2021-12-31      04:41  -36.884109,174.770416        Heavy Cloud   \n",
       "\n",
       "   min_temp  max_temp  \n",
       "0    16.885     22.74  "
      ]
     },
     "execution_count": null,
     "metadata": {},
     "output_type": "execute_result"
    }
   ],
   "source": [
    "dx = df_from_loc('Auckland')\n",
    "dx"
   ]
  },
  {
   "cell_type": "code",
   "execution_count": null,
   "id": "b48dc2f5",
   "metadata": {},
   "outputs": [],
   "source": [
    "#export\n",
    "def visit_city(df, cities, dbpath):\n",
    "    if isinstance(cities, str): cities = [cities]\n",
    "    for city in cities:\n",
    "        dx = df_from_loc(city).round(1)\n",
    "\n",
    "        data = {'location': dx.location.item(), \n",
    "                'time_utc': arrow.utcnow().format('YYYY-MM-DD HH:mm:ss'),\n",
    "                'temp': dx.the_temp.item(),\n",
    "                'high': dx.max_temp.item(),\n",
    "                'low': dx.min_temp.item(),\n",
    "                'weather_state': dx.weather_state_name.item(),\n",
    "                'local_time': dx.local_time.item(),\n",
    "                'latlong': dx.latt_long.item()}\n",
    "\n",
    "        df = insert_row(df, data, dbpath)\n",
    "    return df.round(1)"
   ]
  },
  {
   "cell_type": "code",
   "execution_count": null,
   "id": "df326d03",
   "metadata": {},
   "outputs": [
    {
     "data": {
      "text/html": [
       "<div>\n",
       "<style scoped>\n",
       "    .dataframe tbody tr th:only-of-type {\n",
       "        vertical-align: middle;\n",
       "    }\n",
       "\n",
       "    .dataframe tbody tr th {\n",
       "        vertical-align: top;\n",
       "    }\n",
       "\n",
       "    .dataframe thead th {\n",
       "        text-align: right;\n",
       "    }\n",
       "</style>\n",
       "<table border=\"1\" class=\"dataframe\">\n",
       "  <thead>\n",
       "    <tr style=\"text-align: right;\">\n",
       "      <th></th>\n",
       "      <th>location</th>\n",
       "      <th>temp</th>\n",
       "      <th>high</th>\n",
       "      <th>low</th>\n",
       "      <th>weather_state</th>\n",
       "      <th>latlong</th>\n",
       "      <th>local_time</th>\n",
       "      <th>time_utc</th>\n",
       "    </tr>\n",
       "  </thead>\n",
       "  <tbody>\n",
       "    <tr>\n",
       "      <th>0</th>\n",
       "      <td>Christchurch</td>\n",
       "      <td>17.2</td>\n",
       "      <td>19.0</td>\n",
       "      <td>12.8</td>\n",
       "      <td>Heavy Rain</td>\n",
       "      <td>-43.527519,172.635422</td>\n",
       "      <td>04:41</td>\n",
       "      <td>2021-12-30 15:41:55</td>\n",
       "    </tr>\n",
       "    <tr>\n",
       "      <th>1</th>\n",
       "      <td>Wellington</td>\n",
       "      <td>19.0</td>\n",
       "      <td>20.8</td>\n",
       "      <td>14.6</td>\n",
       "      <td>Heavy Cloud</td>\n",
       "      <td>-41.283779,174.787979</td>\n",
       "      <td>04:41</td>\n",
       "      <td>2021-12-30 15:41:55</td>\n",
       "    </tr>\n",
       "    <tr>\n",
       "      <th>2</th>\n",
       "      <td>Lagos</td>\n",
       "      <td>32.3</td>\n",
       "      <td>34.2</td>\n",
       "      <td>24.1</td>\n",
       "      <td>Light Cloud</td>\n",
       "      <td>6.439180,3.423480</td>\n",
       "      <td>16:41</td>\n",
       "      <td>2021-12-30 15:41:57</td>\n",
       "    </tr>\n",
       "    <tr>\n",
       "      <th>3</th>\n",
       "      <td>Zagreb</td>\n",
       "      <td>7.4</td>\n",
       "      <td>8.9</td>\n",
       "      <td>4.3</td>\n",
       "      <td>Light Rain</td>\n",
       "      <td>45.807259,15.967600</td>\n",
       "      <td>16:41</td>\n",
       "      <td>2021-12-30 15:41:58</td>\n",
       "    </tr>\n",
       "  </tbody>\n",
       "</table>\n",
       "</div>"
      ],
      "text/plain": [
       "       location  temp  high   low weather_state                latlong  \\\n",
       "0  Christchurch  17.2  19.0  12.8    Heavy Rain  -43.527519,172.635422   \n",
       "1    Wellington  19.0  20.8  14.6   Heavy Cloud  -41.283779,174.787979   \n",
       "2         Lagos  32.3  34.2  24.1   Light Cloud      6.439180,3.423480   \n",
       "3        Zagreb   7.4   8.9   4.3    Light Rain    45.807259,15.967600   \n",
       "\n",
       "  local_time             time_utc  \n",
       "0      04:41  2021-12-30 15:41:55  \n",
       "1      04:41  2021-12-30 15:41:55  \n",
       "2      16:41  2021-12-30 15:41:57  \n",
       "3      16:41  2021-12-30 15:41:58  "
      ]
     },
     "metadata": {},
     "output_type": "display_data"
    }
   ],
   "source": [
    "df = visit_city(df, ['Christchurch', 'Wellington', 'Lagos', 'Zagreb'], dbpath)\n",
    "display(df)"
   ]
  },
  {
   "cell_type": "code",
   "execution_count": null,
   "id": "164fd713",
   "metadata": {},
   "outputs": [
    {
     "data": {
      "text/html": [
       "<div>\n",
       "<style scoped>\n",
       "    .dataframe tbody tr th:only-of-type {\n",
       "        vertical-align: middle;\n",
       "    }\n",
       "\n",
       "    .dataframe tbody tr th {\n",
       "        vertical-align: top;\n",
       "    }\n",
       "\n",
       "    .dataframe thead th {\n",
       "        text-align: right;\n",
       "    }\n",
       "</style>\n",
       "<table border=\"1\" class=\"dataframe\">\n",
       "  <thead>\n",
       "    <tr style=\"text-align: right;\">\n",
       "      <th></th>\n",
       "      <th>location</th>\n",
       "      <th>temp</th>\n",
       "      <th>high</th>\n",
       "      <th>low</th>\n",
       "      <th>weather_state</th>\n",
       "      <th>latlong</th>\n",
       "      <th>local_time</th>\n",
       "      <th>time_utc</th>\n",
       "    </tr>\n",
       "  </thead>\n",
       "  <tbody>\n",
       "    <tr>\n",
       "      <th>0</th>\n",
       "      <td>Christchurch</td>\n",
       "      <td>17.2</td>\n",
       "      <td>19.0</td>\n",
       "      <td>12.8</td>\n",
       "      <td>Heavy Rain</td>\n",
       "      <td>-43.527519,172.635422</td>\n",
       "      <td>04:41</td>\n",
       "      <td>2021-12-30 15:41:55</td>\n",
       "    </tr>\n",
       "    <tr>\n",
       "      <th>1</th>\n",
       "      <td>Wellington</td>\n",
       "      <td>19.0</td>\n",
       "      <td>20.8</td>\n",
       "      <td>14.6</td>\n",
       "      <td>Heavy Cloud</td>\n",
       "      <td>-41.283779,174.787979</td>\n",
       "      <td>04:41</td>\n",
       "      <td>2021-12-30 15:41:55</td>\n",
       "    </tr>\n",
       "    <tr>\n",
       "      <th>2</th>\n",
       "      <td>Lagos</td>\n",
       "      <td>32.3</td>\n",
       "      <td>34.2</td>\n",
       "      <td>24.1</td>\n",
       "      <td>Light Cloud</td>\n",
       "      <td>6.439180,3.423480</td>\n",
       "      <td>16:41</td>\n",
       "      <td>2021-12-30 15:41:57</td>\n",
       "    </tr>\n",
       "    <tr>\n",
       "      <th>3</th>\n",
       "      <td>Zagreb</td>\n",
       "      <td>7.4</td>\n",
       "      <td>8.9</td>\n",
       "      <td>4.3</td>\n",
       "      <td>Light Rain</td>\n",
       "      <td>45.807259,15.967600</td>\n",
       "      <td>16:41</td>\n",
       "      <td>2021-12-30 15:41:58</td>\n",
       "    </tr>\n",
       "    <tr>\n",
       "      <th>4</th>\n",
       "      <td>Yangon</td>\n",
       "      <td>30.5</td>\n",
       "      <td>32.0</td>\n",
       "      <td>20.9</td>\n",
       "      <td>Light Cloud</td>\n",
       "      <td>16.803890,96.154694</td>\n",
       "      <td>22:12</td>\n",
       "      <td>2021-12-30 15:42:02</td>\n",
       "    </tr>\n",
       "  </tbody>\n",
       "</table>\n",
       "</div>"
      ],
      "text/plain": [
       "       location  temp  high   low weather_state                latlong  \\\n",
       "0  Christchurch  17.2  19.0  12.8    Heavy Rain  -43.527519,172.635422   \n",
       "1    Wellington  19.0  20.8  14.6   Heavy Cloud  -41.283779,174.787979   \n",
       "2         Lagos  32.3  34.2  24.1   Light Cloud      6.439180,3.423480   \n",
       "3        Zagreb   7.4   8.9   4.3    Light Rain    45.807259,15.967600   \n",
       "4        Yangon  30.5  32.0  20.9   Light Cloud    16.803890,96.154694   \n",
       "\n",
       "  local_time             time_utc  \n",
       "0      04:41  2021-12-30 15:41:55  \n",
       "1      04:41  2021-12-30 15:41:55  \n",
       "2      16:41  2021-12-30 15:41:57  \n",
       "3      16:41  2021-12-30 15:41:58  \n",
       "4      22:12  2021-12-30 15:42:02  "
      ]
     },
     "metadata": {},
     "output_type": "display_data"
    }
   ],
   "source": [
    "df = visit_city(df, 'Yangon', dbpath)\n",
    "display(df)"
   ]
  },
  {
   "cell_type": "code",
   "execution_count": null,
   "id": "4aa2f585",
   "metadata": {},
   "outputs": [
    {
     "data": {
      "text/html": [
       "<div>\n",
       "<style scoped>\n",
       "    .dataframe tbody tr th:only-of-type {\n",
       "        vertical-align: middle;\n",
       "    }\n",
       "\n",
       "    .dataframe tbody tr th {\n",
       "        vertical-align: top;\n",
       "    }\n",
       "\n",
       "    .dataframe thead th {\n",
       "        text-align: right;\n",
       "    }\n",
       "</style>\n",
       "<table border=\"1\" class=\"dataframe\">\n",
       "  <thead>\n",
       "    <tr style=\"text-align: right;\">\n",
       "      <th></th>\n",
       "      <th>location</th>\n",
       "      <th>temp</th>\n",
       "      <th>high</th>\n",
       "      <th>low</th>\n",
       "      <th>weather_state</th>\n",
       "      <th>latlong</th>\n",
       "      <th>local_time</th>\n",
       "      <th>time_utc</th>\n",
       "    </tr>\n",
       "  </thead>\n",
       "  <tbody>\n",
       "    <tr>\n",
       "      <th>0</th>\n",
       "      <td>Christchurch</td>\n",
       "      <td>17.2</td>\n",
       "      <td>19.0</td>\n",
       "      <td>12.8</td>\n",
       "      <td>Heavy Rain</td>\n",
       "      <td>-43.527519,172.635422</td>\n",
       "      <td>04:41</td>\n",
       "      <td>2021-12-30 15:41:55</td>\n",
       "    </tr>\n",
       "    <tr>\n",
       "      <th>1</th>\n",
       "      <td>Wellington</td>\n",
       "      <td>19.0</td>\n",
       "      <td>20.8</td>\n",
       "      <td>14.6</td>\n",
       "      <td>Heavy Cloud</td>\n",
       "      <td>-41.283779,174.787979</td>\n",
       "      <td>04:41</td>\n",
       "      <td>2021-12-30 15:41:55</td>\n",
       "    </tr>\n",
       "    <tr>\n",
       "      <th>2</th>\n",
       "      <td>Lagos</td>\n",
       "      <td>32.3</td>\n",
       "      <td>34.2</td>\n",
       "      <td>24.1</td>\n",
       "      <td>Light Cloud</td>\n",
       "      <td>6.439180,3.423480</td>\n",
       "      <td>16:41</td>\n",
       "      <td>2021-12-30 15:41:57</td>\n",
       "    </tr>\n",
       "    <tr>\n",
       "      <th>3</th>\n",
       "      <td>Zagreb</td>\n",
       "      <td>7.4</td>\n",
       "      <td>8.9</td>\n",
       "      <td>4.3</td>\n",
       "      <td>Light Rain</td>\n",
       "      <td>45.807259,15.967600</td>\n",
       "      <td>16:41</td>\n",
       "      <td>2021-12-30 15:41:58</td>\n",
       "    </tr>\n",
       "    <tr>\n",
       "      <th>4</th>\n",
       "      <td>Yangon</td>\n",
       "      <td>30.5</td>\n",
       "      <td>32.0</td>\n",
       "      <td>20.9</td>\n",
       "      <td>Light Cloud</td>\n",
       "      <td>16.803890,96.154694</td>\n",
       "      <td>22:12</td>\n",
       "      <td>2021-12-30 15:42:02</td>\n",
       "    </tr>\n",
       "    <tr>\n",
       "      <th>5</th>\n",
       "      <td>Singapore</td>\n",
       "      <td>28.9</td>\n",
       "      <td>30.1</td>\n",
       "      <td>24.9</td>\n",
       "      <td>Heavy Rain</td>\n",
       "      <td>1.293780,103.853256</td>\n",
       "      <td>23:42</td>\n",
       "      <td>2021-12-30 15:42:13</td>\n",
       "    </tr>\n",
       "    <tr>\n",
       "      <th>6</th>\n",
       "      <td>Alexandria</td>\n",
       "      <td>16.5</td>\n",
       "      <td>17.7</td>\n",
       "      <td>13.3</td>\n",
       "      <td>Light Rain</td>\n",
       "      <td>31.210489, 29.912430</td>\n",
       "      <td>17:42</td>\n",
       "      <td>2021-12-30 15:42:14</td>\n",
       "    </tr>\n",
       "    <tr>\n",
       "      <th>7</th>\n",
       "      <td>Bangkok</td>\n",
       "      <td>32.4</td>\n",
       "      <td>32.1</td>\n",
       "      <td>25.0</td>\n",
       "      <td>Heavy Cloud</td>\n",
       "      <td>13.753330,100.504822</td>\n",
       "      <td>22:42</td>\n",
       "      <td>2021-12-30 15:42:15</td>\n",
       "    </tr>\n",
       "  </tbody>\n",
       "</table>\n",
       "</div>"
      ],
      "text/plain": [
       "       location  temp  high   low weather_state                latlong  \\\n",
       "0  Christchurch  17.2  19.0  12.8    Heavy Rain  -43.527519,172.635422   \n",
       "1    Wellington  19.0  20.8  14.6   Heavy Cloud  -41.283779,174.787979   \n",
       "2         Lagos  32.3  34.2  24.1   Light Cloud      6.439180,3.423480   \n",
       "3        Zagreb   7.4   8.9   4.3    Light Rain    45.807259,15.967600   \n",
       "4        Yangon  30.5  32.0  20.9   Light Cloud    16.803890,96.154694   \n",
       "5     Singapore  28.9  30.1  24.9    Heavy Rain    1.293780,103.853256   \n",
       "6    Alexandria  16.5  17.7  13.3    Light Rain   31.210489, 29.912430   \n",
       "7       Bangkok  32.4  32.1  25.0   Heavy Cloud   13.753330,100.504822   \n",
       "\n",
       "  local_time             time_utc  \n",
       "0      04:41  2021-12-30 15:41:55  \n",
       "1      04:41  2021-12-30 15:41:55  \n",
       "2      16:41  2021-12-30 15:41:57  \n",
       "3      16:41  2021-12-30 15:41:58  \n",
       "4      22:12  2021-12-30 15:42:02  \n",
       "5      23:42  2021-12-30 15:42:13  \n",
       "6      17:42  2021-12-30 15:42:14  \n",
       "7      22:42  2021-12-30 15:42:15  "
      ]
     },
     "metadata": {},
     "output_type": "display_data"
    }
   ],
   "source": [
    "df = visit_city(df, ['Singapore', 'Alexandria', 'Bangkok'], dbpath)\n",
    "display(df)"
   ]
  }
 ],
 "metadata": {
  "kernelspec": {
   "display_name": "Python 3 (ipykernel)",
   "language": "python",
   "name": "python3"
  }
 },
 "nbformat": 4,
 "nbformat_minor": 5
}
