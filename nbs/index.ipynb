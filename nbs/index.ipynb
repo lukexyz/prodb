{
 "cells": [
  {
   "cell_type": "code",
   "execution_count": null,
   "metadata": {},
   "outputs": [],
   "source": [
    "#hide\n",
    "from prodb.core import *\n",
    "\n",
    "# This file will become your README and also the index of your documentation."
   ]
  },
  {
   "cell_type": "markdown",
   "metadata": {},
   "source": [
    "<p align=\"center\">\n",
    "  <img src=\"https://github.com/lukexyz/prodb/blob/master/img/prodb.png?raw=true\">\n",
    "</p>"
   ]
  },
  {
   "cell_type": "markdown",
   "metadata": {},
   "source": [
    "# Prodb \n",
    "\n",
    "> .csv database for pros"
   ]
  },
  {
   "cell_type": "markdown",
   "metadata": {},
   "source": [
    "#### 🌐 Demo\n",
    "> 🔗 https://share.streamlit.io/lukexyz/prodb/app.py\n",
    "\n",
    "#### 📝 Documentation\n",
    "> 🔗 https://lukexyz.github.io/prodb/ (github pages)"
   ]
  },
  {
   "cell_type": "markdown",
   "metadata": {},
   "source": [
    "## Setup environment and `nbdev`\n",
    "First time only:"
   ]
  },
  {
   "cell_type": "markdown",
   "metadata": {},
   "source": [
    "* Ubuntu / WSL\n",
    "```\n",
    "conda create -n prodb python=3.9 jupyter pip nbdev twine\n",
    "conda activate prodb  \n",
    "git clone https://github.com/lukexyz/prodb.git  \n",
    "pip install -r requirements.txt  \n",
    "```\n",
    "  \n",
    "  \n",
    "* Install githooks from project folder  \n",
    "```\n",
    "nbdev_install_git_hooks\n",
    "```\n",
    "\n",
    "* Package auto-manager\n",
    "```\n",
    "make release\n",
    "```\n",
    "WSL error work around for: [Errno 16] Device or resource busy\n",
    "```\n",
    " ubuntu $ make release\n",
    "windows > python setup.py sdist bdist_wheel\n",
    " ubuntu $ twine upload --repository pypi dist/*\n",
    "```\n"
   ]
  },
  {
   "cell_type": "markdown",
   "metadata": {},
   "source": [
    "Frequently during develoment:  \n",
    "### 1. 🏗️ **Build lib** from notebooks  \n",
    "> `nbdev_build_lib` \n",
    "\n",
    "\n",
    "### 2. 📝 **Build docs** from notebooks  \n",
    "> `nbdev_build_docs` "
   ]
  },
  {
   "cell_type": "markdown",
   "metadata": {},
   "source": [
    "## Install"
   ]
  },
  {
   "cell_type": "markdown",
   "metadata": {},
   "source": [
    "`pip install prodb`"
   ]
  }
 ],
 "metadata": {
  "kernelspec": {
   "display_name": "Python 3 (ipykernel)",
   "language": "python",
   "name": "python3"
  }
 },
 "nbformat": 4,
 "nbformat_minor": 2
}
