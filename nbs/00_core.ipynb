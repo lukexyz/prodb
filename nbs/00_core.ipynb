{
 "cells": [
  {
   "cell_type": "code",
   "execution_count": null,
   "metadata": {},
   "outputs": [],
   "source": [
    "# default_exp core"
   ]
  },
  {
   "cell_type": "markdown",
   "metadata": {},
   "source": [
    "# 00 Prodb API details\n",
    "\n",
    "> `nbdev` Example function."
   ]
  },
  {
   "cell_type": "code",
   "execution_count": null,
   "metadata": {},
   "outputs": [],
   "source": [
    "#hide\n",
    "from nbdev.showdoc import *"
   ]
  },
  {
   "cell_type": "markdown",
   "metadata": {},
   "source": [
    "## Prodb API\n",
    "Create pandas dataframe for manipulation"
   ]
  },
  {
   "cell_type": "code",
   "execution_count": null,
   "metadata": {},
   "outputs": [],
   "source": [
    "#export\n",
    "#hide\n",
    "import pandas as pd\n",
    "import arrow\n",
    "import os\n",
    "from time import gmtime, strftime\n",
    "#from prodb.core import generate_db, insert_row, utc_now, readable_df"
   ]
  },
  {
   "cell_type": "markdown",
   "metadata": {},
   "source": [
    "## 1.0 Generate Db\n",
    "Initialise database with `generate_db` call. "
   ]
  },
  {
   "cell_type": "code",
   "execution_count": null,
   "metadata": {},
   "outputs": [],
   "source": [
    "# export\n",
    "\n",
    "def generate_db(dbpath='db.csv', \n",
    "                cols=['c1', 'c2', 'c3'],\n",
    "                prefill=False):\n",
    "    \"\"\"Create example database\"\"\"\n",
    "    if prefill:\n",
    "        df = pd.DataFrame({'name': ['Sam', 'Grant'],\n",
    "                           'mood': ['😊', '😵'],\n",
    "                           'message': ['hi', 'hello'],\n",
    "                           'time_utc' : [arrow.utcnow().format('YYYY-MM-DD HH:mm:ss'),\n",
    "                                         arrow.utcnow().format('YYYY-MM-DD HH:mm:ss')]})\n",
    "    else:\n",
    "        df = pd.DataFrame(columns=cols)\n",
    "    df.to_csv(dbpath, index=None)\n",
    "    print(f'✓💾 {dbpath} ({os.path.getsize(dbpath)} kb)')\n",
    "    return df\n"
   ]
  },
  {
   "cell_type": "markdown",
   "metadata": {},
   "source": [
    "Generate empty `db` object with arbitary columns."
   ]
  },
  {
   "cell_type": "code",
   "execution_count": null,
   "metadata": {},
   "outputs": [
    {
     "name": "stdout",
     "output_type": "stream",
     "text": [
      "✓💾 db.csv (10 kb)\n"
     ]
    },
    {
     "data": {
      "text/html": [
       "<div>\n",
       "<style scoped>\n",
       "    .dataframe tbody tr th:only-of-type {\n",
       "        vertical-align: middle;\n",
       "    }\n",
       "\n",
       "    .dataframe tbody tr th {\n",
       "        vertical-align: top;\n",
       "    }\n",
       "\n",
       "    .dataframe thead th {\n",
       "        text-align: right;\n",
       "    }\n",
       "</style>\n",
       "<table border=\"1\" class=\"dataframe\">\n",
       "  <thead>\n",
       "    <tr style=\"text-align: right;\">\n",
       "      <th></th>\n",
       "      <th>c1</th>\n",
       "      <th>c2</th>\n",
       "      <th>c3</th>\n",
       "    </tr>\n",
       "  </thead>\n",
       "  <tbody>\n",
       "  </tbody>\n",
       "</table>\n",
       "</div>"
      ],
      "text/plain": [
       "Empty DataFrame\n",
       "Columns: [c1, c2, c3]\n",
       "Index: []"
      ]
     },
     "execution_count": null,
     "metadata": {},
     "output_type": "execute_result"
    }
   ],
   "source": [
    "df = generate_db(cols=['c1', 'c2', 'c3'])\n",
    "df.head()"
   ]
  },
  {
   "cell_type": "markdown",
   "metadata": {},
   "source": [
    "Generate `db` with some example data."
   ]
  },
  {
   "cell_type": "code",
   "execution_count": null,
   "metadata": {},
   "outputs": [
    {
     "name": "stdout",
     "output_type": "stream",
     "text": [
      "✓💾 db.csv (99 kb)\n"
     ]
    },
    {
     "data": {
      "text/html": [
       "<div>\n",
       "<style scoped>\n",
       "    .dataframe tbody tr th:only-of-type {\n",
       "        vertical-align: middle;\n",
       "    }\n",
       "\n",
       "    .dataframe tbody tr th {\n",
       "        vertical-align: top;\n",
       "    }\n",
       "\n",
       "    .dataframe thead th {\n",
       "        text-align: right;\n",
       "    }\n",
       "</style>\n",
       "<table border=\"1\" class=\"dataframe\">\n",
       "  <thead>\n",
       "    <tr style=\"text-align: right;\">\n",
       "      <th></th>\n",
       "      <th>name</th>\n",
       "      <th>mood</th>\n",
       "      <th>message</th>\n",
       "      <th>time_utc</th>\n",
       "    </tr>\n",
       "  </thead>\n",
       "  <tbody>\n",
       "    <tr>\n",
       "      <th>0</th>\n",
       "      <td>Sam</td>\n",
       "      <td>😊</td>\n",
       "      <td>hi</td>\n",
       "      <td>2021-11-05 22:29:04</td>\n",
       "    </tr>\n",
       "    <tr>\n",
       "      <th>1</th>\n",
       "      <td>Grant</td>\n",
       "      <td>😵</td>\n",
       "      <td>hello</td>\n",
       "      <td>2021-11-05 22:29:04</td>\n",
       "    </tr>\n",
       "  </tbody>\n",
       "</table>\n",
       "</div>"
      ],
      "text/plain": [
       "    name mood message             time_utc\n",
       "0    Sam    😊      hi  2021-11-05 22:29:04\n",
       "1  Grant    😵   hello  2021-11-05 22:29:04"
      ]
     },
     "execution_count": null,
     "metadata": {},
     "output_type": "execute_result"
    }
   ],
   "source": [
    "df = generate_db(prefill=True)\n",
    "df.head()"
   ]
  },
  {
   "cell_type": "markdown",
   "metadata": {},
   "source": [
    "## 2.0 Insert Row"
   ]
  },
  {
   "cell_type": "code",
   "execution_count": null,
   "metadata": {},
   "outputs": [],
   "source": [
    "#export\n",
    "\n",
    "def insert_row(df, data, dbpath='db.csv'):\n",
    "    new_row = pd.Series(data)\n",
    "    df = df.append(new_row, ignore_index=True)\n",
    "    df.to_csv(dbpath, index=None)\n",
    "    return df\n",
    "\n",
    "def insert_rows(df, data, dbpath='db.csv'):\n",
    "    new_rows = pd.DataFrame.from_dict(data)\n",
    "    df = df.append(new_rows, ignore_index=True)\n",
    "    df.to_csv(dbpath, index=None)\n",
    "    return df\n"
   ]
  },
  {
   "cell_type": "markdown",
   "metadata": {},
   "source": [
    "### Example: Insert single row"
   ]
  },
  {
   "cell_type": "code",
   "execution_count": null,
   "metadata": {},
   "outputs": [
    {
     "name": "stdout",
     "output_type": "stream",
     "text": [
      "✓💾 db.csv (19 kb)\n"
     ]
    },
    {
     "data": {
      "text/html": [
       "<div>\n",
       "<style scoped>\n",
       "    .dataframe tbody tr th:only-of-type {\n",
       "        vertical-align: middle;\n",
       "    }\n",
       "\n",
       "    .dataframe tbody tr th {\n",
       "        vertical-align: top;\n",
       "    }\n",
       "\n",
       "    .dataframe thead th {\n",
       "        text-align: right;\n",
       "    }\n",
       "</style>\n",
       "<table border=\"1\" class=\"dataframe\">\n",
       "  <thead>\n",
       "    <tr style=\"text-align: right;\">\n",
       "      <th></th>\n",
       "      <th>name</th>\n",
       "      <th>mood</th>\n",
       "      <th>message</th>\n",
       "    </tr>\n",
       "  </thead>\n",
       "  <tbody>\n",
       "    <tr>\n",
       "      <th>0</th>\n",
       "      <td>George</td>\n",
       "      <td>👹</td>\n",
       "      <td>hi</td>\n",
       "    </tr>\n",
       "  </tbody>\n",
       "</table>\n",
       "</div>"
      ],
      "text/plain": [
       "     name mood message\n",
       "0  George    👹      hi"
      ]
     },
     "metadata": {},
     "output_type": "display_data"
    }
   ],
   "source": [
    "df = generate_db(cols='name mood message'.split())\n",
    "\n",
    "# ================================================================ #\n",
    "\n",
    "data = {'name':'George', 'mood': '👹', 'message':'hi'}\n",
    "df = insert_row(df, data)\n",
    "\n",
    "# ================================================================ #\n",
    "\n",
    "display(df)\n"
   ]
  },
  {
   "cell_type": "markdown",
   "metadata": {},
   "source": [
    "### Example: Insert multiple rows\n",
    "Note: `prodb` allows additional columns to be added after the database has been initialised.   \n",
    " \n",
    "i.e. the `['name', 'mood', 'message']` columns that initialise the db, play nice when the additional `time_utc` dict is passed in. NaNs are imputed for previous rows."
   ]
  },
  {
   "cell_type": "markdown",
   "metadata": {},
   "source": [
    "First, a helper function to clean up timestamp calls."
   ]
  },
  {
   "cell_type": "code",
   "execution_count": null,
   "metadata": {},
   "outputs": [],
   "source": [
    "# export\n",
    "def utc_now():\n",
    "    return arrow.utcnow().format('YYYY-MM-DD HH:mm:ss')"
   ]
  },
  {
   "cell_type": "code",
   "execution_count": null,
   "metadata": {},
   "outputs": [
    {
     "name": "stdout",
     "output_type": "stream",
     "text": [
      "✓💾 db.csv (19 kb)\n"
     ]
    },
    {
     "data": {
      "text/html": [
       "<div>\n",
       "<style scoped>\n",
       "    .dataframe tbody tr th:only-of-type {\n",
       "        vertical-align: middle;\n",
       "    }\n",
       "\n",
       "    .dataframe tbody tr th {\n",
       "        vertical-align: top;\n",
       "    }\n",
       "\n",
       "    .dataframe thead th {\n",
       "        text-align: right;\n",
       "    }\n",
       "</style>\n",
       "<table border=\"1\" class=\"dataframe\">\n",
       "  <thead>\n",
       "    <tr style=\"text-align: right;\">\n",
       "      <th></th>\n",
       "      <th>name</th>\n",
       "      <th>mood</th>\n",
       "      <th>message</th>\n",
       "      <th>time_utc</th>\n",
       "    </tr>\n",
       "  </thead>\n",
       "  <tbody>\n",
       "    <tr>\n",
       "      <th>0</th>\n",
       "      <td>Sam</td>\n",
       "      <td>😊</td>\n",
       "      <td>hello from London, UK</td>\n",
       "      <td>2021-11-05 22:29:05</td>\n",
       "    </tr>\n",
       "    <tr>\n",
       "      <th>1</th>\n",
       "      <td>Grant</td>\n",
       "      <td>😵</td>\n",
       "      <td>hello from Christchurch, NZ</td>\n",
       "      <td>2021-11-05 22:29:05</td>\n",
       "    </tr>\n",
       "  </tbody>\n",
       "</table>\n",
       "</div>"
      ],
      "text/plain": [
       "    name mood                      message             time_utc\n",
       "0    Sam    😊        hello from London, UK  2021-11-05 22:29:05\n",
       "1  Grant    😵  hello from Christchurch, NZ  2021-11-05 22:29:05"
      ]
     },
     "metadata": {},
     "output_type": "display_data"
    }
   ],
   "source": [
    "df = generate_db(cols='name mood message'.split())\n",
    "\n",
    "# ================================================================ #\n",
    "\n",
    "data = {'name': ['Sam', 'Grant'],\n",
    "        'mood': ['😊', '😵'],\n",
    "        'message': ['hello from London, UK', 'hello from Christchurch, NZ'],\n",
    "        'time_utc' : [utc_now(), utc_now()]}\n",
    "\n",
    "df = insert_rows(df, data)\n",
    "\n",
    "# ================================================================ #\n",
    "\n",
    "display(df)"
   ]
  },
  {
   "cell_type": "markdown",
   "metadata": {},
   "source": [
    "Add another entry to the bottom of the database using `insert_row()`.   \n",
    "\n",
    "Note: Data columns from dictionary do not need to be in pre-defined order."
   ]
  },
  {
   "cell_type": "code",
   "execution_count": null,
   "metadata": {},
   "outputs": [
    {
     "data": {
      "text/html": [
       "<div>\n",
       "<style scoped>\n",
       "    .dataframe tbody tr th:only-of-type {\n",
       "        vertical-align: middle;\n",
       "    }\n",
       "\n",
       "    .dataframe tbody tr th {\n",
       "        vertical-align: top;\n",
       "    }\n",
       "\n",
       "    .dataframe thead th {\n",
       "        text-align: right;\n",
       "    }\n",
       "</style>\n",
       "<table border=\"1\" class=\"dataframe\">\n",
       "  <thead>\n",
       "    <tr style=\"text-align: right;\">\n",
       "      <th></th>\n",
       "      <th>name</th>\n",
       "      <th>mood</th>\n",
       "      <th>message</th>\n",
       "      <th>time_utc</th>\n",
       "    </tr>\n",
       "  </thead>\n",
       "  <tbody>\n",
       "    <tr>\n",
       "      <th>0</th>\n",
       "      <td>Sam</td>\n",
       "      <td>😊</td>\n",
       "      <td>hello from London, UK</td>\n",
       "      <td>2021-11-05 22:29:05</td>\n",
       "    </tr>\n",
       "    <tr>\n",
       "      <th>1</th>\n",
       "      <td>Grant</td>\n",
       "      <td>😵</td>\n",
       "      <td>hello from Christchurch, NZ</td>\n",
       "      <td>2021-11-05 22:29:05</td>\n",
       "    </tr>\n",
       "    <tr>\n",
       "      <th>2</th>\n",
       "      <td>Luke</td>\n",
       "      <td>👹</td>\n",
       "      <td>hello from London, UK</td>\n",
       "      <td>2021-11-05 22:29:05</td>\n",
       "    </tr>\n",
       "  </tbody>\n",
       "</table>\n",
       "</div>"
      ],
      "text/plain": [
       "    name mood                      message             time_utc\n",
       "0    Sam    😊        hello from London, UK  2021-11-05 22:29:05\n",
       "1  Grant    😵  hello from Christchurch, NZ  2021-11-05 22:29:05\n",
       "2   Luke    👹        hello from London, UK  2021-11-05 22:29:05"
      ]
     },
     "metadata": {},
     "output_type": "display_data"
    }
   ],
   "source": [
    "data = {'time_utc' : utc_now(),\n",
    "        'name': 'Luke', \n",
    "        'mood': '👹', \n",
    "        'message': 'hello from London, UK'}\n",
    "df = insert_row(df, data)\n",
    "\n",
    "display(df)"
   ]
  },
  {
   "cell_type": "code",
   "execution_count": null,
   "metadata": {},
   "outputs": [
    {
     "data": {
      "text/html": [
       "<div>\n",
       "<style scoped>\n",
       "    .dataframe tbody tr th:only-of-type {\n",
       "        vertical-align: middle;\n",
       "    }\n",
       "\n",
       "    .dataframe tbody tr th {\n",
       "        vertical-align: top;\n",
       "    }\n",
       "\n",
       "    .dataframe thead th {\n",
       "        text-align: right;\n",
       "    }\n",
       "</style>\n",
       "<table border=\"1\" class=\"dataframe\">\n",
       "  <thead>\n",
       "    <tr style=\"text-align: right;\">\n",
       "      <th></th>\n",
       "      <th>name</th>\n",
       "      <th>mood</th>\n",
       "      <th>message</th>\n",
       "      <th>time_utc</th>\n",
       "    </tr>\n",
       "  </thead>\n",
       "  <tbody>\n",
       "    <tr>\n",
       "      <th>0</th>\n",
       "      <td>Sam</td>\n",
       "      <td>😊</td>\n",
       "      <td>hello from London, UK</td>\n",
       "      <td>2021-11-05 22:29:05</td>\n",
       "    </tr>\n",
       "    <tr>\n",
       "      <th>1</th>\n",
       "      <td>Grant</td>\n",
       "      <td>😵</td>\n",
       "      <td>hello from Christchurch, NZ</td>\n",
       "      <td>2021-11-05 22:29:05</td>\n",
       "    </tr>\n",
       "    <tr>\n",
       "      <th>2</th>\n",
       "      <td>Luke</td>\n",
       "      <td>👹</td>\n",
       "      <td>hello from London, UK</td>\n",
       "      <td>2021-11-05 22:29:05</td>\n",
       "    </tr>\n",
       "    <tr>\n",
       "      <th>3</th>\n",
       "      <td>Bill</td>\n",
       "      <td>👹</td>\n",
       "      <td>hi</td>\n",
       "      <td>2021-11-05 22:29:05</td>\n",
       "    </tr>\n",
       "  </tbody>\n",
       "</table>\n",
       "</div>"
      ],
      "text/plain": [
       "    name mood                      message             time_utc\n",
       "0    Sam    😊        hello from London, UK  2021-11-05 22:29:05\n",
       "1  Grant    😵  hello from Christchurch, NZ  2021-11-05 22:29:05\n",
       "2   Luke    👹        hello from London, UK  2021-11-05 22:29:05\n",
       "3   Bill    👹                           hi  2021-11-05 22:29:05"
      ]
     },
     "metadata": {},
     "output_type": "display_data"
    }
   ],
   "source": [
    "data = {'name':'Bill', 'mood': '👹', 'message':'hi', 'time_utc':arrow.utcnow().format('YYYY-MM-DD HH:mm:ss')}\n",
    "df = insert_row(df, data)\n",
    "display(df)"
   ]
  },
  {
   "cell_type": "code",
   "execution_count": null,
   "metadata": {},
   "outputs": [],
   "source": [
    "#export\n",
    "def readable_df(df, max_rows=8, drop_cols=None):\n",
    "    if 'time_utc' in df.columns:\n",
    "        df['human_time'] = df.time_utc.apply(lambda x: arrow.get(x).humanize())\n",
    "    if drop_cols:\n",
    "        df = df.drop(drop_cols, axis=1)\n",
    "    return df.tail(8)"
   ]
  },
  {
   "cell_type": "code",
   "execution_count": null,
   "metadata": {},
   "outputs": [
    {
     "data": {
      "text/html": [
       "<div>\n",
       "<style scoped>\n",
       "    .dataframe tbody tr th:only-of-type {\n",
       "        vertical-align: middle;\n",
       "    }\n",
       "\n",
       "    .dataframe tbody tr th {\n",
       "        vertical-align: top;\n",
       "    }\n",
       "\n",
       "    .dataframe thead th {\n",
       "        text-align: right;\n",
       "    }\n",
       "</style>\n",
       "<table border=\"1\" class=\"dataframe\">\n",
       "  <thead>\n",
       "    <tr style=\"text-align: right;\">\n",
       "      <th></th>\n",
       "      <th>name</th>\n",
       "      <th>mood</th>\n",
       "      <th>message</th>\n",
       "      <th>time_utc</th>\n",
       "      <th>human_time</th>\n",
       "    </tr>\n",
       "  </thead>\n",
       "  <tbody>\n",
       "    <tr>\n",
       "      <th>2</th>\n",
       "      <td>Luke</td>\n",
       "      <td>👹</td>\n",
       "      <td>hello from London, UK</td>\n",
       "      <td>2021-11-05 22:29:05</td>\n",
       "      <td>46 seconds ago</td>\n",
       "    </tr>\n",
       "    <tr>\n",
       "      <th>3</th>\n",
       "      <td>Bill</td>\n",
       "      <td>👹</td>\n",
       "      <td>hi</td>\n",
       "      <td>2021-11-05 22:29:05</td>\n",
       "      <td>46 seconds ago</td>\n",
       "    </tr>\n",
       "    <tr>\n",
       "      <th>4</th>\n",
       "      <td>Luke</td>\n",
       "      <td>😊</td>\n",
       "      <td>hello, from UK</td>\n",
       "      <td>2021-11-05 22:29:06</td>\n",
       "      <td>45 seconds ago</td>\n",
       "    </tr>\n",
       "    <tr>\n",
       "      <th>5</th>\n",
       "      <td>Luke</td>\n",
       "      <td>😊</td>\n",
       "      <td>hello, from UK</td>\n",
       "      <td>2021-11-05 22:29:10</td>\n",
       "      <td>41 seconds ago</td>\n",
       "    </tr>\n",
       "    <tr>\n",
       "      <th>6</th>\n",
       "      <td>Luke</td>\n",
       "      <td>😊</td>\n",
       "      <td>hello, from UK</td>\n",
       "      <td>2021-11-05 22:29:36</td>\n",
       "      <td>15 seconds ago</td>\n",
       "    </tr>\n",
       "    <tr>\n",
       "      <th>7</th>\n",
       "      <td>Luke</td>\n",
       "      <td>😊</td>\n",
       "      <td>hello, from UK</td>\n",
       "      <td>2021-11-05 22:29:40</td>\n",
       "      <td>11 seconds ago</td>\n",
       "    </tr>\n",
       "    <tr>\n",
       "      <th>8</th>\n",
       "      <td>Luke</td>\n",
       "      <td>😊</td>\n",
       "      <td>hello, from UK</td>\n",
       "      <td>2021-11-05 22:29:44</td>\n",
       "      <td>just now</td>\n",
       "    </tr>\n",
       "    <tr>\n",
       "      <th>9</th>\n",
       "      <td>Luke</td>\n",
       "      <td>😊</td>\n",
       "      <td>hello, from UK</td>\n",
       "      <td>2021-11-05 22:29:50</td>\n",
       "      <td>just now</td>\n",
       "    </tr>\n",
       "  </tbody>\n",
       "</table>\n",
       "</div>"
      ],
      "text/plain": [
       "   name mood                message             time_utc      human_time\n",
       "2  Luke    👹  hello from London, UK  2021-11-05 22:29:05  46 seconds ago\n",
       "3  Bill    👹                     hi  2021-11-05 22:29:05  46 seconds ago\n",
       "4  Luke    😊         hello, from UK  2021-11-05 22:29:06  45 seconds ago\n",
       "5  Luke    😊         hello, from UK  2021-11-05 22:29:10  41 seconds ago\n",
       "6  Luke    😊         hello, from UK  2021-11-05 22:29:36  15 seconds ago\n",
       "7  Luke    😊         hello, from UK  2021-11-05 22:29:40  11 seconds ago\n",
       "8  Luke    😊         hello, from UK  2021-11-05 22:29:44        just now\n",
       "9  Luke    😊         hello, from UK  2021-11-05 22:29:50        just now"
      ]
     },
     "execution_count": null,
     "metadata": {},
     "output_type": "execute_result"
    }
   ],
   "source": [
    "data = {'name':'Luke', \n",
    "        'mood': '😊', \n",
    "        'message': 'hello, from UK',\n",
    "        'time_utc': utc_now()}\n",
    "df = insert_row(df, data)\n",
    "readable_df(df, max_rows=10)"
   ]
  },
  {
   "cell_type": "code",
   "execution_count": null,
   "metadata": {},
   "outputs": [],
   "source": []
  },
  {
   "cell_type": "code",
   "execution_count": null,
   "metadata": {},
   "outputs": [],
   "source": []
  }
 ],
 "metadata": {
  "kernelspec": {
   "display_name": "Python 3 (ipykernel)",
   "language": "python",
   "name": "python3"
  }
 },
 "nbformat": 4,
 "nbformat_minor": 2
}
