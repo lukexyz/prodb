{
 "cells": [
  {
   "cell_type": "code",
   "execution_count": null,
   "metadata": {},
   "outputs": [],
   "source": [
    "# default_exp core"
   ]
  },
  {
   "cell_type": "markdown",
   "metadata": {},
   "source": [
    "# 00 Prodb API details\n",
    "\n",
    "> `nbdev` Example function."
   ]
  },
  {
   "cell_type": "code",
   "execution_count": null,
   "metadata": {},
   "outputs": [],
   "source": [
    "#hide\n",
    "from nbdev.showdoc import *\n",
    "%load_ext autoreload\n",
    "%autoreload 2"
   ]
  },
  {
   "cell_type": "markdown",
   "metadata": {},
   "source": [
    "## Prodb API\n",
    "Create pandas dataframe for manipulation"
   ]
  },
  {
   "cell_type": "code",
   "execution_count": null,
   "metadata": {},
   "outputs": [],
   "source": [
    "#export\n",
    "#hide\n",
    "import pandas as pd\n",
    "import arrow\n",
    "import os\n",
    "from time import gmtime, strftime\n",
    "#from prodb.core import generate_db, insert_row, utc_now, readable_df"
   ]
  },
  {
   "cell_type": "markdown",
   "metadata": {},
   "source": [
    "## 1.0 Generate Db\n",
    "Initialise database with `generate_db` call. "
   ]
  },
  {
   "cell_type": "code",
   "execution_count": null,
   "metadata": {},
   "outputs": [],
   "source": [
    "# export\n",
    "\n",
    "def generate_db(dbpath='db.csv', \n",
    "                cols=['_c1', '_c2', '_c3'],\n",
    "                verbose=True,\n",
    "                prefill=False):\n",
    "    \"\"\"Create example database\"\"\"\n",
    "    if prefill:\n",
    "        df = pd.DataFrame({'name': ['Sam', 'Grant'],\n",
    "                           'mood': ['😊', '😵'],\n",
    "                           'message': ['hi', 'hello'],\n",
    "                           'time_utc' : [arrow.utcnow().format('YYYY-MM-DD HH:mm:ss'),\n",
    "                                         arrow.utcnow().format('YYYY-MM-DD HH:mm:ss')]})\n",
    "    else:\n",
    "        df = pd.DataFrame(columns=cols)\n",
    "    df.to_csv(dbpath, index=None)\n",
    "    if verbose: print(f'✓💾 {dbpath} ({os.path.getsize(dbpath)} kb)')\n",
    "    return df\n"
   ]
  },
  {
   "cell_type": "markdown",
   "metadata": {},
   "source": [
    "Generate empty `db` object with arbitary columns."
   ]
  },
  {
   "cell_type": "code",
   "execution_count": null,
   "metadata": {},
   "outputs": [
    {
     "name": "stdout",
     "output_type": "stream",
     "text": [
      "✓💾 db.csv (9 kb)\n"
     ]
    },
    {
     "data": {
      "text/html": [
       "<div>\n",
       "<style scoped>\n",
       "    .dataframe tbody tr th:only-of-type {\n",
       "        vertical-align: middle;\n",
       "    }\n",
       "\n",
       "    .dataframe tbody tr th {\n",
       "        vertical-align: top;\n",
       "    }\n",
       "\n",
       "    .dataframe thead th {\n",
       "        text-align: right;\n",
       "    }\n",
       "</style>\n",
       "<table border=\"1\" class=\"dataframe\">\n",
       "  <thead>\n",
       "    <tr style=\"text-align: right;\">\n",
       "      <th></th>\n",
       "      <th>c1</th>\n",
       "      <th>c2</th>\n",
       "      <th>c3</th>\n",
       "    </tr>\n",
       "  </thead>\n",
       "  <tbody>\n",
       "  </tbody>\n",
       "</table>\n",
       "</div>"
      ],
      "text/plain": [
       "Empty DataFrame\n",
       "Columns: [c1, c2, c3]\n",
       "Index: []"
      ]
     },
     "execution_count": null,
     "metadata": {},
     "output_type": "execute_result"
    }
   ],
   "source": [
    "df = generate_db(cols=['c1', 'c2', 'c3'])\n",
    "df.head()"
   ]
  },
  {
   "cell_type": "markdown",
   "metadata": {},
   "source": [
    "Generate `db` with some example data."
   ]
  },
  {
   "cell_type": "code",
   "execution_count": null,
   "metadata": {},
   "outputs": [
    {
     "name": "stdout",
     "output_type": "stream",
     "text": [
      "✓💾 db.csv (96 kb)\n"
     ]
    },
    {
     "data": {
      "text/html": [
       "<div>\n",
       "<style scoped>\n",
       "    .dataframe tbody tr th:only-of-type {\n",
       "        vertical-align: middle;\n",
       "    }\n",
       "\n",
       "    .dataframe tbody tr th {\n",
       "        vertical-align: top;\n",
       "    }\n",
       "\n",
       "    .dataframe thead th {\n",
       "        text-align: right;\n",
       "    }\n",
       "</style>\n",
       "<table border=\"1\" class=\"dataframe\">\n",
       "  <thead>\n",
       "    <tr style=\"text-align: right;\">\n",
       "      <th></th>\n",
       "      <th>name</th>\n",
       "      <th>mood</th>\n",
       "      <th>message</th>\n",
       "      <th>time_utc</th>\n",
       "    </tr>\n",
       "  </thead>\n",
       "  <tbody>\n",
       "    <tr>\n",
       "      <th>0</th>\n",
       "      <td>Sam</td>\n",
       "      <td>😊</td>\n",
       "      <td>hi</td>\n",
       "      <td>2021-12-30 15:43:28</td>\n",
       "    </tr>\n",
       "    <tr>\n",
       "      <th>1</th>\n",
       "      <td>Grant</td>\n",
       "      <td>😵</td>\n",
       "      <td>hello</td>\n",
       "      <td>2021-12-30 15:43:28</td>\n",
       "    </tr>\n",
       "  </tbody>\n",
       "</table>\n",
       "</div>"
      ],
      "text/plain": [
       "    name mood message             time_utc\n",
       "0    Sam    😊      hi  2021-12-30 15:43:28\n",
       "1  Grant    😵   hello  2021-12-30 15:43:28"
      ]
     },
     "execution_count": null,
     "metadata": {},
     "output_type": "execute_result"
    }
   ],
   "source": [
    "df = generate_db(prefill=True)\n",
    "df.head()"
   ]
  },
  {
   "cell_type": "markdown",
   "metadata": {},
   "source": [
    "## 2.0 Insert Row"
   ]
  },
  {
   "cell_type": "code",
   "execution_count": null,
   "metadata": {},
   "outputs": [],
   "source": [
    "#export\n",
    "\n",
    "def insert_row(df, data, dbpath='db.csv'):\n",
    "    new_row = pd.Series(data)\n",
    "    df = df.append(new_row, ignore_index=True)\n",
    "    df.to_csv(dbpath, index=None)\n",
    "    return df\n",
    "\n",
    "def insert_rows(df, data, dbpath='db.csv'):\n",
    "    new_rows = pd.DataFrame.from_dict(data)\n",
    "    df = df.append(new_rows, ignore_index=True)\n",
    "    df.to_csv(dbpath, index=None)\n",
    "    return df\n"
   ]
  },
  {
   "cell_type": "markdown",
   "metadata": {},
   "source": [
    "### Example: Insert single row"
   ]
  },
  {
   "cell_type": "code",
   "execution_count": null,
   "metadata": {},
   "outputs": [
    {
     "name": "stdout",
     "output_type": "stream",
     "text": [
      "✓💾 db.csv (18 kb)\n"
     ]
    },
    {
     "data": {
      "text/html": [
       "<div>\n",
       "<style scoped>\n",
       "    .dataframe tbody tr th:only-of-type {\n",
       "        vertical-align: middle;\n",
       "    }\n",
       "\n",
       "    .dataframe tbody tr th {\n",
       "        vertical-align: top;\n",
       "    }\n",
       "\n",
       "    .dataframe thead th {\n",
       "        text-align: right;\n",
       "    }\n",
       "</style>\n",
       "<table border=\"1\" class=\"dataframe\">\n",
       "  <thead>\n",
       "    <tr style=\"text-align: right;\">\n",
       "      <th></th>\n",
       "      <th>name</th>\n",
       "      <th>mood</th>\n",
       "      <th>message</th>\n",
       "    </tr>\n",
       "  </thead>\n",
       "  <tbody>\n",
       "    <tr>\n",
       "      <th>0</th>\n",
       "      <td>George</td>\n",
       "      <td>👹</td>\n",
       "      <td>hi</td>\n",
       "    </tr>\n",
       "  </tbody>\n",
       "</table>\n",
       "</div>"
      ],
      "text/plain": [
       "     name mood message\n",
       "0  George    👹      hi"
      ]
     },
     "metadata": {},
     "output_type": "display_data"
    }
   ],
   "source": [
    "df = generate_db(cols='name mood message'.split())\n",
    "\n",
    "# ================================================================ #\n",
    "\n",
    "data = {'name':'George', 'mood': '👹', 'message':'hi'}\n",
    "df = insert_row(df, data)\n",
    "\n",
    "# ================================================================ #\n",
    "\n",
    "display(df)\n"
   ]
  },
  {
   "cell_type": "markdown",
   "metadata": {},
   "source": [
    "### Example: Insert multiple rows\n",
    "Note: `prodb` allows additional columns to be added after the database has been initialised.   \n",
    " \n",
    "i.e. the `['name', 'mood', 'message']` columns that initialise the db, play nice when the additional `time_utc` dict is passed in. NaNs are imputed for previous rows."
   ]
  },
  {
   "cell_type": "markdown",
   "metadata": {},
   "source": [
    "First, a helper function to clean up timestamp calls."
   ]
  },
  {
   "cell_type": "code",
   "execution_count": null,
   "metadata": {},
   "outputs": [],
   "source": [
    "# export\n",
    "def utc_now():\n",
    "    return arrow.utcnow().format('YYYY-MM-DD HH:mm:ss')"
   ]
  },
  {
   "cell_type": "code",
   "execution_count": null,
   "metadata": {},
   "outputs": [
    {
     "name": "stdout",
     "output_type": "stream",
     "text": [
      "✓💾 db.csv (18 kb)\n"
     ]
    },
    {
     "data": {
      "text/html": [
       "<div>\n",
       "<style scoped>\n",
       "    .dataframe tbody tr th:only-of-type {\n",
       "        vertical-align: middle;\n",
       "    }\n",
       "\n",
       "    .dataframe tbody tr th {\n",
       "        vertical-align: top;\n",
       "    }\n",
       "\n",
       "    .dataframe thead th {\n",
       "        text-align: right;\n",
       "    }\n",
       "</style>\n",
       "<table border=\"1\" class=\"dataframe\">\n",
       "  <thead>\n",
       "    <tr style=\"text-align: right;\">\n",
       "      <th></th>\n",
       "      <th>name</th>\n",
       "      <th>mood</th>\n",
       "      <th>message</th>\n",
       "      <th>time_utc</th>\n",
       "    </tr>\n",
       "  </thead>\n",
       "  <tbody>\n",
       "    <tr>\n",
       "      <th>0</th>\n",
       "      <td>Sam</td>\n",
       "      <td>😊</td>\n",
       "      <td>hello from London, UK</td>\n",
       "      <td>2021-12-30 15:43:34</td>\n",
       "    </tr>\n",
       "    <tr>\n",
       "      <th>1</th>\n",
       "      <td>Grant</td>\n",
       "      <td>😵</td>\n",
       "      <td>hello from Christchurch, NZ</td>\n",
       "      <td>2021-12-30 15:43:34</td>\n",
       "    </tr>\n",
       "  </tbody>\n",
       "</table>\n",
       "</div>"
      ],
      "text/plain": [
       "    name mood                      message             time_utc\n",
       "0    Sam    😊        hello from London, UK  2021-12-30 15:43:34\n",
       "1  Grant    😵  hello from Christchurch, NZ  2021-12-30 15:43:34"
      ]
     },
     "metadata": {},
     "output_type": "display_data"
    }
   ],
   "source": [
    "df = generate_db(cols='name mood message'.split())\n",
    "\n",
    "# ================================================================ #\n",
    "\n",
    "data = {'name': ['Sam', 'Grant'],\n",
    "        'mood': ['😊', '😵'],\n",
    "        'message': ['hello from London, UK', 'hello from Christchurch, NZ'],\n",
    "        'time_utc' : [utc_now(), utc_now()]}\n",
    "\n",
    "df = insert_rows(df, data)\n",
    "\n",
    "# ================================================================ #\n",
    "\n",
    "display(df)"
   ]
  },
  {
   "cell_type": "markdown",
   "metadata": {},
   "source": [
    "Add another entry to the bottom of the database using `insert_row()`.   \n",
    "\n",
    "Note: Data columns from dictionary do not need to be in pre-defined order."
   ]
  },
  {
   "cell_type": "code",
   "execution_count": null,
   "metadata": {},
   "outputs": [
    {
     "data": {
      "text/html": [
       "<div>\n",
       "<style scoped>\n",
       "    .dataframe tbody tr th:only-of-type {\n",
       "        vertical-align: middle;\n",
       "    }\n",
       "\n",
       "    .dataframe tbody tr th {\n",
       "        vertical-align: top;\n",
       "    }\n",
       "\n",
       "    .dataframe thead th {\n",
       "        text-align: right;\n",
       "    }\n",
       "</style>\n",
       "<table border=\"1\" class=\"dataframe\">\n",
       "  <thead>\n",
       "    <tr style=\"text-align: right;\">\n",
       "      <th></th>\n",
       "      <th>name</th>\n",
       "      <th>mood</th>\n",
       "      <th>message</th>\n",
       "      <th>time_utc</th>\n",
       "    </tr>\n",
       "  </thead>\n",
       "  <tbody>\n",
       "    <tr>\n",
       "      <th>0</th>\n",
       "      <td>Sam</td>\n",
       "      <td>😊</td>\n",
       "      <td>hello from London, UK</td>\n",
       "      <td>2021-12-30 15:43:34</td>\n",
       "    </tr>\n",
       "    <tr>\n",
       "      <th>1</th>\n",
       "      <td>Grant</td>\n",
       "      <td>😵</td>\n",
       "      <td>hello from Christchurch, NZ</td>\n",
       "      <td>2021-12-30 15:43:34</td>\n",
       "    </tr>\n",
       "    <tr>\n",
       "      <th>2</th>\n",
       "      <td>Luke</td>\n",
       "      <td>👹</td>\n",
       "      <td>hello from London, UK</td>\n",
       "      <td>2021-12-30 15:43:36</td>\n",
       "    </tr>\n",
       "  </tbody>\n",
       "</table>\n",
       "</div>"
      ],
      "text/plain": [
       "    name mood                      message             time_utc\n",
       "0    Sam    😊        hello from London, UK  2021-12-30 15:43:34\n",
       "1  Grant    😵  hello from Christchurch, NZ  2021-12-30 15:43:34\n",
       "2   Luke    👹        hello from London, UK  2021-12-30 15:43:36"
      ]
     },
     "metadata": {},
     "output_type": "display_data"
    }
   ],
   "source": [
    "data = {'time_utc' : utc_now(),\n",
    "        'name': 'Luke', \n",
    "        'mood': '👹', \n",
    "        'message': 'hello from London, UK'}\n",
    "df = insert_row(df, data)\n",
    "\n",
    "display(df)"
   ]
  },
  {
   "cell_type": "code",
   "execution_count": null,
   "metadata": {},
   "outputs": [
    {
     "data": {
      "text/html": [
       "<div>\n",
       "<style scoped>\n",
       "    .dataframe tbody tr th:only-of-type {\n",
       "        vertical-align: middle;\n",
       "    }\n",
       "\n",
       "    .dataframe tbody tr th {\n",
       "        vertical-align: top;\n",
       "    }\n",
       "\n",
       "    .dataframe thead th {\n",
       "        text-align: right;\n",
       "    }\n",
       "</style>\n",
       "<table border=\"1\" class=\"dataframe\">\n",
       "  <thead>\n",
       "    <tr style=\"text-align: right;\">\n",
       "      <th></th>\n",
       "      <th>name</th>\n",
       "      <th>mood</th>\n",
       "      <th>message</th>\n",
       "      <th>time_utc</th>\n",
       "    </tr>\n",
       "  </thead>\n",
       "  <tbody>\n",
       "    <tr>\n",
       "      <th>0</th>\n",
       "      <td>Sam</td>\n",
       "      <td>😊</td>\n",
       "      <td>hello from London, UK</td>\n",
       "      <td>2021-12-30 15:43:34</td>\n",
       "    </tr>\n",
       "    <tr>\n",
       "      <th>1</th>\n",
       "      <td>Grant</td>\n",
       "      <td>😵</td>\n",
       "      <td>hello from Christchurch, NZ</td>\n",
       "      <td>2021-12-30 15:43:34</td>\n",
       "    </tr>\n",
       "    <tr>\n",
       "      <th>2</th>\n",
       "      <td>Luke</td>\n",
       "      <td>👹</td>\n",
       "      <td>hello from London, UK</td>\n",
       "      <td>2021-12-30 15:43:36</td>\n",
       "    </tr>\n",
       "    <tr>\n",
       "      <th>3</th>\n",
       "      <td>Bill</td>\n",
       "      <td>👹</td>\n",
       "      <td>hi</td>\n",
       "      <td>2021-12-30 15:43:38</td>\n",
       "    </tr>\n",
       "  </tbody>\n",
       "</table>\n",
       "</div>"
      ],
      "text/plain": [
       "    name mood                      message             time_utc\n",
       "0    Sam    😊        hello from London, UK  2021-12-30 15:43:34\n",
       "1  Grant    😵  hello from Christchurch, NZ  2021-12-30 15:43:34\n",
       "2   Luke    👹        hello from London, UK  2021-12-30 15:43:36\n",
       "3   Bill    👹                           hi  2021-12-30 15:43:38"
      ]
     },
     "metadata": {},
     "output_type": "display_data"
    }
   ],
   "source": [
    "data = {'name':'Bill', 'mood': '👹', 'message':'hi', 'time_utc':arrow.utcnow().format('YYYY-MM-DD HH:mm:ss')}\n",
    "df = insert_row(df, data)\n",
    "display(df)"
   ]
  },
  {
   "cell_type": "code",
   "execution_count": null,
   "metadata": {},
   "outputs": [],
   "source": [
    "#export\n",
    "def readable_df(df, max_rows=8, col_name='human_time'):\n",
    "    if 'time_utc' in df.columns:\n",
    "        df[col_name] = df.time_utc.apply(lambda x: arrow.get(x).humanize())\n",
    "    return df.tail(max_rows)"
   ]
  },
  {
   "cell_type": "code",
   "execution_count": null,
   "metadata": {},
   "outputs": [
    {
     "data": {
      "text/html": [
       "<div>\n",
       "<style scoped>\n",
       "    .dataframe tbody tr th:only-of-type {\n",
       "        vertical-align: middle;\n",
       "    }\n",
       "\n",
       "    .dataframe tbody tr th {\n",
       "        vertical-align: top;\n",
       "    }\n",
       "\n",
       "    .dataframe thead th {\n",
       "        text-align: right;\n",
       "    }\n",
       "</style>\n",
       "<table border=\"1\" class=\"dataframe\">\n",
       "  <thead>\n",
       "    <tr style=\"text-align: right;\">\n",
       "      <th></th>\n",
       "      <th>name</th>\n",
       "      <th>mood</th>\n",
       "      <th>message</th>\n",
       "      <th>time_utc</th>\n",
       "      <th>human_time</th>\n",
       "    </tr>\n",
       "  </thead>\n",
       "  <tbody>\n",
       "    <tr>\n",
       "      <th>0</th>\n",
       "      <td>Sam</td>\n",
       "      <td>😊</td>\n",
       "      <td>hello from London, UK</td>\n",
       "      <td>2021-12-30 15:43:34</td>\n",
       "      <td>10 seconds ago</td>\n",
       "    </tr>\n",
       "    <tr>\n",
       "      <th>1</th>\n",
       "      <td>Grant</td>\n",
       "      <td>😵</td>\n",
       "      <td>hello from Christchurch, NZ</td>\n",
       "      <td>2021-12-30 15:43:34</td>\n",
       "      <td>10 seconds ago</td>\n",
       "    </tr>\n",
       "    <tr>\n",
       "      <th>2</th>\n",
       "      <td>Luke</td>\n",
       "      <td>👹</td>\n",
       "      <td>hello from London, UK</td>\n",
       "      <td>2021-12-30 15:43:36</td>\n",
       "      <td>just now</td>\n",
       "    </tr>\n",
       "    <tr>\n",
       "      <th>3</th>\n",
       "      <td>Bill</td>\n",
       "      <td>👹</td>\n",
       "      <td>hi</td>\n",
       "      <td>2021-12-30 15:43:38</td>\n",
       "      <td>just now</td>\n",
       "    </tr>\n",
       "    <tr>\n",
       "      <th>4</th>\n",
       "      <td>Luke</td>\n",
       "      <td>😊</td>\n",
       "      <td>hello, from UK</td>\n",
       "      <td>2021-12-30 15:43:44</td>\n",
       "      <td>just now</td>\n",
       "    </tr>\n",
       "  </tbody>\n",
       "</table>\n",
       "</div>"
      ],
      "text/plain": [
       "    name mood                      message             time_utc  \\\n",
       "0    Sam    😊        hello from London, UK  2021-12-30 15:43:34   \n",
       "1  Grant    😵  hello from Christchurch, NZ  2021-12-30 15:43:34   \n",
       "2   Luke    👹        hello from London, UK  2021-12-30 15:43:36   \n",
       "3   Bill    👹                           hi  2021-12-30 15:43:38   \n",
       "4   Luke    😊               hello, from UK  2021-12-30 15:43:44   \n",
       "\n",
       "       human_time  \n",
       "0  10 seconds ago  \n",
       "1  10 seconds ago  \n",
       "2        just now  \n",
       "3        just now  \n",
       "4        just now  "
      ]
     },
     "execution_count": null,
     "metadata": {},
     "output_type": "execute_result"
    }
   ],
   "source": [
    "data = {'name':'Luke', \n",
    "        'mood': '😊', \n",
    "        'message': 'hello, from UK',\n",
    "        'time_utc': utc_now()}\n",
    "df = insert_row(df, data)\n",
    "readable_df(df, max_rows=10)"
   ]
  },
  {
   "cell_type": "markdown",
   "metadata": {},
   "source": [
    "# Classify\n",
    "Extending pandas dataframes with our custom functions."
   ]
  },
  {
   "cell_type": "code",
   "execution_count": null,
   "metadata": {},
   "outputs": [],
   "source": [
    "#export\n",
    "\n",
    "class Prodb(pd.DataFrame):\n",
    "    # persistent properties\n",
    "    _metadata = [\"dbpath\"]\n",
    "\n",
    "    @property\n",
    "    def _constructor(self):\n",
    "        return Prodb\n",
    "    \n",
    "    def prodb_summary(self):\n",
    "        print(f'✓💾 {self.dbpath} ({os.path.getsize(self.dbpath)} KB)', end='\\t')\n",
    "        print(f\"shape: {self.shape}\", end='')\n",
    "        display(self.tail(5))\n",
    "        \n",
    "    def prodb_generate(self, \n",
    "                       dbpath='db.csv',\n",
    "                       verbose=True):\n",
    "        self.dbpath = dbpath\n",
    "        self.to_csv(dbpath, index=None)\n",
    "        if verbose: self.prodb_summary()\n",
    "    \n",
    "    def prodb_insert(self, \n",
    "                     data):\n",
    "        \"\"\"Insert row(s) into dataframe\"\"\"\n",
    "        if isinstance(list(data.values())[0], str): # single row\n",
    "            ndata = pd.Series(data)\n",
    "        else: ndata = pd.DataFrame.from_dict(data)  # multiple rows\n",
    "\n",
    "        df = self.append(ndata, ignore_index=True)\n",
    "        df.to_csv(df.dbpath, index=None)\n",
    "        return df\n"
   ]
  },
  {
   "cell_type": "markdown",
   "metadata": {},
   "source": [
    "## Initialize"
   ]
  },
  {
   "cell_type": "code",
   "execution_count": null,
   "metadata": {},
   "outputs": [],
   "source": [
    "data = {'name': ['Sam', 'Grant'],\n",
    "        'mood': ['😊', '😵'],\n",
    "        'message': ['hi', 'hello'],\n",
    "        'time_utc' : [arrow.utcnow().format('YYYY-MM-DD HH:mm:ss'),\n",
    "                      arrow.utcnow().format('YYYY-MM-DD HH:mm:ss')]}\n",
    "\n",
    "df = Prodb(data)"
   ]
  },
  {
   "cell_type": "code",
   "execution_count": null,
   "metadata": {},
   "outputs": [
    {
     "name": "stdout",
     "output_type": "stream",
     "text": [
      "✓💾 db.csv (96 KB)\tshape: (2, 4)"
     ]
    },
    {
     "data": {
      "text/html": [
       "<div>\n",
       "<style scoped>\n",
       "    .dataframe tbody tr th:only-of-type {\n",
       "        vertical-align: middle;\n",
       "    }\n",
       "\n",
       "    .dataframe tbody tr th {\n",
       "        vertical-align: top;\n",
       "    }\n",
       "\n",
       "    .dataframe thead th {\n",
       "        text-align: right;\n",
       "    }\n",
       "</style>\n",
       "<table border=\"1\" class=\"dataframe\">\n",
       "  <thead>\n",
       "    <tr style=\"text-align: right;\">\n",
       "      <th></th>\n",
       "      <th>name</th>\n",
       "      <th>mood</th>\n",
       "      <th>message</th>\n",
       "      <th>time_utc</th>\n",
       "    </tr>\n",
       "  </thead>\n",
       "  <tbody>\n",
       "    <tr>\n",
       "      <th>0</th>\n",
       "      <td>Sam</td>\n",
       "      <td>😊</td>\n",
       "      <td>hi</td>\n",
       "      <td>2021-12-30 16:29:55</td>\n",
       "    </tr>\n",
       "    <tr>\n",
       "      <th>1</th>\n",
       "      <td>Grant</td>\n",
       "      <td>😵</td>\n",
       "      <td>hello</td>\n",
       "      <td>2021-12-30 16:29:55</td>\n",
       "    </tr>\n",
       "  </tbody>\n",
       "</table>\n",
       "</div>"
      ],
      "text/plain": [
       "    name mood message             time_utc\n",
       "0    Sam    😊      hi  2021-12-30 16:29:55\n",
       "1  Grant    😵   hello  2021-12-30 16:29:55"
      ]
     },
     "metadata": {},
     "output_type": "display_data"
    }
   ],
   "source": [
    "df.prodb_generate(dbpath='db.csv')"
   ]
  },
  {
   "cell_type": "markdown",
   "metadata": {},
   "source": [
    "## Example: Insert single row"
   ]
  },
  {
   "cell_type": "code",
   "execution_count": null,
   "metadata": {},
   "outputs": [
    {
     "name": "stdout",
     "output_type": "stream",
     "text": [
      "✓💾 db.csv (112 KB)\tshape: (3, 4)"
     ]
    },
    {
     "data": {
      "text/html": [
       "<div>\n",
       "<style scoped>\n",
       "    .dataframe tbody tr th:only-of-type {\n",
       "        vertical-align: middle;\n",
       "    }\n",
       "\n",
       "    .dataframe tbody tr th {\n",
       "        vertical-align: top;\n",
       "    }\n",
       "\n",
       "    .dataframe thead th {\n",
       "        text-align: right;\n",
       "    }\n",
       "</style>\n",
       "<table border=\"1\" class=\"dataframe\">\n",
       "  <thead>\n",
       "    <tr style=\"text-align: right;\">\n",
       "      <th></th>\n",
       "      <th>name</th>\n",
       "      <th>mood</th>\n",
       "      <th>message</th>\n",
       "      <th>time_utc</th>\n",
       "    </tr>\n",
       "  </thead>\n",
       "  <tbody>\n",
       "    <tr>\n",
       "      <th>0</th>\n",
       "      <td>Sam</td>\n",
       "      <td>😊</td>\n",
       "      <td>hi</td>\n",
       "      <td>2021-12-30 16:29:55</td>\n",
       "    </tr>\n",
       "    <tr>\n",
       "      <th>1</th>\n",
       "      <td>Grant</td>\n",
       "      <td>😵</td>\n",
       "      <td>hello</td>\n",
       "      <td>2021-12-30 16:29:55</td>\n",
       "    </tr>\n",
       "    <tr>\n",
       "      <th>2</th>\n",
       "      <td>George</td>\n",
       "      <td>👹</td>\n",
       "      <td>hi</td>\n",
       "      <td>NaN</td>\n",
       "    </tr>\n",
       "  </tbody>\n",
       "</table>\n",
       "</div>"
      ],
      "text/plain": [
       "     name mood message             time_utc\n",
       "0     Sam    😊      hi  2021-12-30 16:29:55\n",
       "1   Grant    😵   hello  2021-12-30 16:29:55\n",
       "2  George    👹      hi                  NaN"
      ]
     },
     "metadata": {},
     "output_type": "display_data"
    }
   ],
   "source": [
    "df = df.prodb_insert({'name':'George', 'mood': '👹', 'message':'hi'})\n",
    "df.prodb_summary()"
   ]
  },
  {
   "cell_type": "markdown",
   "metadata": {},
   "source": [
    "## Example: Insert multiple rows"
   ]
  },
  {
   "cell_type": "code",
   "execution_count": null,
   "metadata": {},
   "outputs": [
    {
     "name": "stdout",
     "output_type": "stream",
     "text": [
      "✓💾 db.csv (188 KB)\tshape: (5, 4)"
     ]
    },
    {
     "data": {
      "text/html": [
       "<div>\n",
       "<style scoped>\n",
       "    .dataframe tbody tr th:only-of-type {\n",
       "        vertical-align: middle;\n",
       "    }\n",
       "\n",
       "    .dataframe tbody tr th {\n",
       "        vertical-align: top;\n",
       "    }\n",
       "\n",
       "    .dataframe thead th {\n",
       "        text-align: right;\n",
       "    }\n",
       "</style>\n",
       "<table border=\"1\" class=\"dataframe\">\n",
       "  <thead>\n",
       "    <tr style=\"text-align: right;\">\n",
       "      <th></th>\n",
       "      <th>name</th>\n",
       "      <th>mood</th>\n",
       "      <th>message</th>\n",
       "      <th>time_utc</th>\n",
       "    </tr>\n",
       "  </thead>\n",
       "  <tbody>\n",
       "    <tr>\n",
       "      <th>0</th>\n",
       "      <td>Sam</td>\n",
       "      <td>😊</td>\n",
       "      <td>hi</td>\n",
       "      <td>2021-12-30 16:29:55</td>\n",
       "    </tr>\n",
       "    <tr>\n",
       "      <th>1</th>\n",
       "      <td>Grant</td>\n",
       "      <td>😵</td>\n",
       "      <td>hello</td>\n",
       "      <td>2021-12-30 16:29:55</td>\n",
       "    </tr>\n",
       "    <tr>\n",
       "      <th>2</th>\n",
       "      <td>George</td>\n",
       "      <td>👹</td>\n",
       "      <td>hi</td>\n",
       "      <td>NaN</td>\n",
       "    </tr>\n",
       "    <tr>\n",
       "      <th>3</th>\n",
       "      <td>Multiple</td>\n",
       "      <td>😊</td>\n",
       "      <td>hello</td>\n",
       "      <td>2021-12-30 16:29:56</td>\n",
       "    </tr>\n",
       "    <tr>\n",
       "      <th>4</th>\n",
       "      <td>Rows</td>\n",
       "      <td>😵</td>\n",
       "      <td>hello</td>\n",
       "      <td>2021-12-30 16:29:56</td>\n",
       "    </tr>\n",
       "  </tbody>\n",
       "</table>\n",
       "</div>"
      ],
      "text/plain": [
       "       name mood message             time_utc\n",
       "0       Sam    😊      hi  2021-12-30 16:29:55\n",
       "1     Grant    😵   hello  2021-12-30 16:29:55\n",
       "2    George    👹      hi                  NaN\n",
       "3  Multiple    😊   hello  2021-12-30 16:29:56\n",
       "4      Rows    😵   hello  2021-12-30 16:29:56"
      ]
     },
     "metadata": {},
     "output_type": "display_data"
    }
   ],
   "source": [
    "data = {'name': ['Multiple', 'Rows'],\n",
    "        'mood': ['😊', '😵'],\n",
    "        'message': ['hello', 'hello'],\n",
    "        'time_utc' : [utc_now(), utc_now()]}\n",
    "\n",
    "df = df.prodb_insert(data)\n",
    "df.prodb_summary()"
   ]
  },
  {
   "cell_type": "code",
   "execution_count": null,
   "metadata": {},
   "outputs": [
    {
     "name": "stdout",
     "output_type": "stream",
     "text": [
      "✓💾 db.csv (948 KB)\tshape: (25, 4)"
     ]
    },
    {
     "data": {
      "text/html": [
       "<div>\n",
       "<style scoped>\n",
       "    .dataframe tbody tr th:only-of-type {\n",
       "        vertical-align: middle;\n",
       "    }\n",
       "\n",
       "    .dataframe tbody tr th {\n",
       "        vertical-align: top;\n",
       "    }\n",
       "\n",
       "    .dataframe thead th {\n",
       "        text-align: right;\n",
       "    }\n",
       "</style>\n",
       "<table border=\"1\" class=\"dataframe\">\n",
       "  <thead>\n",
       "    <tr style=\"text-align: right;\">\n",
       "      <th></th>\n",
       "      <th>name</th>\n",
       "      <th>mood</th>\n",
       "      <th>message</th>\n",
       "      <th>time_utc</th>\n",
       "    </tr>\n",
       "  </thead>\n",
       "  <tbody>\n",
       "    <tr>\n",
       "      <th>20</th>\n",
       "      <td>Rows</td>\n",
       "      <td>😵</td>\n",
       "      <td>hello</td>\n",
       "      <td>2021-12-30 16:29:56</td>\n",
       "    </tr>\n",
       "    <tr>\n",
       "      <th>21</th>\n",
       "      <td>Multiple</td>\n",
       "      <td>😊</td>\n",
       "      <td>hello</td>\n",
       "      <td>2021-12-30 16:29:56</td>\n",
       "    </tr>\n",
       "    <tr>\n",
       "      <th>22</th>\n",
       "      <td>Rows</td>\n",
       "      <td>😵</td>\n",
       "      <td>hello</td>\n",
       "      <td>2021-12-30 16:29:56</td>\n",
       "    </tr>\n",
       "    <tr>\n",
       "      <th>23</th>\n",
       "      <td>Multiple</td>\n",
       "      <td>😊</td>\n",
       "      <td>hello</td>\n",
       "      <td>2021-12-30 16:29:56</td>\n",
       "    </tr>\n",
       "    <tr>\n",
       "      <th>24</th>\n",
       "      <td>Rows</td>\n",
       "      <td>😵</td>\n",
       "      <td>hello</td>\n",
       "      <td>2021-12-30 16:29:56</td>\n",
       "    </tr>\n",
       "  </tbody>\n",
       "</table>\n",
       "</div>"
      ],
      "text/plain": [
       "        name mood message             time_utc\n",
       "20      Rows    😵   hello  2021-12-30 16:29:56\n",
       "21  Multiple    😊   hello  2021-12-30 16:29:56\n",
       "22      Rows    😵   hello  2021-12-30 16:29:56\n",
       "23  Multiple    😊   hello  2021-12-30 16:29:56\n",
       "24      Rows    😵   hello  2021-12-30 16:29:56"
      ]
     },
     "metadata": {},
     "output_type": "display_data"
    },
    {
     "name": "stdout",
     "output_type": "stream",
     "text": [
      "CPU times: user 31.2 ms, sys: 0 ns, total: 31.2 ms\n",
      "Wall time: 66.9 ms\n"
     ]
    }
   ],
   "source": [
    "%%time\n",
    "for i in range(10):\n",
    "    df = df.prodb_insert(data)\n",
    "df.prodb_summary()"
   ]
  }
 ],
 "metadata": {
  "kernelspec": {
   "display_name": "Python 3 (ipykernel)",
   "language": "python",
   "name": "python3"
  }
 },
 "nbformat": 4,
 "nbformat_minor": 2
}
