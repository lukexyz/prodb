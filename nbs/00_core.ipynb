{
 "cells": [
  {
   "cell_type": "code",
   "execution_count": 3,
   "metadata": {},
   "outputs": [],
   "source": [
    "# default_exp core"
   ]
  },
  {
   "cell_type": "markdown",
   "metadata": {},
   "source": [
    "# 00 Prodb API details\n",
    "\n",
    "> `nbdev` Example function."
   ]
  },
  {
   "cell_type": "code",
   "execution_count": 4,
   "metadata": {},
   "outputs": [],
   "source": [
    "#hide\n",
    "from nbdev.showdoc import *"
   ]
  },
  {
   "cell_type": "markdown",
   "metadata": {},
   "source": [
    "## Prodb API\n",
    "Create pandas dataframe for manipulation"
   ]
  },
  {
   "cell_type": "code",
   "execution_count": 5,
   "metadata": {},
   "outputs": [],
   "source": [
    "#export\n",
    "#hide\n",
    "import pandas as pd\n",
    "import arrow\n",
    "import os\n",
    "from time import gmtime, strftime"
   ]
  },
  {
   "cell_type": "markdown",
   "metadata": {},
   "source": [
    "## 1.0 Generate Db\n",
    "Initialise database with `generate_db` call. "
   ]
  },
  {
   "cell_type": "code",
   "execution_count": 32,
   "metadata": {},
   "outputs": [
    {
     "ename": "SyntaxError",
     "evalue": "non-default argument follows default argument (Temp/ipykernel_43808/878488914.py, line 5)",
     "output_type": "error",
     "traceback": [
      "\u001b[1;36m  File \u001b[1;32m\"C:\\Users\\LUKEWO~1\\AppData\\Local\\Temp/ipykernel_43808/878488914.py\"\u001b[1;36m, line \u001b[1;32m5\u001b[0m\n\u001b[1;33m    prefill=False):\u001b[0m\n\u001b[1;37m    ^\u001b[0m\n\u001b[1;31mSyntaxError\u001b[0m\u001b[1;31m:\u001b[0m non-default argument follows default argument\n"
     ]
    }
   ],
   "source": [
    "# export\n",
    "\n",
    "def generate_db(dbpath='db.csv', \n",
    "                cols=['c1', 'c2', 'c3'],\n",
    "                prefill=False):\n",
    "    \"\"\"Create example database\"\"\"\n",
    "    if prefill:\n",
    "        df = pd.DataFrame({'name': ['Sam', 'Grant'],\n",
    "                           'mood': ['😊', '😵'],\n",
    "                           'message': ['hi', 'hello'],\n",
    "                           'time_utc' : [arrow.utcnow().format('YYYY-MM-DD HH:mm:ss'),\n",
    "                                         arrow.utcnow().format('YYYY-MM-DD HH:mm:ss')]})\n",
    "    else:\n",
    "        df = pd.DataFrame(columns=cols)\n",
    "    df.to_csv(dbpath, index=None)\n",
    "    print(f'✓💾 {dbpath} ({os.path.getsize(dbpath)} kb)')\n",
    "    return df\n"
   ]
  },
  {
   "cell_type": "markdown",
   "metadata": {},
   "source": [
    "Generate empty `db` object with arbitary columns."
   ]
  },
  {
   "cell_type": "code",
   "execution_count": 28,
   "metadata": {},
   "outputs": [
    {
     "name": "stdout",
     "output_type": "stream",
     "text": [
      "✓💾 db.csv (10 kb)\n"
     ]
    },
    {
     "data": {
      "text/html": [
       "<div>\n",
       "<style scoped>\n",
       "    .dataframe tbody tr th:only-of-type {\n",
       "        vertical-align: middle;\n",
       "    }\n",
       "\n",
       "    .dataframe tbody tr th {\n",
       "        vertical-align: top;\n",
       "    }\n",
       "\n",
       "    .dataframe thead th {\n",
       "        text-align: right;\n",
       "    }\n",
       "</style>\n",
       "<table border=\"1\" class=\"dataframe\">\n",
       "  <thead>\n",
       "    <tr style=\"text-align: right;\">\n",
       "      <th></th>\n",
       "      <th>c1</th>\n",
       "      <th>c2</th>\n",
       "      <th>c3</th>\n",
       "    </tr>\n",
       "  </thead>\n",
       "  <tbody>\n",
       "  </tbody>\n",
       "</table>\n",
       "</div>"
      ],
      "text/plain": [
       "Empty DataFrame\n",
       "Columns: [c1, c2, c3]\n",
       "Index: []"
      ]
     },
     "execution_count": 28,
     "metadata": {},
     "output_type": "execute_result"
    }
   ],
   "source": [
    "df = generate_db(cols=['c1', 'c2', 'c3'])\n",
    "df.head()"
   ]
  },
  {
   "cell_type": "markdown",
   "metadata": {},
   "source": [
    "Generate `db` with some example data."
   ]
  },
  {
   "cell_type": "code",
   "execution_count": 33,
   "metadata": {},
   "outputs": [
    {
     "name": "stdout",
     "output_type": "stream",
     "text": [
      "✓💾 db.csv (99 kb)\n"
     ]
    },
    {
     "data": {
      "text/html": [
       "<div>\n",
       "<style scoped>\n",
       "    .dataframe tbody tr th:only-of-type {\n",
       "        vertical-align: middle;\n",
       "    }\n",
       "\n",
       "    .dataframe tbody tr th {\n",
       "        vertical-align: top;\n",
       "    }\n",
       "\n",
       "    .dataframe thead th {\n",
       "        text-align: right;\n",
       "    }\n",
       "</style>\n",
       "<table border=\"1\" class=\"dataframe\">\n",
       "  <thead>\n",
       "    <tr style=\"text-align: right;\">\n",
       "      <th></th>\n",
       "      <th>name</th>\n",
       "      <th>mood</th>\n",
       "      <th>message</th>\n",
       "      <th>time_utc</th>\n",
       "    </tr>\n",
       "  </thead>\n",
       "  <tbody>\n",
       "    <tr>\n",
       "      <th>0</th>\n",
       "      <td>Sam</td>\n",
       "      <td>😊</td>\n",
       "      <td>hi</td>\n",
       "      <td>2021-11-04 14:37:54</td>\n",
       "    </tr>\n",
       "    <tr>\n",
       "      <th>1</th>\n",
       "      <td>Grant</td>\n",
       "      <td>😵</td>\n",
       "      <td>hello</td>\n",
       "      <td>2021-11-04 14:37:54</td>\n",
       "    </tr>\n",
       "  </tbody>\n",
       "</table>\n",
       "</div>"
      ],
      "text/plain": [
       "    name mood message             time_utc\n",
       "0    Sam    😊      hi  2021-11-04 14:37:54\n",
       "1  Grant    😵   hello  2021-11-04 14:37:54"
      ]
     },
     "execution_count": 33,
     "metadata": {},
     "output_type": "execute_result"
    }
   ],
   "source": [
    "df = generate_db(prefill=True)\n",
    "df.head()"
   ]
  },
  {
   "cell_type": "markdown",
   "metadata": {},
   "source": [
    "## 2.0 Insert Row"
   ]
  },
  {
   "cell_type": "code",
   "execution_count": 53,
   "metadata": {},
   "outputs": [],
   "source": [
    "#export\n",
    "\n",
    "def insert_row(df, data, dbpath='db.csv'):\n",
    "    new_row = pd.Series(data)\n",
    "    df = df.append(new_row, ignore_index=True)\n",
    "    df.to_csv(dbpath, index=None)\n",
    "    return df\n",
    "\n",
    "def insert_rows(df, data, dbpath='db.csv'):\n",
    "    new_rows = pd.DataFrame.from_dict(data)\n",
    "    df = df.append(new_rows, ignore_index=True)\n",
    "    df.to_csv(dbpath, index=None)\n",
    "    return df\n"
   ]
  },
  {
   "cell_type": "markdown",
   "metadata": {},
   "source": [
    "### Example: Insert single row"
   ]
  },
  {
   "cell_type": "code",
   "execution_count": 54,
   "metadata": {},
   "outputs": [
    {
     "name": "stdout",
     "output_type": "stream",
     "text": [
      "✓💾 db.csv (19 kb)\n"
     ]
    },
    {
     "data": {
      "text/html": [
       "<div>\n",
       "<style scoped>\n",
       "    .dataframe tbody tr th:only-of-type {\n",
       "        vertical-align: middle;\n",
       "    }\n",
       "\n",
       "    .dataframe tbody tr th {\n",
       "        vertical-align: top;\n",
       "    }\n",
       "\n",
       "    .dataframe thead th {\n",
       "        text-align: right;\n",
       "    }\n",
       "</style>\n",
       "<table border=\"1\" class=\"dataframe\">\n",
       "  <thead>\n",
       "    <tr style=\"text-align: right;\">\n",
       "      <th></th>\n",
       "      <th>name</th>\n",
       "      <th>mood</th>\n",
       "      <th>message</th>\n",
       "    </tr>\n",
       "  </thead>\n",
       "  <tbody>\n",
       "    <tr>\n",
       "      <th>0</th>\n",
       "      <td>George</td>\n",
       "      <td>👹</td>\n",
       "      <td>hi</td>\n",
       "    </tr>\n",
       "  </tbody>\n",
       "</table>\n",
       "</div>"
      ],
      "text/plain": [
       "     name mood message\n",
       "0  George    👹      hi"
      ]
     },
     "metadata": {},
     "output_type": "display_data"
    }
   ],
   "source": [
    "df = generate_db(cols='name mood message'.split())\n",
    "\n",
    "# ================================================================ #\n",
    "\n",
    "data = {'name':'George', 'mood': '👹', 'message':'hi'}\n",
    "df = insert_row(df, data)\n",
    "\n",
    "# ================================================================ #\n",
    "\n",
    "display(df)\n"
   ]
  },
  {
   "cell_type": "markdown",
   "metadata": {},
   "source": [
    "### Example: Insert multiple rows"
   ]
  },
  {
   "cell_type": "code",
   "execution_count": 55,
   "metadata": {},
   "outputs": [
    {
     "name": "stdout",
     "output_type": "stream",
     "text": [
      "✓💾 db.csv (19 kb)\n"
     ]
    },
    {
     "data": {
      "text/html": [
       "<div>\n",
       "<style scoped>\n",
       "    .dataframe tbody tr th:only-of-type {\n",
       "        vertical-align: middle;\n",
       "    }\n",
       "\n",
       "    .dataframe tbody tr th {\n",
       "        vertical-align: top;\n",
       "    }\n",
       "\n",
       "    .dataframe thead th {\n",
       "        text-align: right;\n",
       "    }\n",
       "</style>\n",
       "<table border=\"1\" class=\"dataframe\">\n",
       "  <thead>\n",
       "    <tr style=\"text-align: right;\">\n",
       "      <th></th>\n",
       "      <th>name</th>\n",
       "      <th>mood</th>\n",
       "      <th>message</th>\n",
       "      <th>time_utc</th>\n",
       "    </tr>\n",
       "  </thead>\n",
       "  <tbody>\n",
       "    <tr>\n",
       "      <th>0</th>\n",
       "      <td>Sam</td>\n",
       "      <td>😊</td>\n",
       "      <td>hello from London, UK</td>\n",
       "      <td>2021-11-04 14:42:07</td>\n",
       "    </tr>\n",
       "    <tr>\n",
       "      <th>1</th>\n",
       "      <td>Grant</td>\n",
       "      <td>😵</td>\n",
       "      <td>hello from Christchurch, NZ</td>\n",
       "      <td>2021-11-04 14:42:07</td>\n",
       "    </tr>\n",
       "  </tbody>\n",
       "</table>\n",
       "</div>"
      ],
      "text/plain": [
       "    name mood                      message             time_utc\n",
       "0    Sam    😊        hello from London, UK  2021-11-04 14:42:07\n",
       "1  Grant    😵  hello from Christchurch, NZ  2021-11-04 14:42:07"
      ]
     },
     "metadata": {},
     "output_type": "display_data"
    }
   ],
   "source": [
    "df = generate_db(cols='name mood message'.split())\n",
    "\n",
    "# ================================================================ #\n",
    "\n",
    "data = {'name': ['Sam', 'Grant'],\n",
    "        'mood': ['😊', '😵'],\n",
    "        'message': ['hello from London, UK', 'hello from Christchurch, NZ'],\n",
    "        'time_utc' : [arrow.utcnow().format('YYYY-MM-DD HH:mm:ss'),\n",
    "                      arrow.utcnow().format('YYYY-MM-DD HH:mm:ss')]}\n",
    "\n",
    "df = insert_rows(df, data)\n",
    "\n",
    "# ================================================================ #\n",
    "\n",
    "display(df)"
   ]
  },
  {
   "cell_type": "markdown",
   "metadata": {},
   "source": [
    "Add another entry to the bottom of the database using `insert_row()`"
   ]
  },
  {
   "cell_type": "code",
   "execution_count": 56,
   "metadata": {},
   "outputs": [
    {
     "data": {
      "text/html": [
       "<div>\n",
       "<style scoped>\n",
       "    .dataframe tbody tr th:only-of-type {\n",
       "        vertical-align: middle;\n",
       "    }\n",
       "\n",
       "    .dataframe tbody tr th {\n",
       "        vertical-align: top;\n",
       "    }\n",
       "\n",
       "    .dataframe thead th {\n",
       "        text-align: right;\n",
       "    }\n",
       "</style>\n",
       "<table border=\"1\" class=\"dataframe\">\n",
       "  <thead>\n",
       "    <tr style=\"text-align: right;\">\n",
       "      <th></th>\n",
       "      <th>name</th>\n",
       "      <th>mood</th>\n",
       "      <th>message</th>\n",
       "      <th>time_utc</th>\n",
       "    </tr>\n",
       "  </thead>\n",
       "  <tbody>\n",
       "    <tr>\n",
       "      <th>0</th>\n",
       "      <td>Sam</td>\n",
       "      <td>😊</td>\n",
       "      <td>hello from London, UK</td>\n",
       "      <td>2021-11-04 14:42:07</td>\n",
       "    </tr>\n",
       "    <tr>\n",
       "      <th>1</th>\n",
       "      <td>Grant</td>\n",
       "      <td>😵</td>\n",
       "      <td>hello from Christchurch, NZ</td>\n",
       "      <td>2021-11-04 14:42:07</td>\n",
       "    </tr>\n",
       "    <tr>\n",
       "      <th>2</th>\n",
       "      <td>Luke</td>\n",
       "      <td>👹</td>\n",
       "      <td>hello from London, UK</td>\n",
       "      <td>2021-11-04 14:42:08</td>\n",
       "    </tr>\n",
       "  </tbody>\n",
       "</table>\n",
       "</div>"
      ],
      "text/plain": [
       "    name mood                      message             time_utc\n",
       "0    Sam    😊        hello from London, UK  2021-11-04 14:42:07\n",
       "1  Grant    😵  hello from Christchurch, NZ  2021-11-04 14:42:07\n",
       "2   Luke    👹        hello from London, UK  2021-11-04 14:42:08"
      ]
     },
     "metadata": {},
     "output_type": "display_data"
    }
   ],
   "source": [
    "data = {'time_utc' : arrow.utcnow().format('YYYY-MM-DD HH:mm:ss'),\n",
    "        'name': 'Luke', \n",
    "        'mood': '👹', \n",
    "        'message': 'hello from London, UK'}\n",
    "df = insert_row(df, data)\n",
    "\n",
    "display(df)"
   ]
  },
  {
   "cell_type": "code",
   "execution_count": 57,
   "metadata": {},
   "outputs": [
    {
     "data": {
      "text/html": [
       "<div>\n",
       "<style scoped>\n",
       "    .dataframe tbody tr th:only-of-type {\n",
       "        vertical-align: middle;\n",
       "    }\n",
       "\n",
       "    .dataframe tbody tr th {\n",
       "        vertical-align: top;\n",
       "    }\n",
       "\n",
       "    .dataframe thead th {\n",
       "        text-align: right;\n",
       "    }\n",
       "</style>\n",
       "<table border=\"1\" class=\"dataframe\">\n",
       "  <thead>\n",
       "    <tr style=\"text-align: right;\">\n",
       "      <th></th>\n",
       "      <th>name</th>\n",
       "      <th>mood</th>\n",
       "      <th>message</th>\n",
       "      <th>time_utc</th>\n",
       "    </tr>\n",
       "  </thead>\n",
       "  <tbody>\n",
       "    <tr>\n",
       "      <th>0</th>\n",
       "      <td>Sam</td>\n",
       "      <td>😊</td>\n",
       "      <td>hello from London, UK</td>\n",
       "      <td>2021-11-04 14:42:07</td>\n",
       "    </tr>\n",
       "    <tr>\n",
       "      <th>1</th>\n",
       "      <td>Grant</td>\n",
       "      <td>😵</td>\n",
       "      <td>hello from Christchurch, NZ</td>\n",
       "      <td>2021-11-04 14:42:07</td>\n",
       "    </tr>\n",
       "    <tr>\n",
       "      <th>2</th>\n",
       "      <td>Luke</td>\n",
       "      <td>👹</td>\n",
       "      <td>hello from London, UK</td>\n",
       "      <td>2021-11-04 14:42:08</td>\n",
       "    </tr>\n",
       "    <tr>\n",
       "      <th>3</th>\n",
       "      <td>Bill</td>\n",
       "      <td>👹</td>\n",
       "      <td>hi</td>\n",
       "      <td>NaN</td>\n",
       "    </tr>\n",
       "  </tbody>\n",
       "</table>\n",
       "</div>"
      ],
      "text/plain": [
       "    name mood                      message             time_utc\n",
       "0    Sam    😊        hello from London, UK  2021-11-04 14:42:07\n",
       "1  Grant    😵  hello from Christchurch, NZ  2021-11-04 14:42:07\n",
       "2   Luke    👹        hello from London, UK  2021-11-04 14:42:08\n",
       "3   Bill    👹                           hi                  NaN"
      ]
     },
     "metadata": {},
     "output_type": "display_data"
    }
   ],
   "source": [
    "data = {'name':'Bill', 'mood': '👹', 'message':'hi'}\n",
    "df = insert_row(df, data)\n",
    "display(df)"
   ]
  },
  {
   "cell_type": "code",
   "execution_count": null,
   "metadata": {},
   "outputs": [],
   "source": []
  },
  {
   "cell_type": "code",
   "execution_count": null,
   "metadata": {},
   "outputs": [],
   "source": []
  },
  {
   "cell_type": "code",
   "execution_count": null,
   "metadata": {},
   "outputs": [],
   "source": []
  }
 ],
 "metadata": {
  "kernelspec": {
   "display_name": "Python 3 (ipykernel)",
   "language": "python",
   "name": "python3"
  },
  "language_info": {
   "codemirror_mode": {
    "name": "ipython",
    "version": 3
   },
   "file_extension": ".py",
   "mimetype": "text/x-python",
   "name": "python",
   "nbconvert_exporter": "python",
   "pygments_lexer": "ipython3",
   "version": "3.9.7"
  },
  "toc": {
   "base_numbering": 1,
   "nav_menu": {},
   "number_sections": true,
   "sideBar": false,
   "skip_h1_title": false,
   "title_cell": "Table of Contents",
   "title_sidebar": "Contents",
   "toc_cell": false,
   "toc_position": {
    "height": "191px",
    "left": "21px",
    "top": "134px",
    "width": "276px"
   },
   "toc_section_display": true,
   "toc_window_display": true
  }
 },
 "nbformat": 4,
 "nbformat_minor": 2
}
