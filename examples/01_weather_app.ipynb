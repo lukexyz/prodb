{
 "cells": [
  {
   "cell_type": "markdown",
   "id": "e426f068",
   "metadata": {},
   "source": [
    "# 🌞 Example Weather App\n",
    "> Using `prodb`\n",
    "\n",
    "\n",
    "* Starting with a `.csv` of locations, we wish to call the [MetaWeather](https://www.metaweather.com/api/) API to pull in the weather forecast.  \n",
    "* The app needs the ability to input new locations by the user\n",
    "\n",
    " 🌍 Core functions will be converted into the streamlit app `weather_app.py`"
   ]
  },
  {
   "cell_type": "code",
   "execution_count": null,
   "id": "d2615238",
   "metadata": {},
   "outputs": [],
   "source": [
    "#hide\n",
    "from nbdev.showdoc import *\n",
    "import pandas as pd\n",
    "%load_ext autoreload\n",
    "%autoreload 2"
   ]
  },
  {
   "cell_type": "markdown",
   "id": "a3831d68",
   "metadata": {},
   "source": [
    "## 1. Requests to `metaweather` open weather API"
   ]
  },
  {
   "cell_type": "code",
   "execution_count": null,
   "id": "4468a7ba",
   "metadata": {},
   "outputs": [],
   "source": [
    "import requests\n",
    "import json\n",
    "import arrow"
   ]
  },
  {
   "cell_type": "code",
   "execution_count": null,
   "id": "7c35901f",
   "metadata": {},
   "outputs": [
    {
     "data": {
      "text/plain": [
       "{'title': 'London',\n",
       " 'location_type': 'City',\n",
       " 'woeid': 44418,\n",
       " 'latt_long': '51.506321,-0.12714'}"
      ]
     },
     "execution_count": null,
     "metadata": {},
     "output_type": "execute_result"
    }
   ],
   "source": [
    "def get_json_from_query(location):\n",
    "    \"\"\"Search for a city and return metadata from API\"\"\"\n",
    "    url = f\"https://www.metaweather.com/api/location/search/?query={location}\"\n",
    "    r = requests.get(url).json()\n",
    "    return r[0]\n",
    "\n",
    "l = get_json_from_query('London')\n",
    "l"
   ]
  },
  {
   "cell_type": "markdown",
   "id": "139c0d9b",
   "metadata": {},
   "source": [
    "Check `woeid`(Where On Earth ID) is correct for London"
   ]
  },
  {
   "cell_type": "code",
   "execution_count": null,
   "id": "2d530cc4",
   "metadata": {},
   "outputs": [],
   "source": [
    "assert l['woeid'] == 44418"
   ]
  },
  {
   "cell_type": "markdown",
   "id": "6d1adc34",
   "metadata": {},
   "source": [
    "Get weather data for the London `woeid`"
   ]
  },
  {
   "cell_type": "code",
   "execution_count": null,
   "id": "aa20f822",
   "metadata": {},
   "outputs": [
    {
     "data": {
      "text/plain": [
       "'2021/11/02'"
      ]
     },
     "execution_count": null,
     "metadata": {},
     "output_type": "execute_result"
    }
   ],
   "source": [
    "utc = arrow.utcnow().format('YYYY/MM/DD')\n",
    "utc"
   ]
  },
  {
   "cell_type": "code",
   "execution_count": null,
   "id": "ccda76c7",
   "metadata": {},
   "outputs": [],
   "source": [
    "def get_current_weather(location):\n",
    "    \"\"\"\n",
    "    inputs: location str \"London\"\n",
    "            to find woeid i.e. 44418\n",
    "    \"\"\"\n",
    "    res = get_json_from_query(location)\n",
    "    woeid = res['woeid']\n",
    "    url = f\"https://www.metaweather.com/api/location/{woeid}/\"\n",
    "    res = requests.get(url).json()\n",
    "    return res"
   ]
  },
  {
   "cell_type": "markdown",
   "id": "08c7bee6",
   "metadata": {},
   "source": [
    "Today's forecast 🌤️"
   ]
  },
  {
   "cell_type": "code",
   "execution_count": null,
   "id": "75376489",
   "metadata": {},
   "outputs": [
    {
     "name": "stdout",
     "output_type": "stream",
     "text": [
      "CPU times: user 0 ns, sys: 0 ns, total: 0 ns\n",
      "Wall time: 574 ms\n"
     ]
    },
    {
     "data": {
      "text/plain": [
       "{'id': 6040109691437056,\n",
       " 'weather_state_name': 'Light Cloud',\n",
       " 'weather_state_abbr': 'lc',\n",
       " 'wind_direction_compass': 'WSW',\n",
       " 'created': '2021-11-02T18:59:03.647580Z',\n",
       " 'applicable_date': '2021-11-02',\n",
       " 'min_temp': 5.52,\n",
       " 'max_temp': 11.844999999999999,\n",
       " 'the_temp': 11.219999999999999,\n",
       " 'wind_speed': 2.820238635213023,\n",
       " 'wind_direction': 257.5126378634312,\n",
       " 'air_pressure': 999.0,\n",
       " 'humidity': 71,\n",
       " 'visibility': 8.2086241350513,\n",
       " 'predictability': 70}"
      ]
     },
     "execution_count": null,
     "metadata": {},
     "output_type": "execute_result"
    }
   ],
   "source": [
    "%%time\n",
    "res = get_current_weather('London')\n",
    "res['consolidated_weather'][0]"
   ]
  },
  {
   "cell_type": "markdown",
   "id": "2ca4139e",
   "metadata": {},
   "source": [
    "There are a number of metrological properties available to us from the API. \n",
    "\n",
    "The ones we are most interested in are:\n",
    "* `the_temp` 🌡️ current temperature\n",
    "* `weather_state_name` ⛅ current sky condition\n",
    "* `max_temp` 🥵 daily max temp\n",
    "* `min_temp` 🥶 daily min temp\n"
   ]
  },
  {
   "cell_type": "code",
   "execution_count": null,
   "id": "802cc45d",
   "metadata": {},
   "outputs": [
    {
     "data": {
      "text/html": [
       "<div>\n",
       "<style scoped>\n",
       "    .dataframe tbody tr th:only-of-type {\n",
       "        vertical-align: middle;\n",
       "    }\n",
       "\n",
       "    .dataframe tbody tr th {\n",
       "        vertical-align: top;\n",
       "    }\n",
       "\n",
       "    .dataframe thead th {\n",
       "        text-align: right;\n",
       "    }\n",
       "</style>\n",
       "<table border=\"1\" class=\"dataframe\">\n",
       "  <thead>\n",
       "    <tr style=\"text-align: right;\">\n",
       "      <th></th>\n",
       "      <th>id</th>\n",
       "      <th>weather_state_name</th>\n",
       "      <th>weather_state_abbr</th>\n",
       "      <th>wind_direction_compass</th>\n",
       "      <th>created</th>\n",
       "      <th>applicable_date</th>\n",
       "      <th>min_temp</th>\n",
       "      <th>max_temp</th>\n",
       "      <th>the_temp</th>\n",
       "      <th>wind_speed</th>\n",
       "      <th>wind_direction</th>\n",
       "      <th>air_pressure</th>\n",
       "      <th>humidity</th>\n",
       "      <th>visibility</th>\n",
       "      <th>predictability</th>\n",
       "      <th>readable_time</th>\n",
       "    </tr>\n",
       "  </thead>\n",
       "  <tbody>\n",
       "    <tr>\n",
       "      <th>0</th>\n",
       "      <td>6040109691437056</td>\n",
       "      <td>Light Cloud</td>\n",
       "      <td>lc</td>\n",
       "      <td>WSW</td>\n",
       "      <td>2021-11-02T18:59:03.647580Z</td>\n",
       "      <td>2021-11-02</td>\n",
       "      <td>5.52</td>\n",
       "      <td>11.845</td>\n",
       "      <td>11.22</td>\n",
       "      <td>2.820239</td>\n",
       "      <td>257.512638</td>\n",
       "      <td>999.0</td>\n",
       "      <td>71</td>\n",
       "      <td>8.208624</td>\n",
       "      <td>70</td>\n",
       "      <td>31 minutes ago</td>\n",
       "    </tr>\n",
       "  </tbody>\n",
       "</table>\n",
       "</div>"
      ],
      "text/plain": [
       "                 id weather_state_name weather_state_abbr  \\\n",
       "0  6040109691437056        Light Cloud                 lc   \n",
       "\n",
       "  wind_direction_compass                      created applicable_date  \\\n",
       "0                    WSW  2021-11-02T18:59:03.647580Z      2021-11-02   \n",
       "\n",
       "   min_temp  max_temp  the_temp  wind_speed  wind_direction  air_pressure  \\\n",
       "0      5.52    11.845     11.22    2.820239      257.512638         999.0   \n",
       "\n",
       "   humidity  visibility  predictability   readable_time  \n",
       "0        71    8.208624              70  31 minutes ago  "
      ]
     },
     "execution_count": null,
     "metadata": {},
     "output_type": "execute_result"
    }
   ],
   "source": [
    "res = get_current_weather('London')\n",
    "df =  pd.DataFrame.from_records(res['consolidated_weather'][:1])\n",
    "df['readable_time'] = df.created.apply(lambda x: arrow.get(x).humanize())\n",
    "df"
   ]
  },
  {
   "cell_type": "code",
   "execution_count": null,
   "id": "65eb62ab",
   "metadata": {},
   "outputs": [
    {
     "data": {
      "text/html": [
       "<div>\n",
       "<style scoped>\n",
       "    .dataframe tbody tr th:only-of-type {\n",
       "        vertical-align: middle;\n",
       "    }\n",
       "\n",
       "    .dataframe tbody tr th {\n",
       "        vertical-align: top;\n",
       "    }\n",
       "\n",
       "    .dataframe thead th {\n",
       "        text-align: right;\n",
       "    }\n",
       "</style>\n",
       "<table border=\"1\" class=\"dataframe\">\n",
       "  <thead>\n",
       "    <tr style=\"text-align: right;\">\n",
       "      <th></th>\n",
       "      <th>location</th>\n",
       "      <th>the_temp</th>\n",
       "      <th>readable_time</th>\n",
       "      <th>created</th>\n",
       "      <th>applicable_date</th>\n",
       "      <th>local_time</th>\n",
       "      <th>latt_long</th>\n",
       "      <th>weather_state_name</th>\n",
       "      <th>min_temp</th>\n",
       "      <th>max_temp</th>\n",
       "    </tr>\n",
       "  </thead>\n",
       "  <tbody>\n",
       "    <tr>\n",
       "      <th>0</th>\n",
       "      <td>London</td>\n",
       "      <td>11.22</td>\n",
       "      <td>32 minutes ago</td>\n",
       "      <td>2021-11-02T18:59:03.647580Z</td>\n",
       "      <td>2021-11-02</td>\n",
       "      <td>2021-11-02T19:31:17.474297Z</td>\n",
       "      <td>51.506321,-0.12714</td>\n",
       "      <td>Light Cloud</td>\n",
       "      <td>5.52</td>\n",
       "      <td>11.845</td>\n",
       "    </tr>\n",
       "    <tr>\n",
       "      <th>1</th>\n",
       "      <td>London</td>\n",
       "      <td>9.82</td>\n",
       "      <td>32 minutes ago</td>\n",
       "      <td>2021-11-02T18:59:02.463365Z</td>\n",
       "      <td>2021-11-03</td>\n",
       "      <td>2021-11-02T19:31:17.474297Z</td>\n",
       "      <td>51.506321,-0.12714</td>\n",
       "      <td>Showers</td>\n",
       "      <td>4.40</td>\n",
       "      <td>9.745</td>\n",
       "    </tr>\n",
       "  </tbody>\n",
       "</table>\n",
       "</div>"
      ],
      "text/plain": [
       "  location  the_temp   readable_time                      created  \\\n",
       "0   London     11.22  32 minutes ago  2021-11-02T18:59:03.647580Z   \n",
       "1   London      9.82  32 minutes ago  2021-11-02T18:59:02.463365Z   \n",
       "\n",
       "  applicable_date                   local_time           latt_long  \\\n",
       "0      2021-11-02  2021-11-02T19:31:17.474297Z  51.506321,-0.12714   \n",
       "1      2021-11-03  2021-11-02T19:31:17.474297Z  51.506321,-0.12714   \n",
       "\n",
       "  weather_state_name  min_temp  max_temp  \n",
       "0        Light Cloud      5.52    11.845  \n",
       "1            Showers      4.40     9.745  "
      ]
     },
     "execution_count": null,
     "metadata": {},
     "output_type": "execute_result"
    }
   ],
   "source": [
    "def df_from_loc(location, \n",
    "                days_ahead=1,\n",
    "                keep_cols='location the_temp readable_time created applicable_date local_time latt_long weather_state_name min_temp max_temp'.split(' ')):\n",
    "    res = get_current_weather(location)\n",
    "    df =  pd.DataFrame.from_records(res['consolidated_weather'][:days_ahead])\n",
    "    df['location'] = location\n",
    "    df['local_time'] = res['time']\n",
    "    df['latt_long'] = res['latt_long']\n",
    "    df['readable_time'] = df.created.apply(lambda x: arrow.get(x).humanize())\n",
    "    return df[keep_cols]\n",
    "\n",
    "df = df_from_loc('London', days_ahead=2)\n",
    "df"
   ]
  },
  {
   "cell_type": "markdown",
   "id": "a7d7b862",
   "metadata": {},
   "source": [
    "Example output showing location and current weather situation"
   ]
  },
  {
   "cell_type": "code",
   "execution_count": null,
   "id": "bd96a7a9",
   "metadata": {},
   "outputs": [
    {
     "data": {
      "text/html": [
       "<div>\n",
       "<style scoped>\n",
       "    .dataframe tbody tr th:only-of-type {\n",
       "        vertical-align: middle;\n",
       "    }\n",
       "\n",
       "    .dataframe tbody tr th {\n",
       "        vertical-align: top;\n",
       "    }\n",
       "\n",
       "    .dataframe thead th {\n",
       "        text-align: right;\n",
       "    }\n",
       "</style>\n",
       "<table border=\"1\" class=\"dataframe\">\n",
       "  <thead>\n",
       "    <tr style=\"text-align: right;\">\n",
       "      <th></th>\n",
       "      <th>location</th>\n",
       "      <th>the_temp</th>\n",
       "      <th>readable_time</th>\n",
       "      <th>created</th>\n",
       "      <th>applicable_date</th>\n",
       "      <th>local_time</th>\n",
       "      <th>latt_long</th>\n",
       "      <th>weather_state_name</th>\n",
       "      <th>min_temp</th>\n",
       "      <th>max_temp</th>\n",
       "    </tr>\n",
       "  </thead>\n",
       "  <tbody>\n",
       "    <tr>\n",
       "      <th>0</th>\n",
       "      <td>London</td>\n",
       "      <td>11.22</td>\n",
       "      <td>32 minutes ago</td>\n",
       "      <td>2021-11-02T18:59:03.647580Z</td>\n",
       "      <td>2021-11-02</td>\n",
       "      <td>2021-11-02T19:31:20.442624Z</td>\n",
       "      <td>51.506321,-0.12714</td>\n",
       "      <td>Light Cloud</td>\n",
       "      <td>5.52</td>\n",
       "      <td>11.845</td>\n",
       "    </tr>\n",
       "  </tbody>\n",
       "</table>\n",
       "</div>"
      ],
      "text/plain": [
       "  location  the_temp   readable_time                      created  \\\n",
       "0   London     11.22  32 minutes ago  2021-11-02T18:59:03.647580Z   \n",
       "\n",
       "  applicable_date                   local_time           latt_long  \\\n",
       "0      2021-11-02  2021-11-02T19:31:20.442624Z  51.506321,-0.12714   \n",
       "\n",
       "  weather_state_name  min_temp  max_temp  \n",
       "0        Light Cloud      5.52    11.845  "
      ]
     },
     "execution_count": null,
     "metadata": {},
     "output_type": "execute_result"
    }
   ],
   "source": [
    "df = df_from_loc('London')\n",
    "df"
   ]
  },
  {
   "cell_type": "code",
   "execution_count": null,
   "id": "ee0c4568",
   "metadata": {},
   "outputs": [
    {
     "data": {
      "text/html": [
       "<div>\n",
       "<style scoped>\n",
       "    .dataframe tbody tr th:only-of-type {\n",
       "        vertical-align: middle;\n",
       "    }\n",
       "\n",
       "    .dataframe tbody tr th {\n",
       "        vertical-align: top;\n",
       "    }\n",
       "\n",
       "    .dataframe thead th {\n",
       "        text-align: right;\n",
       "    }\n",
       "</style>\n",
       "<table border=\"1\" class=\"dataframe\">\n",
       "  <thead>\n",
       "    <tr style=\"text-align: right;\">\n",
       "      <th></th>\n",
       "      <th>location</th>\n",
       "      <th>the_temp</th>\n",
       "      <th>readable_time</th>\n",
       "      <th>created</th>\n",
       "      <th>applicable_date</th>\n",
       "      <th>local_time</th>\n",
       "      <th>latt_long</th>\n",
       "      <th>weather_state_name</th>\n",
       "      <th>min_temp</th>\n",
       "      <th>max_temp</th>\n",
       "    </tr>\n",
       "  </thead>\n",
       "  <tbody>\n",
       "    <tr>\n",
       "      <th>0</th>\n",
       "      <td>Auckland</td>\n",
       "      <td>18.19</td>\n",
       "      <td>2 hours ago</td>\n",
       "      <td>2021-11-02T16:37:04.568230Z</td>\n",
       "      <td>2021-11-03</td>\n",
       "      <td>2021-11-03T08:31:22.154620+13:00</td>\n",
       "      <td>-36.884109,174.770416</td>\n",
       "      <td>Showers</td>\n",
       "      <td>10.92</td>\n",
       "      <td>17.31</td>\n",
       "    </tr>\n",
       "  </tbody>\n",
       "</table>\n",
       "</div>"
      ],
      "text/plain": [
       "   location  the_temp readable_time                      created  \\\n",
       "0  Auckland     18.19   2 hours ago  2021-11-02T16:37:04.568230Z   \n",
       "\n",
       "  applicable_date                        local_time              latt_long  \\\n",
       "0      2021-11-03  2021-11-03T08:31:22.154620+13:00  -36.884109,174.770416   \n",
       "\n",
       "  weather_state_name  min_temp  max_temp  \n",
       "0            Showers     10.92     17.31  "
      ]
     },
     "execution_count": null,
     "metadata": {},
     "output_type": "execute_result"
    }
   ],
   "source": [
    "df = df_from_loc('Auckland')\n",
    "df"
   ]
  },
  {
   "cell_type": "markdown",
   "id": "42b40c4c",
   "metadata": {},
   "source": [
    "# 🦄 Pro db "
   ]
  },
  {
   "cell_type": "code",
   "execution_count": null,
   "id": "7ca602a8",
   "metadata": {},
   "outputs": [],
   "source": [
    "import sys\n",
    "sys.path.append('../')\n",
    "\n",
    "from prodb.core import generate_db, insert_row"
   ]
  },
  {
   "cell_type": "markdown",
   "id": "5c970b6d",
   "metadata": {},
   "source": [
    "### Initialise empty db"
   ]
  },
  {
   "cell_type": "code",
   "execution_count": null,
   "id": "179aa15c",
   "metadata": {},
   "outputs": [
    {
     "name": "stdout",
     "output_type": "stream",
     "text": [
      "✓💾 db.csv (23 kb)\n"
     ]
    },
    {
     "data": {
      "text/html": [
       "<div>\n",
       "<style scoped>\n",
       "    .dataframe tbody tr th:only-of-type {\n",
       "        vertical-align: middle;\n",
       "    }\n",
       "\n",
       "    .dataframe tbody tr th {\n",
       "        vertical-align: top;\n",
       "    }\n",
       "\n",
       "    .dataframe thead th {\n",
       "        text-align: right;\n",
       "    }\n",
       "</style>\n",
       "<table border=\"1\" class=\"dataframe\">\n",
       "  <thead>\n",
       "    <tr style=\"text-align: right;\">\n",
       "      <th></th>\n",
       "      <th>location</th>\n",
       "      <th>temp</th>\n",
       "      <th>high</th>\n",
       "      <th>low</th>\n",
       "    </tr>\n",
       "  </thead>\n",
       "  <tbody>\n",
       "  </tbody>\n",
       "</table>\n",
       "</div>"
      ],
      "text/plain": [
       "Empty DataFrame\n",
       "Columns: [location, temp, high, low]\n",
       "Index: []"
      ]
     },
     "execution_count": null,
     "metadata": {},
     "output_type": "execute_result"
    }
   ],
   "source": [
    "dbpath = 'db.csv'\n",
    "cols = 'location temp high low'.split()\n",
    "\n",
    "generate_db(cols=cols, dbpath=dbpath)\n",
    "df = pd.read_csv('db.csv')\n",
    "df.head()"
   ]
  },
  {
   "cell_type": "markdown",
   "id": "b213f496",
   "metadata": {},
   "source": [
    "## Add row"
   ]
  },
  {
   "cell_type": "code",
   "execution_count": null,
   "id": "ef619e90",
   "metadata": {},
   "outputs": [
    {
     "data": {
      "text/html": [
       "<div>\n",
       "<style scoped>\n",
       "    .dataframe tbody tr th:only-of-type {\n",
       "        vertical-align: middle;\n",
       "    }\n",
       "\n",
       "    .dataframe tbody tr th {\n",
       "        vertical-align: top;\n",
       "    }\n",
       "\n",
       "    .dataframe thead th {\n",
       "        text-align: right;\n",
       "    }\n",
       "</style>\n",
       "<table border=\"1\" class=\"dataframe\">\n",
       "  <thead>\n",
       "    <tr style=\"text-align: right;\">\n",
       "      <th></th>\n",
       "      <th>location</th>\n",
       "      <th>temp</th>\n",
       "      <th>high</th>\n",
       "      <th>low</th>\n",
       "      <th>time_utc</th>\n",
       "    </tr>\n",
       "  </thead>\n",
       "  <tbody>\n",
       "    <tr>\n",
       "      <th>0</th>\n",
       "      <td>London</td>\n",
       "      <td>11</td>\n",
       "      <td>13</td>\n",
       "      <td>6</td>\n",
       "      <td>2021-11-02 22:16:26</td>\n",
       "    </tr>\n",
       "  </tbody>\n",
       "</table>\n",
       "</div>"
      ],
      "text/plain": [
       "  location temp high low             time_utc\n",
       "0   London   11   13   6  2021-11-02 22:16:26"
      ]
     },
     "metadata": {},
     "output_type": "display_data"
    }
   ],
   "source": [
    "data = {'location':'London', \n",
    "        'time_utc': arrow.utcnow().format('YYYY-MM-DD HH:mm:ss'),\n",
    "        'temp': '11',\n",
    "        'high':'13',\n",
    "        'low':'6'}\n",
    "df = insert_row(df, data)\n",
    "display(df)"
   ]
  },
  {
   "cell_type": "code",
   "execution_count": null,
   "id": "4e7af915",
   "metadata": {},
   "outputs": [
    {
     "data": {
      "text/html": [
       "<div>\n",
       "<style scoped>\n",
       "    .dataframe tbody tr th:only-of-type {\n",
       "        vertical-align: middle;\n",
       "    }\n",
       "\n",
       "    .dataframe tbody tr th {\n",
       "        vertical-align: top;\n",
       "    }\n",
       "\n",
       "    .dataframe thead th {\n",
       "        text-align: right;\n",
       "    }\n",
       "</style>\n",
       "<table border=\"1\" class=\"dataframe\">\n",
       "  <thead>\n",
       "    <tr style=\"text-align: right;\">\n",
       "      <th></th>\n",
       "      <th>location</th>\n",
       "      <th>the_temp</th>\n",
       "      <th>readable_time</th>\n",
       "      <th>created</th>\n",
       "      <th>applicable_date</th>\n",
       "      <th>local_time</th>\n",
       "      <th>latt_long</th>\n",
       "      <th>weather_state_name</th>\n",
       "      <th>min_temp</th>\n",
       "      <th>max_temp</th>\n",
       "    </tr>\n",
       "  </thead>\n",
       "  <tbody>\n",
       "    <tr>\n",
       "      <th>0</th>\n",
       "      <td>Auckland</td>\n",
       "      <td>18.19</td>\n",
       "      <td>2 hours ago</td>\n",
       "      <td>2021-11-02T19:37:05.357619Z</td>\n",
       "      <td>2021-11-03</td>\n",
       "      <td>2021-11-03T11:16:27.668899+13:00</td>\n",
       "      <td>-36.884109,174.770416</td>\n",
       "      <td>Showers</td>\n",
       "      <td>10.75</td>\n",
       "      <td>17.215</td>\n",
       "    </tr>\n",
       "  </tbody>\n",
       "</table>\n",
       "</div>"
      ],
      "text/plain": [
       "   location  the_temp readable_time                      created  \\\n",
       "0  Auckland     18.19   2 hours ago  2021-11-02T19:37:05.357619Z   \n",
       "\n",
       "  applicable_date                        local_time              latt_long  \\\n",
       "0      2021-11-03  2021-11-03T11:16:27.668899+13:00  -36.884109,174.770416   \n",
       "\n",
       "  weather_state_name  min_temp  max_temp  \n",
       "0            Showers     10.75    17.215  "
      ]
     },
     "execution_count": null,
     "metadata": {},
     "output_type": "execute_result"
    }
   ],
   "source": [
    "dx = df_from_loc('Auckland')\n",
    "dx"
   ]
  },
  {
   "cell_type": "code",
   "execution_count": null,
   "id": "dcfe28d0",
   "metadata": {},
   "outputs": [
    {
     "data": {
      "text/html": [
       "<div>\n",
       "<style scoped>\n",
       "    .dataframe tbody tr th:only-of-type {\n",
       "        vertical-align: middle;\n",
       "    }\n",
       "\n",
       "    .dataframe tbody tr th {\n",
       "        vertical-align: top;\n",
       "    }\n",
       "\n",
       "    .dataframe thead th {\n",
       "        text-align: right;\n",
       "    }\n",
       "</style>\n",
       "<table border=\"1\" class=\"dataframe\">\n",
       "  <thead>\n",
       "    <tr style=\"text-align: right;\">\n",
       "      <th></th>\n",
       "      <th>location</th>\n",
       "      <th>temp</th>\n",
       "      <th>high</th>\n",
       "      <th>low</th>\n",
       "      <th>time_utc</th>\n",
       "    </tr>\n",
       "  </thead>\n",
       "  <tbody>\n",
       "    <tr>\n",
       "      <th>0</th>\n",
       "      <td>London</td>\n",
       "      <td>11</td>\n",
       "      <td>13</td>\n",
       "      <td>6</td>\n",
       "      <td>2021-11-02 22:16:26</td>\n",
       "    </tr>\n",
       "    <tr>\n",
       "      <th>1</th>\n",
       "      <td>Christchurch</td>\n",
       "      <td>12.53</td>\n",
       "      <td>5.96</td>\n",
       "      <td>12.865</td>\n",
       "      <td>2021-11-02 22:16:29</td>\n",
       "    </tr>\n",
       "  </tbody>\n",
       "</table>\n",
       "</div>"
      ],
      "text/plain": [
       "       location   temp  high     low             time_utc\n",
       "0        London     11    13       6  2021-11-02 22:16:26\n",
       "1  Christchurch  12.53  5.96  12.865  2021-11-02 22:16:29"
      ]
     },
     "metadata": {},
     "output_type": "display_data"
    }
   ],
   "source": [
    "dx = df_from_loc('Christchurch')\n",
    "\n",
    "data = {'location': dx.location.item(),\n",
    "        'time_utc': arrow.utcnow().format('YYYY-MM-DD HH:mm:ss'),\n",
    "        'temp': dx.the_temp.item(),\n",
    "        'high': dx.min_temp.item(),\n",
    "        'low': dx.max_temp.item()}\n",
    "\n",
    "df = insert_row(df, data)\n",
    "display(df)"
   ]
  },
  {
   "cell_type": "code",
   "execution_count": null,
   "id": "b48dc2f5",
   "metadata": {},
   "outputs": [
    {
     "data": {
      "text/html": [
       "<div>\n",
       "<style scoped>\n",
       "    .dataframe tbody tr th:only-of-type {\n",
       "        vertical-align: middle;\n",
       "    }\n",
       "\n",
       "    .dataframe tbody tr th {\n",
       "        vertical-align: top;\n",
       "    }\n",
       "\n",
       "    .dataframe thead th {\n",
       "        text-align: right;\n",
       "    }\n",
       "</style>\n",
       "<table border=\"1\" class=\"dataframe\">\n",
       "  <thead>\n",
       "    <tr style=\"text-align: right;\">\n",
       "      <th></th>\n",
       "      <th>location</th>\n",
       "      <th>temp</th>\n",
       "      <th>high</th>\n",
       "      <th>low</th>\n",
       "      <th>time_utc</th>\n",
       "    </tr>\n",
       "  </thead>\n",
       "  <tbody>\n",
       "    <tr>\n",
       "      <th>0</th>\n",
       "      <td>London</td>\n",
       "      <td>11</td>\n",
       "      <td>13</td>\n",
       "      <td>6</td>\n",
       "      <td>2021-11-02 22:16:26</td>\n",
       "    </tr>\n",
       "    <tr>\n",
       "      <th>1</th>\n",
       "      <td>Christchurch</td>\n",
       "      <td>12.53</td>\n",
       "      <td>5.96</td>\n",
       "      <td>12.865</td>\n",
       "      <td>2021-11-02 22:16:29</td>\n",
       "    </tr>\n",
       "    <tr>\n",
       "      <th>2</th>\n",
       "      <td>Wellington</td>\n",
       "      <td>12.8</td>\n",
       "      <td>10.2</td>\n",
       "      <td>13.5</td>\n",
       "      <td>2021-11-02 22:16:30</td>\n",
       "    </tr>\n",
       "    <tr>\n",
       "      <th>3</th>\n",
       "      <td>Lagos</td>\n",
       "      <td>29.4</td>\n",
       "      <td>25.0</td>\n",
       "      <td>30.9</td>\n",
       "      <td>2021-11-02 22:16:30</td>\n",
       "    </tr>\n",
       "    <tr>\n",
       "      <th>4</th>\n",
       "      <td>Zagreb</td>\n",
       "      <td>11.2</td>\n",
       "      <td>7.0</td>\n",
       "      <td>12.2</td>\n",
       "      <td>2021-11-02 22:16:31</td>\n",
       "    </tr>\n",
       "  </tbody>\n",
       "</table>\n",
       "</div>"
      ],
      "text/plain": [
       "       location   temp  high     low             time_utc\n",
       "0        London     11    13       6  2021-11-02 22:16:26\n",
       "1  Christchurch  12.53  5.96  12.865  2021-11-02 22:16:29\n",
       "2    Wellington   12.8  10.2    13.5  2021-11-02 22:16:30\n",
       "3         Lagos   29.4  25.0    30.9  2021-11-02 22:16:30\n",
       "4        Zagreb   11.2   7.0    12.2  2021-11-02 22:16:31"
      ]
     },
     "metadata": {},
     "output_type": "display_data"
    }
   ],
   "source": [
    "\n",
    "def visit_city(df, cities):\n",
    "    for city in cities:\n",
    "        dx = df_from_loc(city).round(1)\n",
    "\n",
    "        data = {'location': dx.location.item(), \n",
    "                'time_utc': arrow.utcnow().format('YYYY-MM-DD HH:mm:ss'),\n",
    "                'temp': dx.the_temp.item(),\n",
    "                'high': dx.min_temp.item(),\n",
    "                'low': dx.max_temp.item()}\n",
    "\n",
    "        df = insert_row(df, data)\n",
    "    return df\n",
    "        \n",
    "df = visit_city(df, ['Wellington', 'Lagos', 'Zagreb'])\n",
    "display(df)"
   ]
  },
  {
   "cell_type": "code",
   "execution_count": null,
   "id": "11fe01bd",
   "metadata": {},
   "outputs": [
    {
     "data": {
      "text/html": [
       "<div>\n",
       "<style scoped>\n",
       "    .dataframe tbody tr th:only-of-type {\n",
       "        vertical-align: middle;\n",
       "    }\n",
       "\n",
       "    .dataframe tbody tr th {\n",
       "        vertical-align: top;\n",
       "    }\n",
       "\n",
       "    .dataframe thead th {\n",
       "        text-align: right;\n",
       "    }\n",
       "</style>\n",
       "<table border=\"1\" class=\"dataframe\">\n",
       "  <thead>\n",
       "    <tr style=\"text-align: right;\">\n",
       "      <th></th>\n",
       "      <th>location</th>\n",
       "      <th>the_temp</th>\n",
       "      <th>readable_time</th>\n",
       "      <th>created</th>\n",
       "      <th>applicable_date</th>\n",
       "      <th>local_time</th>\n",
       "      <th>latt_long</th>\n",
       "      <th>weather_state_name</th>\n",
       "      <th>min_temp</th>\n",
       "      <th>max_temp</th>\n",
       "    </tr>\n",
       "  </thead>\n",
       "  <tbody>\n",
       "    <tr>\n",
       "      <th>0</th>\n",
       "      <td>London</td>\n",
       "      <td>11.0</td>\n",
       "      <td>17 minutes ago</td>\n",
       "      <td>2021-11-02T21:59:01.656858Z</td>\n",
       "      <td>2021-11-02</td>\n",
       "      <td>2021-11-02T22:16:32.578764Z</td>\n",
       "      <td>51.506321,-0.12714</td>\n",
       "      <td>Light Cloud</td>\n",
       "      <td>4.9</td>\n",
       "      <td>11.8</td>\n",
       "    </tr>\n",
       "  </tbody>\n",
       "</table>\n",
       "</div>"
      ],
      "text/plain": [
       "  location  the_temp   readable_time                      created  \\\n",
       "0   London      11.0  17 minutes ago  2021-11-02T21:59:01.656858Z   \n",
       "\n",
       "  applicable_date                   local_time           latt_long  \\\n",
       "0      2021-11-02  2021-11-02T22:16:32.578764Z  51.506321,-0.12714   \n",
       "\n",
       "  weather_state_name  min_temp  max_temp  \n",
       "0        Light Cloud       4.9      11.8  "
      ]
     },
     "execution_count": null,
     "metadata": {},
     "output_type": "execute_result"
    }
   ],
   "source": [
    "df_from_loc('London').round(1)"
   ]
  },
  {
   "cell_type": "code",
   "execution_count": null,
   "id": "9a0822de",
   "metadata": {},
   "outputs": [
    {
     "data": {
      "text/html": [
       "<div>\n",
       "<style scoped>\n",
       "    .dataframe tbody tr th:only-of-type {\n",
       "        vertical-align: middle;\n",
       "    }\n",
       "\n",
       "    .dataframe tbody tr th {\n",
       "        vertical-align: top;\n",
       "    }\n",
       "\n",
       "    .dataframe thead th {\n",
       "        text-align: right;\n",
       "    }\n",
       "</style>\n",
       "<table border=\"1\" class=\"dataframe\">\n",
       "  <thead>\n",
       "    <tr style=\"text-align: right;\">\n",
       "      <th></th>\n",
       "      <th>location</th>\n",
       "      <th>the_temp</th>\n",
       "      <th>readable_time</th>\n",
       "      <th>created</th>\n",
       "      <th>applicable_date</th>\n",
       "      <th>local_time</th>\n",
       "      <th>latt_long</th>\n",
       "      <th>weather_state_name</th>\n",
       "      <th>min_temp</th>\n",
       "      <th>max_temp</th>\n",
       "    </tr>\n",
       "  </thead>\n",
       "  <tbody>\n",
       "    <tr>\n",
       "      <th>0</th>\n",
       "      <td>Bangkok</td>\n",
       "      <td>31.7</td>\n",
       "      <td>2 hours ago</td>\n",
       "      <td>2021-11-02T19:39:20.557470Z</td>\n",
       "      <td>2021-11-03</td>\n",
       "      <td>2021-11-03T05:16:33.813841+07:00</td>\n",
       "      <td>13.753330,100.504822</td>\n",
       "      <td>Heavy Rain</td>\n",
       "      <td>24.0</td>\n",
       "      <td>31.8</td>\n",
       "    </tr>\n",
       "  </tbody>\n",
       "</table>\n",
       "</div>"
      ],
      "text/plain": [
       "  location  the_temp readable_time                      created  \\\n",
       "0  Bangkok      31.7   2 hours ago  2021-11-02T19:39:20.557470Z   \n",
       "\n",
       "  applicable_date                        local_time             latt_long  \\\n",
       "0      2021-11-03  2021-11-03T05:16:33.813841+07:00  13.753330,100.504822   \n",
       "\n",
       "  weather_state_name  min_temp  max_temp  \n",
       "0         Heavy Rain      24.0      31.8  "
      ]
     },
     "execution_count": null,
     "metadata": {},
     "output_type": "execute_result"
    }
   ],
   "source": [
    "df = visit_city(df, ['Bangkok'])\n",
    "df_from_loc('Bangkok').round(1)"
   ]
  },
  {
   "cell_type": "code",
   "execution_count": null,
   "id": "542f077e",
   "metadata": {},
   "outputs": [
    {
     "data": {
      "text/plain": [
       "0    just now\n",
       "1    just now\n",
       "2    just now\n",
       "3    just now\n",
       "4    just now\n",
       "5    just now\n",
       "Name: time_utc, dtype: object"
      ]
     },
     "execution_count": null,
     "metadata": {},
     "output_type": "execute_result"
    }
   ],
   "source": [
    "df.time_utc.apply(lambda x: arrow.get(x).humanize())"
   ]
  },
  {
   "cell_type": "code",
   "execution_count": null,
   "id": "20c392bc",
   "metadata": {},
   "outputs": [
    {
     "data": {
      "text/html": [
       "<div>\n",
       "<style scoped>\n",
       "    .dataframe tbody tr th:only-of-type {\n",
       "        vertical-align: middle;\n",
       "    }\n",
       "\n",
       "    .dataframe tbody tr th {\n",
       "        vertical-align: top;\n",
       "    }\n",
       "\n",
       "    .dataframe thead th {\n",
       "        text-align: right;\n",
       "    }\n",
       "</style>\n",
       "<table border=\"1\" class=\"dataframe\">\n",
       "  <thead>\n",
       "    <tr style=\"text-align: right;\">\n",
       "      <th></th>\n",
       "      <th>location</th>\n",
       "      <th>temp</th>\n",
       "      <th>high</th>\n",
       "      <th>low</th>\n",
       "      <th>time_utc</th>\n",
       "      <th>human</th>\n",
       "    </tr>\n",
       "  </thead>\n",
       "  <tbody>\n",
       "    <tr>\n",
       "      <th>0</th>\n",
       "      <td>London</td>\n",
       "      <td>11</td>\n",
       "      <td>13</td>\n",
       "      <td>6</td>\n",
       "      <td>2021-11-02 22:16:26</td>\n",
       "      <td>30 seconds ago</td>\n",
       "    </tr>\n",
       "    <tr>\n",
       "      <th>1</th>\n",
       "      <td>Christchurch</td>\n",
       "      <td>12.53</td>\n",
       "      <td>5.96</td>\n",
       "      <td>12.865</td>\n",
       "      <td>2021-11-02 22:16:29</td>\n",
       "      <td>27 seconds ago</td>\n",
       "    </tr>\n",
       "    <tr>\n",
       "      <th>2</th>\n",
       "      <td>Wellington</td>\n",
       "      <td>12.8</td>\n",
       "      <td>10.2</td>\n",
       "      <td>13.5</td>\n",
       "      <td>2021-11-02 22:16:30</td>\n",
       "      <td>26 seconds ago</td>\n",
       "    </tr>\n",
       "    <tr>\n",
       "      <th>3</th>\n",
       "      <td>Lagos</td>\n",
       "      <td>29.4</td>\n",
       "      <td>25.0</td>\n",
       "      <td>30.9</td>\n",
       "      <td>2021-11-02 22:16:30</td>\n",
       "      <td>26 seconds ago</td>\n",
       "    </tr>\n",
       "    <tr>\n",
       "      <th>4</th>\n",
       "      <td>Zagreb</td>\n",
       "      <td>11.2</td>\n",
       "      <td>7.0</td>\n",
       "      <td>12.2</td>\n",
       "      <td>2021-11-02 22:16:31</td>\n",
       "      <td>25 seconds ago</td>\n",
       "    </tr>\n",
       "    <tr>\n",
       "      <th>5</th>\n",
       "      <td>Bangkok</td>\n",
       "      <td>31.7</td>\n",
       "      <td>24.0</td>\n",
       "      <td>31.8</td>\n",
       "      <td>2021-11-02 22:16:33</td>\n",
       "      <td>23 seconds ago</td>\n",
       "    </tr>\n",
       "  </tbody>\n",
       "</table>\n",
       "</div>"
      ],
      "text/plain": [
       "       location   temp  high     low             time_utc           human\n",
       "0        London     11    13       6  2021-11-02 22:16:26  30 seconds ago\n",
       "1  Christchurch  12.53  5.96  12.865  2021-11-02 22:16:29  27 seconds ago\n",
       "2    Wellington   12.8  10.2    13.5  2021-11-02 22:16:30  26 seconds ago\n",
       "3         Lagos   29.4  25.0    30.9  2021-11-02 22:16:30  26 seconds ago\n",
       "4        Zagreb   11.2   7.0    12.2  2021-11-02 22:16:31  25 seconds ago\n",
       "5       Bangkok   31.7  24.0    31.8  2021-11-02 22:16:33  23 seconds ago"
      ]
     },
     "metadata": {},
     "output_type": "display_data"
    }
   ],
   "source": [
    "df['human'] = df.time_utc.apply(lambda x: arrow.get(x).humanize())\n",
    "display(df)"
   ]
  },
  {
   "cell_type": "code",
   "execution_count": null,
   "id": "4aa2f585",
   "metadata": {},
   "outputs": [
    {
     "data": {
      "text/html": [
       "<div>\n",
       "<style scoped>\n",
       "    .dataframe tbody tr th:only-of-type {\n",
       "        vertical-align: middle;\n",
       "    }\n",
       "\n",
       "    .dataframe tbody tr th {\n",
       "        vertical-align: top;\n",
       "    }\n",
       "\n",
       "    .dataframe thead th {\n",
       "        text-align: right;\n",
       "    }\n",
       "</style>\n",
       "<table border=\"1\" class=\"dataframe\">\n",
       "  <thead>\n",
       "    <tr style=\"text-align: right;\">\n",
       "      <th></th>\n",
       "      <th>location</th>\n",
       "      <th>temp</th>\n",
       "      <th>high</th>\n",
       "      <th>low</th>\n",
       "      <th>time_utc</th>\n",
       "      <th>human</th>\n",
       "    </tr>\n",
       "  </thead>\n",
       "  <tbody>\n",
       "    <tr>\n",
       "      <th>0</th>\n",
       "      <td>London</td>\n",
       "      <td>11</td>\n",
       "      <td>13</td>\n",
       "      <td>6</td>\n",
       "      <td>2021-11-02 22:16:26</td>\n",
       "      <td>a minute ago</td>\n",
       "    </tr>\n",
       "    <tr>\n",
       "      <th>1</th>\n",
       "      <td>Christchurch</td>\n",
       "      <td>12.53</td>\n",
       "      <td>5.96</td>\n",
       "      <td>12.865</td>\n",
       "      <td>2021-11-02 22:16:29</td>\n",
       "      <td>57 seconds ago</td>\n",
       "    </tr>\n",
       "    <tr>\n",
       "      <th>2</th>\n",
       "      <td>Wellington</td>\n",
       "      <td>12.8</td>\n",
       "      <td>10.2</td>\n",
       "      <td>13.5</td>\n",
       "      <td>2021-11-02 22:16:30</td>\n",
       "      <td>56 seconds ago</td>\n",
       "    </tr>\n",
       "    <tr>\n",
       "      <th>3</th>\n",
       "      <td>Lagos</td>\n",
       "      <td>29.4</td>\n",
       "      <td>25.0</td>\n",
       "      <td>30.9</td>\n",
       "      <td>2021-11-02 22:16:30</td>\n",
       "      <td>56 seconds ago</td>\n",
       "    </tr>\n",
       "    <tr>\n",
       "      <th>4</th>\n",
       "      <td>Zagreb</td>\n",
       "      <td>11.2</td>\n",
       "      <td>7.0</td>\n",
       "      <td>12.2</td>\n",
       "      <td>2021-11-02 22:16:31</td>\n",
       "      <td>55 seconds ago</td>\n",
       "    </tr>\n",
       "    <tr>\n",
       "      <th>5</th>\n",
       "      <td>Bangkok</td>\n",
       "      <td>31.7</td>\n",
       "      <td>24.0</td>\n",
       "      <td>31.8</td>\n",
       "      <td>2021-11-02 22:16:33</td>\n",
       "      <td>53 seconds ago</td>\n",
       "    </tr>\n",
       "    <tr>\n",
       "      <th>6</th>\n",
       "      <td>Manila</td>\n",
       "      <td>32.1</td>\n",
       "      <td>24.8</td>\n",
       "      <td>32.0</td>\n",
       "      <td>2021-11-02 22:17:26</td>\n",
       "      <td>just now</td>\n",
       "    </tr>\n",
       "  </tbody>\n",
       "</table>\n",
       "</div>"
      ],
      "text/plain": [
       "       location   temp  high     low             time_utc           human\n",
       "0        London     11    13       6  2021-11-02 22:16:26    a minute ago\n",
       "1  Christchurch  12.53  5.96  12.865  2021-11-02 22:16:29  57 seconds ago\n",
       "2    Wellington   12.8  10.2    13.5  2021-11-02 22:16:30  56 seconds ago\n",
       "3         Lagos   29.4  25.0    30.9  2021-11-02 22:16:30  56 seconds ago\n",
       "4        Zagreb   11.2   7.0    12.2  2021-11-02 22:16:31  55 seconds ago\n",
       "5       Bangkok   31.7  24.0    31.8  2021-11-02 22:16:33  53 seconds ago\n",
       "6        Manila   32.1  24.8    32.0  2021-11-02 22:17:26        just now"
      ]
     },
     "metadata": {},
     "output_type": "display_data"
    }
   ],
   "source": [
    "df = visit_city(df, ['Manila'])\n",
    "df['human'] = df.time_utc.apply(lambda x: arrow.get(x).humanize())\n",
    "display(df)"
   ]
  },
  {
   "cell_type": "code",
   "execution_count": null,
   "id": "4e8afb19",
   "metadata": {},
   "outputs": [
    {
     "data": {
      "text/html": [
       "<div>\n",
       "<style scoped>\n",
       "    .dataframe tbody tr th:only-of-type {\n",
       "        vertical-align: middle;\n",
       "    }\n",
       "\n",
       "    .dataframe tbody tr th {\n",
       "        vertical-align: top;\n",
       "    }\n",
       "\n",
       "    .dataframe thead th {\n",
       "        text-align: right;\n",
       "    }\n",
       "</style>\n",
       "<table border=\"1\" class=\"dataframe\">\n",
       "  <thead>\n",
       "    <tr style=\"text-align: right;\">\n",
       "      <th></th>\n",
       "      <th>location</th>\n",
       "      <th>temp</th>\n",
       "      <th>high</th>\n",
       "      <th>low</th>\n",
       "      <th>time_utc</th>\n",
       "      <th>human</th>\n",
       "    </tr>\n",
       "  </thead>\n",
       "  <tbody>\n",
       "    <tr>\n",
       "      <th>0</th>\n",
       "      <td>London</td>\n",
       "      <td>11</td>\n",
       "      <td>13</td>\n",
       "      <td>6</td>\n",
       "      <td>2021-11-02 22:16:26</td>\n",
       "      <td>8 minutes ago</td>\n",
       "    </tr>\n",
       "    <tr>\n",
       "      <th>1</th>\n",
       "      <td>Christchurch</td>\n",
       "      <td>12.53</td>\n",
       "      <td>5.96</td>\n",
       "      <td>12.865</td>\n",
       "      <td>2021-11-02 22:16:29</td>\n",
       "      <td>8 minutes ago</td>\n",
       "    </tr>\n",
       "    <tr>\n",
       "      <th>2</th>\n",
       "      <td>Wellington</td>\n",
       "      <td>12.8</td>\n",
       "      <td>10.2</td>\n",
       "      <td>13.5</td>\n",
       "      <td>2021-11-02 22:16:30</td>\n",
       "      <td>8 minutes ago</td>\n",
       "    </tr>\n",
       "    <tr>\n",
       "      <th>3</th>\n",
       "      <td>Lagos</td>\n",
       "      <td>29.4</td>\n",
       "      <td>25.0</td>\n",
       "      <td>30.9</td>\n",
       "      <td>2021-11-02 22:16:30</td>\n",
       "      <td>8 minutes ago</td>\n",
       "    </tr>\n",
       "    <tr>\n",
       "      <th>4</th>\n",
       "      <td>Zagreb</td>\n",
       "      <td>11.2</td>\n",
       "      <td>7.0</td>\n",
       "      <td>12.2</td>\n",
       "      <td>2021-11-02 22:16:31</td>\n",
       "      <td>8 minutes ago</td>\n",
       "    </tr>\n",
       "    <tr>\n",
       "      <th>5</th>\n",
       "      <td>Bangkok</td>\n",
       "      <td>31.7</td>\n",
       "      <td>24.0</td>\n",
       "      <td>31.8</td>\n",
       "      <td>2021-11-02 22:16:33</td>\n",
       "      <td>8 minutes ago</td>\n",
       "    </tr>\n",
       "    <tr>\n",
       "      <th>6</th>\n",
       "      <td>Manila</td>\n",
       "      <td>32.1</td>\n",
       "      <td>24.8</td>\n",
       "      <td>32.0</td>\n",
       "      <td>2021-11-02 22:17:26</td>\n",
       "      <td>7 minutes ago</td>\n",
       "    </tr>\n",
       "    <tr>\n",
       "      <th>7</th>\n",
       "      <td>Lima</td>\n",
       "      <td>19.2</td>\n",
       "      <td>15.7</td>\n",
       "      <td>20.9</td>\n",
       "      <td>2021-11-02 22:20:45</td>\n",
       "      <td>4 minutes ago</td>\n",
       "    </tr>\n",
       "    <tr>\n",
       "      <th>8</th>\n",
       "      <td>alexandria</td>\n",
       "      <td>26.0</td>\n",
       "      <td>19.7</td>\n",
       "      <td>25.8</td>\n",
       "      <td>2021-11-02 22:25:25</td>\n",
       "      <td>just now</td>\n",
       "    </tr>\n",
       "  </tbody>\n",
       "</table>\n",
       "</div>"
      ],
      "text/plain": [
       "       location   temp  high     low             time_utc          human\n",
       "0        London     11    13       6  2021-11-02 22:16:26  8 minutes ago\n",
       "1  Christchurch  12.53  5.96  12.865  2021-11-02 22:16:29  8 minutes ago\n",
       "2    Wellington   12.8  10.2    13.5  2021-11-02 22:16:30  8 minutes ago\n",
       "3         Lagos   29.4  25.0    30.9  2021-11-02 22:16:30  8 minutes ago\n",
       "4        Zagreb   11.2   7.0    12.2  2021-11-02 22:16:31  8 minutes ago\n",
       "5       Bangkok   31.7  24.0    31.8  2021-11-02 22:16:33  8 minutes ago\n",
       "6        Manila   32.1  24.8    32.0  2021-11-02 22:17:26  7 minutes ago\n",
       "7          Lima   19.2  15.7    20.9  2021-11-02 22:20:45  4 minutes ago\n",
       "8    alexandria   26.0  19.7    25.8  2021-11-02 22:25:25       just now"
      ]
     },
     "metadata": {},
     "output_type": "display_data"
    }
   ],
   "source": [
    "df = visit_city(df, ['Alexandria'])\n",
    "df['human'] = df.time_utc.apply(lambda x: arrow.get(x).humanize())\n",
    "display(df)"
   ]
  },
  {
   "cell_type": "code",
   "execution_count": null,
   "id": "0b5bbe15",
   "metadata": {},
   "outputs": [],
   "source": []
  }
 ],
 "metadata": {
  "kernelspec": {
   "display_name": "Python 3 (ipykernel)",
   "language": "python",
   "name": "python3"
  }
 },
 "nbformat": 4,
 "nbformat_minor": 5
}
