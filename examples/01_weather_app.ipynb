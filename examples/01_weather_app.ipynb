{
 "cells": [
  {
   "cell_type": "markdown",
   "id": "e426f068",
   "metadata": {},
   "source": [
    "# 🌞 Example Weather App\n",
    "> Using `prodb`\n",
    "\n",
    "\n",
    "* Starting with a `.csv` of locations, we wish to call the [MetaWeather](https://www.metaweather.com/api/) API to pull in the weather forecast.  \n",
    "* The app needs the ability to input new locations by the user\n",
    "\n",
    " 🌍 Core functions will be converted into the streamlit app `weather_app.py`"
   ]
  },
  {
   "cell_type": "code",
   "execution_count": null,
   "id": "d2615238",
   "metadata": {},
   "outputs": [],
   "source": [
    "#hide\n",
    "from nbdev.showdoc import *\n",
    "import pandas as pd\n",
    "%load_ext autoreload\n",
    "%autoreload 2"
   ]
  },
  {
   "cell_type": "markdown",
   "id": "a3831d68",
   "metadata": {},
   "source": [
    "## 1. Requests to `metaweather` open weather API"
   ]
  },
  {
   "cell_type": "code",
   "execution_count": null,
   "id": "4468a7ba",
   "metadata": {},
   "outputs": [],
   "source": [
    "import requests\n",
    "import json\n",
    "import arrow"
   ]
  },
  {
   "cell_type": "code",
   "execution_count": null,
   "id": "7c35901f",
   "metadata": {},
   "outputs": [
    {
     "data": {
      "text/plain": [
       "{'title': 'London',\n",
       " 'location_type': 'City',\n",
       " 'woeid': 44418,\n",
       " 'latt_long': '51.506321,-0.12714'}"
      ]
     },
     "execution_count": null,
     "metadata": {},
     "output_type": "execute_result"
    }
   ],
   "source": [
    "def get_json_from_query(location):\n",
    "    \"\"\"Search for a city and return metadata from API\"\"\"\n",
    "    url = f\"https://www.metaweather.com/api/location/search/?query={location}\"\n",
    "    r = requests.get(url).json()\n",
    "    return r[0]\n",
    "\n",
    "l = get_json_from_query('London')\n",
    "l"
   ]
  },
  {
   "cell_type": "markdown",
   "id": "139c0d9b",
   "metadata": {},
   "source": [
    "Check `woeid`(Where On Earth ID) is correct for London"
   ]
  },
  {
   "cell_type": "code",
   "execution_count": null,
   "id": "2d530cc4",
   "metadata": {},
   "outputs": [],
   "source": [
    "assert l['woeid'] == 44418"
   ]
  },
  {
   "cell_type": "markdown",
   "id": "6d1adc34",
   "metadata": {},
   "source": [
    "Get weather data for the London `woeid`"
   ]
  },
  {
   "cell_type": "code",
   "execution_count": null,
   "id": "aa20f822",
   "metadata": {},
   "outputs": [
    {
     "data": {
      "text/plain": [
       "'2021/10/22'"
      ]
     },
     "execution_count": null,
     "metadata": {},
     "output_type": "execute_result"
    }
   ],
   "source": [
    "utc = arrow.utcnow().format('YYYY/MM/DD')\n",
    "utc"
   ]
  },
  {
   "cell_type": "code",
   "execution_count": null,
   "id": "ccda76c7",
   "metadata": {},
   "outputs": [],
   "source": [
    "def get_current_weather(location):\n",
    "    \"\"\"\n",
    "    inputs: location str \"London\"\n",
    "            to find woeid i.e. 44418\n",
    "    \"\"\"\n",
    "    res = get_json_from_query(location)\n",
    "    woeid = res['woeid']\n",
    "    url = f\"https://www.metaweather.com/api/location/{woeid}/\"\n",
    "    res = requests.get(url).json()\n",
    "    return res"
   ]
  },
  {
   "cell_type": "markdown",
   "id": "08c7bee6",
   "metadata": {},
   "source": [
    "Today's forecast:"
   ]
  },
  {
   "cell_type": "code",
   "execution_count": null,
   "id": "75376489",
   "metadata": {},
   "outputs": [
    {
     "data": {
      "text/plain": [
       "{'id': 6455697949589504,\n",
       " 'weather_state_name': 'Heavy Cloud',\n",
       " 'weather_state_abbr': 'hc',\n",
       " 'wind_direction_compass': 'W',\n",
       " 'created': '2021-10-22T21:59:01.930990Z',\n",
       " 'applicable_date': '2021-10-22',\n",
       " 'min_temp': 6.88,\n",
       " 'max_temp': 13.120000000000001,\n",
       " 'the_temp': 12.215,\n",
       " 'wind_speed': 8.008047157056126,\n",
       " 'wind_direction': 271.66194481070727,\n",
       " 'air_pressure': 1021.0,\n",
       " 'humidity': 69,\n",
       " 'visibility': 10.114369581643203,\n",
       " 'predictability': 71}"
      ]
     },
     "execution_count": null,
     "metadata": {},
     "output_type": "execute_result"
    }
   ],
   "source": [
    "res = get_current_weather('London')\n",
    "res['consolidated_weather'][0]"
   ]
  },
  {
   "cell_type": "code",
   "execution_count": null,
   "id": "332bb853",
   "metadata": {},
   "outputs": [
    {
     "data": {
      "text/plain": [
       "{'consolidated_weather': [{'id': 6455697949589504,\n",
       "   'weather_state_name': 'Heavy Cloud',\n",
       "   'weather_state_abbr': 'hc',\n",
       "   'wind_direction_compass': 'W',\n",
       "   'created': '2021-10-22T21:59:01.930990Z',\n",
       "   'applicable_date': '2021-10-22',\n",
       "   'min_temp': 6.88,\n",
       "   'max_temp': 13.120000000000001,\n",
       "   'the_temp': 12.215,\n",
       "   'wind_speed': 8.008047157056126,\n",
       "   'wind_direction': 271.66194481070727,\n",
       "   'air_pressure': 1021.0,\n",
       "   'humidity': 69,\n",
       "   'visibility': 10.114369581643203,\n",
       "   'predictability': 71},\n",
       "  {'id': 5003891520307200,\n",
       "   'weather_state_name': 'Heavy Cloud',\n",
       "   'weather_state_abbr': 'hc',\n",
       "   'wind_direction_compass': 'SSW',\n",
       "   'created': '2021-10-22T21:59:01.778207Z',\n",
       "   'applicable_date': '2021-10-23',\n",
       "   'min_temp': 6.58,\n",
       "   'max_temp': 14.870000000000001,\n",
       "   'the_temp': 13.49,\n",
       "   'wind_speed': 4.616571359397121,\n",
       "   'wind_direction': 208.50083982409095,\n",
       "   'air_pressure': 1025.5,\n",
       "   'humidity': 68,\n",
       "   'visibility': 10.523853197327607,\n",
       "   'predictability': 71},\n",
       "  {'id': 6605370312097792,\n",
       "   'weather_state_name': 'Showers',\n",
       "   'weather_state_abbr': 's',\n",
       "   'wind_direction_compass': 'SSW',\n",
       "   'created': '2021-10-22T21:59:02.251798Z',\n",
       "   'applicable_date': '2021-10-24',\n",
       "   'min_temp': 9.21,\n",
       "   'max_temp': 14.92,\n",
       "   'the_temp': 14.055,\n",
       "   'wind_speed': 7.915368072952624,\n",
       "   'wind_direction': 195.17745911420974,\n",
       "   'air_pressure': 1018.5,\n",
       "   'humidity': 68,\n",
       "   'visibility': 12.84653871391076,\n",
       "   'predictability': 73},\n",
       "  {'id': 5506030483013632,\n",
       "   'weather_state_name': 'Light Rain',\n",
       "   'weather_state_abbr': 'lr',\n",
       "   'wind_direction_compass': 'WSW',\n",
       "   'created': '2021-10-22T21:59:02.165221Z',\n",
       "   'applicable_date': '2021-10-25',\n",
       "   'min_temp': 10.315,\n",
       "   'max_temp': 15.625,\n",
       "   'the_temp': 15.059999999999999,\n",
       "   'wind_speed': 6.057034271319495,\n",
       "   'wind_direction': 244.1757605843169,\n",
       "   'air_pressure': 1016.5,\n",
       "   'humidity': 75,\n",
       "   'visibility': 11.53699892627058,\n",
       "   'predictability': 75},\n",
       "  {'id': 4560873092808704,\n",
       "   'weather_state_name': 'Heavy Cloud',\n",
       "   'weather_state_abbr': 'hc',\n",
       "   'wind_direction_compass': 'SW',\n",
       "   'created': '2021-10-22T21:59:01.770536Z',\n",
       "   'applicable_date': '2021-10-26',\n",
       "   'min_temp': 9.31,\n",
       "   'max_temp': 16.925,\n",
       "   'the_temp': 15.515,\n",
       "   'wind_speed': 6.039245996951138,\n",
       "   'wind_direction': 227.33275372808097,\n",
       "   'air_pressure': 1021.0,\n",
       "   'humidity': 81,\n",
       "   'visibility': 12.75799331901694,\n",
       "   'predictability': 71},\n",
       "  {'id': 5798877618765824,\n",
       "   'weather_state_name': 'Heavy Cloud',\n",
       "   'weather_state_abbr': 'hc',\n",
       "   'wind_direction_compass': 'SSW',\n",
       "   'created': '2021-10-22T21:59:04.344908Z',\n",
       "   'applicable_date': '2021-10-27',\n",
       "   'min_temp': 12.94,\n",
       "   'max_temp': 17.825000000000003,\n",
       "   'the_temp': 17.39,\n",
       "   'wind_speed': 6.598915930963175,\n",
       "   'wind_direction': 210.5,\n",
       "   'air_pressure': 1020.0,\n",
       "   'humidity': 81,\n",
       "   'visibility': 9.999726596675416,\n",
       "   'predictability': 71}],\n",
       " 'time': '2021-10-22T23:20:14.349160+01:00',\n",
       " 'sun_rise': '2021-10-22T07:36:44.455562+01:00',\n",
       " 'sun_set': '2021-10-22T17:52:20.050762+01:00',\n",
       " 'timezone_name': 'LMT',\n",
       " 'parent': {'title': 'England',\n",
       "  'location_type': 'Region / State / Province',\n",
       "  'woeid': 24554868,\n",
       "  'latt_long': '52.883560,-1.974060'},\n",
       " 'sources': [{'title': 'BBC',\n",
       "   'slug': 'bbc',\n",
       "   'url': 'http://www.bbc.co.uk/weather/',\n",
       "   'crawl_rate': 360},\n",
       "  {'title': 'Forecast.io',\n",
       "   'slug': 'forecast-io',\n",
       "   'url': 'http://forecast.io/',\n",
       "   'crawl_rate': 480},\n",
       "  {'title': 'HAMweather',\n",
       "   'slug': 'hamweather',\n",
       "   'url': 'http://www.hamweather.com/',\n",
       "   'crawl_rate': 360},\n",
       "  {'title': 'Met Office',\n",
       "   'slug': 'met-office',\n",
       "   'url': 'http://www.metoffice.gov.uk/',\n",
       "   'crawl_rate': 180},\n",
       "  {'title': 'OpenWeatherMap',\n",
       "   'slug': 'openweathermap',\n",
       "   'url': 'http://openweathermap.org/',\n",
       "   'crawl_rate': 360},\n",
       "  {'title': 'Weather Underground',\n",
       "   'slug': 'wunderground',\n",
       "   'url': 'https://www.wunderground.com/?apiref=fc30dc3cd224e19b',\n",
       "   'crawl_rate': 720},\n",
       "  {'title': 'World Weather Online',\n",
       "   'slug': 'world-weather-online',\n",
       "   'url': 'http://www.worldweatheronline.com/',\n",
       "   'crawl_rate': 360}],\n",
       " 'title': 'London',\n",
       " 'location_type': 'City',\n",
       " 'woeid': 44418,\n",
       " 'latt_long': '51.506321,-0.12714',\n",
       " 'timezone': 'Europe/London'}"
      ]
     },
     "execution_count": null,
     "metadata": {},
     "output_type": "execute_result"
    }
   ],
   "source": [
    "res"
   ]
  },
  {
   "cell_type": "markdown",
   "id": "2ca4139e",
   "metadata": {},
   "source": [
    "There are a number of metrological properties available to us from the API. \n",
    "\n",
    "The ones we are most interested in are:\n",
    "* `the_temp` 🌡️ current temperature\n",
    "* `weather_state_name` ⛅ current sky condition\n",
    "* `max_temp` 🥵 daily max temp\n",
    "* `min_temp` 🥶 daily min temp\n"
   ]
  },
  {
   "cell_type": "code",
   "execution_count": null,
   "id": "802cc45d",
   "metadata": {},
   "outputs": [
    {
     "data": {
      "text/html": [
       "<div>\n",
       "<style scoped>\n",
       "    .dataframe tbody tr th:only-of-type {\n",
       "        vertical-align: middle;\n",
       "    }\n",
       "\n",
       "    .dataframe tbody tr th {\n",
       "        vertical-align: top;\n",
       "    }\n",
       "\n",
       "    .dataframe thead th {\n",
       "        text-align: right;\n",
       "    }\n",
       "</style>\n",
       "<table border=\"1\" class=\"dataframe\">\n",
       "  <thead>\n",
       "    <tr style=\"text-align: right;\">\n",
       "      <th></th>\n",
       "      <th>id</th>\n",
       "      <th>weather_state_name</th>\n",
       "      <th>weather_state_abbr</th>\n",
       "      <th>wind_direction_compass</th>\n",
       "      <th>created</th>\n",
       "      <th>applicable_date</th>\n",
       "      <th>min_temp</th>\n",
       "      <th>max_temp</th>\n",
       "      <th>the_temp</th>\n",
       "      <th>wind_speed</th>\n",
       "      <th>wind_direction</th>\n",
       "      <th>air_pressure</th>\n",
       "      <th>humidity</th>\n",
       "      <th>visibility</th>\n",
       "      <th>predictability</th>\n",
       "      <th>readable_time</th>\n",
       "    </tr>\n",
       "  </thead>\n",
       "  <tbody>\n",
       "    <tr>\n",
       "      <th>0</th>\n",
       "      <td>6455697949589504</td>\n",
       "      <td>Heavy Cloud</td>\n",
       "      <td>hc</td>\n",
       "      <td>W</td>\n",
       "      <td>2021-10-22T21:59:01.930990Z</td>\n",
       "      <td>2021-10-22</td>\n",
       "      <td>6.88</td>\n",
       "      <td>13.12</td>\n",
       "      <td>12.215</td>\n",
       "      <td>8.008047</td>\n",
       "      <td>271.661945</td>\n",
       "      <td>1021.0</td>\n",
       "      <td>69</td>\n",
       "      <td>10.11437</td>\n",
       "      <td>71</td>\n",
       "      <td>21 minutes ago</td>\n",
       "    </tr>\n",
       "  </tbody>\n",
       "</table>\n",
       "</div>"
      ],
      "text/plain": [
       "                 id weather_state_name weather_state_abbr  \\\n",
       "0  6455697949589504        Heavy Cloud                 hc   \n",
       "\n",
       "  wind_direction_compass                      created applicable_date  \\\n",
       "0                      W  2021-10-22T21:59:01.930990Z      2021-10-22   \n",
       "\n",
       "   min_temp  max_temp  the_temp  wind_speed  wind_direction  air_pressure  \\\n",
       "0      6.88     13.12    12.215    8.008047      271.661945        1021.0   \n",
       "\n",
       "   humidity  visibility  predictability   readable_time  \n",
       "0        69    10.11437              71  21 minutes ago  "
      ]
     },
     "execution_count": null,
     "metadata": {},
     "output_type": "execute_result"
    }
   ],
   "source": [
    "res = get_current_weather('London')\n",
    "df =  pd.DataFrame.from_records(res['consolidated_weather'][:1])\n",
    "df['readable_time'] = df.created.apply(lambda x: arrow.get(x).humanize())\n",
    "df"
   ]
  },
  {
   "cell_type": "code",
   "execution_count": null,
   "id": "65eb62ab",
   "metadata": {},
   "outputs": [
    {
     "data": {
      "text/html": [
       "<div>\n",
       "<style scoped>\n",
       "    .dataframe tbody tr th:only-of-type {\n",
       "        vertical-align: middle;\n",
       "    }\n",
       "\n",
       "    .dataframe tbody tr th {\n",
       "        vertical-align: top;\n",
       "    }\n",
       "\n",
       "    .dataframe thead th {\n",
       "        text-align: right;\n",
       "    }\n",
       "</style>\n",
       "<table border=\"1\" class=\"dataframe\">\n",
       "  <thead>\n",
       "    <tr style=\"text-align: right;\">\n",
       "      <th></th>\n",
       "      <th>location</th>\n",
       "      <th>the_temp</th>\n",
       "      <th>readable_time</th>\n",
       "      <th>created</th>\n",
       "      <th>applicable_date</th>\n",
       "      <th>local_time</th>\n",
       "      <th>latt_long</th>\n",
       "      <th>weather_state_name</th>\n",
       "      <th>min_temp</th>\n",
       "      <th>max_temp</th>\n",
       "    </tr>\n",
       "  </thead>\n",
       "  <tbody>\n",
       "    <tr>\n",
       "      <th>0</th>\n",
       "      <td>London</td>\n",
       "      <td>12.215</td>\n",
       "      <td>21 minutes ago</td>\n",
       "      <td>2021-10-22T21:59:01.930990Z</td>\n",
       "      <td>2021-10-22</td>\n",
       "      <td>2021-10-22T23:20:20.390435+01:00</td>\n",
       "      <td>51.506321,-0.12714</td>\n",
       "      <td>Heavy Cloud</td>\n",
       "      <td>6.88</td>\n",
       "      <td>13.12</td>\n",
       "    </tr>\n",
       "    <tr>\n",
       "      <th>1</th>\n",
       "      <td>London</td>\n",
       "      <td>13.490</td>\n",
       "      <td>21 minutes ago</td>\n",
       "      <td>2021-10-22T21:59:01.778207Z</td>\n",
       "      <td>2021-10-23</td>\n",
       "      <td>2021-10-22T23:20:20.390435+01:00</td>\n",
       "      <td>51.506321,-0.12714</td>\n",
       "      <td>Heavy Cloud</td>\n",
       "      <td>6.58</td>\n",
       "      <td>14.87</td>\n",
       "    </tr>\n",
       "  </tbody>\n",
       "</table>\n",
       "</div>"
      ],
      "text/plain": [
       "  location  the_temp   readable_time                      created  \\\n",
       "0   London    12.215  21 minutes ago  2021-10-22T21:59:01.930990Z   \n",
       "1   London    13.490  21 minutes ago  2021-10-22T21:59:01.778207Z   \n",
       "\n",
       "  applicable_date                        local_time           latt_long  \\\n",
       "0      2021-10-22  2021-10-22T23:20:20.390435+01:00  51.506321,-0.12714   \n",
       "1      2021-10-23  2021-10-22T23:20:20.390435+01:00  51.506321,-0.12714   \n",
       "\n",
       "  weather_state_name  min_temp  max_temp  \n",
       "0        Heavy Cloud      6.88     13.12  \n",
       "1        Heavy Cloud      6.58     14.87  "
      ]
     },
     "execution_count": null,
     "metadata": {},
     "output_type": "execute_result"
    }
   ],
   "source": [
    "def df_from_loc(location, \n",
    "                days_ahead=1,\n",
    "                keep_cols='location the_temp readable_time created applicable_date local_time latt_long weather_state_name min_temp max_temp'.split(' ')):\n",
    "    res = get_current_weather(location)\n",
    "    df =  pd.DataFrame.from_records(res['consolidated_weather'][:days_ahead])\n",
    "    df['location'] = location\n",
    "    df['local_time'] = res['time']\n",
    "    df['latt_long'] = res['latt_long']\n",
    "    df['readable_time'] = df.created.apply(lambda x: arrow.get(x).humanize())\n",
    "    return df[keep_cols]\n",
    "\n",
    "df = df_from_loc('London', days_ahead=2)\n",
    "df"
   ]
  },
  {
   "cell_type": "markdown",
   "id": "a7d7b862",
   "metadata": {},
   "source": [
    "Example output showing location and current weather situation"
   ]
  },
  {
   "cell_type": "code",
   "execution_count": null,
   "id": "bd96a7a9",
   "metadata": {},
   "outputs": [
    {
     "data": {
      "text/html": [
       "<div>\n",
       "<style scoped>\n",
       "    .dataframe tbody tr th:only-of-type {\n",
       "        vertical-align: middle;\n",
       "    }\n",
       "\n",
       "    .dataframe tbody tr th {\n",
       "        vertical-align: top;\n",
       "    }\n",
       "\n",
       "    .dataframe thead th {\n",
       "        text-align: right;\n",
       "    }\n",
       "</style>\n",
       "<table border=\"1\" class=\"dataframe\">\n",
       "  <thead>\n",
       "    <tr style=\"text-align: right;\">\n",
       "      <th></th>\n",
       "      <th>location</th>\n",
       "      <th>the_temp</th>\n",
       "      <th>readable_time</th>\n",
       "      <th>created</th>\n",
       "      <th>applicable_date</th>\n",
       "      <th>local_time</th>\n",
       "      <th>latt_long</th>\n",
       "      <th>weather_state_name</th>\n",
       "      <th>min_temp</th>\n",
       "      <th>max_temp</th>\n",
       "    </tr>\n",
       "  </thead>\n",
       "  <tbody>\n",
       "    <tr>\n",
       "      <th>0</th>\n",
       "      <td>London</td>\n",
       "      <td>12.215</td>\n",
       "      <td>21 minutes ago</td>\n",
       "      <td>2021-10-22T21:59:01.930990Z</td>\n",
       "      <td>2021-10-22</td>\n",
       "      <td>2021-10-22T23:20:22.091403+01:00</td>\n",
       "      <td>51.506321,-0.12714</td>\n",
       "      <td>Heavy Cloud</td>\n",
       "      <td>6.88</td>\n",
       "      <td>13.12</td>\n",
       "    </tr>\n",
       "  </tbody>\n",
       "</table>\n",
       "</div>"
      ],
      "text/plain": [
       "  location  the_temp   readable_time                      created  \\\n",
       "0   London    12.215  21 minutes ago  2021-10-22T21:59:01.930990Z   \n",
       "\n",
       "  applicable_date                        local_time           latt_long  \\\n",
       "0      2021-10-22  2021-10-22T23:20:22.091403+01:00  51.506321,-0.12714   \n",
       "\n",
       "  weather_state_name  min_temp  max_temp  \n",
       "0        Heavy Cloud      6.88     13.12  "
      ]
     },
     "execution_count": null,
     "metadata": {},
     "output_type": "execute_result"
    }
   ],
   "source": [
    "df = df_from_loc('London')\n",
    "df"
   ]
  },
  {
   "cell_type": "code",
   "execution_count": null,
   "id": "ee0c4568",
   "metadata": {},
   "outputs": [
    {
     "data": {
      "text/html": [
       "<div>\n",
       "<style scoped>\n",
       "    .dataframe tbody tr th:only-of-type {\n",
       "        vertical-align: middle;\n",
       "    }\n",
       "\n",
       "    .dataframe tbody tr th {\n",
       "        vertical-align: top;\n",
       "    }\n",
       "\n",
       "    .dataframe thead th {\n",
       "        text-align: right;\n",
       "    }\n",
       "</style>\n",
       "<table border=\"1\" class=\"dataframe\">\n",
       "  <thead>\n",
       "    <tr style=\"text-align: right;\">\n",
       "      <th></th>\n",
       "      <th>location</th>\n",
       "      <th>the_temp</th>\n",
       "      <th>readable_time</th>\n",
       "      <th>created</th>\n",
       "      <th>applicable_date</th>\n",
       "      <th>local_time</th>\n",
       "      <th>latt_long</th>\n",
       "      <th>weather_state_name</th>\n",
       "      <th>min_temp</th>\n",
       "      <th>max_temp</th>\n",
       "    </tr>\n",
       "  </thead>\n",
       "  <tbody>\n",
       "    <tr>\n",
       "      <th>0</th>\n",
       "      <td>Auckland</td>\n",
       "      <td>15.615</td>\n",
       "      <td>2 hours ago</td>\n",
       "      <td>2021-10-22T19:37:05.363247Z</td>\n",
       "      <td>2021-10-23</td>\n",
       "      <td>2021-10-23T11:20:23.912248+13:00</td>\n",
       "      <td>-36.884109,174.770416</td>\n",
       "      <td>Light Rain</td>\n",
       "      <td>12.795</td>\n",
       "      <td>15.555</td>\n",
       "    </tr>\n",
       "  </tbody>\n",
       "</table>\n",
       "</div>"
      ],
      "text/plain": [
       "   location  the_temp readable_time                      created  \\\n",
       "0  Auckland    15.615   2 hours ago  2021-10-22T19:37:05.363247Z   \n",
       "\n",
       "  applicable_date                        local_time              latt_long  \\\n",
       "0      2021-10-23  2021-10-23T11:20:23.912248+13:00  -36.884109,174.770416   \n",
       "\n",
       "  weather_state_name  min_temp  max_temp  \n",
       "0         Light Rain    12.795    15.555  "
      ]
     },
     "execution_count": null,
     "metadata": {},
     "output_type": "execute_result"
    }
   ],
   "source": [
    "df = df_from_loc('Auckland')\n",
    "df"
   ]
  },
  {
   "cell_type": "code",
   "execution_count": null,
   "id": "565b3088",
   "metadata": {},
   "outputs": [],
   "source": [
    "loc = get_json_from_query('Auckland')\n",
    "# res = get_current_weather(l['woeid'])\n",
    "# res[0]"
   ]
  },
  {
   "cell_type": "code",
   "execution_count": null,
   "id": "82018dca",
   "metadata": {},
   "outputs": [
    {
     "data": {
      "text/plain": [
       "{'title': 'Auckland',\n",
       " 'location_type': 'City',\n",
       " 'woeid': 2348079,\n",
       " 'latt_long': '-36.884109,174.770416'}"
      ]
     },
     "execution_count": null,
     "metadata": {},
     "output_type": "execute_result"
    }
   ],
   "source": [
    "loc"
   ]
  },
  {
   "cell_type": "code",
   "execution_count": null,
   "id": "4a9dac1f",
   "metadata": {},
   "outputs": [],
   "source": []
  }
 ],
 "metadata": {
  "kernelspec": {
   "display_name": "Python 3 (ipykernel)",
   "language": "python",
   "name": "python3"
  }
 },
 "nbformat": 4,
 "nbformat_minor": 5
}
