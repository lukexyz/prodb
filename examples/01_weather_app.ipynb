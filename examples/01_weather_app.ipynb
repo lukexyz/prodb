{
 "cells": [
  {
   "cell_type": "markdown",
   "id": "e426f068",
   "metadata": {},
   "source": [
    "# 🌞 Example Weather App\n",
    "> Using `prodb`\n",
    "\n",
    "\n",
    "* Starting with a `.csv` of locations, we wish to call the [MetaWeather](https://www.metaweather.com/api/) API to pull in the weather forecast.  \n",
    "* The app needs the ability to input new locations by the user\n",
    "\n",
    " 🌍 Core functions will be converted into the streamlit app `weather_app.py`"
   ]
  },
  {
   "cell_type": "code",
   "execution_count": null,
   "id": "d2615238",
   "metadata": {},
   "outputs": [],
   "source": [
    "#hide\n",
    "from nbdev.showdoc import *\n",
    "import pandas as pd\n",
    "%load_ext autoreload\n",
    "%autoreload 2"
   ]
  },
  {
   "cell_type": "markdown",
   "id": "a3831d68",
   "metadata": {},
   "source": [
    "## 1. Requests to `metaweather` open weather API"
   ]
  },
  {
   "cell_type": "code",
   "execution_count": null,
   "id": "4468a7ba",
   "metadata": {},
   "outputs": [],
   "source": [
    "import requests\n",
    "import json\n",
    "import arrow"
   ]
  },
  {
   "cell_type": "code",
   "execution_count": null,
   "id": "7c35901f",
   "metadata": {},
   "outputs": [
    {
     "data": {
      "text/plain": [
       "{'title': 'London',\n",
       " 'location_type': 'City',\n",
       " 'woeid': 44418,\n",
       " 'latt_long': '51.506321,-0.12714'}"
      ]
     },
     "execution_count": null,
     "metadata": {},
     "output_type": "execute_result"
    }
   ],
   "source": [
    "def get_json_from_query(location):\n",
    "    \"\"\"Search for a city and return metadata from API\"\"\"\n",
    "    url = f\"https://www.metaweather.com/api/location/search/?query={location}\"\n",
    "    r = requests.get(url).json()\n",
    "    return r[0]\n",
    "\n",
    "l = get_json_from_query('London')\n",
    "l"
   ]
  },
  {
   "cell_type": "markdown",
   "id": "139c0d9b",
   "metadata": {},
   "source": [
    "Check `woeid`(Where On Earth ID) is correct for London"
   ]
  },
  {
   "cell_type": "code",
   "execution_count": null,
   "id": "2d530cc4",
   "metadata": {},
   "outputs": [],
   "source": [
    "assert l['woeid'] == 44418"
   ]
  },
  {
   "cell_type": "markdown",
   "id": "6d1adc34",
   "metadata": {},
   "source": [
    "Get weather data for the London `woeid`"
   ]
  },
  {
   "cell_type": "code",
   "execution_count": null,
   "id": "aa20f822",
   "metadata": {},
   "outputs": [
    {
     "data": {
      "text/plain": [
       "'2021/10/03'"
      ]
     },
     "execution_count": null,
     "metadata": {},
     "output_type": "execute_result"
    }
   ],
   "source": [
    "utc = arrow.utcnow().format('YYYY/MM/DD')\n",
    "utc"
   ]
  },
  {
   "cell_type": "code",
   "execution_count": null,
   "id": "ccda76c7",
   "metadata": {},
   "outputs": [],
   "source": [
    "def get_current_weather(location):\n",
    "    \"\"\"\n",
    "    inputs: location str \"London\"\n",
    "            to find woeid i.e. 44418\n",
    "    \"\"\"\n",
    "    res = get_json_from_query(location)\n",
    "    woeid = res['woeid']\n",
    "    url = f\"https://www.metaweather.com/api/location/{woeid}/\"\n",
    "    res = requests.get(url).json()\n",
    "    return res"
   ]
  },
  {
   "cell_type": "markdown",
   "id": "08c7bee6",
   "metadata": {},
   "source": [
    "Today's forecast:"
   ]
  },
  {
   "cell_type": "code",
   "execution_count": null,
   "id": "75376489",
   "metadata": {},
   "outputs": [
    {
     "data": {
      "text/plain": [
       "{'id': 5495230276042752,\n",
       " 'weather_state_name': 'Light Rain',\n",
       " 'weather_state_abbr': 'lr',\n",
       " 'wind_direction_compass': 'SW',\n",
       " 'created': '2021-10-03T12:59:03.049755Z',\n",
       " 'applicable_date': '2021-10-03',\n",
       " 'min_temp': 10.645,\n",
       " 'max_temp': 16.015,\n",
       " 'the_temp': 14.4,\n",
       " 'wind_speed': 8.614009459582704,\n",
       " 'wind_direction': 227.33346500159422,\n",
       " 'air_pressure': 997.0,\n",
       " 'humidity': 75,\n",
       " 'visibility': 11.97755110156685,\n",
       " 'predictability': 75}"
      ]
     },
     "execution_count": null,
     "metadata": {},
     "output_type": "execute_result"
    }
   ],
   "source": [
    "res = get_current_weather('London')\n",
    "res['consolidated_weather'][0]"
   ]
  },
  {
   "cell_type": "code",
   "execution_count": null,
   "id": "332bb853",
   "metadata": {},
   "outputs": [
    {
     "data": {
      "text/plain": [
       "{'consolidated_weather': [{'id': 5495230276042752,\n",
       "   'weather_state_name': 'Light Rain',\n",
       "   'weather_state_abbr': 'lr',\n",
       "   'wind_direction_compass': 'SW',\n",
       "   'created': '2021-10-03T12:59:03.049755Z',\n",
       "   'applicable_date': '2021-10-03',\n",
       "   'min_temp': 10.645,\n",
       "   'max_temp': 16.015,\n",
       "   'the_temp': 14.4,\n",
       "   'wind_speed': 8.614009459582704,\n",
       "   'wind_direction': 227.33346500159422,\n",
       "   'air_pressure': 997.0,\n",
       "   'humidity': 75,\n",
       "   'visibility': 11.97755110156685,\n",
       "   'predictability': 75},\n",
       "  {'id': 5728701745463296,\n",
       "   'weather_state_name': 'Showers',\n",
       "   'weather_state_abbr': 's',\n",
       "   'wind_direction_compass': 'SSW',\n",
       "   'created': '2021-10-03T12:59:03.153137Z',\n",
       "   'applicable_date': '2021-10-04',\n",
       "   'min_temp': 11.245000000000001,\n",
       "   'max_temp': 16.665,\n",
       "   'the_temp': 16.035,\n",
       "   'wind_speed': 8.81605335446857,\n",
       "   'wind_direction': 213.3203208686136,\n",
       "   'air_pressure': 1009.5,\n",
       "   'humidity': 66,\n",
       "   'visibility': 11.50655173785095,\n",
       "   'predictability': 73},\n",
       "  {'id': 6058180229464064,\n",
       "   'weather_state_name': 'Light Rain',\n",
       "   'weather_state_abbr': 'lr',\n",
       "   'wind_direction_compass': 'SW',\n",
       "   'created': '2021-10-03T12:59:02.957427Z',\n",
       "   'applicable_date': '2021-10-05',\n",
       "   'min_temp': 10.535,\n",
       "   'max_temp': 14.635,\n",
       "   'the_temp': 14.545,\n",
       "   'wind_speed': 11.87142093290384,\n",
       "   'wind_direction': 227.80005091776206,\n",
       "   'air_pressure': 1002.0,\n",
       "   'humidity': 73,\n",
       "   'visibility': 10.94265738089557,\n",
       "   'predictability': 75},\n",
       "  {'id': 6102720919371776,\n",
       "   'weather_state_name': 'Heavy Cloud',\n",
       "   'weather_state_abbr': 'hc',\n",
       "   'wind_direction_compass': 'WNW',\n",
       "   'created': '2021-10-03T12:59:03.341815Z',\n",
       "   'applicable_date': '2021-10-06',\n",
       "   'min_temp': 8.985,\n",
       "   'max_temp': 15.954999999999998,\n",
       "   'the_temp': 15.719999999999999,\n",
       "   'wind_speed': 9.140020304005938,\n",
       "   'wind_direction': 298.6274967436906,\n",
       "   'air_pressure': 1021.5,\n",
       "   'humidity': 69,\n",
       "   'visibility': 15.252798655849837,\n",
       "   'predictability': 71},\n",
       "  {'id': 6617041550180352,\n",
       "   'weather_state_name': 'Heavy Cloud',\n",
       "   'weather_state_abbr': 'hc',\n",
       "   'wind_direction_compass': 'SSW',\n",
       "   'created': '2021-10-03T12:59:03.035270Z',\n",
       "   'applicable_date': '2021-10-07',\n",
       "   'min_temp': 9.04,\n",
       "   'max_temp': 17.795,\n",
       "   'the_temp': 17.450000000000003,\n",
       "   'wind_speed': 3.284709197258676,\n",
       "   'wind_direction': 202.13784545236962,\n",
       "   'air_pressure': 1027.5,\n",
       "   'humidity': 72,\n",
       "   'visibility': 14.1287381690925,\n",
       "   'predictability': 71},\n",
       "  {'id': 6527146634772480,\n",
       "   'weather_state_name': 'Heavy Cloud',\n",
       "   'weather_state_abbr': 'hc',\n",
       "   'wind_direction_compass': 'ESE',\n",
       "   'created': '2021-10-03T12:59:05.371851Z',\n",
       "   'applicable_date': '2021-10-08',\n",
       "   'min_temp': 9.69,\n",
       "   'max_temp': 17.875,\n",
       "   'the_temp': 17.0,\n",
       "   'wind_speed': 2.6114761791139744,\n",
       "   'wind_direction': 113.5,\n",
       "   'air_pressure': 1031.0,\n",
       "   'humidity': 69,\n",
       "   'visibility': 9.999726596675416,\n",
       "   'predictability': 71}],\n",
       " 'time': '2021-10-03T16:17:08.816442+01:00',\n",
       " 'sun_rise': '2021-10-03T07:04:38.477020+01:00',\n",
       " 'sun_set': '2021-10-03T18:33:20.839522+01:00',\n",
       " 'timezone_name': 'LMT',\n",
       " 'parent': {'title': 'England',\n",
       "  'location_type': 'Region / State / Province',\n",
       "  'woeid': 24554868,\n",
       "  'latt_long': '52.883560,-1.974060'},\n",
       " 'sources': [{'title': 'BBC',\n",
       "   'slug': 'bbc',\n",
       "   'url': 'http://www.bbc.co.uk/weather/',\n",
       "   'crawl_rate': 360},\n",
       "  {'title': 'Forecast.io',\n",
       "   'slug': 'forecast-io',\n",
       "   'url': 'http://forecast.io/',\n",
       "   'crawl_rate': 480},\n",
       "  {'title': 'HAMweather',\n",
       "   'slug': 'hamweather',\n",
       "   'url': 'http://www.hamweather.com/',\n",
       "   'crawl_rate': 360},\n",
       "  {'title': 'Met Office',\n",
       "   'slug': 'met-office',\n",
       "   'url': 'http://www.metoffice.gov.uk/',\n",
       "   'crawl_rate': 180},\n",
       "  {'title': 'OpenWeatherMap',\n",
       "   'slug': 'openweathermap',\n",
       "   'url': 'http://openweathermap.org/',\n",
       "   'crawl_rate': 360},\n",
       "  {'title': 'Weather Underground',\n",
       "   'slug': 'wunderground',\n",
       "   'url': 'https://www.wunderground.com/?apiref=fc30dc3cd224e19b',\n",
       "   'crawl_rate': 720},\n",
       "  {'title': 'World Weather Online',\n",
       "   'slug': 'world-weather-online',\n",
       "   'url': 'http://www.worldweatheronline.com/',\n",
       "   'crawl_rate': 360}],\n",
       " 'title': 'London',\n",
       " 'location_type': 'City',\n",
       " 'woeid': 44418,\n",
       " 'latt_long': '51.506321,-0.12714',\n",
       " 'timezone': 'Europe/London'}"
      ]
     },
     "execution_count": null,
     "metadata": {},
     "output_type": "execute_result"
    }
   ],
   "source": [
    "res"
   ]
  },
  {
   "cell_type": "markdown",
   "id": "2ca4139e",
   "metadata": {},
   "source": [
    "There are a number of metrological properties available to us from the API. \n",
    "\n",
    "The ones we are most interested in are:\n",
    "* `the_temp` 🌡️ current temperature\n",
    "* `weather_state_name` ⛅ current sky condition\n",
    "* `max_temp` 🥵 daily max temp\n",
    "* `min_temp` 🥶 daily min temp\n"
   ]
  },
  {
   "cell_type": "code",
   "execution_count": null,
   "id": "802cc45d",
   "metadata": {},
   "outputs": [
    {
     "data": {
      "text/html": [
       "<div>\n",
       "<style scoped>\n",
       "    .dataframe tbody tr th:only-of-type {\n",
       "        vertical-align: middle;\n",
       "    }\n",
       "\n",
       "    .dataframe tbody tr th {\n",
       "        vertical-align: top;\n",
       "    }\n",
       "\n",
       "    .dataframe thead th {\n",
       "        text-align: right;\n",
       "    }\n",
       "</style>\n",
       "<table border=\"1\" class=\"dataframe\">\n",
       "  <thead>\n",
       "    <tr style=\"text-align: right;\">\n",
       "      <th></th>\n",
       "      <th>id</th>\n",
       "      <th>weather_state_name</th>\n",
       "      <th>weather_state_abbr</th>\n",
       "      <th>wind_direction_compass</th>\n",
       "      <th>created</th>\n",
       "      <th>applicable_date</th>\n",
       "      <th>min_temp</th>\n",
       "      <th>max_temp</th>\n",
       "      <th>the_temp</th>\n",
       "      <th>wind_speed</th>\n",
       "      <th>wind_direction</th>\n",
       "      <th>air_pressure</th>\n",
       "      <th>humidity</th>\n",
       "      <th>visibility</th>\n",
       "      <th>predictability</th>\n",
       "      <th>readable_time</th>\n",
       "    </tr>\n",
       "  </thead>\n",
       "  <tbody>\n",
       "    <tr>\n",
       "      <th>0</th>\n",
       "      <td>5495230276042752</td>\n",
       "      <td>Light Rain</td>\n",
       "      <td>lr</td>\n",
       "      <td>SW</td>\n",
       "      <td>2021-10-03T12:59:03.049755Z</td>\n",
       "      <td>2021-10-03</td>\n",
       "      <td>10.645</td>\n",
       "      <td>16.015</td>\n",
       "      <td>14.4</td>\n",
       "      <td>8.614009</td>\n",
       "      <td>227.333465</td>\n",
       "      <td>997.0</td>\n",
       "      <td>75</td>\n",
       "      <td>11.977551</td>\n",
       "      <td>75</td>\n",
       "      <td>2 hours ago</td>\n",
       "    </tr>\n",
       "  </tbody>\n",
       "</table>\n",
       "</div>"
      ],
      "text/plain": [
       "                 id weather_state_name weather_state_abbr  \\\n",
       "0  5495230276042752         Light Rain                 lr   \n",
       "\n",
       "  wind_direction_compass                      created applicable_date  \\\n",
       "0                     SW  2021-10-03T12:59:03.049755Z      2021-10-03   \n",
       "\n",
       "   min_temp  max_temp  the_temp  wind_speed  wind_direction  air_pressure  \\\n",
       "0    10.645    16.015      14.4    8.614009      227.333465         997.0   \n",
       "\n",
       "   humidity  visibility  predictability readable_time  \n",
       "0        75   11.977551              75   2 hours ago  "
      ]
     },
     "execution_count": null,
     "metadata": {},
     "output_type": "execute_result"
    }
   ],
   "source": [
    "res = get_current_weather('London')\n",
    "df =  pd.DataFrame.from_records(res['consolidated_weather'][:1])\n",
    "df['readable_time'] = df.created.apply(lambda x: arrow.get(x).humanize())\n",
    "df"
   ]
  },
  {
   "cell_type": "code",
   "execution_count": null,
   "id": "65eb62ab",
   "metadata": {},
   "outputs": [
    {
     "data": {
      "text/html": [
       "<div>\n",
       "<style scoped>\n",
       "    .dataframe tbody tr th:only-of-type {\n",
       "        vertical-align: middle;\n",
       "    }\n",
       "\n",
       "    .dataframe tbody tr th {\n",
       "        vertical-align: top;\n",
       "    }\n",
       "\n",
       "    .dataframe thead th {\n",
       "        text-align: right;\n",
       "    }\n",
       "</style>\n",
       "<table border=\"1\" class=\"dataframe\">\n",
       "  <thead>\n",
       "    <tr style=\"text-align: right;\">\n",
       "      <th></th>\n",
       "      <th>location</th>\n",
       "      <th>the_temp</th>\n",
       "      <th>readable_time</th>\n",
       "      <th>created</th>\n",
       "      <th>applicable_date</th>\n",
       "      <th>local_time</th>\n",
       "      <th>latt_long</th>\n",
       "      <th>weather_state_name</th>\n",
       "      <th>min_temp</th>\n",
       "      <th>max_temp</th>\n",
       "    </tr>\n",
       "  </thead>\n",
       "  <tbody>\n",
       "    <tr>\n",
       "      <th>0</th>\n",
       "      <td>London</td>\n",
       "      <td>14.400</td>\n",
       "      <td>2 hours ago</td>\n",
       "      <td>2021-10-03T12:59:03.049755Z</td>\n",
       "      <td>2021-10-03</td>\n",
       "      <td>2021-10-03T16:19:50.788861+01:00</td>\n",
       "      <td>51.506321,-0.12714</td>\n",
       "      <td>Light Rain</td>\n",
       "      <td>10.645</td>\n",
       "      <td>16.015</td>\n",
       "    </tr>\n",
       "    <tr>\n",
       "      <th>1</th>\n",
       "      <td>London</td>\n",
       "      <td>16.035</td>\n",
       "      <td>2 hours ago</td>\n",
       "      <td>2021-10-03T12:59:03.153137Z</td>\n",
       "      <td>2021-10-04</td>\n",
       "      <td>2021-10-03T16:19:50.788861+01:00</td>\n",
       "      <td>51.506321,-0.12714</td>\n",
       "      <td>Showers</td>\n",
       "      <td>11.245</td>\n",
       "      <td>16.665</td>\n",
       "    </tr>\n",
       "  </tbody>\n",
       "</table>\n",
       "</div>"
      ],
      "text/plain": [
       "  location  the_temp readable_time                      created  \\\n",
       "0   London    14.400   2 hours ago  2021-10-03T12:59:03.049755Z   \n",
       "1   London    16.035   2 hours ago  2021-10-03T12:59:03.153137Z   \n",
       "\n",
       "  applicable_date                        local_time           latt_long  \\\n",
       "0      2021-10-03  2021-10-03T16:19:50.788861+01:00  51.506321,-0.12714   \n",
       "1      2021-10-04  2021-10-03T16:19:50.788861+01:00  51.506321,-0.12714   \n",
       "\n",
       "  weather_state_name  min_temp  max_temp  \n",
       "0         Light Rain    10.645    16.015  \n",
       "1            Showers    11.245    16.665  "
      ]
     },
     "execution_count": null,
     "metadata": {},
     "output_type": "execute_result"
    }
   ],
   "source": [
    "def df_from_loc(location, \n",
    "                days_ahead=1,\n",
    "                keep_cols='location the_temp readable_time created applicable_date local_time latt_long weather_state_name min_temp max_temp'.split(' ')):\n",
    "    res = get_current_weather(location)\n",
    "    df =  pd.DataFrame.from_records(res['consolidated_weather'][:days_ahead])\n",
    "    df['location'] = location\n",
    "    df['local_time'] = res['time']\n",
    "    df['latt_long'] = res['latt_long']\n",
    "    df['readable_time'] = df.created.apply(lambda x: arrow.get(x).humanize())\n",
    "    return df[keep_cols]\n",
    "\n",
    "df = df_from_loc('London', days_ahead=2)\n",
    "df"
   ]
  },
  {
   "cell_type": "markdown",
   "id": "a7d7b862",
   "metadata": {},
   "source": [
    "Example output showing location and current weather situation"
   ]
  },
  {
   "cell_type": "code",
   "execution_count": null,
   "id": "bd96a7a9",
   "metadata": {},
   "outputs": [
    {
     "data": {
      "text/html": [
       "<div>\n",
       "<style scoped>\n",
       "    .dataframe tbody tr th:only-of-type {\n",
       "        vertical-align: middle;\n",
       "    }\n",
       "\n",
       "    .dataframe tbody tr th {\n",
       "        vertical-align: top;\n",
       "    }\n",
       "\n",
       "    .dataframe thead th {\n",
       "        text-align: right;\n",
       "    }\n",
       "</style>\n",
       "<table border=\"1\" class=\"dataframe\">\n",
       "  <thead>\n",
       "    <tr style=\"text-align: right;\">\n",
       "      <th></th>\n",
       "      <th>location</th>\n",
       "      <th>the_temp</th>\n",
       "      <th>readable_time</th>\n",
       "      <th>created</th>\n",
       "      <th>applicable_date</th>\n",
       "      <th>weather_state_name</th>\n",
       "      <th>min_temp</th>\n",
       "      <th>max_temp</th>\n",
       "    </tr>\n",
       "  </thead>\n",
       "  <tbody>\n",
       "    <tr>\n",
       "      <th>0</th>\n",
       "      <td>London</td>\n",
       "      <td>14.4</td>\n",
       "      <td>2 hours ago</td>\n",
       "      <td>2021-10-03T12:59:03.049755Z</td>\n",
       "      <td>2021-10-03</td>\n",
       "      <td>Light Rain</td>\n",
       "      <td>10.645</td>\n",
       "      <td>16.015</td>\n",
       "    </tr>\n",
       "  </tbody>\n",
       "</table>\n",
       "</div>"
      ],
      "text/plain": [
       "  location  the_temp readable_time                      created  \\\n",
       "0   London      14.4   2 hours ago  2021-10-03T12:59:03.049755Z   \n",
       "\n",
       "  applicable_date weather_state_name  min_temp  max_temp  \n",
       "0      2021-10-03         Light Rain    10.645    16.015  "
      ]
     },
     "execution_count": null,
     "metadata": {},
     "output_type": "execute_result"
    }
   ],
   "source": [
    "df = df_from_loc('London')\n",
    "df"
   ]
  },
  {
   "cell_type": "code",
   "execution_count": null,
   "id": "ee0c4568",
   "metadata": {},
   "outputs": [
    {
     "data": {
      "text/html": [
       "<div>\n",
       "<style scoped>\n",
       "    .dataframe tbody tr th:only-of-type {\n",
       "        vertical-align: middle;\n",
       "    }\n",
       "\n",
       "    .dataframe tbody tr th {\n",
       "        vertical-align: top;\n",
       "    }\n",
       "\n",
       "    .dataframe thead th {\n",
       "        text-align: right;\n",
       "    }\n",
       "</style>\n",
       "<table border=\"1\" class=\"dataframe\">\n",
       "  <thead>\n",
       "    <tr style=\"text-align: right;\">\n",
       "      <th></th>\n",
       "      <th>location</th>\n",
       "      <th>the_temp</th>\n",
       "      <th>readable_time</th>\n",
       "      <th>created</th>\n",
       "      <th>applicable_date</th>\n",
       "      <th>weather_state_name</th>\n",
       "      <th>min_temp</th>\n",
       "      <th>max_temp</th>\n",
       "    </tr>\n",
       "  </thead>\n",
       "  <tbody>\n",
       "    <tr>\n",
       "      <th>0</th>\n",
       "      <td>Auckland</td>\n",
       "      <td>16.995</td>\n",
       "      <td>an hour ago</td>\n",
       "      <td>2021-10-03T13:37:05.475920Z</td>\n",
       "      <td>2021-10-04</td>\n",
       "      <td>Light Rain</td>\n",
       "      <td>13.15</td>\n",
       "      <td>18.775</td>\n",
       "    </tr>\n",
       "  </tbody>\n",
       "</table>\n",
       "</div>"
      ],
      "text/plain": [
       "   location  the_temp readable_time                      created  \\\n",
       "0  Auckland    16.995   an hour ago  2021-10-03T13:37:05.475920Z   \n",
       "\n",
       "  applicable_date weather_state_name  min_temp  max_temp  \n",
       "0      2021-10-04         Light Rain     13.15    18.775  "
      ]
     },
     "execution_count": null,
     "metadata": {},
     "output_type": "execute_result"
    }
   ],
   "source": [
    "df = df_from_loc('Auckland')\n",
    "df"
   ]
  },
  {
   "cell_type": "code",
   "execution_count": null,
   "id": "565b3088",
   "metadata": {},
   "outputs": [],
   "source": [
    "loc = get_json_from_query('Auckland')\n",
    "res = get_current_weather(l['woeid'])\n",
    "res[0]"
   ]
  }
 ],
 "metadata": {
  "kernelspec": {
   "display_name": "Python 3 (ipykernel)",
   "language": "python",
   "name": "python3"
  }
 },
 "nbformat": 4,
 "nbformat_minor": 5
}
