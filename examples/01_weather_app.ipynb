{
 "cells": [
  {
   "cell_type": "markdown",
   "id": "f4a894a6",
   "metadata": {},
   "source": [
    "# 🌞 Example Weather App\n",
    "> Using `prodb`\n",
    "\n",
    "\n",
    "* Starting with a `.csv` of locations, we wish to call the [MetaWeather](https://www.metaweather.com/api/) API to pull in the weather forecast.  \n",
    "* The app needs the ability to input new locations by the user\n",
    "\n",
    " 🌍 Core functions will be converted into the streamlit app `weather_app.py`"
   ]
  },
  {
   "cell_type": "code",
   "execution_count": null,
   "id": "00faf356",
   "metadata": {},
   "outputs": [],
   "source": [
    "#hide\n",
    "from nbdev.showdoc import *\n",
    "import pandas as pd\n",
    "%load_ext autoreload\n",
    "%autoreload 2"
   ]
  },
  {
   "cell_type": "markdown",
   "id": "72facff5",
   "metadata": {},
   "source": [
    "## 1. Requests to `metaweather` open weather API"
   ]
  },
  {
   "cell_type": "code",
   "execution_count": null,
   "id": "eae9f6a4",
   "metadata": {},
   "outputs": [],
   "source": [
    "import requests\n",
    "import json\n",
    "import arrow"
   ]
  },
  {
   "cell_type": "code",
   "execution_count": null,
   "id": "d8683d69",
   "metadata": {},
   "outputs": [
    {
     "data": {
      "text/plain": [
       "{'title': 'London',\n",
       " 'location_type': 'City',\n",
       " 'woeid': 44418,\n",
       " 'latt_long': '51.506321,-0.12714'}"
      ]
     },
     "execution_count": null,
     "metadata": {},
     "output_type": "execute_result"
    }
   ],
   "source": [
    "def get_json_from_query(location):\n",
    "    \"\"\"Search for a city and return metadata from API\"\"\"\n",
    "    url = f\"https://www.metaweather.com/api/location/search/?query={location}\"\n",
    "    r = requests.get(url).json()\n",
    "    return r[0]\n",
    "\n",
    "l = get_json_from_query('London')\n",
    "l"
   ]
  },
  {
   "cell_type": "markdown",
   "id": "86b27fab",
   "metadata": {},
   "source": [
    "Check `woeid`(Where On Earth ID) is correct for London"
   ]
  },
  {
   "cell_type": "code",
   "execution_count": null,
   "id": "8a9d86b3",
   "metadata": {},
   "outputs": [],
   "source": [
    "assert l['woeid'] == 44418"
   ]
  },
  {
   "cell_type": "markdown",
   "id": "faff790e",
   "metadata": {},
   "source": [
    "Get weather data for the London `woeid`"
   ]
  },
  {
   "cell_type": "code",
   "execution_count": null,
   "id": "7533378f",
   "metadata": {},
   "outputs": [
    {
     "data": {
      "text/plain": [
       "'2021/10/03'"
      ]
     },
     "execution_count": null,
     "metadata": {},
     "output_type": "execute_result"
    }
   ],
   "source": [
    "utc = arrow.utcnow().format('YYYY/MM/DD')\n",
    "utc"
   ]
  },
  {
   "cell_type": "code",
   "execution_count": null,
   "id": "d643ca55",
   "metadata": {},
   "outputs": [
    {
     "data": {
      "text/plain": [
       "'2021-10-03T16:01:15.248959+01:00'"
      ]
     },
     "execution_count": null,
     "metadata": {},
     "output_type": "execute_result"
    }
   ],
   "source": [
    "def get_current_weather(woeid, date='today'):\n",
    "    \"\"\"\n",
    "    inputs:\n",
    "    woeid int: i.e. 44418 for london\n",
    "     date str: e.e '2021/05/05'\n",
    "    \"\"\"\n",
    "    if date == 'today':\n",
    "        date = arrow.utcnow().format('YYYY/MM/DD')\n",
    "    url = f\"https://www.metaweather.com/api/location/{woeid}/\"\n",
    "    res = requests.get(url).json()\n",
    "    return res\n",
    "\n",
    "res = get_current_weather(l['woeid'])\n",
    "res['time']"
   ]
  },
  {
   "cell_type": "markdown",
   "id": "a65db022",
   "metadata": {},
   "source": [
    "There are a number of metrological properties available to us from the API. \n",
    "\n",
    "The ones we are most interested in are:\n",
    "* `the_temp` 🌡️ current temperature\n",
    "* `weather_state_name` ⛅ current sky condition\n",
    "* `max_temp` 🥵 daily max temp\n",
    "* `min_temp` 🥶 daily min temp\n"
   ]
  },
  {
   "cell_type": "code",
   "execution_count": null,
   "id": "6c2eb95f",
   "metadata": {},
   "outputs": [
    {
     "data": {
      "text/html": [
       "<div>\n",
       "<style scoped>\n",
       "    .dataframe tbody tr th:only-of-type {\n",
       "        vertical-align: middle;\n",
       "    }\n",
       "\n",
       "    .dataframe tbody tr th {\n",
       "        vertical-align: top;\n",
       "    }\n",
       "\n",
       "    .dataframe thead th {\n",
       "        text-align: right;\n",
       "    }\n",
       "</style>\n",
       "<table border=\"1\" class=\"dataframe\">\n",
       "  <thead>\n",
       "    <tr style=\"text-align: right;\">\n",
       "      <th></th>\n",
       "      <th>id</th>\n",
       "      <th>weather_state_name</th>\n",
       "      <th>weather_state_abbr</th>\n",
       "      <th>wind_direction_compass</th>\n",
       "      <th>created</th>\n",
       "      <th>applicable_date</th>\n",
       "      <th>min_temp</th>\n",
       "      <th>max_temp</th>\n",
       "      <th>the_temp</th>\n",
       "      <th>wind_speed</th>\n",
       "      <th>wind_direction</th>\n",
       "      <th>air_pressure</th>\n",
       "      <th>humidity</th>\n",
       "      <th>visibility</th>\n",
       "      <th>predictability</th>\n",
       "      <th>readable_time</th>\n",
       "    </tr>\n",
       "  </thead>\n",
       "  <tbody>\n",
       "    <tr>\n",
       "      <th>0</th>\n",
       "      <td>5495230276042752</td>\n",
       "      <td>Light Rain</td>\n",
       "      <td>lr</td>\n",
       "      <td>SW</td>\n",
       "      <td>2021-10-03T12:59:03.049755Z</td>\n",
       "      <td>2021-10-03</td>\n",
       "      <td>10.645</td>\n",
       "      <td>16.015</td>\n",
       "      <td>14.400</td>\n",
       "      <td>8.614009</td>\n",
       "      <td>227.333465</td>\n",
       "      <td>997.0</td>\n",
       "      <td>75</td>\n",
       "      <td>11.977551</td>\n",
       "      <td>75</td>\n",
       "      <td>an hour ago</td>\n",
       "    </tr>\n",
       "    <tr>\n",
       "      <th>1</th>\n",
       "      <td>5479289236488192</td>\n",
       "      <td>Light Rain</td>\n",
       "      <td>lr</td>\n",
       "      <td>SW</td>\n",
       "      <td>2021-10-03T09:59:02.071081Z</td>\n",
       "      <td>2021-10-03</td>\n",
       "      <td>10.565</td>\n",
       "      <td>16.015</td>\n",
       "      <td>14.515</td>\n",
       "      <td>9.690802</td>\n",
       "      <td>227.666907</td>\n",
       "      <td>997.5</td>\n",
       "      <td>71</td>\n",
       "      <td>13.347985</td>\n",
       "      <td>75</td>\n",
       "      <td>4 hours ago</td>\n",
       "    </tr>\n",
       "  </tbody>\n",
       "</table>\n",
       "</div>"
      ],
      "text/plain": [
       "                 id weather_state_name weather_state_abbr  \\\n",
       "0  5495230276042752         Light Rain                 lr   \n",
       "1  5479289236488192         Light Rain                 lr   \n",
       "\n",
       "  wind_direction_compass                      created applicable_date  \\\n",
       "0                     SW  2021-10-03T12:59:03.049755Z      2021-10-03   \n",
       "1                     SW  2021-10-03T09:59:02.071081Z      2021-10-03   \n",
       "\n",
       "   min_temp  max_temp  the_temp  wind_speed  wind_direction  air_pressure  \\\n",
       "0    10.645    16.015    14.400    8.614009      227.333465         997.0   \n",
       "1    10.565    16.015    14.515    9.690802      227.666907         997.5   \n",
       "\n",
       "   humidity  visibility  predictability readable_time  \n",
       "0        75   11.977551              75   an hour ago  \n",
       "1        71   13.347985              75   4 hours ago  "
      ]
     },
     "execution_count": null,
     "metadata": {},
     "output_type": "execute_result"
    }
   ],
   "source": [
    "loc = get_json_from_query(query)\n",
    "res = get_current_weather(loc['woeid'])\n",
    "df =  pd.DataFrame.from_records(res[:2])\n",
    "df['readable_time'] = df.created.apply(lambda x: arrow.get(x).humanize())\n",
    "df"
   ]
  },
  {
   "cell_type": "code",
   "execution_count": null,
   "id": "30625986",
   "metadata": {},
   "outputs": [],
   "source": [
    "def df_from_loc(query, \n",
    "                date='today',\n",
    "                n_hist=1,\n",
    "                keep_cols='location the_temp readable_time created weather_state_name min_temp max_temp'.split(' ')):\n",
    "    loc = get_json_from_query(query)\n",
    "    res = get_current_weather(loc['woeid'])\n",
    "    df =  pd.DataFrame.from_records(res[:n_hist])\n",
    "    df['location'] = query\n",
    "    df['readable_time'] = df.created.apply(lambda x: arrow.get(x).humanize())\n",
    "    return df[keep_cols]\n"
   ]
  },
  {
   "cell_type": "markdown",
   "id": "ca11340c",
   "metadata": {},
   "source": [
    "Example output showing location and current weather situation"
   ]
  },
  {
   "cell_type": "code",
   "execution_count": null,
   "id": "546c5f74",
   "metadata": {},
   "outputs": [
    {
     "data": {
      "text/html": [
       "<div>\n",
       "<style scoped>\n",
       "    .dataframe tbody tr th:only-of-type {\n",
       "        vertical-align: middle;\n",
       "    }\n",
       "\n",
       "    .dataframe tbody tr th {\n",
       "        vertical-align: top;\n",
       "    }\n",
       "\n",
       "    .dataframe thead th {\n",
       "        text-align: right;\n",
       "    }\n",
       "</style>\n",
       "<table border=\"1\" class=\"dataframe\">\n",
       "  <thead>\n",
       "    <tr style=\"text-align: right;\">\n",
       "      <th></th>\n",
       "      <th>location</th>\n",
       "      <th>the_temp</th>\n",
       "      <th>readable_time</th>\n",
       "      <th>created</th>\n",
       "      <th>weather_state_name</th>\n",
       "      <th>min_temp</th>\n",
       "      <th>max_temp</th>\n",
       "    </tr>\n",
       "  </thead>\n",
       "  <tbody>\n",
       "    <tr>\n",
       "      <th>0</th>\n",
       "      <td>London</td>\n",
       "      <td>14.4</td>\n",
       "      <td>an hour ago</td>\n",
       "      <td>2021-10-03T12:59:03.049755Z</td>\n",
       "      <td>Light Rain</td>\n",
       "      <td>10.645</td>\n",
       "      <td>16.015</td>\n",
       "    </tr>\n",
       "  </tbody>\n",
       "</table>\n",
       "</div>"
      ],
      "text/plain": [
       "  location  the_temp readable_time                      created  \\\n",
       "0   London      14.4   an hour ago  2021-10-03T12:59:03.049755Z   \n",
       "\n",
       "  weather_state_name  min_temp  max_temp  \n",
       "0         Light Rain    10.645    16.015  "
      ]
     },
     "execution_count": null,
     "metadata": {},
     "output_type": "execute_result"
    }
   ],
   "source": [
    "df = df_from_loc('London')\n",
    "df"
   ]
  },
  {
   "cell_type": "code",
   "execution_count": null,
   "id": "99c23bb1",
   "metadata": {},
   "outputs": [
    {
     "data": {
      "text/html": [
       "<div>\n",
       "<style scoped>\n",
       "    .dataframe tbody tr th:only-of-type {\n",
       "        vertical-align: middle;\n",
       "    }\n",
       "\n",
       "    .dataframe tbody tr th {\n",
       "        vertical-align: top;\n",
       "    }\n",
       "\n",
       "    .dataframe thead th {\n",
       "        text-align: right;\n",
       "    }\n",
       "</style>\n",
       "<table border=\"1\" class=\"dataframe\">\n",
       "  <thead>\n",
       "    <tr style=\"text-align: right;\">\n",
       "      <th></th>\n",
       "      <th>location</th>\n",
       "      <th>the_temp</th>\n",
       "      <th>readable_time</th>\n",
       "      <th>created</th>\n",
       "      <th>weather_state_name</th>\n",
       "      <th>min_temp</th>\n",
       "      <th>max_temp</th>\n",
       "    </tr>\n",
       "  </thead>\n",
       "  <tbody>\n",
       "    <tr>\n",
       "      <th>0</th>\n",
       "      <td>Auckland</td>\n",
       "      <td>16.23</td>\n",
       "      <td>4 hours ago</td>\n",
       "      <td>2021-10-03T10:37:05.045379Z</td>\n",
       "      <td>Showers</td>\n",
       "      <td>8.65</td>\n",
       "      <td>16.685</td>\n",
       "    </tr>\n",
       "  </tbody>\n",
       "</table>\n",
       "</div>"
      ],
      "text/plain": [
       "   location  the_temp readable_time                      created  \\\n",
       "0  Auckland     16.23   4 hours ago  2021-10-03T10:37:05.045379Z   \n",
       "\n",
       "  weather_state_name  min_temp  max_temp  \n",
       "0            Showers      8.65    16.685  "
      ]
     },
     "execution_count": null,
     "metadata": {},
     "output_type": "execute_result"
    }
   ],
   "source": [
    "df = df_from_loc('Auckland')\n",
    "df"
   ]
  },
  {
   "cell_type": "code",
   "execution_count": null,
   "id": "a3dedad6",
   "metadata": {},
   "outputs": [
    {
     "data": {
      "text/plain": [
       "{'id': 5495230276042752,\n",
       " 'weather_state_name': 'Light Rain',\n",
       " 'weather_state_abbr': 'lr',\n",
       " 'wind_direction_compass': 'SW',\n",
       " 'created': '2021-10-03T12:59:03.049755Z',\n",
       " 'applicable_date': '2021-10-03',\n",
       " 'min_temp': 10.645,\n",
       " 'max_temp': 16.015,\n",
       " 'the_temp': 14.4,\n",
       " 'wind_speed': 8.614009459582704,\n",
       " 'wind_direction': 227.33346500159422,\n",
       " 'air_pressure': 997.0,\n",
       " 'humidity': 75,\n",
       " 'visibility': 11.97755110156685,\n",
       " 'predictability': 75}"
      ]
     },
     "execution_count": null,
     "metadata": {},
     "output_type": "execute_result"
    }
   ],
   "source": [
    "loc = get_json_from_query('Auckland')\n",
    "res = get_current_weather(l['woeid'])\n",
    "res[0]"
   ]
  },
  {
   "cell_type": "code",
   "execution_count": null,
   "id": "50ebe5b7",
   "metadata": {},
   "outputs": [],
   "source": []
  }
 ],
 "metadata": {
  "kernelspec": {
   "display_name": "Python 3 (ipykernel)",
   "language": "python",
   "name": "python3"
  }
 },
 "nbformat": 4,
 "nbformat_minor": 5
}
