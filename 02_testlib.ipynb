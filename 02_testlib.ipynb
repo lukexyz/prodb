{
 "cells": [
  {
   "cell_type": "markdown",
   "id": "663d4d3d",
   "metadata": {},
   "source": [
    "# 02 Import Prodb\n",
    "> Library imports are available inline"
   ]
  },
  {
   "cell_type": "code",
   "execution_count": null,
   "id": "8789a3f9",
   "metadata": {},
   "outputs": [],
   "source": [
    "#hide\n",
    "from nbdev.showdoc import *\n",
    "import pandas as pd\n",
    "%load_ext autoreload\n",
    "%autoreload 2"
   ]
  },
  {
   "cell_type": "code",
   "execution_count": null,
   "id": "32b9194f",
   "metadata": {},
   "outputs": [],
   "source": [
    "from prodb.card import Card"
   ]
  },
  {
   "cell_type": "code",
   "execution_count": null,
   "id": "4b6d40b5",
   "metadata": {},
   "outputs": [
    {
     "data": {
      "text/plain": [
       "Queen of Spades"
      ]
     },
     "execution_count": null,
     "metadata": {},
     "output_type": "execute_result"
    }
   ],
   "source": [
    "Card(suit=3, rank=12)"
   ]
  },
  {
   "cell_type": "markdown",
   "id": "f01f68cb",
   "metadata": {},
   "source": [
    "A deck of cards is a collection of Card objects:"
   ]
  },
  {
   "cell_type": "code",
   "execution_count": null,
   "id": "f7a282a7",
   "metadata": {},
   "outputs": [],
   "source": [
    "from prodb.card import Deck"
   ]
  },
  {
   "cell_type": "code",
   "execution_count": null,
   "id": "50004fe6",
   "metadata": {},
   "outputs": [],
   "source": [
    "deck = Deck()"
   ]
  },
  {
   "cell_type": "markdown",
   "id": "52d0cb38",
   "metadata": {},
   "source": [
    "Three random cards from the deck:"
   ]
  },
  {
   "cell_type": "code",
   "execution_count": null,
   "id": "66c20fc3",
   "metadata": {},
   "outputs": [
    {
     "name": "stdout",
     "output_type": "stream",
     "text": [
      "[4 of Diamonds, 2 of Hearts, 9 of Spades]\n"
     ]
    }
   ],
   "source": [
    "deck.shuffle()\n",
    "print(deck.cards[:3])"
   ]
  },
  {
   "cell_type": "code",
   "execution_count": null,
   "id": "7283a78f",
   "metadata": {},
   "outputs": [],
   "source": [
    "assert isinstance(deck.pop_card(), Card)"
   ]
  },
  {
   "cell_type": "markdown",
   "id": "8a32bdc4",
   "metadata": {},
   "source": [
    "## Show documentation"
   ]
  },
  {
   "cell_type": "code",
   "execution_count": null,
   "id": "2e294fd6",
   "metadata": {},
   "outputs": [],
   "source": [
    "from nbdev import *"
   ]
  },
  {
   "cell_type": "code",
   "execution_count": null,
   "id": "b7d11887",
   "metadata": {},
   "outputs": [],
   "source": [
    "# show_doc(Deck.remove_card)"
   ]
  },
  {
   "cell_type": "markdown",
   "id": "57695def",
   "metadata": {},
   "source": [
    "## Arrow human readable time"
   ]
  },
  {
   "cell_type": "code",
   "execution_count": null,
   "id": "7e7960da",
   "metadata": {},
   "outputs": [],
   "source": [
    "import pandas as pd\n",
    "import arrow"
   ]
  },
  {
   "cell_type": "code",
   "execution_count": null,
   "id": "7eb6a317",
   "metadata": {},
   "outputs": [],
   "source": [
    "utc = arrow.utcnow()"
   ]
  },
  {
   "cell_type": "code",
   "execution_count": null,
   "id": "11be039e",
   "metadata": {},
   "outputs": [
    {
     "data": {
      "text/plain": [
       "'just now'"
      ]
     },
     "execution_count": null,
     "metadata": {},
     "output_type": "execute_result"
    }
   ],
   "source": [
    "utc.humanize()"
   ]
  },
  {
   "cell_type": "code",
   "execution_count": null,
   "id": "9b147ab3",
   "metadata": {},
   "outputs": [],
   "source": [
    "from prodb.core import generate_db"
   ]
  },
  {
   "cell_type": "code",
   "execution_count": null,
   "id": "a68d3f74",
   "metadata": {},
   "outputs": [],
   "source": [
    "generate_db(prefill=True)\n",
    "dbpath = 'db.csv'\n",
    "df = pd.read_csv(dbpath)"
   ]
  },
  {
   "cell_type": "code",
   "execution_count": null,
   "id": "ee893b45",
   "metadata": {},
   "outputs": [
    {
     "data": {
      "text/html": [
       "<div>\n",
       "<style scoped>\n",
       "    .dataframe tbody tr th:only-of-type {\n",
       "        vertical-align: middle;\n",
       "    }\n",
       "\n",
       "    .dataframe tbody tr th {\n",
       "        vertical-align: top;\n",
       "    }\n",
       "\n",
       "    .dataframe thead th {\n",
       "        text-align: right;\n",
       "    }\n",
       "</style>\n",
       "<table border=\"1\" class=\"dataframe\">\n",
       "  <thead>\n",
       "    <tr style=\"text-align: right;\">\n",
       "      <th></th>\n",
       "      <th>name</th>\n",
       "      <th>mood</th>\n",
       "      <th>message</th>\n",
       "      <th>time_utc</th>\n",
       "    </tr>\n",
       "  </thead>\n",
       "  <tbody>\n",
       "    <tr>\n",
       "      <th>0</th>\n",
       "      <td>Sam</td>\n",
       "      <td>😊</td>\n",
       "      <td>hi</td>\n",
       "      <td>2021-10-03 13:36:17</td>\n",
       "    </tr>\n",
       "    <tr>\n",
       "      <th>1</th>\n",
       "      <td>Grant</td>\n",
       "      <td>😵</td>\n",
       "      <td>hello</td>\n",
       "      <td>2021-10-03 13:36:17</td>\n",
       "    </tr>\n",
       "  </tbody>\n",
       "</table>\n",
       "</div>"
      ],
      "text/plain": [
       "    name mood message             time_utc\n",
       "0    Sam    😊      hi  2021-10-03 13:36:17\n",
       "1  Grant    😵   hello  2021-10-03 13:36:17"
      ]
     },
     "execution_count": null,
     "metadata": {},
     "output_type": "execute_result"
    }
   ],
   "source": [
    "df.head()"
   ]
  },
  {
   "cell_type": "code",
   "execution_count": null,
   "id": "648fbe99",
   "metadata": {},
   "outputs": [
    {
     "data": {
      "text/plain": [
       "name        object\n",
       "mood        object\n",
       "message     object\n",
       "time_utc    object\n",
       "dtype: object"
      ]
     },
     "execution_count": null,
     "metadata": {},
     "output_type": "execute_result"
    }
   ],
   "source": [
    "df.dtypes"
   ]
  },
  {
   "cell_type": "code",
   "execution_count": null,
   "id": "92fda2da",
   "metadata": {},
   "outputs": [
    {
     "data": {
      "text/plain": [
       "'2021-10-03 13:36:17'"
      ]
     },
     "execution_count": null,
     "metadata": {},
     "output_type": "execute_result"
    }
   ],
   "source": [
    "df.time_utc[0]"
   ]
  },
  {
   "cell_type": "code",
   "execution_count": null,
   "id": "61b53bb5",
   "metadata": {},
   "outputs": [
    {
     "data": {
      "text/plain": [
       "'just now'"
      ]
     },
     "execution_count": null,
     "metadata": {},
     "output_type": "execute_result"
    }
   ],
   "source": [
    "arrow.get(df.time_utc[0]).humanize()"
   ]
  },
  {
   "cell_type": "code",
   "execution_count": null,
   "id": "bc0db3ef",
   "metadata": {},
   "outputs": [
    {
     "data": {
      "text/plain": [
       "0    just now\n",
       "1    just now\n",
       "Name: time_utc, dtype: object"
      ]
     },
     "execution_count": null,
     "metadata": {},
     "output_type": "execute_result"
    }
   ],
   "source": [
    "df.time_utc.apply(lambda x: arrow.get(x).humanize())"
   ]
  },
  {
   "cell_type": "code",
   "execution_count": null,
   "id": "a91fd3c8",
   "metadata": {},
   "outputs": [
    {
     "data": {
      "text/html": [
       "<div>\n",
       "<style scoped>\n",
       "    .dataframe tbody tr th:only-of-type {\n",
       "        vertical-align: middle;\n",
       "    }\n",
       "\n",
       "    .dataframe tbody tr th {\n",
       "        vertical-align: top;\n",
       "    }\n",
       "\n",
       "    .dataframe thead th {\n",
       "        text-align: right;\n",
       "    }\n",
       "</style>\n",
       "<table border=\"1\" class=\"dataframe\">\n",
       "  <thead>\n",
       "    <tr style=\"text-align: right;\">\n",
       "      <th></th>\n",
       "      <th>name</th>\n",
       "      <th>mood</th>\n",
       "      <th>message</th>\n",
       "      <th>time_utc</th>\n",
       "      <th>human</th>\n",
       "    </tr>\n",
       "  </thead>\n",
       "  <tbody>\n",
       "    <tr>\n",
       "      <th>0</th>\n",
       "      <td>Sam</td>\n",
       "      <td>😊</td>\n",
       "      <td>hi</td>\n",
       "      <td>2021-10-03 13:36:17</td>\n",
       "      <td>just now</td>\n",
       "    </tr>\n",
       "    <tr>\n",
       "      <th>1</th>\n",
       "      <td>Grant</td>\n",
       "      <td>😵</td>\n",
       "      <td>hello</td>\n",
       "      <td>2021-10-03 13:36:17</td>\n",
       "      <td>just now</td>\n",
       "    </tr>\n",
       "  </tbody>\n",
       "</table>\n",
       "</div>"
      ],
      "text/plain": [
       "    name mood message             time_utc     human\n",
       "0    Sam    😊      hi  2021-10-03 13:36:17  just now\n",
       "1  Grant    😵   hello  2021-10-03 13:36:17  just now"
      ]
     },
     "execution_count": null,
     "metadata": {},
     "output_type": "execute_result"
    }
   ],
   "source": [
    "df['human'] = df.time_utc.apply(lambda x: arrow.get(x).humanize())\n",
    "df.head()"
   ]
  },
  {
   "cell_type": "markdown",
   "id": "2ec7cc49",
   "metadata": {},
   "source": [
    "# Requests to `metaweather` open weather API"
   ]
  },
  {
   "cell_type": "code",
   "execution_count": null,
   "id": "7342a959",
   "metadata": {},
   "outputs": [],
   "source": [
    "import requests\n",
    "import json"
   ]
  },
  {
   "cell_type": "code",
   "execution_count": null,
   "id": "f9e24160",
   "metadata": {},
   "outputs": [],
   "source": [
    "query = \"London\"\n",
    "url = f\"https://www.metaweather.com/api/location/search/?query={query}\"\n",
    "r = requests.get(url)"
   ]
  },
  {
   "cell_type": "code",
   "execution_count": null,
   "id": "ee82d0f1",
   "metadata": {},
   "outputs": [
    {
     "data": {
      "text/plain": [
       "'[{\"title\":\"London\",\"location_type\":\"City\",\"woeid\":44418,\"latt_long\":\"51.506321,-0.12714\"}]'"
      ]
     },
     "execution_count": null,
     "metadata": {},
     "output_type": "execute_result"
    }
   ],
   "source": [
    "r.text"
   ]
  },
  {
   "cell_type": "code",
   "execution_count": null,
   "id": "3cdfabb9",
   "metadata": {},
   "outputs": [
    {
     "data": {
      "text/plain": [
       "[{'title': 'London',\n",
       "  'location_type': 'City',\n",
       "  'woeid': 44418,\n",
       "  'latt_long': '51.506321,-0.12714'}]"
      ]
     },
     "execution_count": null,
     "metadata": {},
     "output_type": "execute_result"
    }
   ],
   "source": [
    "r.json()"
   ]
  },
  {
   "cell_type": "code",
   "execution_count": null,
   "id": "c368c8cc",
   "metadata": {},
   "outputs": [
    {
     "data": {
      "text/plain": [
       "44418"
      ]
     },
     "execution_count": null,
     "metadata": {},
     "output_type": "execute_result"
    }
   ],
   "source": [
    "woeid = r.json()[0]['woeid']\n",
    "woeid"
   ]
  },
  {
   "cell_type": "code",
   "execution_count": null,
   "id": "4b1d2fde",
   "metadata": {},
   "outputs": [
    {
     "data": {
      "text/plain": [
       "{'id': 5495230276042752,\n",
       " 'weather_state_name': 'Light Rain',\n",
       " 'weather_state_abbr': 'lr',\n",
       " 'wind_direction_compass': 'SW',\n",
       " 'created': '2021-10-03T12:59:03.049755Z',\n",
       " 'applicable_date': '2021-10-03',\n",
       " 'min_temp': 10.645,\n",
       " 'max_temp': 16.015,\n",
       " 'the_temp': 14.4,\n",
       " 'wind_speed': 8.614009459582704,\n",
       " 'wind_direction': 227.33346500159422,\n",
       " 'air_pressure': 997.0,\n",
       " 'humidity': 75,\n",
       " 'visibility': 11.97755110156685,\n",
       " 'predictability': 75}"
      ]
     },
     "execution_count": null,
     "metadata": {},
     "output_type": "execute_result"
    }
   ],
   "source": [
    "url = f\"https://www.metaweather.com/api/location/{woeid}/2021/10/03/\"\n",
    "r = requests.get(url)\n",
    "res = r.json()\n",
    "res[0]"
   ]
  },
  {
   "cell_type": "code",
   "execution_count": null,
   "id": "439604e1",
   "metadata": {},
   "outputs": [
    {
     "data": {
      "text/html": [
       "<div>\n",
       "<style scoped>\n",
       "    .dataframe tbody tr th:only-of-type {\n",
       "        vertical-align: middle;\n",
       "    }\n",
       "\n",
       "    .dataframe tbody tr th {\n",
       "        vertical-align: top;\n",
       "    }\n",
       "\n",
       "    .dataframe thead th {\n",
       "        text-align: right;\n",
       "    }\n",
       "</style>\n",
       "<table border=\"1\" class=\"dataframe\">\n",
       "  <thead>\n",
       "    <tr style=\"text-align: right;\">\n",
       "      <th></th>\n",
       "      <th>id</th>\n",
       "      <th>weather_state_name</th>\n",
       "      <th>weather_state_abbr</th>\n",
       "      <th>wind_direction_compass</th>\n",
       "      <th>created</th>\n",
       "      <th>applicable_date</th>\n",
       "      <th>min_temp</th>\n",
       "      <th>max_temp</th>\n",
       "      <th>the_temp</th>\n",
       "      <th>wind_speed</th>\n",
       "      <th>wind_direction</th>\n",
       "      <th>air_pressure</th>\n",
       "      <th>humidity</th>\n",
       "      <th>visibility</th>\n",
       "      <th>predictability</th>\n",
       "    </tr>\n",
       "  </thead>\n",
       "  <tbody>\n",
       "    <tr>\n",
       "      <th>0</th>\n",
       "      <td>5495230276042752</td>\n",
       "      <td>Light Rain</td>\n",
       "      <td>lr</td>\n",
       "      <td>SW</td>\n",
       "      <td>2021-10-03T12:59:03.049755Z</td>\n",
       "      <td>2021-10-03</td>\n",
       "      <td>10.645</td>\n",
       "      <td>16.015</td>\n",
       "      <td>14.400</td>\n",
       "      <td>8.614009</td>\n",
       "      <td>227.333465</td>\n",
       "      <td>997.0</td>\n",
       "      <td>75</td>\n",
       "      <td>11.977551</td>\n",
       "      <td>75</td>\n",
       "    </tr>\n",
       "    <tr>\n",
       "      <th>1</th>\n",
       "      <td>5479289236488192</td>\n",
       "      <td>Light Rain</td>\n",
       "      <td>lr</td>\n",
       "      <td>SW</td>\n",
       "      <td>2021-10-03T09:59:02.071081Z</td>\n",
       "      <td>2021-10-03</td>\n",
       "      <td>10.565</td>\n",
       "      <td>16.015</td>\n",
       "      <td>14.515</td>\n",
       "      <td>9.690802</td>\n",
       "      <td>227.666907</td>\n",
       "      <td>997.5</td>\n",
       "      <td>71</td>\n",
       "      <td>13.347985</td>\n",
       "      <td>75</td>\n",
       "    </tr>\n",
       "    <tr>\n",
       "      <th>2</th>\n",
       "      <td>5611871194316800</td>\n",
       "      <td>Light Rain</td>\n",
       "      <td>lr</td>\n",
       "      <td>SW</td>\n",
       "      <td>2021-10-03T06:59:01.248877Z</td>\n",
       "      <td>2021-10-03</td>\n",
       "      <td>10.335</td>\n",
       "      <td>16.355</td>\n",
       "      <td>15.880</td>\n",
       "      <td>9.923609</td>\n",
       "      <td>225.666366</td>\n",
       "      <td>998.5</td>\n",
       "      <td>62</td>\n",
       "      <td>14.011610</td>\n",
       "      <td>75</td>\n",
       "    </tr>\n",
       "    <tr>\n",
       "      <th>3</th>\n",
       "      <td>6524113154736128</td>\n",
       "      <td>Light Rain</td>\n",
       "      <td>lr</td>\n",
       "      <td>SW</td>\n",
       "      <td>2021-10-03T03:59:01.663599Z</td>\n",
       "      <td>2021-10-03</td>\n",
       "      <td>10.375</td>\n",
       "      <td>16.375</td>\n",
       "      <td>15.845</td>\n",
       "      <td>9.974399</td>\n",
       "      <td>225.333228</td>\n",
       "      <td>998.5</td>\n",
       "      <td>62</td>\n",
       "      <td>14.955162</td>\n",
       "      <td>75</td>\n",
       "    </tr>\n",
       "    <tr>\n",
       "      <th>4</th>\n",
       "      <td>5808690385911808</td>\n",
       "      <td>Heavy Rain</td>\n",
       "      <td>hr</td>\n",
       "      <td>SSW</td>\n",
       "      <td>2021-10-03T00:59:01.496643Z</td>\n",
       "      <td>2021-10-03</td>\n",
       "      <td>10.425</td>\n",
       "      <td>16.340</td>\n",
       "      <td>14.910</td>\n",
       "      <td>7.722970</td>\n",
       "      <td>201.666058</td>\n",
       "      <td>998.0</td>\n",
       "      <td>77</td>\n",
       "      <td>6.670730</td>\n",
       "      <td>77</td>\n",
       "    </tr>\n",
       "    <tr>\n",
       "      <th>...</th>\n",
       "      <td>...</td>\n",
       "      <td>...</td>\n",
       "      <td>...</td>\n",
       "      <td>...</td>\n",
       "      <td>...</td>\n",
       "      <td>...</td>\n",
       "      <td>...</td>\n",
       "      <td>...</td>\n",
       "      <td>...</td>\n",
       "      <td>...</td>\n",
       "      <td>...</td>\n",
       "      <td>...</td>\n",
       "      <td>...</td>\n",
       "      <td>...</td>\n",
       "      <td>...</td>\n",
       "    </tr>\n",
       "    <tr>\n",
       "      <th>64</th>\n",
       "      <td>5253789738074112</td>\n",
       "      <td>Heavy Rain</td>\n",
       "      <td>hr</td>\n",
       "      <td>SSW</td>\n",
       "      <td>2021-09-25T12:59:13.062403Z</td>\n",
       "      <td>2021-10-03</td>\n",
       "      <td>8.580</td>\n",
       "      <td>14.980</td>\n",
       "      <td>14.980</td>\n",
       "      <td>4.473873</td>\n",
       "      <td>212.000000</td>\n",
       "      <td>1008.0</td>\n",
       "      <td>62</td>\n",
       "      <td>NaN</td>\n",
       "      <td>77</td>\n",
       "    </tr>\n",
       "    <tr>\n",
       "      <th>65</th>\n",
       "      <td>5698984036270080</td>\n",
       "      <td>Heavy Rain</td>\n",
       "      <td>hr</td>\n",
       "      <td>SSW</td>\n",
       "      <td>2021-09-25T09:59:13.271142Z</td>\n",
       "      <td>2021-10-03</td>\n",
       "      <td>8.580</td>\n",
       "      <td>14.980</td>\n",
       "      <td>14.980</td>\n",
       "      <td>4.473873</td>\n",
       "      <td>212.000000</td>\n",
       "      <td>1008.0</td>\n",
       "      <td>62</td>\n",
       "      <td>NaN</td>\n",
       "      <td>77</td>\n",
       "    </tr>\n",
       "    <tr>\n",
       "      <th>66</th>\n",
       "      <td>5579815361970176</td>\n",
       "      <td>Heavy Cloud</td>\n",
       "      <td>hc</td>\n",
       "      <td>SSW</td>\n",
       "      <td>2021-09-25T06:59:13.969326Z</td>\n",
       "      <td>2021-10-03</td>\n",
       "      <td>13.520</td>\n",
       "      <td>18.160</td>\n",
       "      <td>17.430</td>\n",
       "      <td>4.200469</td>\n",
       "      <td>200.000000</td>\n",
       "      <td>1011.0</td>\n",
       "      <td>60</td>\n",
       "      <td>NaN</td>\n",
       "      <td>71</td>\n",
       "    </tr>\n",
       "    <tr>\n",
       "      <th>67</th>\n",
       "      <td>6247999530336256</td>\n",
       "      <td>Heavy Cloud</td>\n",
       "      <td>hc</td>\n",
       "      <td>SSW</td>\n",
       "      <td>2021-09-25T03:59:14.156368Z</td>\n",
       "      <td>2021-10-03</td>\n",
       "      <td>13.520</td>\n",
       "      <td>18.160</td>\n",
       "      <td>17.430</td>\n",
       "      <td>4.200469</td>\n",
       "      <td>200.000000</td>\n",
       "      <td>1011.0</td>\n",
       "      <td>60</td>\n",
       "      <td>NaN</td>\n",
       "      <td>71</td>\n",
       "    </tr>\n",
       "    <tr>\n",
       "      <th>68</th>\n",
       "      <td>6317253101355008</td>\n",
       "      <td>Heavy Cloud</td>\n",
       "      <td>hc</td>\n",
       "      <td>SSW</td>\n",
       "      <td>2021-09-25T00:59:13.465527Z</td>\n",
       "      <td>2021-10-03</td>\n",
       "      <td>13.520</td>\n",
       "      <td>18.160</td>\n",
       "      <td>17.430</td>\n",
       "      <td>4.200469</td>\n",
       "      <td>200.000000</td>\n",
       "      <td>1011.0</td>\n",
       "      <td>60</td>\n",
       "      <td>NaN</td>\n",
       "      <td>71</td>\n",
       "    </tr>\n",
       "  </tbody>\n",
       "</table>\n",
       "<p>69 rows × 15 columns</p>\n",
       "</div>"
      ],
      "text/plain": [
       "                  id weather_state_name weather_state_abbr  \\\n",
       "0   5495230276042752         Light Rain                 lr   \n",
       "1   5479289236488192         Light Rain                 lr   \n",
       "2   5611871194316800         Light Rain                 lr   \n",
       "3   6524113154736128         Light Rain                 lr   \n",
       "4   5808690385911808         Heavy Rain                 hr   \n",
       "..               ...                ...                ...   \n",
       "64  5253789738074112         Heavy Rain                 hr   \n",
       "65  5698984036270080         Heavy Rain                 hr   \n",
       "66  5579815361970176        Heavy Cloud                 hc   \n",
       "67  6247999530336256        Heavy Cloud                 hc   \n",
       "68  6317253101355008        Heavy Cloud                 hc   \n",
       "\n",
       "   wind_direction_compass                      created applicable_date  \\\n",
       "0                      SW  2021-10-03T12:59:03.049755Z      2021-10-03   \n",
       "1                      SW  2021-10-03T09:59:02.071081Z      2021-10-03   \n",
       "2                      SW  2021-10-03T06:59:01.248877Z      2021-10-03   \n",
       "3                      SW  2021-10-03T03:59:01.663599Z      2021-10-03   \n",
       "4                     SSW  2021-10-03T00:59:01.496643Z      2021-10-03   \n",
       "..                    ...                          ...             ...   \n",
       "64                    SSW  2021-09-25T12:59:13.062403Z      2021-10-03   \n",
       "65                    SSW  2021-09-25T09:59:13.271142Z      2021-10-03   \n",
       "66                    SSW  2021-09-25T06:59:13.969326Z      2021-10-03   \n",
       "67                    SSW  2021-09-25T03:59:14.156368Z      2021-10-03   \n",
       "68                    SSW  2021-09-25T00:59:13.465527Z      2021-10-03   \n",
       "\n",
       "    min_temp  max_temp  the_temp  wind_speed  wind_direction  air_pressure  \\\n",
       "0     10.645    16.015    14.400    8.614009      227.333465         997.0   \n",
       "1     10.565    16.015    14.515    9.690802      227.666907         997.5   \n",
       "2     10.335    16.355    15.880    9.923609      225.666366         998.5   \n",
       "3     10.375    16.375    15.845    9.974399      225.333228         998.5   \n",
       "4     10.425    16.340    14.910    7.722970      201.666058         998.0   \n",
       "..       ...       ...       ...         ...             ...           ...   \n",
       "64     8.580    14.980    14.980    4.473873      212.000000        1008.0   \n",
       "65     8.580    14.980    14.980    4.473873      212.000000        1008.0   \n",
       "66    13.520    18.160    17.430    4.200469      200.000000        1011.0   \n",
       "67    13.520    18.160    17.430    4.200469      200.000000        1011.0   \n",
       "68    13.520    18.160    17.430    4.200469      200.000000        1011.0   \n",
       "\n",
       "    humidity  visibility  predictability  \n",
       "0         75   11.977551              75  \n",
       "1         71   13.347985              75  \n",
       "2         62   14.011610              75  \n",
       "3         62   14.955162              75  \n",
       "4         77    6.670730              77  \n",
       "..       ...         ...             ...  \n",
       "64        62         NaN              77  \n",
       "65        62         NaN              77  \n",
       "66        60         NaN              71  \n",
       "67        60         NaN              71  \n",
       "68        60         NaN              71  \n",
       "\n",
       "[69 rows x 15 columns]"
      ]
     },
     "execution_count": null,
     "metadata": {},
     "output_type": "execute_result"
    }
   ],
   "source": [
    "df = pd.DataFrame.from_records(res)\n",
    "df"
   ]
  },
  {
   "cell_type": "code",
   "execution_count": null,
   "id": "af63e053",
   "metadata": {},
   "outputs": [],
   "source": []
  },
  {
   "cell_type": "code",
   "execution_count": null,
   "id": "71276542",
   "metadata": {},
   "outputs": [],
   "source": []
  }
 ],
 "metadata": {
  "kernelspec": {
   "display_name": "Python 3 (ipykernel)",
   "language": "python",
   "name": "python3"
  }
 },
 "nbformat": 4,
 "nbformat_minor": 5
}
