{
 "cells": [
  {
   "cell_type": "markdown",
   "id": "663d4d3d",
   "metadata": {},
   "source": [
    "# 02 Import Prodb\n",
    "> Library imports are available inline"
   ]
  },
  {
   "cell_type": "code",
   "execution_count": null,
   "id": "8789a3f9",
   "metadata": {},
   "outputs": [],
   "source": [
    "#hide\n",
    "from nbdev.showdoc import *\n",
    "import pandas as pd\n",
    "%load_ext autoreload\n",
    "%autoreload 2"
   ]
  },
  {
   "cell_type": "code",
   "execution_count": null,
   "id": "32b9194f",
   "metadata": {},
   "outputs": [],
   "source": [
    "from prodb.card import Card"
   ]
  },
  {
   "cell_type": "code",
   "execution_count": null,
   "id": "4b6d40b5",
   "metadata": {},
   "outputs": [
    {
     "data": {
      "text/plain": [
       "Queen of Spades"
      ]
     },
     "execution_count": null,
     "metadata": {},
     "output_type": "execute_result"
    }
   ],
   "source": [
    "Card(suit=3, rank=12)"
   ]
  },
  {
   "cell_type": "markdown",
   "id": "f01f68cb",
   "metadata": {},
   "source": [
    "A deck of cards is a collection of Card objects:"
   ]
  },
  {
   "cell_type": "code",
   "execution_count": null,
   "id": "f7a282a7",
   "metadata": {},
   "outputs": [],
   "source": [
    "from prodb.card import Deck"
   ]
  },
  {
   "cell_type": "code",
   "execution_count": null,
   "id": "50004fe6",
   "metadata": {},
   "outputs": [],
   "source": [
    "deck = Deck()"
   ]
  },
  {
   "cell_type": "markdown",
   "id": "52d0cb38",
   "metadata": {},
   "source": [
    "Three random cards from the deck:"
   ]
  },
  {
   "cell_type": "code",
   "execution_count": null,
   "id": "66c20fc3",
   "metadata": {},
   "outputs": [
    {
     "name": "stdout",
     "output_type": "stream",
     "text": [
      "[4 of Diamonds, 2 of Hearts, 9 of Spades]\n"
     ]
    }
   ],
   "source": [
    "deck.shuffle()\n",
    "print(deck.cards[:3])"
   ]
  },
  {
   "cell_type": "code",
   "execution_count": null,
   "id": "7283a78f",
   "metadata": {},
   "outputs": [],
   "source": [
    "assert isinstance(deck.pop_card(), Card)"
   ]
  },
  {
   "cell_type": "markdown",
   "id": "8a32bdc4",
   "metadata": {},
   "source": [
    "## Show documentation"
   ]
  },
  {
   "cell_type": "code",
   "execution_count": null,
   "id": "2e294fd6",
   "metadata": {},
   "outputs": [],
   "source": [
    "from nbdev import *"
   ]
  },
  {
   "cell_type": "code",
   "execution_count": null,
   "id": "b7d11887",
   "metadata": {},
   "outputs": [],
   "source": [
    "# show_doc(Deck.remove_card)"
   ]
  },
  {
   "cell_type": "markdown",
   "id": "57695def",
   "metadata": {},
   "source": [
    "## Arrow human readable time"
   ]
  },
  {
   "cell_type": "code",
   "execution_count": null,
   "id": "7e7960da",
   "metadata": {},
   "outputs": [],
   "source": [
    "import pandas as pd\n",
    "import arrow"
   ]
  },
  {
   "cell_type": "code",
   "execution_count": null,
   "id": "7eb6a317",
   "metadata": {},
   "outputs": [],
   "source": [
    "utc = arrow.utcnow()"
   ]
  },
  {
   "cell_type": "code",
   "execution_count": null,
   "id": "11be039e",
   "metadata": {},
   "outputs": [
    {
     "data": {
      "text/plain": [
       "'just now'"
      ]
     },
     "execution_count": null,
     "metadata": {},
     "output_type": "execute_result"
    }
   ],
   "source": [
    "utc.humanize()"
   ]
  },
  {
   "cell_type": "code",
   "execution_count": null,
   "id": "9b147ab3",
   "metadata": {},
   "outputs": [],
   "source": [
    "from prodb.core import generate_db"
   ]
  },
  {
   "cell_type": "code",
   "execution_count": null,
   "id": "a68d3f74",
   "metadata": {},
   "outputs": [],
   "source": [
    "generate_db(prefill=True)\n",
    "dbpath = 'db.csv'\n",
    "df = pd.read_csv(dbpath)"
   ]
  },
  {
   "cell_type": "code",
   "execution_count": null,
   "id": "ee893b45",
   "metadata": {},
   "outputs": [
    {
     "data": {
      "text/html": [
       "<div>\n",
       "<style scoped>\n",
       "    .dataframe tbody tr th:only-of-type {\n",
       "        vertical-align: middle;\n",
       "    }\n",
       "\n",
       "    .dataframe tbody tr th {\n",
       "        vertical-align: top;\n",
       "    }\n",
       "\n",
       "    .dataframe thead th {\n",
       "        text-align: right;\n",
       "    }\n",
       "</style>\n",
       "<table border=\"1\" class=\"dataframe\">\n",
       "  <thead>\n",
       "    <tr style=\"text-align: right;\">\n",
       "      <th></th>\n",
       "      <th>name</th>\n",
       "      <th>location</th>\n",
       "      <th>score</th>\n",
       "      <th>time_utc</th>\n",
       "    </tr>\n",
       "  </thead>\n",
       "  <tbody>\n",
       "    <tr>\n",
       "      <th>0</th>\n",
       "      <td>Sam</td>\n",
       "      <td>UK</td>\n",
       "      <td>0</td>\n",
       "      <td>2021-09-30 20:32:02</td>\n",
       "    </tr>\n",
       "    <tr>\n",
       "      <th>1</th>\n",
       "      <td>Grant</td>\n",
       "      <td>NZ</td>\n",
       "      <td>30</td>\n",
       "      <td>2021-09-30 20:32:02</td>\n",
       "    </tr>\n",
       "  </tbody>\n",
       "</table>\n",
       "</div>"
      ],
      "text/plain": [
       "    name location  score             time_utc\n",
       "0    Sam       UK      0  2021-09-30 20:32:02\n",
       "1  Grant       NZ     30  2021-09-30 20:32:02"
      ]
     },
     "execution_count": null,
     "metadata": {},
     "output_type": "execute_result"
    }
   ],
   "source": [
    "df.head()"
   ]
  },
  {
   "cell_type": "code",
   "execution_count": null,
   "id": "648fbe99",
   "metadata": {},
   "outputs": [
    {
     "data": {
      "text/plain": [
       "name        object\n",
       "location    object\n",
       "score        int64\n",
       "time_utc    object\n",
       "dtype: object"
      ]
     },
     "execution_count": null,
     "metadata": {},
     "output_type": "execute_result"
    }
   ],
   "source": [
    "df.dtypes"
   ]
  },
  {
   "cell_type": "code",
   "execution_count": null,
   "id": "92fda2da",
   "metadata": {},
   "outputs": [
    {
     "data": {
      "text/plain": [
       "'2021-09-30 20:32:02'"
      ]
     },
     "execution_count": null,
     "metadata": {},
     "output_type": "execute_result"
    }
   ],
   "source": [
    "df.time_utc[0]"
   ]
  },
  {
   "cell_type": "code",
   "execution_count": null,
   "id": "61b53bb5",
   "metadata": {},
   "outputs": [
    {
     "data": {
      "text/plain": [
       "'a minute ago'"
      ]
     },
     "execution_count": null,
     "metadata": {},
     "output_type": "execute_result"
    }
   ],
   "source": [
    "arrow.get(df.time_utc[0]).humanize()"
   ]
  },
  {
   "cell_type": "code",
   "execution_count": null,
   "id": "bc0db3ef",
   "metadata": {},
   "outputs": [
    {
     "data": {
      "text/plain": [
       "0    2 minutes ago\n",
       "1    2 minutes ago\n",
       "Name: time_utc, dtype: object"
      ]
     },
     "execution_count": null,
     "metadata": {},
     "output_type": "execute_result"
    }
   ],
   "source": [
    "df.time_utc.apply(lambda x: arrow.get(x).humanize())"
   ]
  },
  {
   "cell_type": "code",
   "execution_count": null,
   "id": "a91fd3c8",
   "metadata": {},
   "outputs": [
    {
     "data": {
      "text/html": [
       "<div>\n",
       "<style scoped>\n",
       "    .dataframe tbody tr th:only-of-type {\n",
       "        vertical-align: middle;\n",
       "    }\n",
       "\n",
       "    .dataframe tbody tr th {\n",
       "        vertical-align: top;\n",
       "    }\n",
       "\n",
       "    .dataframe thead th {\n",
       "        text-align: right;\n",
       "    }\n",
       "</style>\n",
       "<table border=\"1\" class=\"dataframe\">\n",
       "  <thead>\n",
       "    <tr style=\"text-align: right;\">\n",
       "      <th></th>\n",
       "      <th>name</th>\n",
       "      <th>location</th>\n",
       "      <th>score</th>\n",
       "      <th>time_utc</th>\n",
       "      <th>human</th>\n",
       "    </tr>\n",
       "  </thead>\n",
       "  <tbody>\n",
       "    <tr>\n",
       "      <th>0</th>\n",
       "      <td>Sam</td>\n",
       "      <td>UK</td>\n",
       "      <td>0</td>\n",
       "      <td>2021-09-30 20:32:02</td>\n",
       "      <td>2 minutes ago</td>\n",
       "    </tr>\n",
       "    <tr>\n",
       "      <th>1</th>\n",
       "      <td>Grant</td>\n",
       "      <td>NZ</td>\n",
       "      <td>30</td>\n",
       "      <td>2021-09-30 20:32:02</td>\n",
       "      <td>2 minutes ago</td>\n",
       "    </tr>\n",
       "  </tbody>\n",
       "</table>\n",
       "</div>"
      ],
      "text/plain": [
       "    name location  score             time_utc          human\n",
       "0    Sam       UK      0  2021-09-30 20:32:02  2 minutes ago\n",
       "1  Grant       NZ     30  2021-09-30 20:32:02  2 minutes ago"
      ]
     },
     "execution_count": null,
     "metadata": {},
     "output_type": "execute_result"
    }
   ],
   "source": [
    "df['human'] = df.time_utc.apply(lambda x: arrow.get(x).humanize())\n",
    "df.head()"
   ]
  },
  {
   "cell_type": "markdown",
   "id": "9a650b4a",
   "metadata": {},
   "source": [
    "# Requests to `metaweather` open weather API"
   ]
  },
  {
   "cell_type": "code",
   "execution_count": null,
   "id": "af7939d5",
   "metadata": {},
   "outputs": [],
   "source": [
    "import requests\n",
    "import json"
   ]
  },
  {
   "cell_type": "code",
   "execution_count": null,
   "id": "c2c256b2",
   "metadata": {},
   "outputs": [],
   "source": [
    "query = \"London\"\n",
    "url = f\"https://www.metaweather.com/api/location/search/?query={query}\"\n",
    "r = requests.get(url)"
   ]
  },
  {
   "cell_type": "code",
   "execution_count": null,
   "id": "afc03d4f",
   "metadata": {},
   "outputs": [
    {
     "data": {
      "text/plain": [
       "'[{\"title\":\"London\",\"location_type\":\"City\",\"woeid\":44418,\"latt_long\":\"51.506321,-0.12714\"}]'"
      ]
     },
     "execution_count": null,
     "metadata": {},
     "output_type": "execute_result"
    }
   ],
   "source": [
    "r.text"
   ]
  },
  {
   "cell_type": "code",
   "execution_count": null,
   "id": "ae2728ed",
   "metadata": {},
   "outputs": [
    {
     "data": {
      "text/plain": [
       "[{'title': 'London',\n",
       "  'location_type': 'City',\n",
       "  'woeid': 44418,\n",
       "  'latt_long': '51.506321,-0.12714'}]"
      ]
     },
     "execution_count": null,
     "metadata": {},
     "output_type": "execute_result"
    }
   ],
   "source": [
    "r.json()"
   ]
  },
  {
   "cell_type": "code",
   "execution_count": null,
   "id": "f2b0ad79",
   "metadata": {},
   "outputs": [
    {
     "data": {
      "text/plain": [
       "44418"
      ]
     },
     "execution_count": null,
     "metadata": {},
     "output_type": "execute_result"
    }
   ],
   "source": [
    "woeid = r.json()[0]['woeid']\n",
    "woeid"
   ]
  },
  {
   "cell_type": "code",
   "execution_count": null,
   "id": "7a836ea1",
   "metadata": {},
   "outputs": [
    {
     "data": {
      "text/plain": [
       "{'id': 4750581731164160,\n",
       " 'weather_state_name': 'Showers',\n",
       " 'weather_state_abbr': 's',\n",
       " 'wind_direction_compass': 'SW',\n",
       " 'created': '2021-10-02T15:59:02.140584Z',\n",
       " 'applicable_date': '2021-10-03',\n",
       " 'min_temp': 10.399999999999999,\n",
       " 'max_temp': 16.33,\n",
       " 'the_temp': 15.690000000000001,\n",
       " 'wind_speed': 9.984650223168694,\n",
       " 'wind_direction': 227.00010156234282,\n",
       " 'air_pressure': 998.5,\n",
       " 'humidity': 63,\n",
       " 'visibility': 15.052406446353297,\n",
       " 'predictability': 73}"
      ]
     },
     "execution_count": null,
     "metadata": {},
     "output_type": "execute_result"
    }
   ],
   "source": [
    "url = f\"https://www.metaweather.com/api/location/{woeid}/2021/10/03/\"\n",
    "r = requests.get(url)\n",
    "res = r.json()\n",
    "res[0]"
   ]
  },
  {
   "cell_type": "code",
   "execution_count": null,
   "id": "2d6d52fc",
   "metadata": {},
   "outputs": [
    {
     "data": {
      "text/html": [
       "<div>\n",
       "<style scoped>\n",
       "    .dataframe tbody tr th:only-of-type {\n",
       "        vertical-align: middle;\n",
       "    }\n",
       "\n",
       "    .dataframe tbody tr th {\n",
       "        vertical-align: top;\n",
       "    }\n",
       "\n",
       "    .dataframe thead th {\n",
       "        text-align: right;\n",
       "    }\n",
       "</style>\n",
       "<table border=\"1\" class=\"dataframe\">\n",
       "  <thead>\n",
       "    <tr style=\"text-align: right;\">\n",
       "      <th></th>\n",
       "      <th>id</th>\n",
       "      <th>weather_state_name</th>\n",
       "      <th>weather_state_abbr</th>\n",
       "      <th>wind_direction_compass</th>\n",
       "      <th>created</th>\n",
       "      <th>applicable_date</th>\n",
       "      <th>min_temp</th>\n",
       "      <th>max_temp</th>\n",
       "      <th>the_temp</th>\n",
       "      <th>wind_speed</th>\n",
       "      <th>wind_direction</th>\n",
       "      <th>air_pressure</th>\n",
       "      <th>humidity</th>\n",
       "      <th>visibility</th>\n",
       "      <th>predictability</th>\n",
       "    </tr>\n",
       "  </thead>\n",
       "  <tbody>\n",
       "    <tr>\n",
       "      <th>0</th>\n",
       "      <td>4750581731164160</td>\n",
       "      <td>Showers</td>\n",
       "      <td>s</td>\n",
       "      <td>SW</td>\n",
       "      <td>2021-10-02T15:59:02.140584Z</td>\n",
       "      <td>2021-10-03</td>\n",
       "      <td>10.400</td>\n",
       "      <td>16.330</td>\n",
       "      <td>15.69</td>\n",
       "      <td>9.984650</td>\n",
       "      <td>227.000102</td>\n",
       "      <td>998.5</td>\n",
       "      <td>63</td>\n",
       "      <td>15.052406</td>\n",
       "      <td>73</td>\n",
       "    </tr>\n",
       "    <tr>\n",
       "      <th>1</th>\n",
       "      <td>5003488573521920</td>\n",
       "      <td>Light Rain</td>\n",
       "      <td>lr</td>\n",
       "      <td>SW</td>\n",
       "      <td>2021-10-02T12:59:02.349777Z</td>\n",
       "      <td>2021-10-03</td>\n",
       "      <td>10.270</td>\n",
       "      <td>16.155</td>\n",
       "      <td>15.64</td>\n",
       "      <td>9.911743</td>\n",
       "      <td>227.333465</td>\n",
       "      <td>998.5</td>\n",
       "      <td>63</td>\n",
       "      <td>14.842694</td>\n",
       "      <td>75</td>\n",
       "    </tr>\n",
       "    <tr>\n",
       "      <th>2</th>\n",
       "      <td>5572874636099584</td>\n",
       "      <td>Light Rain</td>\n",
       "      <td>lr</td>\n",
       "      <td>SW</td>\n",
       "      <td>2021-10-02T09:59:02.059263Z</td>\n",
       "      <td>2021-10-03</td>\n",
       "      <td>10.290</td>\n",
       "      <td>16.130</td>\n",
       "      <td>15.71</td>\n",
       "      <td>9.389188</td>\n",
       "      <td>226.666535</td>\n",
       "      <td>998.5</td>\n",
       "      <td>63</td>\n",
       "      <td>14.056970</td>\n",
       "      <td>75</td>\n",
       "    </tr>\n",
       "    <tr>\n",
       "      <th>3</th>\n",
       "      <td>4927797156904960</td>\n",
       "      <td>Light Rain</td>\n",
       "      <td>lr</td>\n",
       "      <td>SW</td>\n",
       "      <td>2021-10-02T06:59:01.778185Z</td>\n",
       "      <td>2021-10-03</td>\n",
       "      <td>10.300</td>\n",
       "      <td>16.195</td>\n",
       "      <td>15.21</td>\n",
       "      <td>9.356049</td>\n",
       "      <td>224.000305</td>\n",
       "      <td>998.5</td>\n",
       "      <td>65</td>\n",
       "      <td>14.511503</td>\n",
       "      <td>75</td>\n",
       "    </tr>\n",
       "    <tr>\n",
       "      <th>4</th>\n",
       "      <td>5242843208613888</td>\n",
       "      <td>Light Rain</td>\n",
       "      <td>lr</td>\n",
       "      <td>SW</td>\n",
       "      <td>2021-10-02T03:59:02.374609Z</td>\n",
       "      <td>2021-10-03</td>\n",
       "      <td>10.015</td>\n",
       "      <td>16.325</td>\n",
       "      <td>15.15</td>\n",
       "      <td>9.625259</td>\n",
       "      <td>222.666535</td>\n",
       "      <td>998.5</td>\n",
       "      <td>65</td>\n",
       "      <td>15.115476</td>\n",
       "      <td>75</td>\n",
       "    </tr>\n",
       "    <tr>\n",
       "      <th>...</th>\n",
       "      <td>...</td>\n",
       "      <td>...</td>\n",
       "      <td>...</td>\n",
       "      <td>...</td>\n",
       "      <td>...</td>\n",
       "      <td>...</td>\n",
       "      <td>...</td>\n",
       "      <td>...</td>\n",
       "      <td>...</td>\n",
       "      <td>...</td>\n",
       "      <td>...</td>\n",
       "      <td>...</td>\n",
       "      <td>...</td>\n",
       "      <td>...</td>\n",
       "      <td>...</td>\n",
       "    </tr>\n",
       "    <tr>\n",
       "      <th>57</th>\n",
       "      <td>5253789738074112</td>\n",
       "      <td>Heavy Rain</td>\n",
       "      <td>hr</td>\n",
       "      <td>SSW</td>\n",
       "      <td>2021-09-25T12:59:13.062403Z</td>\n",
       "      <td>2021-10-03</td>\n",
       "      <td>8.580</td>\n",
       "      <td>14.980</td>\n",
       "      <td>14.98</td>\n",
       "      <td>4.473873</td>\n",
       "      <td>212.000000</td>\n",
       "      <td>1008.0</td>\n",
       "      <td>62</td>\n",
       "      <td>NaN</td>\n",
       "      <td>77</td>\n",
       "    </tr>\n",
       "    <tr>\n",
       "      <th>58</th>\n",
       "      <td>5698984036270080</td>\n",
       "      <td>Heavy Rain</td>\n",
       "      <td>hr</td>\n",
       "      <td>SSW</td>\n",
       "      <td>2021-09-25T09:59:13.271142Z</td>\n",
       "      <td>2021-10-03</td>\n",
       "      <td>8.580</td>\n",
       "      <td>14.980</td>\n",
       "      <td>14.98</td>\n",
       "      <td>4.473873</td>\n",
       "      <td>212.000000</td>\n",
       "      <td>1008.0</td>\n",
       "      <td>62</td>\n",
       "      <td>NaN</td>\n",
       "      <td>77</td>\n",
       "    </tr>\n",
       "    <tr>\n",
       "      <th>59</th>\n",
       "      <td>5579815361970176</td>\n",
       "      <td>Heavy Cloud</td>\n",
       "      <td>hc</td>\n",
       "      <td>SSW</td>\n",
       "      <td>2021-09-25T06:59:13.969326Z</td>\n",
       "      <td>2021-10-03</td>\n",
       "      <td>13.520</td>\n",
       "      <td>18.160</td>\n",
       "      <td>17.43</td>\n",
       "      <td>4.200469</td>\n",
       "      <td>200.000000</td>\n",
       "      <td>1011.0</td>\n",
       "      <td>60</td>\n",
       "      <td>NaN</td>\n",
       "      <td>71</td>\n",
       "    </tr>\n",
       "    <tr>\n",
       "      <th>60</th>\n",
       "      <td>6247999530336256</td>\n",
       "      <td>Heavy Cloud</td>\n",
       "      <td>hc</td>\n",
       "      <td>SSW</td>\n",
       "      <td>2021-09-25T03:59:14.156368Z</td>\n",
       "      <td>2021-10-03</td>\n",
       "      <td>13.520</td>\n",
       "      <td>18.160</td>\n",
       "      <td>17.43</td>\n",
       "      <td>4.200469</td>\n",
       "      <td>200.000000</td>\n",
       "      <td>1011.0</td>\n",
       "      <td>60</td>\n",
       "      <td>NaN</td>\n",
       "      <td>71</td>\n",
       "    </tr>\n",
       "    <tr>\n",
       "      <th>61</th>\n",
       "      <td>6317253101355008</td>\n",
       "      <td>Heavy Cloud</td>\n",
       "      <td>hc</td>\n",
       "      <td>SSW</td>\n",
       "      <td>2021-09-25T00:59:13.465527Z</td>\n",
       "      <td>2021-10-03</td>\n",
       "      <td>13.520</td>\n",
       "      <td>18.160</td>\n",
       "      <td>17.43</td>\n",
       "      <td>4.200469</td>\n",
       "      <td>200.000000</td>\n",
       "      <td>1011.0</td>\n",
       "      <td>60</td>\n",
       "      <td>NaN</td>\n",
       "      <td>71</td>\n",
       "    </tr>\n",
       "  </tbody>\n",
       "</table>\n",
       "<p>62 rows × 15 columns</p>\n",
       "</div>"
      ],
      "text/plain": [
       "                  id weather_state_name weather_state_abbr  \\\n",
       "0   4750581731164160            Showers                  s   \n",
       "1   5003488573521920         Light Rain                 lr   \n",
       "2   5572874636099584         Light Rain                 lr   \n",
       "3   4927797156904960         Light Rain                 lr   \n",
       "4   5242843208613888         Light Rain                 lr   \n",
       "..               ...                ...                ...   \n",
       "57  5253789738074112         Heavy Rain                 hr   \n",
       "58  5698984036270080         Heavy Rain                 hr   \n",
       "59  5579815361970176        Heavy Cloud                 hc   \n",
       "60  6247999530336256        Heavy Cloud                 hc   \n",
       "61  6317253101355008        Heavy Cloud                 hc   \n",
       "\n",
       "   wind_direction_compass                      created applicable_date  \\\n",
       "0                      SW  2021-10-02T15:59:02.140584Z      2021-10-03   \n",
       "1                      SW  2021-10-02T12:59:02.349777Z      2021-10-03   \n",
       "2                      SW  2021-10-02T09:59:02.059263Z      2021-10-03   \n",
       "3                      SW  2021-10-02T06:59:01.778185Z      2021-10-03   \n",
       "4                      SW  2021-10-02T03:59:02.374609Z      2021-10-03   \n",
       "..                    ...                          ...             ...   \n",
       "57                    SSW  2021-09-25T12:59:13.062403Z      2021-10-03   \n",
       "58                    SSW  2021-09-25T09:59:13.271142Z      2021-10-03   \n",
       "59                    SSW  2021-09-25T06:59:13.969326Z      2021-10-03   \n",
       "60                    SSW  2021-09-25T03:59:14.156368Z      2021-10-03   \n",
       "61                    SSW  2021-09-25T00:59:13.465527Z      2021-10-03   \n",
       "\n",
       "    min_temp  max_temp  the_temp  wind_speed  wind_direction  air_pressure  \\\n",
       "0     10.400    16.330     15.69    9.984650      227.000102         998.5   \n",
       "1     10.270    16.155     15.64    9.911743      227.333465         998.5   \n",
       "2     10.290    16.130     15.71    9.389188      226.666535         998.5   \n",
       "3     10.300    16.195     15.21    9.356049      224.000305         998.5   \n",
       "4     10.015    16.325     15.15    9.625259      222.666535         998.5   \n",
       "..       ...       ...       ...         ...             ...           ...   \n",
       "57     8.580    14.980     14.98    4.473873      212.000000        1008.0   \n",
       "58     8.580    14.980     14.98    4.473873      212.000000        1008.0   \n",
       "59    13.520    18.160     17.43    4.200469      200.000000        1011.0   \n",
       "60    13.520    18.160     17.43    4.200469      200.000000        1011.0   \n",
       "61    13.520    18.160     17.43    4.200469      200.000000        1011.0   \n",
       "\n",
       "    humidity  visibility  predictability  \n",
       "0         63   15.052406              73  \n",
       "1         63   14.842694              75  \n",
       "2         63   14.056970              75  \n",
       "3         65   14.511503              75  \n",
       "4         65   15.115476              75  \n",
       "..       ...         ...             ...  \n",
       "57        62         NaN              77  \n",
       "58        62         NaN              77  \n",
       "59        60         NaN              71  \n",
       "60        60         NaN              71  \n",
       "61        60         NaN              71  \n",
       "\n",
       "[62 rows x 15 columns]"
      ]
     },
     "execution_count": null,
     "metadata": {},
     "output_type": "execute_result"
    }
   ],
   "source": [
    "df = pd.DataFrame.from_records(res)\n",
    "df"
   ]
  },
  {
   "cell_type": "code",
   "execution_count": null,
   "id": "e76c6e91",
   "metadata": {},
   "outputs": [],
   "source": []
  }
 ],
 "metadata": {
  "kernelspec": {
   "display_name": "Python 3 (ipykernel)",
   "language": "python",
   "name": "python3"
  }
 },
 "nbformat": 4,
 "nbformat_minor": 5
}
