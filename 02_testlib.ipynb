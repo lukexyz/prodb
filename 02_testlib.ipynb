{
 "cells": [
  {
   "cell_type": "markdown",
   "id": "30d6a3df",
   "metadata": {},
   "source": [
    "## 02 Import Prodb\n",
    "Library imports are available inline"
   ]
  },
  {
   "cell_type": "code",
   "execution_count": null,
   "id": "99de86d8",
   "metadata": {},
   "outputs": [],
   "source": [
    "#hide\n",
    "from nbdev.showdoc import *"
   ]
  },
  {
   "cell_type": "code",
   "execution_count": null,
   "id": "9efcb0d2",
   "metadata": {},
   "outputs": [],
   "source": [
    "from prodb.card import Card"
   ]
  },
  {
   "cell_type": "code",
   "execution_count": null,
   "id": "8db7f1b1",
   "metadata": {},
   "outputs": [
    {
     "data": {
      "text/plain": [
       "Queen of Spades"
      ]
     },
     "execution_count": null,
     "metadata": {},
     "output_type": "execute_result"
    }
   ],
   "source": [
    "Card(suit=3, rank=12)"
   ]
  },
  {
   "cell_type": "markdown",
   "id": "0ae327d7",
   "metadata": {},
   "source": [
    "A deck of cards is a collection of Card objects:"
   ]
  },
  {
   "cell_type": "code",
   "execution_count": null,
   "id": "cb8e5d2c",
   "metadata": {},
   "outputs": [],
   "source": [
    "from prodb.card import Deck"
   ]
  },
  {
   "cell_type": "code",
   "execution_count": null,
   "id": "13aabacd",
   "metadata": {},
   "outputs": [],
   "source": [
    "deck = Deck()"
   ]
  },
  {
   "cell_type": "markdown",
   "id": "797fac98",
   "metadata": {},
   "source": [
    "Three random cards from the deck:"
   ]
  },
  {
   "cell_type": "code",
   "execution_count": null,
   "id": "eaf1f4cc",
   "metadata": {},
   "outputs": [
    {
     "name": "stdout",
     "output_type": "stream",
     "text": [
      "[3 of Clubs, Queen of Clubs, 6 of Diamonds]\n"
     ]
    }
   ],
   "source": [
    "deck.shuffle()\n",
    "print(deck.cards[:3])"
   ]
  },
  {
   "cell_type": "code",
   "execution_count": null,
   "id": "4ca9331f",
   "metadata": {},
   "outputs": [],
   "source": [
    "assert isinstance(deck.pop_card(), Card)"
   ]
  },
  {
   "cell_type": "markdown",
   "id": "bdce68b7",
   "metadata": {},
   "source": [
    "## Show documentation"
   ]
  },
  {
   "cell_type": "code",
   "execution_count": null,
   "id": "af51be44",
   "metadata": {},
   "outputs": [],
   "source": [
    "from nbdev import *"
   ]
  },
  {
   "cell_type": "code",
   "execution_count": null,
   "id": "b1940a4e",
   "metadata": {},
   "outputs": [
    {
     "data": {
      "text/markdown": [
       "<h4 id=\"Deck.remove_card\" class=\"doc_header\"><code>Deck.remove_card</code><a href=\"https://github.com/lukexyz/prodb/tree/master/prodb/card.py#L83\" class=\"source_link\" style=\"float:right\">[source]</a></h4>\n",
       "\n",
       "> <code>Deck.remove_card</code>(**`card`**)\n",
       "\n",
       "Removes a card from the deck or raises exception if it is not there.\n",
       "\n",
       "card: Card"
      ],
      "text/plain": [
       "<IPython.core.display.Markdown object>"
      ]
     },
     "metadata": {},
     "output_type": "display_data"
    }
   ],
   "source": [
    "# show_doc(Deck.remove_card)"
   ]
  },
  {
   "cell_type": "code",
   "execution_count": null,
   "id": "c7d8aa2d",
   "metadata": {},
   "outputs": [],
   "source": []
  }
 ],
 "metadata": {
  "kernelspec": {
   "display_name": "Python 3 (ipykernel)",
   "language": "python",
   "name": "python3"
  }
 },
 "nbformat": 4,
 "nbformat_minor": 5
}
