{
 "cells": [
  {
   "cell_type": "markdown",
   "id": "663d4d3d",
   "metadata": {},
   "source": [
    "# 02 Import Prodb\n",
    "> Library imports are available inline"
   ]
  },
  {
   "cell_type": "code",
   "execution_count": null,
   "id": "8789a3f9",
   "metadata": {},
   "outputs": [],
   "source": [
    "#hide\n",
    "from nbdev.showdoc import *"
   ]
  },
  {
   "cell_type": "code",
   "execution_count": null,
   "id": "32b9194f",
   "metadata": {},
   "outputs": [],
   "source": [
    "from prodb.card import Card"
   ]
  },
  {
   "cell_type": "code",
   "execution_count": null,
   "id": "4b6d40b5",
   "metadata": {},
   "outputs": [
    {
     "data": {
      "text/plain": [
       "Queen of Spades"
      ]
     },
     "execution_count": null,
     "metadata": {},
     "output_type": "execute_result"
    }
   ],
   "source": [
    "Card(suit=3, rank=12)"
   ]
  },
  {
   "cell_type": "markdown",
   "id": "f01f68cb",
   "metadata": {},
   "source": [
    "A deck of cards is a collection of Card objects:"
   ]
  },
  {
   "cell_type": "code",
   "execution_count": null,
   "id": "f7a282a7",
   "metadata": {},
   "outputs": [],
   "source": [
    "from prodb.card import Deck"
   ]
  },
  {
   "cell_type": "code",
   "execution_count": null,
   "id": "50004fe6",
   "metadata": {},
   "outputs": [],
   "source": [
    "deck = Deck()"
   ]
  },
  {
   "cell_type": "markdown",
   "id": "52d0cb38",
   "metadata": {},
   "source": [
    "Three random cards from the deck:"
   ]
  },
  {
   "cell_type": "code",
   "execution_count": null,
   "id": "66c20fc3",
   "metadata": {},
   "outputs": [
    {
     "name": "stdout",
     "output_type": "stream",
     "text": [
      "[3 of Clubs, Queen of Clubs, 6 of Diamonds]\n"
     ]
    }
   ],
   "source": [
    "deck.shuffle()\n",
    "print(deck.cards[:3])"
   ]
  },
  {
   "cell_type": "code",
   "execution_count": null,
   "id": "7283a78f",
   "metadata": {},
   "outputs": [],
   "source": [
    "assert isinstance(deck.pop_card(), Card)"
   ]
  },
  {
   "cell_type": "markdown",
   "id": "8a32bdc4",
   "metadata": {},
   "source": [
    "## Show documentation"
   ]
  },
  {
   "cell_type": "code",
   "execution_count": null,
   "id": "2e294fd6",
   "metadata": {},
   "outputs": [],
   "source": [
    "from nbdev import *"
   ]
  },
  {
   "cell_type": "code",
   "execution_count": null,
   "id": "b7d11887",
   "metadata": {},
   "outputs": [
    {
     "data": {
      "text/markdown": [
       "<h4 id=\"Deck.remove_card\" class=\"doc_header\"><code>Deck.remove_card</code><a href=\"https://github.com/lukexyz/prodb/tree/master/prodb/card.py#L83\" class=\"source_link\" style=\"float:right\">[source]</a></h4>\n",
       "\n",
       "> <code>Deck.remove_card</code>(**`card`**)\n",
       "\n",
       "Removes a card from the deck or raises exception if it is not there.\n",
       "\n",
       "card: Card"
      ],
      "text/plain": [
       "<IPython.core.display.Markdown object>"
      ]
     },
     "metadata": {},
     "output_type": "display_data"
    }
   ],
   "source": [
    "# show_doc(Deck.remove_card)"
   ]
  },
  {
   "cell_type": "code",
   "execution_count": null,
   "id": "68dfa2fc",
   "metadata": {},
   "outputs": [],
   "source": []
  }
 ],
 "metadata": {
  "kernelspec": {
   "display_name": "Python 3 (ipykernel)",
   "language": "python",
   "name": "python3"
  }
 },
 "nbformat": 4,
 "nbformat_minor": 5
}
