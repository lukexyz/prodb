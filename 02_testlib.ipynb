{
 "cells": [
  {
   "cell_type": "markdown",
   "id": "663d4d3d",
   "metadata": {},
   "source": [
    "# 02 Import Prodb\n",
    "> Library imports are available inline"
   ]
  },
  {
   "cell_type": "code",
   "execution_count": null,
   "id": "8789a3f9",
   "metadata": {},
   "outputs": [],
   "source": [
    "#hide\n",
    "from nbdev.showdoc import *\n",
    "%load_ext autoreload\n",
    "%autoreload 2"
   ]
  },
  {
   "cell_type": "code",
   "execution_count": null,
   "id": "32b9194f",
   "metadata": {},
   "outputs": [],
   "source": [
    "from prodb.card import Card"
   ]
  },
  {
   "cell_type": "code",
   "execution_count": null,
   "id": "4b6d40b5",
   "metadata": {},
   "outputs": [
    {
     "data": {
      "text/plain": [
       "Queen of Spades"
      ]
     },
     "execution_count": null,
     "metadata": {},
     "output_type": "execute_result"
    }
   ],
   "source": [
    "Card(suit=3, rank=12)"
   ]
  },
  {
   "cell_type": "markdown",
   "id": "f01f68cb",
   "metadata": {},
   "source": [
    "A deck of cards is a collection of Card objects:"
   ]
  },
  {
   "cell_type": "code",
   "execution_count": null,
   "id": "f7a282a7",
   "metadata": {},
   "outputs": [],
   "source": [
    "from prodb.card import Deck"
   ]
  },
  {
   "cell_type": "code",
   "execution_count": null,
   "id": "50004fe6",
   "metadata": {},
   "outputs": [],
   "source": [
    "deck = Deck()"
   ]
  },
  {
   "cell_type": "markdown",
   "id": "52d0cb38",
   "metadata": {},
   "source": [
    "Three random cards from the deck:"
   ]
  },
  {
   "cell_type": "code",
   "execution_count": null,
   "id": "66c20fc3",
   "metadata": {},
   "outputs": [
    {
     "name": "stdout",
     "output_type": "stream",
     "text": [
      "[4 of Diamonds, 2 of Hearts, 9 of Spades]\n"
     ]
    }
   ],
   "source": [
    "deck.shuffle()\n",
    "print(deck.cards[:3])"
   ]
  },
  {
   "cell_type": "code",
   "execution_count": null,
   "id": "7283a78f",
   "metadata": {},
   "outputs": [],
   "source": [
    "assert isinstance(deck.pop_card(), Card)"
   ]
  },
  {
   "cell_type": "markdown",
   "id": "8a32bdc4",
   "metadata": {},
   "source": [
    "## Show documentation"
   ]
  },
  {
   "cell_type": "code",
   "execution_count": null,
   "id": "2e294fd6",
   "metadata": {},
   "outputs": [],
   "source": [
    "from nbdev import *"
   ]
  },
  {
   "cell_type": "code",
   "execution_count": null,
   "id": "b7d11887",
   "metadata": {},
   "outputs": [],
   "source": [
    "# show_doc(Deck.remove_card)"
   ]
  },
  {
   "cell_type": "markdown",
   "id": "8c8bfc48",
   "metadata": {},
   "source": [
    "## Arrow human readable time"
   ]
  },
  {
   "cell_type": "code",
   "execution_count": null,
   "id": "7c186fa7",
   "metadata": {},
   "outputs": [],
   "source": [
    "import pandas as pd\n",
    "import arrow"
   ]
  },
  {
   "cell_type": "code",
   "execution_count": null,
   "id": "2764e8f6",
   "metadata": {},
   "outputs": [],
   "source": [
    "utc = arrow.utcnow()"
   ]
  },
  {
   "cell_type": "code",
   "execution_count": null,
   "id": "7e984a54",
   "metadata": {},
   "outputs": [
    {
     "data": {
      "text/plain": [
       "'just now'"
      ]
     },
     "execution_count": null,
     "metadata": {},
     "output_type": "execute_result"
    }
   ],
   "source": [
    "utc.humanize()"
   ]
  },
  {
   "cell_type": "code",
   "execution_count": null,
   "id": "887c0d38",
   "metadata": {},
   "outputs": [],
   "source": [
    "from prodb.core import generate_db"
   ]
  },
  {
   "cell_type": "code",
   "execution_count": null,
   "id": "ea641b98",
   "metadata": {},
   "outputs": [],
   "source": [
    "generate_db(prefill=True)\n",
    "dbpath = 'db.csv'\n",
    "df = pd.read_csv(dbpath)"
   ]
  },
  {
   "cell_type": "code",
   "execution_count": null,
   "id": "2a72cba4",
   "metadata": {},
   "outputs": [
    {
     "data": {
      "text/html": [
       "<div>\n",
       "<style scoped>\n",
       "    .dataframe tbody tr th:only-of-type {\n",
       "        vertical-align: middle;\n",
       "    }\n",
       "\n",
       "    .dataframe tbody tr th {\n",
       "        vertical-align: top;\n",
       "    }\n",
       "\n",
       "    .dataframe thead th {\n",
       "        text-align: right;\n",
       "    }\n",
       "</style>\n",
       "<table border=\"1\" class=\"dataframe\">\n",
       "  <thead>\n",
       "    <tr style=\"text-align: right;\">\n",
       "      <th></th>\n",
       "      <th>name</th>\n",
       "      <th>location</th>\n",
       "      <th>score</th>\n",
       "      <th>time_utc</th>\n",
       "    </tr>\n",
       "  </thead>\n",
       "  <tbody>\n",
       "    <tr>\n",
       "      <th>0</th>\n",
       "      <td>Sam</td>\n",
       "      <td>UK</td>\n",
       "      <td>0</td>\n",
       "      <td>2021-09-30 20:32:02</td>\n",
       "    </tr>\n",
       "    <tr>\n",
       "      <th>1</th>\n",
       "      <td>Grant</td>\n",
       "      <td>NZ</td>\n",
       "      <td>30</td>\n",
       "      <td>2021-09-30 20:32:02</td>\n",
       "    </tr>\n",
       "  </tbody>\n",
       "</table>\n",
       "</div>"
      ],
      "text/plain": [
       "    name location  score             time_utc\n",
       "0    Sam       UK      0  2021-09-30 20:32:02\n",
       "1  Grant       NZ     30  2021-09-30 20:32:02"
      ]
     },
     "execution_count": null,
     "metadata": {},
     "output_type": "execute_result"
    }
   ],
   "source": [
    "df.head()"
   ]
  },
  {
   "cell_type": "code",
   "execution_count": null,
   "id": "f4371ae9",
   "metadata": {},
   "outputs": [
    {
     "data": {
      "text/plain": [
       "name        object\n",
       "location    object\n",
       "score        int64\n",
       "time_utc    object\n",
       "dtype: object"
      ]
     },
     "execution_count": null,
     "metadata": {},
     "output_type": "execute_result"
    }
   ],
   "source": [
    "df.dtypes"
   ]
  },
  {
   "cell_type": "code",
   "execution_count": null,
   "id": "3f47a4f4",
   "metadata": {},
   "outputs": [
    {
     "data": {
      "text/plain": [
       "'2021-09-30 20:32:02'"
      ]
     },
     "execution_count": null,
     "metadata": {},
     "output_type": "execute_result"
    }
   ],
   "source": [
    "df.time_utc[0]"
   ]
  },
  {
   "cell_type": "code",
   "execution_count": null,
   "id": "3ae62aa5",
   "metadata": {},
   "outputs": [
    {
     "data": {
      "text/plain": [
       "'a minute ago'"
      ]
     },
     "execution_count": null,
     "metadata": {},
     "output_type": "execute_result"
    }
   ],
   "source": [
    "arrow.get(df.time_utc[0]).humanize()"
   ]
  },
  {
   "cell_type": "code",
   "execution_count": null,
   "id": "10882c0a",
   "metadata": {},
   "outputs": [
    {
     "data": {
      "text/plain": [
       "0    2 minutes ago\n",
       "1    2 minutes ago\n",
       "Name: time_utc, dtype: object"
      ]
     },
     "execution_count": null,
     "metadata": {},
     "output_type": "execute_result"
    }
   ],
   "source": [
    "df.time_utc.apply(lambda x: arrow.get(x).humanize())"
   ]
  },
  {
   "cell_type": "code",
   "execution_count": null,
   "id": "40237d54",
   "metadata": {},
   "outputs": [],
   "source": []
  }
 ],
 "metadata": {
  "kernelspec": {
   "display_name": "Python 3 (ipykernel)",
   "language": "python",
   "name": "python3"
  }
 },
 "nbformat": 4,
 "nbformat_minor": 5
}
