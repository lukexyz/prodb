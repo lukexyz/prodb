{
 "cells": [
  {
   "cell_type": "code",
   "execution_count": null,
   "id": "95e7c8b4",
   "metadata": {},
   "outputs": [],
   "source": [
    "# default_exp"
   ]
  },
  {
   "cell_type": "markdown",
   "id": "59c1fd95",
   "metadata": {},
   "source": [
    "## 02 Import Prodb\n",
    "Library imports are available inline"
   ]
  },
  {
   "cell_type": "code",
   "execution_count": null,
   "id": "82053550",
   "metadata": {},
   "outputs": [],
   "source": [
    "#hide\n",
    "from nbdev.showdoc import *"
   ]
  },
  {
   "cell_type": "code",
   "execution_count": null,
   "id": "05e7b2ce",
   "metadata": {},
   "outputs": [],
   "source": [
    "from prodb.card import Card"
   ]
  },
  {
   "cell_type": "code",
   "execution_count": null,
   "id": "f1fa3d84",
   "metadata": {},
   "outputs": [
    {
     "data": {
      "text/plain": [
       "Queen of Spades"
      ]
     },
     "execution_count": null,
     "metadata": {},
     "output_type": "execute_result"
    }
   ],
   "source": [
    "Card(suit=3, rank=12)"
   ]
  },
  {
   "cell_type": "markdown",
   "id": "bafdd310",
   "metadata": {},
   "source": [
    "A deck of cards is a collection of Card objects:"
   ]
  },
  {
   "cell_type": "code",
   "execution_count": null,
   "id": "1d489273",
   "metadata": {},
   "outputs": [],
   "source": [
    "from prodb.card import Deck"
   ]
  },
  {
   "cell_type": "code",
   "execution_count": null,
   "id": "c9455707",
   "metadata": {},
   "outputs": [],
   "source": [
    "deck = Deck()"
   ]
  },
  {
   "cell_type": "markdown",
   "id": "a0fa02ae",
   "metadata": {},
   "source": [
    "Three random cards from the deck:"
   ]
  },
  {
   "cell_type": "code",
   "execution_count": null,
   "id": "b4e4fc0c",
   "metadata": {},
   "outputs": [
    {
     "name": "stdout",
     "output_type": "stream",
     "text": [
      "[3 of Clubs, Queen of Clubs, 6 of Diamonds]\n"
     ]
    }
   ],
   "source": [
    "deck.shuffle()\n",
    "print(deck.cards[:3])"
   ]
  },
  {
   "cell_type": "code",
   "execution_count": null,
   "id": "1b493aaf",
   "metadata": {},
   "outputs": [],
   "source": [
    "assert isinstance(deck.pop_card(), Card)"
   ]
  },
  {
   "cell_type": "markdown",
   "id": "12d77b4c",
   "metadata": {},
   "source": [
    "## Show documentation"
   ]
  },
  {
   "cell_type": "code",
   "execution_count": null,
   "id": "3b848029",
   "metadata": {},
   "outputs": [],
   "source": [
    "from nbdev import *"
   ]
  },
  {
   "cell_type": "code",
   "execution_count": null,
   "id": "11f2672a",
   "metadata": {},
   "outputs": [
    {
     "data": {
      "text/markdown": [
       "<h4 id=\"Deck.remove_card\" class=\"doc_header\"><code>Deck.remove_card</code><a href=\"https://github.com/lukexyz/prodb/tree/master/prodb/card.py#L83\" class=\"source_link\" style=\"float:right\">[source]</a></h4>\n",
       "\n",
       "> <code>Deck.remove_card</code>(**`card`**)\n",
       "\n",
       "Removes a card from the deck or raises exception if it is not there.\n",
       "\n",
       "card: Card"
      ],
      "text/plain": [
       "<IPython.core.display.Markdown object>"
      ]
     },
     "metadata": {},
     "output_type": "display_data"
    }
   ],
   "source": [
    "# show_doc(Deck.remove_card)"
   ]
  },
  {
   "cell_type": "code",
   "execution_count": null,
   "id": "a5b9610e",
   "metadata": {},
   "outputs": [],
   "source": []
  }
 ],
 "metadata": {
  "kernelspec": {
   "display_name": "Python 3 (ipykernel)",
   "language": "python",
   "name": "python3"
  }
 },
 "nbformat": 4,
 "nbformat_minor": 5
}
