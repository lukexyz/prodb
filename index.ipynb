{
 "cells": [
  {
   "cell_type": "code",
   "execution_count": null,
   "metadata": {},
   "outputs": [],
   "source": [
    "#hide\n",
    "from prodb.core import *\n",
    "\n",
    "# This file will become your README and also the index of your documentation."
   ]
  },
  {
   "cell_type": "markdown",
   "metadata": {},
   "source": [
    "# Prodb \n",
    "\n",
    "> A database for pros"
   ]
  },
  {
   "cell_type": "markdown",
   "metadata": {},
   "source": [
    "## Setup environment and `nbdev`\n",
    "First time only:"
   ]
  },
  {
   "cell_type": "markdown",
   "metadata": {},
   "source": [
    "* Tested with Ubuntu (wsl)  \n",
    "`\n",
    "conda create -n prodb python=3.9 jupyter pip\n",
    "conda activate prodb\n",
    "git clone https://github.com/lukexyz/prodb.git\n",
    "pip install -r requirements.txt`  \n",
    "  \n",
    "  \n",
    "* Install githooks from project folder  \n",
    "`nbdev_install_git_hooks`  "
   ]
  },
  {
   "cell_type": "markdown",
   "metadata": {},
   "source": [
    "Frequently during develoment:  \n",
    "### 1. 🏗️ **Build lib** from notebooks  \n",
    "> `nbdev_build_lib` \n",
    "\n",
    "\n",
    "### 2. 📝 **Build docs** from notebooks  \n",
    "> `nbdev_build_docs` "
   ]
  },
  {
   "cell_type": "markdown",
   "metadata": {},
   "source": [
    "## Install"
   ]
  },
  {
   "cell_type": "markdown",
   "metadata": {},
   "source": [
    "`pip install prodb`"
   ]
  },
  {
   "cell_type": "markdown",
   "metadata": {},
   "source": [
    "## How to use"
   ]
  },
  {
   "cell_type": "markdown",
   "metadata": {},
   "source": [
    "Don't forget code examples:"
   ]
  },
  {
   "cell_type": "code",
   "execution_count": null,
   "metadata": {},
   "outputs": [
    {
     "data": {
      "text/plain": [
       "2"
      ]
     },
     "execution_count": null,
     "metadata": {},
     "output_type": "execute_result"
    }
   ],
   "source": [
    "1+1"
   ]
  }
 ],
 "metadata": {
  "kernelspec": {
   "display_name": "Python 3 (ipykernel)",
   "language": "python",
   "name": "python3"
  }
 },
 "nbformat": 4,
 "nbformat_minor": 2
}
